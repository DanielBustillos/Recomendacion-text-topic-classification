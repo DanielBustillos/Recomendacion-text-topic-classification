{
 "cells": [
  {
   "cell_type": "code",
   "execution_count": null,
   "metadata": {},
   "outputs": [],
   "source": []
  },
  {
   "cell_type": "markdown",
   "metadata": {},
   "source": [
    "##### Detección de tópicos en ciencia básica: topicos con modelo entrenado\n",
    "\n",
    "1. Filtrar documentos\n",
    "2. Aplicar tf-idf\n",
    "3. Guardar\n",
    "\n"
   ]
  },
  {
   "cell_type": "markdown",
   "metadata": {},
   "source": [
    "#### **To do** \n",
    "- detectar en inngles\n",
    "- Documentos repetidos entre repositorios y convocatorias\n",
    "- mismo proyecto \n",
    "-\n"
   ]
  }
 ],
 "metadata": {
  "kernelspec": {
   "display_name": "env_convocatorias",
   "language": "python",
   "name": "env_convocatorias"
  },
  "language_info": {
   "codemirror_mode": {
    "name": "ipython",
    "version": 3
   },
   "file_extension": ".py",
   "mimetype": "text/x-python",
   "name": "python",
   "nbconvert_exporter": "python",
   "pygments_lexer": "ipython3",
   "version": "3.6.8"
  }
 },
 "nbformat": 4,
 "nbformat_minor": 4
}
