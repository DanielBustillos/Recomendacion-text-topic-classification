{
 "cells": [
  {
   "cell_type": "markdown",
   "metadata": {},
   "source": [
    "## limpieza y procesamiento de tablas\n",
    "\n",
    "0. Juntar tablas de proyectos y evaluadores (uno a muchos)\n",
    "1. Aplicar limpieza y steamming\n",
    "2. Agrupar textos por evaluador\n",
    "3. Análisis de longitud de textos por investigador\n",
    "\n",
    "---\n",
    "\n",
    "\n"
   ]
  },
  {
   "cell_type": "code",
   "execution_count": 1,
   "metadata": {},
   "outputs": [
    {
     "name": "stderr",
     "output_type": "stream",
     "text": [
      "[nltk_data] Downloading package wordnet to\n",
      "[nltk_data]     /Users/danielbustillos/nltk_data...\n",
      "[nltk_data]   Package wordnet is already up-to-date!\n",
      "[nltk_data] Downloading package punkt to\n",
      "[nltk_data]     /Users/danielbustillos/nltk_data...\n",
      "[nltk_data]   Package punkt is already up-to-date!\n"
     ]
    }
   ],
   "source": [
    "import pandas as pd\n",
    "import pickle\n",
    "\n",
    "import numpy as np\n",
    "import pandas as pd\n",
    "import networkx as nx\n",
    "import seaborn as sns\n",
    "import matplotlib.pyplot as plt\n",
    "\n",
    "from os import listdir\n",
    "from math import sqrt\n",
    "\n",
    "from sklearn.metrics.pairwise import cosine_similarity\n",
    "from sklearn.feature_extraction.text import TfidfVectorizer, CountVectorizer\n",
    "from sklearn.decomposition import NMF, LatentDirichletAllocation\n",
    "\n",
    "import nltk\n",
    "from nltk.stem import WordNetLemmatizer, SnowballStemmer\n",
    "from nltk.stem.porter import *\n",
    "from nltk.tokenize import sent_tokenize, word_tokenize\n",
    "import heapq\n",
    "\n",
    "nltk.download('wordnet')\n",
    "nltk.download('punkt')\n",
    "\n",
    "stemmer = SnowballStemmer('spanish')\n",
    "\n",
    "pd.options.mode.chained_assignment = None #...\n",
    "import seaborn as sns\n"
   ]
  },
  {
   "cell_type": "markdown",
   "metadata": {},
   "source": [
    "## Descripción del proyecto:"
   ]
  },
  {
   "cell_type": "code",
   "execution_count": 2,
   "metadata": {},
   "outputs": [
    {
     "data": {
      "text/html": [
       "<div>\n",
       "<style scoped>\n",
       "    .dataframe tbody tr th:only-of-type {\n",
       "        vertical-align: middle;\n",
       "    }\n",
       "\n",
       "    .dataframe tbody tr th {\n",
       "        vertical-align: top;\n",
       "    }\n",
       "\n",
       "    .dataframe thead th {\n",
       "        text-align: right;\n",
       "    }\n",
       "</style>\n",
       "<table border=\"1\" class=\"dataframe\">\n",
       "  <thead>\n",
       "    <tr style=\"text-align: right;\">\n",
       "      <th></th>\n",
       "      <th>ID_PROYECTO</th>\n",
       "      <th>NUMERO_CONVOCATORIA</th>\n",
       "      <th>ANIO</th>\n",
       "      <th>USUARIO_RESPONSABLE_TECNICO</th>\n",
       "      <th>NOMBRE_RESPONSABLE_TECNICO</th>\n",
       "      <th>PRIMER_APELLIDO</th>\n",
       "      <th>SEGUNDO_APELLIDO</th>\n",
       "      <th>ES_RESPONSABLE_TECNICO</th>\n",
       "      <th>TITULO</th>\n",
       "      <th>PALABRAS_CLAVE1</th>\n",
       "      <th>...</th>\n",
       "      <th>AREA</th>\n",
       "      <th>DICTAMEN</th>\n",
       "      <th>DESCRIPCION</th>\n",
       "      <th>AUTORIZADO</th>\n",
       "      <th>FECHA_AUTORIZACION</th>\n",
       "      <th>ESTATUS_FORMALIZACION</th>\n",
       "      <th>DESCRIPCION_PROYECTO_FORM</th>\n",
       "      <th>NOMBRE_INSTITUCION</th>\n",
       "      <th>DESCRIPCION_PROYECTO_FASE</th>\n",
       "      <th>DESCRIPCION_PROYECTO</th>\n",
       "    </tr>\n",
       "  </thead>\n",
       "  <tbody>\n",
       "    <tr>\n",
       "      <td>0</td>\n",
       "      <td>1105</td>\n",
       "      <td>PROBLEMAS-2015-01</td>\n",
       "      <td>2015</td>\n",
       "      <td>X_olopez4074</td>\n",
       "      <td>OLIVER XAVIER</td>\n",
       "      <td>LOPEZ</td>\n",
       "      <td>CORONA</td>\n",
       "      <td>NaN</td>\n",
       "      <td>Desarrollo de un Sistema inteligente de soport...</td>\n",
       "      <td>Inteligencia artificial</td>\n",
       "      <td>...</td>\n",
       "      <td>CIENCIAS FISICO MATEMATICAS Y CIENCIAS DE LA T...</td>\n",
       "      <td>La propuesta de investigacion es muy novedosa ...</td>\n",
       "      <td>Desarrollo de un Sistema inteligente de soport...</td>\n",
       "      <td>0.0</td>\n",
       "      <td>NaN</td>\n",
       "      <td>NaN</td>\n",
       "      <td>NaN</td>\n",
       "      <td>UNIVERSIDAD IBEROAMERICANA AC</td>\n",
       "      <td>Etapa inicial del proyecto donde fundamentalme...</td>\n",
       "      <td>El mundo actual es sin duda altamente dinamico...</td>\n",
       "    </tr>\n",
       "    <tr>\n",
       "      <td>1</td>\n",
       "      <td>1775</td>\n",
       "      <td>PROBLEMAS-2015-01</td>\n",
       "      <td>2015</td>\n",
       "      <td>X_gaguilar21233</td>\n",
       "      <td>GENARO</td>\n",
       "      <td>AGUILAR</td>\n",
       "      <td>GUTIERREZ</td>\n",
       "      <td>NaN</td>\n",
       "      <td>Politicas publicas para enfrentar la pobreza e...</td>\n",
       "      <td>pobreza extrema</td>\n",
       "      <td>...</td>\n",
       "      <td>CIENCIAS SOCIALES</td>\n",
       "      <td>Es una propuesta pertinente que aportara conoc...</td>\n",
       "      <td>Politicas publicas para enfrentar la pobreza e...</td>\n",
       "      <td>1.0</td>\n",
       "      <td>2016-08-10 15:11:29</td>\n",
       "      <td>FIRMADO</td>\n",
       "      <td>NaN</td>\n",
       "      <td>INSTITUTO POLITECNICO NACIONAL</td>\n",
       "      <td>durante esta primera etapa nos proponemos llev...</td>\n",
       "      <td>POLITICAS PUBLICAS PARA ENFRENTAR LA POBREZA E...</td>\n",
       "    </tr>\n",
       "  </tbody>\n",
       "</table>\n",
       "<p>2 rows × 25 columns</p>\n",
       "</div>"
      ],
      "text/plain": [
       "   ID_PROYECTO NUMERO_CONVOCATORIA  ANIO USUARIO_RESPONSABLE_TECNICO  \\\n",
       "0         1105   PROBLEMAS-2015-01  2015                X_olopez4074   \n",
       "1         1775   PROBLEMAS-2015-01  2015             X_gaguilar21233   \n",
       "\n",
       "  NOMBRE_RESPONSABLE_TECNICO PRIMER_APELLIDO SEGUNDO_APELLIDO  \\\n",
       "0              OLIVER XAVIER           LOPEZ           CORONA   \n",
       "1                     GENARO         AGUILAR        GUTIERREZ   \n",
       "\n",
       "   ES_RESPONSABLE_TECNICO                                             TITULO  \\\n",
       "0                     NaN  Desarrollo de un Sistema inteligente de soport...   \n",
       "1                     NaN  Politicas publicas para enfrentar la pobreza e...   \n",
       "\n",
       "           PALABRAS_CLAVE1  ...  \\\n",
       "0  Inteligencia artificial  ...   \n",
       "1          pobreza extrema  ...   \n",
       "\n",
       "                                                AREA  \\\n",
       "0  CIENCIAS FISICO MATEMATICAS Y CIENCIAS DE LA T...   \n",
       "1                                  CIENCIAS SOCIALES   \n",
       "\n",
       "                                            DICTAMEN  \\\n",
       "0  La propuesta de investigacion es muy novedosa ...   \n",
       "1  Es una propuesta pertinente que aportara conoc...   \n",
       "\n",
       "                                         DESCRIPCION AUTORIZADO  \\\n",
       "0  Desarrollo de un Sistema inteligente de soport...        0.0   \n",
       "1  Politicas publicas para enfrentar la pobreza e...        1.0   \n",
       "\n",
       "    FECHA_AUTORIZACION ESTATUS_FORMALIZACION DESCRIPCION_PROYECTO_FORM  \\\n",
       "0                  NaN                   NaN                       NaN   \n",
       "1  2016-08-10 15:11:29               FIRMADO                       NaN   \n",
       "\n",
       "               NOMBRE_INSTITUCION  \\\n",
       "0   UNIVERSIDAD IBEROAMERICANA AC   \n",
       "1  INSTITUTO POLITECNICO NACIONAL   \n",
       "\n",
       "                           DESCRIPCION_PROYECTO_FASE  \\\n",
       "0  Etapa inicial del proyecto donde fundamentalme...   \n",
       "1  durante esta primera etapa nos proponemos llev...   \n",
       "\n",
       "                                DESCRIPCION_PROYECTO  \n",
       "0  El mundo actual es sin duda altamente dinamico...  \n",
       "1  POLITICAS PUBLICAS PARA ENFRENTAR LA POBREZA E...  \n",
       "\n",
       "[2 rows x 25 columns]"
      ]
     },
     "execution_count": 2,
     "metadata": {},
     "output_type": "execute_result"
    }
   ],
   "source": [
    "data_topics = pd.read_csv(\"./data/pn/PN_proyecto_topicmodeling.csv\")\n",
    "data_topics.head(2)"
   ]
  },
  {
   "cell_type": "markdown",
   "metadata": {},
   "source": [
    "Funciones para estandarizar y limpiar los datos:"
   ]
  },
  {
   "cell_type": "code",
   "execution_count": 5,
   "metadata": {},
   "outputs": [],
   "source": [
    "def clean_str_series(s):\n",
    "    \"\"\"\n",
    "    info:\n",
    "    \"\"\"\n",
    "    \n",
    "    \n",
    "    s = s.str.normalize('NFKD').str.encode('ascii', errors='ignore').str.decode('utf-8') \\\n",
    "         .str.capitalize().str.strip().str.replace('[^\\w\\s]','')\n",
    "    return s"
   ]
  },
  {
   "cell_type": "code",
   "execution_count": 6,
   "metadata": {},
   "outputs": [],
   "source": [
    "def text_cleaner(df,columns_to_clean,columns_not_na):\n",
    "    \"\"\"\n",
    "    info:\n",
    "    \"\"\"\n",
    "    \n",
    "    \n",
    "    # Quitar registros no validos\n",
    "    df = df.dropna(subset=columns_not_na,axis=0)\n",
    "\n",
    "    # Formato texto\n",
    "    for d in columns_to_clean:\n",
    "        if df[d].dtype == object: \n",
    "            df[d] = clean_str_series(df[d])\n",
    "    \n",
    "    return df"
   ]
  },
  {
   "cell_type": "code",
   "execution_count": 7,
   "metadata": {},
   "outputs": [],
   "source": [
    "columns_interes = [\"PALABRAS_CLAVE1\",\"PALABRAS_CLAVE2\",\"PALABRAS_CLAVE3\",\n",
    "                    \"DESCRIPCION\",\"DESCRIPCION_PROYECTO_FASE\",\"DESCRIPCION_PROYECTO\"]\n",
    "columns_not_na = [\"DESCRIPCION_PROYECTO\",]\n",
    "\n",
    "data_topics_clean = text_cleaner(data_topics, columns_interes, columns_not_na)"
   ]
  },
  {
   "cell_type": "markdown",
   "metadata": {},
   "source": [
    "## Dataset evaluadores:"
   ]
  },
  {
   "cell_type": "code",
   "execution_count": 239,
   "metadata": {},
   "outputs": [
    {
     "data": {
      "text/plain": [
       "(8188, 12)"
      ]
     },
     "execution_count": 239,
     "metadata": {},
     "output_type": "execute_result"
    }
   ],
   "source": [
    "data_eval = pd.read_csv(\"./data/pn/PN_proyecto_evaluadores.csv\")\n",
    "data_eval.shape"
   ]
  },
  {
   "cell_type": "code",
   "execution_count": 240,
   "metadata": {},
   "outputs": [
    {
     "data": {
      "text/plain": [
       "Index(['ID_PROYECTO', 'NUMERO_CONVOCATORIA', 'ANIO', 'USUARIO', 'NOMBRE',\n",
       "       'CVE_RCEA', 'INSTITUCION', 'DEPENDENCIA', 'SUBDEPENDENCIA', 'PAIS',\n",
       "       'ESTADO', 'CVU'],\n",
       "      dtype='object')"
      ]
     },
     "execution_count": 240,
     "metadata": {},
     "output_type": "execute_result"
    }
   ],
   "source": [
    "data_eval.columns"
   ]
  },
  {
   "cell_type": "markdown",
   "metadata": {},
   "source": [
    "Número total de evaluadores:"
   ]
  },
  {
   "cell_type": "code",
   "execution_count": 10,
   "metadata": {},
   "outputs": [
    {
     "data": {
      "text/plain": [
       "3421"
      ]
     },
     "execution_count": 10,
     "metadata": {},
     "output_type": "execute_result"
    }
   ],
   "source": [
    "data_eval[\"CVE_RCEA\"].nunique()"
   ]
  },
  {
   "cell_type": "markdown",
   "metadata": {},
   "source": [
    "## Merge de proyectos y evaluadores\n",
    "\n",
    "Se duplicarán registros..."
   ]
  },
  {
   "cell_type": "code",
   "execution_count": 12,
   "metadata": {},
   "outputs": [],
   "source": [
    "data = data_topics_clean.merge(data_eval, on=[\"ID_PROYECTO\",\"NUMERO_CONVOCATORIA\",\"ANIO\"])"
   ]
  },
  {
   "cell_type": "markdown",
   "metadata": {},
   "source": [
    "#### evaludores por convocatoria o al revles"
   ]
  },
  {
   "cell_type": "raw",
   "metadata": {},
   "source": [
    "gb = data.groupby(\"CVE_RCEA\")[[\"ID_PROYECTO\"]].nunique().reset_index(drop=True)\n",
    "gb[gb[\"ID_PROYECTO\"]==1].count()"
   ]
  },
  {
   "cell_type": "raw",
   "metadata": {},
   "source": [
    "sns.distplot(gb[\"ID_PROYECTO\"],bins=50,axlabel=\"#palabras\",label=\"Textos\",norm_hist=False,rug=True,kde=True,)"
   ]
  },
  {
   "cell_type": "markdown",
   "metadata": {},
   "source": [
    "### Steamming"
   ]
  },
  {
   "cell_type": "code",
   "execution_count": 13,
   "metadata": {},
   "outputs": [],
   "source": [
    "def stemSentence(sentence, min_len=4):\n",
    "    \"\"\"\n",
    "    info\n",
    "    \"\"\"\n",
    "    \n",
    "    token_words = word_tokenize(sentence)\n",
    "    stem_sentence = []\n",
    "    \n",
    "    for word in token_words:\n",
    "        if len(word) > min_len:\n",
    "            stem_sentence.append(stemmer.stem(WordNetLemmatizer().lemmatize(word, pos='v')))\n",
    "            stem_sentence.append(\" \")\n",
    "    return \"\".join(stem_sentence)"
   ]
  },
  {
   "cell_type": "markdown",
   "metadata": {},
   "source": [
    "obtener raices y quitar palabras cortas"
   ]
  },
  {
   "cell_type": "code",
   "execution_count": 14,
   "metadata": {},
   "outputs": [
    {
     "data": {
      "text/plain": [
       "(8188,)"
      ]
     },
     "execution_count": 14,
     "metadata": {},
     "output_type": "execute_result"
    }
   ],
   "source": [
    "data[\"DESCRIPCION_PROYECTO\"].shape"
   ]
  },
  {
   "cell_type": "code",
   "execution_count": 16,
   "metadata": {},
   "outputs": [
    {
     "name": "stdout",
     "output_type": "stream",
     "text": [
      "CPU times: user 23min 47s, sys: 12.4 s, total: 23min 59s\n",
      "Wall time: 24min 55s\n"
     ]
    }
   ],
   "source": [
    "%%time \n",
    "text_data = data[\"DESCRIPCION_PROYECTO\"]\n",
    "text_data = text_data.apply(stemSentence)"
   ]
  },
  {
   "cell_type": "code",
   "execution_count": 17,
   "metadata": {},
   "outputs": [],
   "source": [
    "data[\"DESCRIPCION_PROYECTO\"] = text_data"
   ]
  },
  {
   "cell_type": "code",
   "execution_count": 18,
   "metadata": {},
   "outputs": [],
   "source": [
    "data.to_csv(\"./data/procesado/data_training.csv\",index=True)"
   ]
  },
  {
   "cell_type": "code",
   "execution_count": 362,
   "metadata": {},
   "outputs": [],
   "source": [
    "data = pd.read_csv(\"./data/procesado/data_training.csv\")"
   ]
  },
  {
   "cell_type": "code",
   "execution_count": 363,
   "metadata": {},
   "outputs": [
    {
     "data": {
      "text/html": [
       "<div>\n",
       "<style scoped>\n",
       "    .dataframe tbody tr th:only-of-type {\n",
       "        vertical-align: middle;\n",
       "    }\n",
       "\n",
       "    .dataframe tbody tr th {\n",
       "        vertical-align: top;\n",
       "    }\n",
       "\n",
       "    .dataframe thead th {\n",
       "        text-align: right;\n",
       "    }\n",
       "</style>\n",
       "<table border=\"1\" class=\"dataframe\">\n",
       "  <thead>\n",
       "    <tr style=\"text-align: right;\">\n",
       "      <th></th>\n",
       "      <th>Unnamed: 0</th>\n",
       "      <th>ID_PROYECTO</th>\n",
       "      <th>NUMERO_CONVOCATORIA</th>\n",
       "      <th>ANIO</th>\n",
       "      <th>USUARIO_RESPONSABLE_TECNICO</th>\n",
       "      <th>NOMBRE_RESPONSABLE_TECNICO</th>\n",
       "      <th>PRIMER_APELLIDO</th>\n",
       "      <th>SEGUNDO_APELLIDO</th>\n",
       "      <th>ES_RESPONSABLE_TECNICO</th>\n",
       "      <th>TITULO</th>\n",
       "      <th>...</th>\n",
       "      <th>DESCRIPCION_PROYECTO</th>\n",
       "      <th>USUARIO</th>\n",
       "      <th>NOMBRE</th>\n",
       "      <th>CVE_RCEA</th>\n",
       "      <th>INSTITUCION</th>\n",
       "      <th>DEPENDENCIA</th>\n",
       "      <th>SUBDEPENDENCIA</th>\n",
       "      <th>PAIS</th>\n",
       "      <th>ESTADO</th>\n",
       "      <th>CVU</th>\n",
       "    </tr>\n",
       "  </thead>\n",
       "  <tbody>\n",
       "    <tr>\n",
       "      <td>0</td>\n",
       "      <td>0</td>\n",
       "      <td>1105</td>\n",
       "      <td>PROBLEMAS-2015-01</td>\n",
       "      <td>2015</td>\n",
       "      <td>X_olopez4074</td>\n",
       "      <td>OLIVER XAVIER</td>\n",
       "      <td>LOPEZ</td>\n",
       "      <td>CORONA</td>\n",
       "      <td>NaN</td>\n",
       "      <td>Desarrollo de un Sistema inteligente de soport...</td>\n",
       "      <td>...</td>\n",
       "      <td>mund actual alt dinam complej condicion socioa...</td>\n",
       "      <td>X_jpena904</td>\n",
       "      <td>JUAN JOSE PE?A CABRIALES</td>\n",
       "      <td>RCEA-06-06773-2002</td>\n",
       "      <td>CENTRO DE INVESTIGACION Y DE ESTUDIOS AVANZADO...</td>\n",
       "      <td>UNIDAD IRAPUATO</td>\n",
       "      <td>DEPARTAMENTO DE BIOTECNOLOGIA Y BIOQUIMICA</td>\n",
       "      <td>MEX</td>\n",
       "      <td>DF</td>\n",
       "      <td>904</td>\n",
       "    </tr>\n",
       "    <tr>\n",
       "      <td>1</td>\n",
       "      <td>1</td>\n",
       "      <td>1105</td>\n",
       "      <td>PROBLEMAS-2015-01</td>\n",
       "      <td>2015</td>\n",
       "      <td>X_olopez4074</td>\n",
       "      <td>OLIVER XAVIER</td>\n",
       "      <td>LOPEZ</td>\n",
       "      <td>CORONA</td>\n",
       "      <td>NaN</td>\n",
       "      <td>Desarrollo de un Sistema inteligente de soport...</td>\n",
       "      <td>...</td>\n",
       "      <td>mund actual alt dinam complej condicion socioa...</td>\n",
       "      <td>X_hmorales22194</td>\n",
       "      <td>HELDA ELEONORA DE GUADALUPE  MORALES</td>\n",
       "      <td>RCEA-06-11606-2006</td>\n",
       "      <td>EL COLEGIO DE LA FRONTERA SUR</td>\n",
       "      <td>UNIDAD SAN CRISTOBAL DE LAS CASAS</td>\n",
       "      <td>UNIDAD SAN CRISTOBAL DE LAS CASAS</td>\n",
       "      <td>MEXICO</td>\n",
       "      <td>CHIAPAS</td>\n",
       "      <td>22194</td>\n",
       "    </tr>\n",
       "  </tbody>\n",
       "</table>\n",
       "<p>2 rows × 35 columns</p>\n",
       "</div>"
      ],
      "text/plain": [
       "   Unnamed: 0  ID_PROYECTO NUMERO_CONVOCATORIA  ANIO  \\\n",
       "0           0         1105   PROBLEMAS-2015-01  2015   \n",
       "1           1         1105   PROBLEMAS-2015-01  2015   \n",
       "\n",
       "  USUARIO_RESPONSABLE_TECNICO NOMBRE_RESPONSABLE_TECNICO PRIMER_APELLIDO  \\\n",
       "0                X_olopez4074              OLIVER XAVIER           LOPEZ   \n",
       "1                X_olopez4074              OLIVER XAVIER           LOPEZ   \n",
       "\n",
       "  SEGUNDO_APELLIDO  ES_RESPONSABLE_TECNICO  \\\n",
       "0           CORONA                     NaN   \n",
       "1           CORONA                     NaN   \n",
       "\n",
       "                                              TITULO  ...  \\\n",
       "0  Desarrollo de un Sistema inteligente de soport...  ...   \n",
       "1  Desarrollo de un Sistema inteligente de soport...  ...   \n",
       "\n",
       "                                DESCRIPCION_PROYECTO          USUARIO  \\\n",
       "0  mund actual alt dinam complej condicion socioa...       X_jpena904   \n",
       "1  mund actual alt dinam complej condicion socioa...  X_hmorales22194   \n",
       "\n",
       "                                 NOMBRE            CVE_RCEA  \\\n",
       "0              JUAN JOSE PE?A CABRIALES  RCEA-06-06773-2002   \n",
       "1  HELDA ELEONORA DE GUADALUPE  MORALES  RCEA-06-11606-2006   \n",
       "\n",
       "                                         INSTITUCION  \\\n",
       "0  CENTRO DE INVESTIGACION Y DE ESTUDIOS AVANZADO...   \n",
       "1                      EL COLEGIO DE LA FRONTERA SUR   \n",
       "\n",
       "                         DEPENDENCIA  \\\n",
       "0                    UNIDAD IRAPUATO   \n",
       "1  UNIDAD SAN CRISTOBAL DE LAS CASAS   \n",
       "\n",
       "                               SUBDEPENDENCIA    PAIS   ESTADO    CVU  \n",
       "0  DEPARTAMENTO DE BIOTECNOLOGIA Y BIOQUIMICA     MEX       DF    904  \n",
       "1           UNIDAD SAN CRISTOBAL DE LAS CASAS  MEXICO  CHIAPAS  22194  \n",
       "\n",
       "[2 rows x 35 columns]"
      ]
     },
     "execution_count": 363,
     "metadata": {},
     "output_type": "execute_result"
    }
   ],
   "source": [
    "data.head(2)"
   ]
  },
  {
   "cell_type": "code",
   "execution_count": 364,
   "metadata": {},
   "outputs": [
    {
     "data": {
      "text/plain": [
       "0       CIENCIAS FISICO MATEMATICAS Y CIENCIAS DE LA T...\n",
       "1       CIENCIAS FISICO MATEMATICAS Y CIENCIAS DE LA T...\n",
       "2       CIENCIAS FISICO MATEMATICAS Y CIENCIAS DE LA T...\n",
       "3                                       CIENCIAS SOCIALES\n",
       "4                                       CIENCIAS SOCIALES\n",
       "                              ...                        \n",
       "8183               CIENCIAS AGROPECUARIAS Y BIOTECNOLOGIA\n",
       "8184               CIENCIAS AGROPECUARIAS Y BIOTECNOLOGIA\n",
       "8185               CIENCIAS AGROPECUARIAS Y BIOTECNOLOGIA\n",
       "8186                HUMANIDADES Y CIENCIAS DE LA CONDUCTA\n",
       "8187                HUMANIDADES Y CIENCIAS DE LA CONDUCTA\n",
       "Name: AREA, Length: 8188, dtype: object"
      ]
     },
     "execution_count": 364,
     "metadata": {},
     "output_type": "execute_result"
    }
   ],
   "source": [
    "data[\"AREA\"]"
   ]
  },
  {
   "cell_type": "code",
   "execution_count": 365,
   "metadata": {},
   "outputs": [
    {
     "data": {
      "text/html": [
       "<div>\n",
       "<style scoped>\n",
       "    .dataframe tbody tr th:only-of-type {\n",
       "        vertical-align: middle;\n",
       "    }\n",
       "\n",
       "    .dataframe tbody tr th {\n",
       "        vertical-align: top;\n",
       "    }\n",
       "\n",
       "    .dataframe thead th {\n",
       "        text-align: right;\n",
       "    }\n",
       "</style>\n",
       "<table border=\"1\" class=\"dataframe\">\n",
       "  <thead>\n",
       "    <tr style=\"text-align: right;\">\n",
       "      <th></th>\n",
       "      <th>ID_PROYECTO</th>\n",
       "      <th>DESCRIPCION_PROYECTO</th>\n",
       "      <th>CVE_RCEA</th>\n",
       "      <th>NOMBRE</th>\n",
       "      <th>CVU</th>\n",
       "    </tr>\n",
       "  </thead>\n",
       "  <tbody>\n",
       "    <tr>\n",
       "      <td>0</td>\n",
       "      <td>1105</td>\n",
       "      <td>mund actual alt dinam complej condicion socioa...</td>\n",
       "      <td>RCEA-06-06773-2002</td>\n",
       "      <td>JUAN JOSE PE?A CABRIALES</td>\n",
       "      <td>904</td>\n",
       "    </tr>\n",
       "    <tr>\n",
       "      <td>1</td>\n",
       "      <td>1105</td>\n",
       "      <td>mund actual alt dinam complej condicion socioa...</td>\n",
       "      <td>RCEA-06-11606-2006</td>\n",
       "      <td>HELDA ELEONORA DE GUADALUPE  MORALES</td>\n",
       "      <td>22194</td>\n",
       "    </tr>\n",
       "    <tr>\n",
       "      <td>2</td>\n",
       "      <td>1105</td>\n",
       "      <td>mund actual alt dinam complej condicion socioa...</td>\n",
       "      <td>RCEA-06-17175-2009</td>\n",
       "      <td>ARTURO  PEREZ  VAZQUEZ</td>\n",
       "      <td>58970</td>\n",
       "    </tr>\n",
       "    <tr>\n",
       "      <td>3</td>\n",
       "      <td>1775</td>\n",
       "      <td>polit public enfrent pobrez extrem mediant dis...</td>\n",
       "      <td>RCEA-05-06026-2003</td>\n",
       "      <td>GERARDO MANUEL  ORDO?EZ  BARBA</td>\n",
       "      <td>11603</td>\n",
       "    </tr>\n",
       "    <tr>\n",
       "      <td>4</td>\n",
       "      <td>1775</td>\n",
       "      <td>polit public enfrent pobrez extrem mediant dis...</td>\n",
       "      <td>RCEA-05-06058-2003</td>\n",
       "      <td>FELIX  ACOSTA  DIAZ</td>\n",
       "      <td>12725</td>\n",
       "    </tr>\n",
       "  </tbody>\n",
       "</table>\n",
       "</div>"
      ],
      "text/plain": [
       "   ID_PROYECTO                               DESCRIPCION_PROYECTO  \\\n",
       "0         1105  mund actual alt dinam complej condicion socioa...   \n",
       "1         1105  mund actual alt dinam complej condicion socioa...   \n",
       "2         1105  mund actual alt dinam complej condicion socioa...   \n",
       "3         1775  polit public enfrent pobrez extrem mediant dis...   \n",
       "4         1775  polit public enfrent pobrez extrem mediant dis...   \n",
       "\n",
       "             CVE_RCEA                                NOMBRE    CVU  \n",
       "0  RCEA-06-06773-2002              JUAN JOSE PE?A CABRIALES    904  \n",
       "1  RCEA-06-11606-2006  HELDA ELEONORA DE GUADALUPE  MORALES  22194  \n",
       "2  RCEA-06-17175-2009                ARTURO  PEREZ  VAZQUEZ  58970  \n",
       "3  RCEA-05-06026-2003        GERARDO MANUEL  ORDO?EZ  BARBA  11603  \n",
       "4  RCEA-05-06058-2003                   FELIX  ACOSTA  DIAZ  12725  "
      ]
     },
     "execution_count": 365,
     "metadata": {},
     "output_type": "execute_result"
    }
   ],
   "source": [
    "data[[\"ID_PROYECTO\",\"DESCRIPCION_PROYECTO\",'CVE_RCEA',\"NOMBRE\",\"CVU\"]].head(5)"
   ]
  },
  {
   "cell_type": "markdown",
   "metadata": {},
   "source": [
    "## Juntar textos por evaluador"
   ]
  },
  {
   "cell_type": "raw",
   "metadata": {},
   "source": [
    "      \"Email\": { \"type\": \"keyword\" },\n",
    "      \"CVU\": { \"type\": \"keyword\" },\n",
    "      \"Nombres\": { \"type\": \"text\" },\n",
    "      \"Apellidos\": { \"type\": \"text\" },\n",
    "      \"Clave_RCEA\": { \"type\": \"keyword\" },\n",
    "      \"Area_Conocimiento\": { \"type\": \"keyword\" },\n",
    "      \"Campo\": { \"type\": \"keyword\" },\n",
    "      \"Disciplina\": { \"type\": \"keyword\" },\n",
    "      \"Subdisciplina\": { \"type\": \"keyword\" },\n",
    "      \"Institución\": { \"type\": \"text\" },\n",
    "      \"País\": { \"type\": \"keyword\" },\n",
    "      \"Estado\": { \"type\": \"keyword\" },\n",
    "      \"Texto_Inglés\": { \"type\": \"text\", \"analyzer\":\"english\"},\n",
    "      \"Texto_Español\": { \"type\": \"text\", \"analyzer\":\"spanish\"},\n",
    "      \"Keyword_1\": { \"type\": \"text\" },\n",
    "      \"Keyword_2\": { \"type\": \"text\" },\n",
    "      \"Keyword_3\": { \"type\": \"text\" },\n",
    "      \"tfidf_vector\": { \"type\": \"dense_vector\", \"dims\": 512 },\n",
    "      \"topic_vector\": { \"type\": \"dense_vector\", \"dims\": 50 }\n",
    "    }\n",
    "  }\n",
    "}"
   ]
  },
  {
   "cell_type": "code",
   "execution_count": 366,
   "metadata": {},
   "outputs": [
    {
     "data": {
      "text/plain": [
       "Index(['Unnamed: 0', 'ID_PROYECTO', 'NUMERO_CONVOCATORIA', 'ANIO',\n",
       "       'USUARIO_RESPONSABLE_TECNICO', 'NOMBRE_RESPONSABLE_TECNICO',\n",
       "       'PRIMER_APELLIDO', 'SEGUNDO_APELLIDO', 'ES_RESPONSABLE_TECNICO',\n",
       "       'TITULO', 'PALABRAS_CLAVE1', 'PALABRAS_CLAVE2', 'PALABRAS_CLAVE3',\n",
       "       'DESCRIPCION_CONVOCATORIA', 'SUBDISCIPLINA', 'DISCIPLINA', 'AREA',\n",
       "       'DICTAMEN', 'DESCRIPCION', 'AUTORIZADO', 'FECHA_AUTORIZACION',\n",
       "       'ESTATUS_FORMALIZACION', 'DESCRIPCION_PROYECTO_FORM',\n",
       "       'NOMBRE_INSTITUCION', 'DESCRIPCION_PROYECTO_FASE',\n",
       "       'DESCRIPCION_PROYECTO', 'USUARIO', 'NOMBRE', 'CVE_RCEA', 'INSTITUCION',\n",
       "       'DEPENDENCIA', 'SUBDEPENDENCIA', 'PAIS', 'ESTADO', 'CVU'],\n",
       "      dtype='object')"
      ]
     },
     "execution_count": 366,
     "metadata": {},
     "output_type": "execute_result"
    }
   ],
   "source": [
    "data.columns"
   ]
  },
  {
   "cell_type": "code",
   "execution_count": 367,
   "metadata": {},
   "outputs": [
    {
     "data": {
      "text/plain": [
       "(8188, 35)"
      ]
     },
     "execution_count": 367,
     "metadata": {},
     "output_type": "execute_result"
    }
   ],
   "source": [
    "data.shape"
   ]
  },
  {
   "cell_type": "markdown",
   "metadata": {},
   "source": [
    "# nos quedamos con el primer elemento de las siguientes columnas para generar dummies"
   ]
  },
  {
   "cell_type": "code",
   "execution_count": 368,
   "metadata": {},
   "outputs": [],
   "source": [
    "columnas_esquema = [\"USUARIO\", \"CVU\", \"NOMBRE\",\"CVE_RCEA\",\"AREA\",\"DISCIPLINA\",\"SUBDISCIPLINA\",\"INSTITUCION\",\"PAIS\",\n",
    "                   \"ESTADO\",\"DEPENDENCIA\",\"SUBDEPENDENCIA\",\"DESCRIPCION_PROYECTO\",\"PALABRAS_CLAVE1\",\"PALABRAS_CLAVE2\",\"PALABRAS_CLAVE3\"]"
   ]
  },
  {
   "cell_type": "code",
   "execution_count": 369,
   "metadata": {},
   "outputs": [
    {
     "data": {
      "text/html": [
       "<div>\n",
       "<style scoped>\n",
       "    .dataframe tbody tr th:only-of-type {\n",
       "        vertical-align: middle;\n",
       "    }\n",
       "\n",
       "    .dataframe tbody tr th {\n",
       "        vertical-align: top;\n",
       "    }\n",
       "\n",
       "    .dataframe thead th {\n",
       "        text-align: right;\n",
       "    }\n",
       "</style>\n",
       "<table border=\"1\" class=\"dataframe\">\n",
       "  <thead>\n",
       "    <tr style=\"text-align: right;\">\n",
       "      <th></th>\n",
       "      <th>USUARIO</th>\n",
       "      <th>CVU</th>\n",
       "      <th>NOMBRE</th>\n",
       "      <th>CVE_RCEA</th>\n",
       "      <th>AREA</th>\n",
       "      <th>DISCIPLINA</th>\n",
       "      <th>SUBDISCIPLINA</th>\n",
       "      <th>INSTITUCION</th>\n",
       "      <th>PAIS</th>\n",
       "      <th>ESTADO</th>\n",
       "      <th>DEPENDENCIA</th>\n",
       "      <th>SUBDEPENDENCIA</th>\n",
       "      <th>DESCRIPCION_PROYECTO</th>\n",
       "      <th>PALABRAS_CLAVE1</th>\n",
       "      <th>PALABRAS_CLAVE2</th>\n",
       "      <th>PALABRAS_CLAVE3</th>\n",
       "    </tr>\n",
       "  </thead>\n",
       "  <tbody>\n",
       "  </tbody>\n",
       "</table>\n",
       "</div>"
      ],
      "text/plain": [
       "Empty DataFrame\n",
       "Columns: [USUARIO, CVU, NOMBRE, CVE_RCEA, AREA, DISCIPLINA, SUBDISCIPLINA, INSTITUCION, PAIS, ESTADO, DEPENDENCIA, SUBDEPENDENCIA, DESCRIPCION_PROYECTO, PALABRAS_CLAVE1, PALABRAS_CLAVE2, PALABRAS_CLAVE3]\n",
       "Index: []"
      ]
     },
     "execution_count": 369,
     "metadata": {},
     "output_type": "execute_result"
    }
   ],
   "source": [
    "data_final = pd.DataFrame(columns=columnas_esquema)\n",
    "data_final.head()"
   ]
  },
  {
   "cell_type": "code",
   "execution_count": 370,
   "metadata": {},
   "outputs": [],
   "source": [
    "data_final = [data[data[\"CVE_RCEA\"]==cve_rcea].reset_index(drop=True).loc[0,[\"USUARIO\", \"CVU\", \"NOMBRE\",\"CVE_RCEA\",\"AREA\",\n",
    "                                                                \"DISCIPLINA\",\"SUBDISCIPLINA\",\"INSTITUCION\",\n",
    "                                                                \"PAIS\",\"ESTADO\",\"DEPENDENCIA\",\"SUBDEPENDENCIA\",\"DESCRIPCION_PROYECTO\",\n",
    "                                                                \"PALABRAS_CLAVE1\",\"PALABRAS_CLAVE2\",\"PALABRAS_CLAVE3\"\n",
    "                                                               ]].values for cve_rcea in data[\"CVE_RCEA\"].unique()]"
   ]
  },
  {
   "cell_type": "code",
   "execution_count": 371,
   "metadata": {},
   "outputs": [
    {
     "data": {
      "text/html": [
       "<div>\n",
       "<style scoped>\n",
       "    .dataframe tbody tr th:only-of-type {\n",
       "        vertical-align: middle;\n",
       "    }\n",
       "\n",
       "    .dataframe tbody tr th {\n",
       "        vertical-align: top;\n",
       "    }\n",
       "\n",
       "    .dataframe thead th {\n",
       "        text-align: right;\n",
       "    }\n",
       "</style>\n",
       "<table border=\"1\" class=\"dataframe\">\n",
       "  <thead>\n",
       "    <tr style=\"text-align: right;\">\n",
       "      <th></th>\n",
       "      <th>USUARIO</th>\n",
       "      <th>CVU</th>\n",
       "      <th>NOMBRE</th>\n",
       "      <th>CVE_RCEA</th>\n",
       "      <th>AREA</th>\n",
       "      <th>DISCIPLINA</th>\n",
       "      <th>SUBDISCIPLINA</th>\n",
       "      <th>INSTITUCION</th>\n",
       "      <th>PAIS</th>\n",
       "      <th>ESTADO</th>\n",
       "      <th>DEPENDENCIA</th>\n",
       "      <th>SUBDEPENDENCIA</th>\n",
       "      <th>DESCRIPCION_PROYECTO</th>\n",
       "      <th>PALABRAS_CLAVE1</th>\n",
       "      <th>PALABRAS_CLAVE2</th>\n",
       "      <th>PALABRAS_CLAVE3</th>\n",
       "    </tr>\n",
       "  </thead>\n",
       "  <tbody>\n",
       "    <tr>\n",
       "      <td>0</td>\n",
       "      <td>X_jpena904</td>\n",
       "      <td>904</td>\n",
       "      <td>JUAN JOSE PE?A CABRIALES</td>\n",
       "      <td>RCEA-06-06773-2002</td>\n",
       "      <td>CIENCIAS FISICO MATEMATICAS Y CIENCIAS DE LA T...</td>\n",
       "      <td>MATEMATICAS</td>\n",
       "      <td>NaN</td>\n",
       "      <td>CENTRO DE INVESTIGACION Y DE ESTUDIOS AVANZADO...</td>\n",
       "      <td>MEX</td>\n",
       "      <td>DF</td>\n",
       "      <td>UNIDAD IRAPUATO</td>\n",
       "      <td>DEPARTAMENTO DE BIOTECNOLOGIA Y BIOQUIMICA</td>\n",
       "      <td>mund actual alt dinam complej condicion socioa...</td>\n",
       "      <td>Inteligencia artificial</td>\n",
       "      <td>Agricultura urbana y periurbana</td>\n",
       "      <td>Sistema de soporte de decisiones</td>\n",
       "    </tr>\n",
       "    <tr>\n",
       "      <td>1</td>\n",
       "      <td>X_hmorales22194</td>\n",
       "      <td>22194</td>\n",
       "      <td>HELDA ELEONORA DE GUADALUPE  MORALES</td>\n",
       "      <td>RCEA-06-11606-2006</td>\n",
       "      <td>CIENCIAS FISICO MATEMATICAS Y CIENCIAS DE LA T...</td>\n",
       "      <td>MATEMATICAS</td>\n",
       "      <td>NaN</td>\n",
       "      <td>EL COLEGIO DE LA FRONTERA SUR</td>\n",
       "      <td>MEXICO</td>\n",
       "      <td>CHIAPAS</td>\n",
       "      <td>UNIDAD SAN CRISTOBAL DE LAS CASAS</td>\n",
       "      <td>UNIDAD SAN CRISTOBAL DE LAS CASAS</td>\n",
       "      <td>mund actual alt dinam complej condicion socioa...</td>\n",
       "      <td>Inteligencia artificial</td>\n",
       "      <td>Agricultura urbana y periurbana</td>\n",
       "      <td>Sistema de soporte de decisiones</td>\n",
       "    </tr>\n",
       "    <tr>\n",
       "      <td>2</td>\n",
       "      <td>X_aperez58970</td>\n",
       "      <td>58970</td>\n",
       "      <td>ARTURO  PEREZ  VAZQUEZ</td>\n",
       "      <td>RCEA-06-17175-2009</td>\n",
       "      <td>CIENCIAS FISICO MATEMATICAS Y CIENCIAS DE LA T...</td>\n",
       "      <td>MATEMATICAS</td>\n",
       "      <td>NaN</td>\n",
       "      <td>COLEGIO DE POSTGRADUADOS EN CIENCIAS AGRICOLAS</td>\n",
       "      <td>MEXICO</td>\n",
       "      <td>VERACRUZ</td>\n",
       "      <td>CAMPUS VERACRUZ</td>\n",
       "      <td>CAMPUS VERACRUZ</td>\n",
       "      <td>mund actual alt dinam complej condicion socioa...</td>\n",
       "      <td>Inteligencia artificial</td>\n",
       "      <td>Agricultura urbana y periurbana</td>\n",
       "      <td>Sistema de soporte de decisiones</td>\n",
       "    </tr>\n",
       "    <tr>\n",
       "      <td>3</td>\n",
       "      <td>X_gordonez11603</td>\n",
       "      <td>11603</td>\n",
       "      <td>GERARDO MANUEL  ORDO?EZ  BARBA</td>\n",
       "      <td>RCEA-05-06026-2003</td>\n",
       "      <td>CIENCIAS SOCIALES</td>\n",
       "      <td>ECONOMIA</td>\n",
       "      <td>NaN</td>\n",
       "      <td>EL COLEGIO DE LA FRONTERA NORTE, A.C.</td>\n",
       "      <td>MEXICO</td>\n",
       "      <td>BAJA CALIFORNIA</td>\n",
       "      <td>CENTRO DE ESTUDIOS FRONTERIZOS DEL NORTE DE ME...</td>\n",
       "      <td>CENTRO DE ESTUDIOS FRONTERIZOS DEL NORTE DE ME...</td>\n",
       "      <td>polit public enfrent pobrez extrem mediant dis...</td>\n",
       "      <td>Pobreza extrema</td>\n",
       "      <td>Seguridad alimentaria</td>\n",
       "      <td>Perdidas y desperdicios de alimentos</td>\n",
       "    </tr>\n",
       "    <tr>\n",
       "      <td>4</td>\n",
       "      <td>X_facosta12725</td>\n",
       "      <td>12725</td>\n",
       "      <td>FELIX  ACOSTA  DIAZ</td>\n",
       "      <td>RCEA-05-06058-2003</td>\n",
       "      <td>CIENCIAS SOCIALES</td>\n",
       "      <td>ECONOMIA</td>\n",
       "      <td>NaN</td>\n",
       "      <td>EL COLEGIO DE LA FRONTERA NORTE, A.C.</td>\n",
       "      <td>MEXICO</td>\n",
       "      <td>BAJA CALIFORNIA</td>\n",
       "      <td>DIRECCION GENERAL ACADEMICA</td>\n",
       "      <td>DIRECCION GENERAL ACADEMICA</td>\n",
       "      <td>polit public enfrent pobrez extrem mediant dis...</td>\n",
       "      <td>Pobreza extrema</td>\n",
       "      <td>Seguridad alimentaria</td>\n",
       "      <td>Perdidas y desperdicios de alimentos</td>\n",
       "    </tr>\n",
       "  </tbody>\n",
       "</table>\n",
       "</div>"
      ],
      "text/plain": [
       "           USUARIO    CVU                                NOMBRE  \\\n",
       "0       X_jpena904    904              JUAN JOSE PE?A CABRIALES   \n",
       "1  X_hmorales22194  22194  HELDA ELEONORA DE GUADALUPE  MORALES   \n",
       "2    X_aperez58970  58970                ARTURO  PEREZ  VAZQUEZ   \n",
       "3  X_gordonez11603  11603        GERARDO MANUEL  ORDO?EZ  BARBA   \n",
       "4   X_facosta12725  12725                   FELIX  ACOSTA  DIAZ   \n",
       "\n",
       "             CVE_RCEA                                               AREA  \\\n",
       "0  RCEA-06-06773-2002  CIENCIAS FISICO MATEMATICAS Y CIENCIAS DE LA T...   \n",
       "1  RCEA-06-11606-2006  CIENCIAS FISICO MATEMATICAS Y CIENCIAS DE LA T...   \n",
       "2  RCEA-06-17175-2009  CIENCIAS FISICO MATEMATICAS Y CIENCIAS DE LA T...   \n",
       "3  RCEA-05-06026-2003                                  CIENCIAS SOCIALES   \n",
       "4  RCEA-05-06058-2003                                  CIENCIAS SOCIALES   \n",
       "\n",
       "    DISCIPLINA SUBDISCIPLINA  \\\n",
       "0  MATEMATICAS           NaN   \n",
       "1  MATEMATICAS           NaN   \n",
       "2  MATEMATICAS           NaN   \n",
       "3     ECONOMIA           NaN   \n",
       "4     ECONOMIA           NaN   \n",
       "\n",
       "                                         INSTITUCION    PAIS           ESTADO  \\\n",
       "0  CENTRO DE INVESTIGACION Y DE ESTUDIOS AVANZADO...     MEX               DF   \n",
       "1                      EL COLEGIO DE LA FRONTERA SUR  MEXICO          CHIAPAS   \n",
       "2     COLEGIO DE POSTGRADUADOS EN CIENCIAS AGRICOLAS  MEXICO         VERACRUZ   \n",
       "3              EL COLEGIO DE LA FRONTERA NORTE, A.C.  MEXICO  BAJA CALIFORNIA   \n",
       "4              EL COLEGIO DE LA FRONTERA NORTE, A.C.  MEXICO  BAJA CALIFORNIA   \n",
       "\n",
       "                                         DEPENDENCIA  \\\n",
       "0                                    UNIDAD IRAPUATO   \n",
       "1                  UNIDAD SAN CRISTOBAL DE LAS CASAS   \n",
       "2                                    CAMPUS VERACRUZ   \n",
       "3  CENTRO DE ESTUDIOS FRONTERIZOS DEL NORTE DE ME...   \n",
       "4                        DIRECCION GENERAL ACADEMICA   \n",
       "\n",
       "                                      SUBDEPENDENCIA  \\\n",
       "0         DEPARTAMENTO DE BIOTECNOLOGIA Y BIOQUIMICA   \n",
       "1                  UNIDAD SAN CRISTOBAL DE LAS CASAS   \n",
       "2                                    CAMPUS VERACRUZ   \n",
       "3  CENTRO DE ESTUDIOS FRONTERIZOS DEL NORTE DE ME...   \n",
       "4                        DIRECCION GENERAL ACADEMICA   \n",
       "\n",
       "                                DESCRIPCION_PROYECTO          PALABRAS_CLAVE1  \\\n",
       "0  mund actual alt dinam complej condicion socioa...  Inteligencia artificial   \n",
       "1  mund actual alt dinam complej condicion socioa...  Inteligencia artificial   \n",
       "2  mund actual alt dinam complej condicion socioa...  Inteligencia artificial   \n",
       "3  polit public enfrent pobrez extrem mediant dis...          Pobreza extrema   \n",
       "4  polit public enfrent pobrez extrem mediant dis...          Pobreza extrema   \n",
       "\n",
       "                   PALABRAS_CLAVE2                       PALABRAS_CLAVE3  \n",
       "0  Agricultura urbana y periurbana      Sistema de soporte de decisiones  \n",
       "1  Agricultura urbana y periurbana      Sistema de soporte de decisiones  \n",
       "2  Agricultura urbana y periurbana      Sistema de soporte de decisiones  \n",
       "3            Seguridad alimentaria  Perdidas y desperdicios de alimentos  \n",
       "4            Seguridad alimentaria  Perdidas y desperdicios de alimentos  "
      ]
     },
     "execution_count": 371,
     "metadata": {},
     "output_type": "execute_result"
    }
   ],
   "source": [
    "data_final = pd.DataFrame(data_final, columns=columnas_esquema)\n",
    "data_final.head()"
   ]
  },
  {
   "cell_type": "code",
   "execution_count": 372,
   "metadata": {},
   "outputs": [
    {
     "data": {
      "text/plain": [
       "(3421, 16)"
      ]
     },
     "execution_count": 372,
     "metadata": {},
     "output_type": "execute_result"
    }
   ],
   "source": [
    "data_final.shape"
   ]
  },
  {
   "cell_type": "markdown",
   "metadata": {},
   "source": [
    "# Definnimos las columnas que funcionnaran como llave en el gb que concatena los textos de el evaluador"
   ]
  },
  {
   "cell_type": "code",
   "execution_count": 373,
   "metadata": {},
   "outputs": [],
   "source": [
    "columnas_gb = [\"USUARIO\", \"CVU\", \"NOMBRE\",\"CVE_RCEA\",\"AREA\",\n",
    "\"DISCIPLINA\",\"SUBDISCIPLINA\",\"INSTITUCION\",\n",
    "\"PAIS\",\"ESTADO\",\"DEPENDENCIA\",\"SUBDEPENDENCIA\",\"DESCRIPCION_PROYECTO\",\n",
    "\"PALABRAS_CLAVE1\",\"PALABRAS_CLAVE2\",\"PALABRAS_CLAVE3\"]"
   ]
  },
  {
   "cell_type": "code",
   "execution_count": 374,
   "metadata": {},
   "outputs": [],
   "source": [
    "textos_investigador = data.groupby(\"CVU\"\n",
    "                                  )['DESCRIPCION_PROYECTO'].apply(lambda x: \"%s\" % ' '.join(x))"
   ]
  },
  {
   "cell_type": "code",
   "execution_count": 375,
   "metadata": {},
   "outputs": [
    {
     "data": {
      "text/plain": [
       "3421"
      ]
     },
     "execution_count": 375,
     "metadata": {},
     "output_type": "execute_result"
    }
   ],
   "source": [
    "len(textos_investigador)"
   ]
  },
  {
   "cell_type": "markdown",
   "metadata": {},
   "source": [
    "## guardamos los valortes de la lista en un DF"
   ]
  },
  {
   "cell_type": "code",
   "execution_count": 376,
   "metadata": {},
   "outputs": [],
   "source": [
    "df_texto_eval = pd.DataFrame()\n",
    "df_texto_eval[\"CVU\"] = textos_investigador.index\n",
    "df_texto_eval[\"DESCRIPCION_PROYECTO_join\"] = textos_investigador.values"
   ]
  },
  {
   "cell_type": "code",
   "execution_count": 377,
   "metadata": {},
   "outputs": [
    {
     "data": {
      "text/plain": [
       "(3421, 2)"
      ]
     },
     "execution_count": 377,
     "metadata": {},
     "output_type": "execute_result"
    }
   ],
   "source": [
    "df_texto_eval.shape"
   ]
  },
  {
   "cell_type": "markdown",
   "metadata": {},
   "source": [
    "## Juntamos las tablas"
   ]
  },
  {
   "cell_type": "raw",
   "metadata": {},
   "source": [
    "df_texto_eval = df_texto_eval.join(data_final, lsuffix='CVU',rsuffix=\"CVU\")"
   ]
  },
  {
   "cell_type": "code",
   "execution_count": 378,
   "metadata": {},
   "outputs": [],
   "source": [
    "df_texto_eval = pd.merge(data_final,df_texto_eval, on='CVU', how='left')"
   ]
  },
  {
   "cell_type": "code",
   "execution_count": 379,
   "metadata": {},
   "outputs": [
    {
     "data": {
      "text/html": [
       "<div>\n",
       "<style scoped>\n",
       "    .dataframe tbody tr th:only-of-type {\n",
       "        vertical-align: middle;\n",
       "    }\n",
       "\n",
       "    .dataframe tbody tr th {\n",
       "        vertical-align: top;\n",
       "    }\n",
       "\n",
       "    .dataframe thead th {\n",
       "        text-align: right;\n",
       "    }\n",
       "</style>\n",
       "<table border=\"1\" class=\"dataframe\">\n",
       "  <thead>\n",
       "    <tr style=\"text-align: right;\">\n",
       "      <th></th>\n",
       "      <th>USUARIO</th>\n",
       "      <th>CVU</th>\n",
       "      <th>NOMBRE</th>\n",
       "      <th>CVE_RCEA</th>\n",
       "      <th>AREA</th>\n",
       "      <th>DISCIPLINA</th>\n",
       "      <th>SUBDISCIPLINA</th>\n",
       "      <th>INSTITUCION</th>\n",
       "      <th>PAIS</th>\n",
       "      <th>ESTADO</th>\n",
       "      <th>DEPENDENCIA</th>\n",
       "      <th>SUBDEPENDENCIA</th>\n",
       "      <th>DESCRIPCION_PROYECTO</th>\n",
       "      <th>PALABRAS_CLAVE1</th>\n",
       "      <th>PALABRAS_CLAVE2</th>\n",
       "      <th>PALABRAS_CLAVE3</th>\n",
       "      <th>DESCRIPCION_PROYECTO_join</th>\n",
       "    </tr>\n",
       "  </thead>\n",
       "  <tbody>\n",
       "    <tr>\n",
       "      <td>0</td>\n",
       "      <td>X_jpena904</td>\n",
       "      <td>904</td>\n",
       "      <td>JUAN JOSE PE?A CABRIALES</td>\n",
       "      <td>RCEA-06-06773-2002</td>\n",
       "      <td>CIENCIAS FISICO MATEMATICAS Y CIENCIAS DE LA T...</td>\n",
       "      <td>MATEMATICAS</td>\n",
       "      <td>NaN</td>\n",
       "      <td>CENTRO DE INVESTIGACION Y DE ESTUDIOS AVANZADO...</td>\n",
       "      <td>MEX</td>\n",
       "      <td>DF</td>\n",
       "      <td>UNIDAD IRAPUATO</td>\n",
       "      <td>DEPARTAMENTO DE BIOTECNOLOGIA Y BIOQUIMICA</td>\n",
       "      <td>mund actual alt dinam complej condicion socioa...</td>\n",
       "      <td>Inteligencia artificial</td>\n",
       "      <td>Agricultura urbana y periurbana</td>\n",
       "      <td>Sistema de soporte de decisiones</td>\n",
       "      <td>mund actual alt dinam complej condicion socioa...</td>\n",
       "    </tr>\n",
       "    <tr>\n",
       "      <td>1</td>\n",
       "      <td>X_hmorales22194</td>\n",
       "      <td>22194</td>\n",
       "      <td>HELDA ELEONORA DE GUADALUPE  MORALES</td>\n",
       "      <td>RCEA-06-11606-2006</td>\n",
       "      <td>CIENCIAS FISICO MATEMATICAS Y CIENCIAS DE LA T...</td>\n",
       "      <td>MATEMATICAS</td>\n",
       "      <td>NaN</td>\n",
       "      <td>EL COLEGIO DE LA FRONTERA SUR</td>\n",
       "      <td>MEXICO</td>\n",
       "      <td>CHIAPAS</td>\n",
       "      <td>UNIDAD SAN CRISTOBAL DE LAS CASAS</td>\n",
       "      <td>UNIDAD SAN CRISTOBAL DE LAS CASAS</td>\n",
       "      <td>mund actual alt dinam complej condicion socioa...</td>\n",
       "      <td>Inteligencia artificial</td>\n",
       "      <td>Agricultura urbana y periurbana</td>\n",
       "      <td>Sistema de soporte de decisiones</td>\n",
       "      <td>mund actual alt dinam complej condicion socioa...</td>\n",
       "    </tr>\n",
       "  </tbody>\n",
       "</table>\n",
       "</div>"
      ],
      "text/plain": [
       "           USUARIO    CVU                                NOMBRE  \\\n",
       "0       X_jpena904    904              JUAN JOSE PE?A CABRIALES   \n",
       "1  X_hmorales22194  22194  HELDA ELEONORA DE GUADALUPE  MORALES   \n",
       "\n",
       "             CVE_RCEA                                               AREA  \\\n",
       "0  RCEA-06-06773-2002  CIENCIAS FISICO MATEMATICAS Y CIENCIAS DE LA T...   \n",
       "1  RCEA-06-11606-2006  CIENCIAS FISICO MATEMATICAS Y CIENCIAS DE LA T...   \n",
       "\n",
       "    DISCIPLINA SUBDISCIPLINA  \\\n",
       "0  MATEMATICAS           NaN   \n",
       "1  MATEMATICAS           NaN   \n",
       "\n",
       "                                         INSTITUCION    PAIS   ESTADO  \\\n",
       "0  CENTRO DE INVESTIGACION Y DE ESTUDIOS AVANZADO...     MEX       DF   \n",
       "1                      EL COLEGIO DE LA FRONTERA SUR  MEXICO  CHIAPAS   \n",
       "\n",
       "                         DEPENDENCIA  \\\n",
       "0                    UNIDAD IRAPUATO   \n",
       "1  UNIDAD SAN CRISTOBAL DE LAS CASAS   \n",
       "\n",
       "                               SUBDEPENDENCIA  \\\n",
       "0  DEPARTAMENTO DE BIOTECNOLOGIA Y BIOQUIMICA   \n",
       "1           UNIDAD SAN CRISTOBAL DE LAS CASAS   \n",
       "\n",
       "                                DESCRIPCION_PROYECTO          PALABRAS_CLAVE1  \\\n",
       "0  mund actual alt dinam complej condicion socioa...  Inteligencia artificial   \n",
       "1  mund actual alt dinam complej condicion socioa...  Inteligencia artificial   \n",
       "\n",
       "                   PALABRAS_CLAVE2                   PALABRAS_CLAVE3  \\\n",
       "0  Agricultura urbana y periurbana  Sistema de soporte de decisiones   \n",
       "1  Agricultura urbana y periurbana  Sistema de soporte de decisiones   \n",
       "\n",
       "                           DESCRIPCION_PROYECTO_join  \n",
       "0  mund actual alt dinam complej condicion socioa...  \n",
       "1  mund actual alt dinam complej condicion socioa...  "
      ]
     },
     "execution_count": 379,
     "metadata": {},
     "output_type": "execute_result"
    }
   ],
   "source": [
    "df_texto_eval.head(2)"
   ]
  },
  {
   "cell_type": "code",
   "execution_count": 380,
   "metadata": {},
   "outputs": [
    {
     "data": {
      "text/plain": [
       "(3421, 17)"
      ]
     },
     "execution_count": 380,
     "metadata": {},
     "output_type": "execute_result"
    }
   ],
   "source": [
    "df_texto_eval.shape"
   ]
  },
  {
   "cell_type": "markdown",
   "metadata": {},
   "source": [
    "## guardamos las \"palabras _clave\" en una sola columna y nons deshechamos de las demás."
   ]
  },
  {
   "cell_type": "code",
   "execution_count": 381,
   "metadata": {},
   "outputs": [],
   "source": [
    "df_texto_eval[\"PALABRAS_CLAVE\"] =  \"['\" + df_texto_eval[\"PALABRAS_CLAVE1\"] + \"' ,'\" + df_texto_eval[\"PALABRAS_CLAVE2\"] + \"',' \" + df_texto_eval[\"PALABRAS_CLAVE3\"] + \"']\"\n",
    "df_texto_eval.drop([\"PALABRAS_CLAVE1\",\"PALABRAS_CLAVE2\",\"PALABRAS_CLAVE3\",\"DESCRIPCION_PROYECTO\"],axis=1,inplace=True)"
   ]
  },
  {
   "cell_type": "markdown",
   "metadata": {},
   "source": [
    "### Creamos la columna nombre_apellidos:"
   ]
  },
  {
   "cell_type": "code",
   "execution_count": 382,
   "metadata": {},
   "outputs": [],
   "source": [
    "df_texto_eval[\"APELLIDOS\"] =  df_texto_eval[\"NOMBRE\"]"
   ]
  },
  {
   "cell_type": "code",
   "execution_count": 383,
   "metadata": {},
   "outputs": [
    {
     "data": {
      "text/html": [
       "<div>\n",
       "<style scoped>\n",
       "    .dataframe tbody tr th:only-of-type {\n",
       "        vertical-align: middle;\n",
       "    }\n",
       "\n",
       "    .dataframe tbody tr th {\n",
       "        vertical-align: top;\n",
       "    }\n",
       "\n",
       "    .dataframe thead th {\n",
       "        text-align: right;\n",
       "    }\n",
       "</style>\n",
       "<table border=\"1\" class=\"dataframe\">\n",
       "  <thead>\n",
       "    <tr style=\"text-align: right;\">\n",
       "      <th></th>\n",
       "      <th>USUARIO</th>\n",
       "      <th>CVU</th>\n",
       "      <th>NOMBRE</th>\n",
       "      <th>CVE_RCEA</th>\n",
       "      <th>AREA</th>\n",
       "      <th>DISCIPLINA</th>\n",
       "      <th>SUBDISCIPLINA</th>\n",
       "      <th>INSTITUCION</th>\n",
       "      <th>PAIS</th>\n",
       "      <th>ESTADO</th>\n",
       "      <th>DEPENDENCIA</th>\n",
       "      <th>SUBDEPENDENCIA</th>\n",
       "      <th>DESCRIPCION_PROYECTO_join</th>\n",
       "      <th>PALABRAS_CLAVE</th>\n",
       "      <th>APELLIDOS</th>\n",
       "    </tr>\n",
       "  </thead>\n",
       "  <tbody>\n",
       "    <tr>\n",
       "      <td>0</td>\n",
       "      <td>X_jpena904</td>\n",
       "      <td>904</td>\n",
       "      <td>JUAN JOSE PE?A CABRIALES</td>\n",
       "      <td>RCEA-06-06773-2002</td>\n",
       "      <td>CIENCIAS FISICO MATEMATICAS Y CIENCIAS DE LA T...</td>\n",
       "      <td>MATEMATICAS</td>\n",
       "      <td>NaN</td>\n",
       "      <td>CENTRO DE INVESTIGACION Y DE ESTUDIOS AVANZADO...</td>\n",
       "      <td>MEX</td>\n",
       "      <td>DF</td>\n",
       "      <td>UNIDAD IRAPUATO</td>\n",
       "      <td>DEPARTAMENTO DE BIOTECNOLOGIA Y BIOQUIMICA</td>\n",
       "      <td>mund actual alt dinam complej condicion socioa...</td>\n",
       "      <td>['Inteligencia artificial' ,'Agricultura urban...</td>\n",
       "      <td>JUAN JOSE PE?A CABRIALES</td>\n",
       "    </tr>\n",
       "    <tr>\n",
       "      <td>1</td>\n",
       "      <td>X_hmorales22194</td>\n",
       "      <td>22194</td>\n",
       "      <td>HELDA ELEONORA DE GUADALUPE  MORALES</td>\n",
       "      <td>RCEA-06-11606-2006</td>\n",
       "      <td>CIENCIAS FISICO MATEMATICAS Y CIENCIAS DE LA T...</td>\n",
       "      <td>MATEMATICAS</td>\n",
       "      <td>NaN</td>\n",
       "      <td>EL COLEGIO DE LA FRONTERA SUR</td>\n",
       "      <td>MEXICO</td>\n",
       "      <td>CHIAPAS</td>\n",
       "      <td>UNIDAD SAN CRISTOBAL DE LAS CASAS</td>\n",
       "      <td>UNIDAD SAN CRISTOBAL DE LAS CASAS</td>\n",
       "      <td>mund actual alt dinam complej condicion socioa...</td>\n",
       "      <td>['Inteligencia artificial' ,'Agricultura urban...</td>\n",
       "      <td>HELDA ELEONORA DE GUADALUPE  MORALES</td>\n",
       "    </tr>\n",
       "    <tr>\n",
       "      <td>2</td>\n",
       "      <td>X_aperez58970</td>\n",
       "      <td>58970</td>\n",
       "      <td>ARTURO  PEREZ  VAZQUEZ</td>\n",
       "      <td>RCEA-06-17175-2009</td>\n",
       "      <td>CIENCIAS FISICO MATEMATICAS Y CIENCIAS DE LA T...</td>\n",
       "      <td>MATEMATICAS</td>\n",
       "      <td>NaN</td>\n",
       "      <td>COLEGIO DE POSTGRADUADOS EN CIENCIAS AGRICOLAS</td>\n",
       "      <td>MEXICO</td>\n",
       "      <td>VERACRUZ</td>\n",
       "      <td>CAMPUS VERACRUZ</td>\n",
       "      <td>CAMPUS VERACRUZ</td>\n",
       "      <td>mund actual alt dinam complej condicion socioa...</td>\n",
       "      <td>['Inteligencia artificial' ,'Agricultura urban...</td>\n",
       "      <td>ARTURO  PEREZ  VAZQUEZ</td>\n",
       "    </tr>\n",
       "    <tr>\n",
       "      <td>3</td>\n",
       "      <td>X_gordonez11603</td>\n",
       "      <td>11603</td>\n",
       "      <td>GERARDO MANUEL  ORDO?EZ  BARBA</td>\n",
       "      <td>RCEA-05-06026-2003</td>\n",
       "      <td>CIENCIAS SOCIALES</td>\n",
       "      <td>ECONOMIA</td>\n",
       "      <td>NaN</td>\n",
       "      <td>EL COLEGIO DE LA FRONTERA NORTE, A.C.</td>\n",
       "      <td>MEXICO</td>\n",
       "      <td>BAJA CALIFORNIA</td>\n",
       "      <td>CENTRO DE ESTUDIOS FRONTERIZOS DEL NORTE DE ME...</td>\n",
       "      <td>CENTRO DE ESTUDIOS FRONTERIZOS DEL NORTE DE ME...</td>\n",
       "      <td>polit public enfrent pobrez extrem mediant dis...</td>\n",
       "      <td>['Pobreza extrema' ,'Seguridad alimentaria',' ...</td>\n",
       "      <td>GERARDO MANUEL  ORDO?EZ  BARBA</td>\n",
       "    </tr>\n",
       "    <tr>\n",
       "      <td>4</td>\n",
       "      <td>X_facosta12725</td>\n",
       "      <td>12725</td>\n",
       "      <td>FELIX  ACOSTA  DIAZ</td>\n",
       "      <td>RCEA-05-06058-2003</td>\n",
       "      <td>CIENCIAS SOCIALES</td>\n",
       "      <td>ECONOMIA</td>\n",
       "      <td>NaN</td>\n",
       "      <td>EL COLEGIO DE LA FRONTERA NORTE, A.C.</td>\n",
       "      <td>MEXICO</td>\n",
       "      <td>BAJA CALIFORNIA</td>\n",
       "      <td>DIRECCION GENERAL ACADEMICA</td>\n",
       "      <td>DIRECCION GENERAL ACADEMICA</td>\n",
       "      <td>polit public enfrent pobrez extrem mediant dis...</td>\n",
       "      <td>['Pobreza extrema' ,'Seguridad alimentaria',' ...</td>\n",
       "      <td>FELIX  ACOSTA  DIAZ</td>\n",
       "    </tr>\n",
       "  </tbody>\n",
       "</table>\n",
       "</div>"
      ],
      "text/plain": [
       "           USUARIO    CVU                                NOMBRE  \\\n",
       "0       X_jpena904    904              JUAN JOSE PE?A CABRIALES   \n",
       "1  X_hmorales22194  22194  HELDA ELEONORA DE GUADALUPE  MORALES   \n",
       "2    X_aperez58970  58970                ARTURO  PEREZ  VAZQUEZ   \n",
       "3  X_gordonez11603  11603        GERARDO MANUEL  ORDO?EZ  BARBA   \n",
       "4   X_facosta12725  12725                   FELIX  ACOSTA  DIAZ   \n",
       "\n",
       "             CVE_RCEA                                               AREA  \\\n",
       "0  RCEA-06-06773-2002  CIENCIAS FISICO MATEMATICAS Y CIENCIAS DE LA T...   \n",
       "1  RCEA-06-11606-2006  CIENCIAS FISICO MATEMATICAS Y CIENCIAS DE LA T...   \n",
       "2  RCEA-06-17175-2009  CIENCIAS FISICO MATEMATICAS Y CIENCIAS DE LA T...   \n",
       "3  RCEA-05-06026-2003                                  CIENCIAS SOCIALES   \n",
       "4  RCEA-05-06058-2003                                  CIENCIAS SOCIALES   \n",
       "\n",
       "    DISCIPLINA SUBDISCIPLINA  \\\n",
       "0  MATEMATICAS           NaN   \n",
       "1  MATEMATICAS           NaN   \n",
       "2  MATEMATICAS           NaN   \n",
       "3     ECONOMIA           NaN   \n",
       "4     ECONOMIA           NaN   \n",
       "\n",
       "                                         INSTITUCION    PAIS           ESTADO  \\\n",
       "0  CENTRO DE INVESTIGACION Y DE ESTUDIOS AVANZADO...     MEX               DF   \n",
       "1                      EL COLEGIO DE LA FRONTERA SUR  MEXICO          CHIAPAS   \n",
       "2     COLEGIO DE POSTGRADUADOS EN CIENCIAS AGRICOLAS  MEXICO         VERACRUZ   \n",
       "3              EL COLEGIO DE LA FRONTERA NORTE, A.C.  MEXICO  BAJA CALIFORNIA   \n",
       "4              EL COLEGIO DE LA FRONTERA NORTE, A.C.  MEXICO  BAJA CALIFORNIA   \n",
       "\n",
       "                                         DEPENDENCIA  \\\n",
       "0                                    UNIDAD IRAPUATO   \n",
       "1                  UNIDAD SAN CRISTOBAL DE LAS CASAS   \n",
       "2                                    CAMPUS VERACRUZ   \n",
       "3  CENTRO DE ESTUDIOS FRONTERIZOS DEL NORTE DE ME...   \n",
       "4                        DIRECCION GENERAL ACADEMICA   \n",
       "\n",
       "                                      SUBDEPENDENCIA  \\\n",
       "0         DEPARTAMENTO DE BIOTECNOLOGIA Y BIOQUIMICA   \n",
       "1                  UNIDAD SAN CRISTOBAL DE LAS CASAS   \n",
       "2                                    CAMPUS VERACRUZ   \n",
       "3  CENTRO DE ESTUDIOS FRONTERIZOS DEL NORTE DE ME...   \n",
       "4                        DIRECCION GENERAL ACADEMICA   \n",
       "\n",
       "                           DESCRIPCION_PROYECTO_join  \\\n",
       "0  mund actual alt dinam complej condicion socioa...   \n",
       "1  mund actual alt dinam complej condicion socioa...   \n",
       "2  mund actual alt dinam complej condicion socioa...   \n",
       "3  polit public enfrent pobrez extrem mediant dis...   \n",
       "4  polit public enfrent pobrez extrem mediant dis...   \n",
       "\n",
       "                                      PALABRAS_CLAVE  \\\n",
       "0  ['Inteligencia artificial' ,'Agricultura urban...   \n",
       "1  ['Inteligencia artificial' ,'Agricultura urban...   \n",
       "2  ['Inteligencia artificial' ,'Agricultura urban...   \n",
       "3  ['Pobreza extrema' ,'Seguridad alimentaria',' ...   \n",
       "4  ['Pobreza extrema' ,'Seguridad alimentaria',' ...   \n",
       "\n",
       "                              APELLIDOS  \n",
       "0              JUAN JOSE PE?A CABRIALES  \n",
       "1  HELDA ELEONORA DE GUADALUPE  MORALES  \n",
       "2                ARTURO  PEREZ  VAZQUEZ  \n",
       "3        GERARDO MANUEL  ORDO?EZ  BARBA  \n",
       "4                   FELIX  ACOSTA  DIAZ  "
      ]
     },
     "execution_count": 383,
     "metadata": {},
     "output_type": "execute_result"
    }
   ],
   "source": [
    "df_texto_eval.head()"
   ]
  },
  {
   "cell_type": "code",
   "execution_count": 384,
   "metadata": {},
   "outputs": [],
   "source": [
    "df_texto_eval.to_csv(\"./data/procesado/data_training_por_evaluador.csv\",index=False)"
   ]
  },
  {
   "cell_type": "code",
   "execution_count": 385,
   "metadata": {},
   "outputs": [
    {
     "data": {
      "text/plain": [
       "(3421, 15)"
      ]
     },
     "execution_count": 385,
     "metadata": {},
     "output_type": "execute_result"
    }
   ],
   "source": [
    "df_texto_eval.shape"
   ]
  },
  {
   "cell_type": "code",
   "execution_count": 389,
   "metadata": {},
   "outputs": [],
   "source": [
    "df_texto_eval[[\"CVU\"]].to_csv(\"./data/procesado/cvu_only.csv\",index=False)"
   ]
  },
  {
   "cell_type": "code",
   "execution_count": null,
   "metadata": {},
   "outputs": [],
   "source": []
  },
  {
   "cell_type": "code",
   "execution_count": null,
   "metadata": {},
   "outputs": [],
   "source": []
  },
  {
   "cell_type": "code",
   "execution_count": 35,
   "metadata": {},
   "outputs": [
    {
     "ename": "KeyError",
     "evalue": "'DESCRIPCION_PROYECTO_join'",
     "output_type": "error",
     "traceback": [
      "\u001b[0;31m---------------------------------------------------------------------------\u001b[0m",
      "\u001b[0;31mKeyError\u001b[0m                                  Traceback (most recent call last)",
      "\u001b[0;32m/Library/Frameworks/Python.framework/Versions/3.6/lib/python3.6/site-packages/pandas/core/indexes/base.py\u001b[0m in \u001b[0;36mget_loc\u001b[0;34m(self, key, method, tolerance)\u001b[0m\n\u001b[1;32m   2896\u001b[0m             \u001b[0;32mtry\u001b[0m\u001b[0;34m:\u001b[0m\u001b[0;34m\u001b[0m\u001b[0;34m\u001b[0m\u001b[0m\n\u001b[0;32m-> 2897\u001b[0;31m                 \u001b[0;32mreturn\u001b[0m \u001b[0mself\u001b[0m\u001b[0;34m.\u001b[0m\u001b[0m_engine\u001b[0m\u001b[0;34m.\u001b[0m\u001b[0mget_loc\u001b[0m\u001b[0;34m(\u001b[0m\u001b[0mkey\u001b[0m\u001b[0;34m)\u001b[0m\u001b[0;34m\u001b[0m\u001b[0;34m\u001b[0m\u001b[0m\n\u001b[0m\u001b[1;32m   2898\u001b[0m             \u001b[0;32mexcept\u001b[0m \u001b[0mKeyError\u001b[0m\u001b[0;34m:\u001b[0m\u001b[0;34m\u001b[0m\u001b[0;34m\u001b[0m\u001b[0m\n",
      "\u001b[0;32mpandas/_libs/index.pyx\u001b[0m in \u001b[0;36mpandas._libs.index.IndexEngine.get_loc\u001b[0;34m()\u001b[0m\n",
      "\u001b[0;32mpandas/_libs/index.pyx\u001b[0m in \u001b[0;36mpandas._libs.index.IndexEngine.get_loc\u001b[0;34m()\u001b[0m\n",
      "\u001b[0;32mpandas/_libs/hashtable_class_helper.pxi\u001b[0m in \u001b[0;36mpandas._libs.hashtable.PyObjectHashTable.get_item\u001b[0;34m()\u001b[0m\n",
      "\u001b[0;32mpandas/_libs/hashtable_class_helper.pxi\u001b[0m in \u001b[0;36mpandas._libs.hashtable.PyObjectHashTable.get_item\u001b[0;34m()\u001b[0m\n",
      "\u001b[0;31mKeyError\u001b[0m: 'DESCRIPCION_PROYECTO_join'",
      "\nDuring handling of the above exception, another exception occurred:\n",
      "\u001b[0;31mKeyError\u001b[0m                                  Traceback (most recent call last)",
      "\u001b[0;32m<ipython-input-35-bdf078be0933>\u001b[0m in \u001b[0;36m<module>\u001b[0;34m\u001b[0m\n\u001b[0;32m----> 1\u001b[0;31m \u001b[0mdf_texto_eval\u001b[0m\u001b[0;34m[\u001b[0m\u001b[0;34m\"len_text\"\u001b[0m\u001b[0;34m]\u001b[0m \u001b[0;34m=\u001b[0m \u001b[0mdf_texto_eval\u001b[0m\u001b[0;34m[\u001b[0m\u001b[0;34m\"DESCRIPCION_PROYECTO_join\"\u001b[0m\u001b[0;34m]\u001b[0m\u001b[0;34m.\u001b[0m\u001b[0mastype\u001b[0m\u001b[0;34m(\u001b[0m\u001b[0mstr\u001b[0m\u001b[0;34m)\u001b[0m\u001b[0;34m.\u001b[0m\u001b[0mstr\u001b[0m\u001b[0;34m.\u001b[0m\u001b[0msplit\u001b[0m\u001b[0;34m(\u001b[0m\u001b[0;34m)\u001b[0m\u001b[0;34m.\u001b[0m\u001b[0mstr\u001b[0m\u001b[0;34m.\u001b[0m\u001b[0mlen\u001b[0m\u001b[0;34m(\u001b[0m\u001b[0;34m)\u001b[0m\u001b[0;34m\u001b[0m\u001b[0;34m\u001b[0m\u001b[0m\n\u001b[0m\u001b[1;32m      2\u001b[0m \u001b[0;34m\u001b[0m\u001b[0m\n\u001b[1;32m      3\u001b[0m \u001b[0mdf_texto_eval\u001b[0m \u001b[0;34m=\u001b[0m \u001b[0mdf_texto_eval\u001b[0m\u001b[0;34m.\u001b[0m\u001b[0msort_values\u001b[0m\u001b[0;34m(\u001b[0m\u001b[0mby\u001b[0m\u001b[0;34m=\u001b[0m\u001b[0;34m\"len_text\"\u001b[0m\u001b[0;34m,\u001b[0m\u001b[0mascending\u001b[0m\u001b[0;34m=\u001b[0m\u001b[0;32mFalse\u001b[0m\u001b[0;34m)\u001b[0m\u001b[0;34m\u001b[0m\u001b[0;34m\u001b[0m\u001b[0m\n",
      "\u001b[0;32m/Library/Frameworks/Python.framework/Versions/3.6/lib/python3.6/site-packages/pandas/core/frame.py\u001b[0m in \u001b[0;36m__getitem__\u001b[0;34m(self, key)\u001b[0m\n\u001b[1;32m   2978\u001b[0m             \u001b[0;32mif\u001b[0m \u001b[0mself\u001b[0m\u001b[0;34m.\u001b[0m\u001b[0mcolumns\u001b[0m\u001b[0;34m.\u001b[0m\u001b[0mnlevels\u001b[0m \u001b[0;34m>\u001b[0m \u001b[0;36m1\u001b[0m\u001b[0;34m:\u001b[0m\u001b[0;34m\u001b[0m\u001b[0;34m\u001b[0m\u001b[0m\n\u001b[1;32m   2979\u001b[0m                 \u001b[0;32mreturn\u001b[0m \u001b[0mself\u001b[0m\u001b[0;34m.\u001b[0m\u001b[0m_getitem_multilevel\u001b[0m\u001b[0;34m(\u001b[0m\u001b[0mkey\u001b[0m\u001b[0;34m)\u001b[0m\u001b[0;34m\u001b[0m\u001b[0;34m\u001b[0m\u001b[0m\n\u001b[0;32m-> 2980\u001b[0;31m             \u001b[0mindexer\u001b[0m \u001b[0;34m=\u001b[0m \u001b[0mself\u001b[0m\u001b[0;34m.\u001b[0m\u001b[0mcolumns\u001b[0m\u001b[0;34m.\u001b[0m\u001b[0mget_loc\u001b[0m\u001b[0;34m(\u001b[0m\u001b[0mkey\u001b[0m\u001b[0;34m)\u001b[0m\u001b[0;34m\u001b[0m\u001b[0;34m\u001b[0m\u001b[0m\n\u001b[0m\u001b[1;32m   2981\u001b[0m             \u001b[0;32mif\u001b[0m \u001b[0mis_integer\u001b[0m\u001b[0;34m(\u001b[0m\u001b[0mindexer\u001b[0m\u001b[0;34m)\u001b[0m\u001b[0;34m:\u001b[0m\u001b[0;34m\u001b[0m\u001b[0;34m\u001b[0m\u001b[0m\n\u001b[1;32m   2982\u001b[0m                 \u001b[0mindexer\u001b[0m \u001b[0;34m=\u001b[0m \u001b[0;34m[\u001b[0m\u001b[0mindexer\u001b[0m\u001b[0;34m]\u001b[0m\u001b[0;34m\u001b[0m\u001b[0;34m\u001b[0m\u001b[0m\n",
      "\u001b[0;32m/Library/Frameworks/Python.framework/Versions/3.6/lib/python3.6/site-packages/pandas/core/indexes/base.py\u001b[0m in \u001b[0;36mget_loc\u001b[0;34m(self, key, method, tolerance)\u001b[0m\n\u001b[1;32m   2897\u001b[0m                 \u001b[0;32mreturn\u001b[0m \u001b[0mself\u001b[0m\u001b[0;34m.\u001b[0m\u001b[0m_engine\u001b[0m\u001b[0;34m.\u001b[0m\u001b[0mget_loc\u001b[0m\u001b[0;34m(\u001b[0m\u001b[0mkey\u001b[0m\u001b[0;34m)\u001b[0m\u001b[0;34m\u001b[0m\u001b[0;34m\u001b[0m\u001b[0m\n\u001b[1;32m   2898\u001b[0m             \u001b[0;32mexcept\u001b[0m \u001b[0mKeyError\u001b[0m\u001b[0;34m:\u001b[0m\u001b[0;34m\u001b[0m\u001b[0;34m\u001b[0m\u001b[0m\n\u001b[0;32m-> 2899\u001b[0;31m                 \u001b[0;32mreturn\u001b[0m \u001b[0mself\u001b[0m\u001b[0;34m.\u001b[0m\u001b[0m_engine\u001b[0m\u001b[0;34m.\u001b[0m\u001b[0mget_loc\u001b[0m\u001b[0;34m(\u001b[0m\u001b[0mself\u001b[0m\u001b[0;34m.\u001b[0m\u001b[0m_maybe_cast_indexer\u001b[0m\u001b[0;34m(\u001b[0m\u001b[0mkey\u001b[0m\u001b[0;34m)\u001b[0m\u001b[0;34m)\u001b[0m\u001b[0;34m\u001b[0m\u001b[0;34m\u001b[0m\u001b[0m\n\u001b[0m\u001b[1;32m   2900\u001b[0m         \u001b[0mindexer\u001b[0m \u001b[0;34m=\u001b[0m \u001b[0mself\u001b[0m\u001b[0;34m.\u001b[0m\u001b[0mget_indexer\u001b[0m\u001b[0;34m(\u001b[0m\u001b[0;34m[\u001b[0m\u001b[0mkey\u001b[0m\u001b[0;34m]\u001b[0m\u001b[0;34m,\u001b[0m \u001b[0mmethod\u001b[0m\u001b[0;34m=\u001b[0m\u001b[0mmethod\u001b[0m\u001b[0;34m,\u001b[0m \u001b[0mtolerance\u001b[0m\u001b[0;34m=\u001b[0m\u001b[0mtolerance\u001b[0m\u001b[0;34m)\u001b[0m\u001b[0;34m\u001b[0m\u001b[0;34m\u001b[0m\u001b[0m\n\u001b[1;32m   2901\u001b[0m         \u001b[0;32mif\u001b[0m \u001b[0mindexer\u001b[0m\u001b[0;34m.\u001b[0m\u001b[0mndim\u001b[0m \u001b[0;34m>\u001b[0m \u001b[0;36m1\u001b[0m \u001b[0;32mor\u001b[0m \u001b[0mindexer\u001b[0m\u001b[0;34m.\u001b[0m\u001b[0msize\u001b[0m \u001b[0;34m>\u001b[0m \u001b[0;36m1\u001b[0m\u001b[0;34m:\u001b[0m\u001b[0;34m\u001b[0m\u001b[0;34m\u001b[0m\u001b[0m\n",
      "\u001b[0;32mpandas/_libs/index.pyx\u001b[0m in \u001b[0;36mpandas._libs.index.IndexEngine.get_loc\u001b[0;34m()\u001b[0m\n",
      "\u001b[0;32mpandas/_libs/index.pyx\u001b[0m in \u001b[0;36mpandas._libs.index.IndexEngine.get_loc\u001b[0;34m()\u001b[0m\n",
      "\u001b[0;32mpandas/_libs/hashtable_class_helper.pxi\u001b[0m in \u001b[0;36mpandas._libs.hashtable.PyObjectHashTable.get_item\u001b[0;34m()\u001b[0m\n",
      "\u001b[0;32mpandas/_libs/hashtable_class_helper.pxi\u001b[0m in \u001b[0;36mpandas._libs.hashtable.PyObjectHashTable.get_item\u001b[0;34m()\u001b[0m\n",
      "\u001b[0;31mKeyError\u001b[0m: 'DESCRIPCION_PROYECTO_join'"
     ]
    }
   ],
   "source": [
    "df_texto_eval[\"len_text\"] = df_texto_eval[\"DESCRIPCION_PROYECTO_join\"].astype(str).str.split().str.len()\n",
    "\n",
    "df_texto_eval = df_texto_eval.sort_values(by=\"len_text\",ascending=False)"
   ]
  },
  {
   "cell_type": "code",
   "execution_count": null,
   "metadata": {},
   "outputs": [],
   "source": [
    "sns.distplot(df_texto_eval[\"len_text\"],bins=50,axlabel=\"#palabras\",label=\"Textos\",norm_hist=False,rug=True,kde=False,)\n",
    "sns.distplot(df_texto_eval[\"textos_por_eval\"],bins=50,axlabel=\"#palabras\",label=\"Textos\",norm_hist=False,rug=True,kde=False,)"
   ]
  },
  {
   "cell_type": "code",
   "execution_count": null,
   "metadata": {},
   "outputs": [],
   "source": [
    "g = sns.jointplot(x=\"len_text\", y=\"textos_por_eval\", data=df_texto_eval[df_texto_eval[\"len_text\"]<1000000], kind=\"kde\")\n",
    "g.plot_joint(plt.scatter, c=\"black\", s=4, linewidth=0.001)\n",
    "g.ax_joint.collections[0].set_alpha(0);"
   ]
  },
  {
   "cell_type": "code",
   "execution_count": null,
   "metadata": {},
   "outputs": [],
   "source": [
    "from sklearn.feature_selection import SelectKBest, chi2"
   ]
  },
  {
   "cell_type": "code",
   "execution_count": null,
   "metadata": {},
   "outputs": [],
   "source": []
  }
 ],
 "metadata": {
  "kernelspec": {
   "display_name": "Python 3",
   "language": "python",
   "name": "python3"
  },
  "language_info": {
   "codemirror_mode": {
    "name": "ipython",
    "version": 3
   },
   "file_extension": ".py",
   "mimetype": "text/x-python",
   "name": "python",
   "nbconvert_exporter": "python",
   "pygments_lexer": "ipython3",
   "version": "3.7.4"
  }
 },
 "nbformat": 4,
 "nbformat_minor": 4
}
