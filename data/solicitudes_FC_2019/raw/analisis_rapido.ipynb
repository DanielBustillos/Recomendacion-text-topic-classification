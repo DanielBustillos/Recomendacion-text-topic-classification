{
 "cells": [
  {
   "cell_type": "code",
   "execution_count": 10,
   "metadata": {},
   "outputs": [],
   "source": [
    "import pandas as pd\n"
   ]
  },
  {
   "cell_type": "code",
   "execution_count": 11,
   "metadata": {},
   "outputs": [],
   "source": [
    "df = pd.read_csv(\"./solicitudes_201912031041.csv\")"
   ]
  },
  {
   "cell_type": "code",
   "execution_count": 12,
   "metadata": {},
   "outputs": [
    {
     "data": {
      "text/plain": [
       "array(['Modalidad Grupo', 'Modalidad Sinergia', 'Modalidad Individual'],\n",
       "      dtype=object)"
      ]
     },
     "execution_count": 12,
     "metadata": {},
     "output_type": "execute_result"
    }
   ],
   "source": [
    "df[\"modalidad\"].unique()"
   ]
  },
  {
   "cell_type": "code",
   "execution_count": 13,
   "metadata": {},
   "outputs": [
    {
     "data": {
      "text/html": [
       "<div>\n",
       "<style scoped>\n",
       "    .dataframe tbody tr th:only-of-type {\n",
       "        vertical-align: middle;\n",
       "    }\n",
       "\n",
       "    .dataframe tbody tr th {\n",
       "        vertical-align: top;\n",
       "    }\n",
       "\n",
       "    .dataframe thead th {\n",
       "        text-align: right;\n",
       "    }\n",
       "</style>\n",
       "<table border=\"1\" class=\"dataframe\">\n",
       "  <thead>\n",
       "    <tr style=\"text-align: right;\">\n",
       "      <th></th>\n",
       "      <th>convocatoria</th>\n",
       "      <th>clave</th>\n",
       "      <th>proyecto_id</th>\n",
       "      <th>id_area</th>\n",
       "      <th>area</th>\n",
       "      <th>id_campo</th>\n",
       "      <th>campo</th>\n",
       "      <th>id_disciplina</th>\n",
       "      <th>disciplina</th>\n",
       "      <th>id_subdisciplina</th>\n",
       "      <th>subdisciplina</th>\n",
       "      <th>modalidad</th>\n",
       "      <th>estatus_envio</th>\n",
       "      <th>estatus_propuesta</th>\n",
       "      <th>titulo_es</th>\n",
       "    </tr>\n",
       "  </thead>\n",
       "  <tbody>\n",
       "    <tr>\n",
       "      <th>0</th>\n",
       "      <td>Ciencia de Frontera 2019</td>\n",
       "      <td>CF-MG-20191107191915010-4647203</td>\n",
       "      <td>4647203</td>\n",
       "      <td>1</td>\n",
       "      <td>Ciencias físico matemáticas y ciencias de la t...</td>\n",
       "      <td>4</td>\n",
       "      <td>Física</td>\n",
       "      <td>24</td>\n",
       "      <td>Fisica estadística</td>\n",
       "      <td>604</td>\n",
       "      <td>Otras</td>\n",
       "      <td>Modalidad Grupo</td>\n",
       "      <td>Completa</td>\n",
       "      <td>Solicitud</td>\n",
       "      <td>Metodologías de la Complejidad aplicadas al an...</td>\n",
       "    </tr>\n",
       "    <tr>\n",
       "      <th>1</th>\n",
       "      <td>Ciencia de Frontera 2019</td>\n",
       "      <td>CF-MG-20191105031440822-2574574</td>\n",
       "      <td>2574574</td>\n",
       "      <td>3</td>\n",
       "      <td>Medicina y ciencias de la salud</td>\n",
       "      <td>121</td>\n",
       "      <td>Investigación médica</td>\n",
       "      <td>837</td>\n",
       "      <td>Enfermedades infecciosas, bacteriología clínic...</td>\n",
       "      <td>4856</td>\n",
       "      <td>Enfermedades infecciosas, bacteriología clínic...</td>\n",
       "      <td>Modalidad Grupo</td>\n",
       "      <td>Completa</td>\n",
       "      <td>Solicitud</td>\n",
       "      <td>Variantes de colonias pequeñas de Staphylococc...</td>\n",
       "    </tr>\n",
       "    <tr>\n",
       "      <th>2</th>\n",
       "      <td>Ciencia de Frontera 2019</td>\n",
       "      <td>CF-MG-20191025151637887-1098668</td>\n",
       "      <td>1098668</td>\n",
       "      <td>7</td>\n",
       "      <td>Ingeniería y tecnología</td>\n",
       "      <td>32</td>\n",
       "      <td>Ingeniería</td>\n",
       "      <td>279</td>\n",
       "      <td>Ingeniería electrónica</td>\n",
       "      <td>3009</td>\n",
       "      <td>Robótica</td>\n",
       "      <td>Modalidad Grupo</td>\n",
       "      <td>Completa</td>\n",
       "      <td>Solicitud</td>\n",
       "      <td>Bicho bots: Red de Insectos Robóticos para el ...</td>\n",
       "    </tr>\n",
       "    <tr>\n",
       "      <th>3</th>\n",
       "      <td>Ciencia de Frontera 2019</td>\n",
       "      <td>CF-MG-20191018115318179-373922</td>\n",
       "      <td>373922</td>\n",
       "      <td>4</td>\n",
       "      <td>Humanidades y ciencias de la conducta</td>\n",
       "      <td>17</td>\n",
       "      <td>Pedagogía</td>\n",
       "      <td>149</td>\n",
       "      <td>Otras especialidades pedagógicas</td>\n",
       "      <td>2216</td>\n",
       "      <td>Otras</td>\n",
       "      <td>Modalidad Grupo</td>\n",
       "      <td>Completa</td>\n",
       "      <td>Solicitud</td>\n",
       "      <td>Innovación de Realidad Aumentada para el Área ...</td>\n",
       "    </tr>\n",
       "    <tr>\n",
       "      <th>4</th>\n",
       "      <td>Ciencia de Frontera 2019</td>\n",
       "      <td>CF-MG-20191105072112144-2574577</td>\n",
       "      <td>2574577</td>\n",
       "      <td>7</td>\n",
       "      <td>Ingeniería y tecnología</td>\n",
       "      <td>30</td>\n",
       "      <td>Ciencias tecnológicas</td>\n",
       "      <td>250</td>\n",
       "      <td>Otras especialidades tecnológicas</td>\n",
       "      <td>3281</td>\n",
       "      <td>Otras</td>\n",
       "      <td>Modalidad Grupo</td>\n",
       "      <td>Completa</td>\n",
       "      <td>Solicitud</td>\n",
       "      <td>Metodología para el estudio de contaminación p...</td>\n",
       "    </tr>\n",
       "  </tbody>\n",
       "</table>\n",
       "</div>"
      ],
      "text/plain": [
       "               convocatoria                            clave  proyecto_id  \\\n",
       "0  Ciencia de Frontera 2019  CF-MG-20191107191915010-4647203      4647203   \n",
       "1  Ciencia de Frontera 2019  CF-MG-20191105031440822-2574574      2574574   \n",
       "2  Ciencia de Frontera 2019  CF-MG-20191025151637887-1098668      1098668   \n",
       "3  Ciencia de Frontera 2019   CF-MG-20191018115318179-373922       373922   \n",
       "4  Ciencia de Frontera 2019  CF-MG-20191105072112144-2574577      2574577   \n",
       "\n",
       "   id_area                                               area  id_campo  \\\n",
       "0        1  Ciencias físico matemáticas y ciencias de la t...         4   \n",
       "1        3                    Medicina y ciencias de la salud       121   \n",
       "2        7                            Ingeniería y tecnología        32   \n",
       "3        4              Humanidades y ciencias de la conducta        17   \n",
       "4        7                            Ingeniería y tecnología        30   \n",
       "\n",
       "                   campo  id_disciplina  \\\n",
       "0                 Física             24   \n",
       "1   Investigación médica            837   \n",
       "2             Ingeniería            279   \n",
       "3              Pedagogía            149   \n",
       "4  Ciencias tecnológicas            250   \n",
       "\n",
       "                                          disciplina  id_subdisciplina  \\\n",
       "0                                 Fisica estadística               604   \n",
       "1  Enfermedades infecciosas, bacteriología clínic...              4856   \n",
       "2                             Ingeniería electrónica              3009   \n",
       "3                   Otras especialidades pedagógicas              2216   \n",
       "4                  Otras especialidades tecnológicas              3281   \n",
       "\n",
       "                                       subdisciplina        modalidad  \\\n",
       "0                                              Otras  Modalidad Grupo   \n",
       "1  Enfermedades infecciosas, bacteriología clínic...  Modalidad Grupo   \n",
       "2                                           Robótica  Modalidad Grupo   \n",
       "3                                              Otras  Modalidad Grupo   \n",
       "4                                              Otras  Modalidad Grupo   \n",
       "\n",
       "  estatus_envio estatus_propuesta  \\\n",
       "0      Completa         Solicitud   \n",
       "1      Completa         Solicitud   \n",
       "2      Completa         Solicitud   \n",
       "3      Completa         Solicitud   \n",
       "4      Completa         Solicitud   \n",
       "\n",
       "                                           titulo_es  \n",
       "0  Metodologías de la Complejidad aplicadas al an...  \n",
       "1  Variantes de colonias pequeñas de Staphylococc...  \n",
       "2  Bicho bots: Red de Insectos Robóticos para el ...  \n",
       "3  Innovación de Realidad Aumentada para el Área ...  \n",
       "4  Metodología para el estudio de contaminación p...  "
      ]
     },
     "execution_count": 13,
     "metadata": {},
     "output_type": "execute_result"
    }
   ],
   "source": [
    "df.iloc[:5, :15]"
   ]
  },
  {
   "cell_type": "code",
   "execution_count": 14,
   "metadata": {},
   "outputs": [
    {
     "data": {
      "text/plain": [
       "Index(['convocatoria', 'clave', 'proyecto_id', 'id_area', 'area', 'id_campo',\n",
       "       'campo', 'id_disciplina', 'disciplina', 'id_subdisciplina',\n",
       "       'subdisciplina', 'modalidad', 'estatus_envio', 'estatus_propuesta',\n",
       "       'titulo_es', 'resumen_es', 'resumen_en', 'razon_social', 'reniecyt',\n",
       "       'entidad_federativa', 'tipo_institucion', 'rt_cvu', 'rt_nombre',\n",
       "       'rt_apellido_paterno', 'rt_apellido_materno', 'rt_correo',\n",
       "       'rt_nivelsni', 'ra_cvu', 'ra_nombre', 'ra_apellido_paterno',\n",
       "       'ra_apellido_materno', 'ra_correo', 'ra_nivelsni', 'rl_cvu',\n",
       "       'rl_nombre', 'rl_apellido_paterno', 'rl_apellido_materno', 'rl_correo',\n",
       "       'rl_nivelsni', 'fecha_envio', 'palabrasclave', 'pc1', 'pc2', 'pc3',\n",
       "       'pc4', 'pc5', 'pc6', 'pc7', 'pc8', 'pc9', 'pc10', 'pc11', 'pc12',\n",
       "       'pc13', 'pc14', 'pc15', 'pc16', 'pc17'],\n",
       "      dtype='object')"
      ]
     },
     "execution_count": 14,
     "metadata": {},
     "output_type": "execute_result"
    }
   ],
   "source": [
    "df.columns"
   ]
  },
  {
   "cell_type": "code",
   "execution_count": null,
   "metadata": {},
   "outputs": [],
   "source": []
  }
 ],
 "metadata": {
  "kernelspec": {
   "display_name": "Python 3",
   "language": "python",
   "name": "python3"
  },
  "language_info": {
   "codemirror_mode": {
    "name": "ipython",
    "version": 3
   },
   "file_extension": ".py",
   "mimetype": "text/x-python",
   "name": "python",
   "nbconvert_exporter": "python",
   "pygments_lexer": "ipython3",
   "version": "3.7.3"
  }
 },
 "nbformat": 4,
 "nbformat_minor": 2
}
