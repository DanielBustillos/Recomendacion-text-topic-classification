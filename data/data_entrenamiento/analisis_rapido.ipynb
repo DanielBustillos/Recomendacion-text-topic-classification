{
 "cells": [
  {
   "cell_type": "code",
   "execution_count": 1,
   "metadata": {},
   "outputs": [],
   "source": [
    "from joblib import load, dump\n",
    "import pandas as pd"
   ]
  },
  {
   "cell_type": "code",
   "execution_count": 11,
   "metadata": {},
   "outputs": [],
   "source": [
    "df_training = load(\"./datos_training_n_eval_5_sample.pkl\")"
   ]
  },
  {
   "cell_type": "code",
   "execution_count": 16,
   "metadata": {},
   "outputs": [],
   "source": [
    "df_training = pd.read_csv(\"./data_training.csv\")"
   ]
  },
  {
   "cell_type": "code",
   "execution_count": 17,
   "metadata": {},
   "outputs": [
    {
     "data": {
      "text/plain": [
       "(8188, 19)"
      ]
     },
     "execution_count": 17,
     "metadata": {},
     "output_type": "execute_result"
    }
   ],
   "source": [
    "df_training.shape"
   ]
  },
  {
   "cell_type": "code",
   "execution_count": 18,
   "metadata": {},
   "outputs": [
    {
     "data": {
      "text/html": [
       "<div>\n",
       "<style scoped>\n",
       "    .dataframe tbody tr th:only-of-type {\n",
       "        vertical-align: middle;\n",
       "    }\n",
       "\n",
       "    .dataframe tbody tr th {\n",
       "        vertical-align: top;\n",
       "    }\n",
       "\n",
       "    .dataframe thead th {\n",
       "        text-align: right;\n",
       "    }\n",
       "</style>\n",
       "<table border=\"1\" class=\"dataframe\">\n",
       "  <thead>\n",
       "    <tr style=\"text-align: right;\">\n",
       "      <th></th>\n",
       "      <th>ID_PROYECTO</th>\n",
       "      <th>NUMERO_CONVOCATORIA</th>\n",
       "      <th>ANIO</th>\n",
       "      <th>USUARIO</th>\n",
       "      <th>CVU</th>\n",
       "      <th>NOMBRE</th>\n",
       "      <th>CVE_RCEA</th>\n",
       "      <th>AREA</th>\n",
       "      <th>DISCIPLINA</th>\n",
       "      <th>SUBDISCIPLINA</th>\n",
       "      <th>INSTITUCION</th>\n",
       "      <th>PAIS</th>\n",
       "      <th>ESTADO</th>\n",
       "      <th>DEPENDENCIA</th>\n",
       "      <th>SUBDEPENDENCIA</th>\n",
       "      <th>DESCRIPCION_PROYECTO</th>\n",
       "      <th>PALABRAS_CLAVE1</th>\n",
       "      <th>PALABRAS_CLAVE2</th>\n",
       "      <th>PALABRAS_CLAVE3</th>\n",
       "    </tr>\n",
       "  </thead>\n",
       "  <tbody>\n",
       "    <tr>\n",
       "      <th>0</th>\n",
       "      <td>1105</td>\n",
       "      <td>PROBLEMAS-2015-01</td>\n",
       "      <td>2015</td>\n",
       "      <td>X_jpena904</td>\n",
       "      <td>904</td>\n",
       "      <td>JUAN JOSE PE?A CABRIALES</td>\n",
       "      <td>RCEA-06-06773-2002</td>\n",
       "      <td>CIENCIAS FISICO MATEMATICAS Y CIENCIAS DE LA T...</td>\n",
       "      <td>MATEMATICAS</td>\n",
       "      <td>NaN</td>\n",
       "      <td>CENTRO DE INVESTIGACION Y DE ESTUDIOS AVANZADO...</td>\n",
       "      <td>MEX</td>\n",
       "      <td>DF</td>\n",
       "      <td>UNIDAD IRAPUATO</td>\n",
       "      <td>DEPARTAMENTO DE BIOTECNOLOGIA Y BIOQUIMICA</td>\n",
       "      <td>mund actual alt dinam complej condicion socioa...</td>\n",
       "      <td>Inteligencia artificial</td>\n",
       "      <td>Agricultura urbana y periurbana</td>\n",
       "      <td>Sistema de soporte de decisiones</td>\n",
       "    </tr>\n",
       "    <tr>\n",
       "      <th>1</th>\n",
       "      <td>1105</td>\n",
       "      <td>PROBLEMAS-2015-01</td>\n",
       "      <td>2015</td>\n",
       "      <td>X_hmorales22194</td>\n",
       "      <td>22194</td>\n",
       "      <td>HELDA ELEONORA DE GUADALUPE  MORALES</td>\n",
       "      <td>RCEA-06-11606-2006</td>\n",
       "      <td>CIENCIAS FISICO MATEMATICAS Y CIENCIAS DE LA T...</td>\n",
       "      <td>MATEMATICAS</td>\n",
       "      <td>NaN</td>\n",
       "      <td>EL COLEGIO DE LA FRONTERA SUR</td>\n",
       "      <td>MEXICO</td>\n",
       "      <td>CHIAPAS</td>\n",
       "      <td>UNIDAD SAN CRISTOBAL DE LAS CASAS</td>\n",
       "      <td>UNIDAD SAN CRISTOBAL DE LAS CASAS</td>\n",
       "      <td>mund actual alt dinam complej condicion socioa...</td>\n",
       "      <td>Inteligencia artificial</td>\n",
       "      <td>Agricultura urbana y periurbana</td>\n",
       "      <td>Sistema de soporte de decisiones</td>\n",
       "    </tr>\n",
       "    <tr>\n",
       "      <th>2</th>\n",
       "      <td>1105</td>\n",
       "      <td>PROBLEMAS-2015-01</td>\n",
       "      <td>2015</td>\n",
       "      <td>X_aperez58970</td>\n",
       "      <td>58970</td>\n",
       "      <td>ARTURO  PEREZ  VAZQUEZ</td>\n",
       "      <td>RCEA-06-17175-2009</td>\n",
       "      <td>CIENCIAS FISICO MATEMATICAS Y CIENCIAS DE LA T...</td>\n",
       "      <td>MATEMATICAS</td>\n",
       "      <td>NaN</td>\n",
       "      <td>COLEGIO DE POSTGRADUADOS EN CIENCIAS AGRICOLAS</td>\n",
       "      <td>MEXICO</td>\n",
       "      <td>VERACRUZ</td>\n",
       "      <td>CAMPUS VERACRUZ</td>\n",
       "      <td>CAMPUS VERACRUZ</td>\n",
       "      <td>mund actual alt dinam complej condicion socioa...</td>\n",
       "      <td>Inteligencia artificial</td>\n",
       "      <td>Agricultura urbana y periurbana</td>\n",
       "      <td>Sistema de soporte de decisiones</td>\n",
       "    </tr>\n",
       "    <tr>\n",
       "      <th>3</th>\n",
       "      <td>1775</td>\n",
       "      <td>PROBLEMAS-2015-01</td>\n",
       "      <td>2015</td>\n",
       "      <td>X_gordonez11603</td>\n",
       "      <td>11603</td>\n",
       "      <td>GERARDO MANUEL  ORDO?EZ  BARBA</td>\n",
       "      <td>RCEA-05-06026-2003</td>\n",
       "      <td>CIENCIAS SOCIALES</td>\n",
       "      <td>ECONOMIA</td>\n",
       "      <td>NaN</td>\n",
       "      <td>EL COLEGIO DE LA FRONTERA NORTE, A.C.</td>\n",
       "      <td>MEXICO</td>\n",
       "      <td>BAJA CALIFORNIA</td>\n",
       "      <td>CENTRO DE ESTUDIOS FRONTERIZOS DEL NORTE DE ME...</td>\n",
       "      <td>CENTRO DE ESTUDIOS FRONTERIZOS DEL NORTE DE ME...</td>\n",
       "      <td>polit public enfrent pobrez extrem mediant dis...</td>\n",
       "      <td>Pobreza extrema</td>\n",
       "      <td>Seguridad alimentaria</td>\n",
       "      <td>Perdidas y desperdicios de alimentos</td>\n",
       "    </tr>\n",
       "    <tr>\n",
       "      <th>4</th>\n",
       "      <td>1775</td>\n",
       "      <td>PROBLEMAS-2015-01</td>\n",
       "      <td>2015</td>\n",
       "      <td>X_facosta12725</td>\n",
       "      <td>12725</td>\n",
       "      <td>FELIX  ACOSTA  DIAZ</td>\n",
       "      <td>RCEA-05-06058-2003</td>\n",
       "      <td>CIENCIAS SOCIALES</td>\n",
       "      <td>ECONOMIA</td>\n",
       "      <td>NaN</td>\n",
       "      <td>EL COLEGIO DE LA FRONTERA NORTE, A.C.</td>\n",
       "      <td>MEXICO</td>\n",
       "      <td>BAJA CALIFORNIA</td>\n",
       "      <td>DIRECCION GENERAL ACADEMICA</td>\n",
       "      <td>DIRECCION GENERAL ACADEMICA</td>\n",
       "      <td>polit public enfrent pobrez extrem mediant dis...</td>\n",
       "      <td>Pobreza extrema</td>\n",
       "      <td>Seguridad alimentaria</td>\n",
       "      <td>Perdidas y desperdicios de alimentos</td>\n",
       "    </tr>\n",
       "  </tbody>\n",
       "</table>\n",
       "</div>"
      ],
      "text/plain": [
       "   ID_PROYECTO NUMERO_CONVOCATORIA  ANIO          USUARIO    CVU  \\\n",
       "0         1105   PROBLEMAS-2015-01  2015       X_jpena904    904   \n",
       "1         1105   PROBLEMAS-2015-01  2015  X_hmorales22194  22194   \n",
       "2         1105   PROBLEMAS-2015-01  2015    X_aperez58970  58970   \n",
       "3         1775   PROBLEMAS-2015-01  2015  X_gordonez11603  11603   \n",
       "4         1775   PROBLEMAS-2015-01  2015   X_facosta12725  12725   \n",
       "\n",
       "                                 NOMBRE            CVE_RCEA  \\\n",
       "0              JUAN JOSE PE?A CABRIALES  RCEA-06-06773-2002   \n",
       "1  HELDA ELEONORA DE GUADALUPE  MORALES  RCEA-06-11606-2006   \n",
       "2                ARTURO  PEREZ  VAZQUEZ  RCEA-06-17175-2009   \n",
       "3        GERARDO MANUEL  ORDO?EZ  BARBA  RCEA-05-06026-2003   \n",
       "4                   FELIX  ACOSTA  DIAZ  RCEA-05-06058-2003   \n",
       "\n",
       "                                                AREA   DISCIPLINA  \\\n",
       "0  CIENCIAS FISICO MATEMATICAS Y CIENCIAS DE LA T...  MATEMATICAS   \n",
       "1  CIENCIAS FISICO MATEMATICAS Y CIENCIAS DE LA T...  MATEMATICAS   \n",
       "2  CIENCIAS FISICO MATEMATICAS Y CIENCIAS DE LA T...  MATEMATICAS   \n",
       "3                                  CIENCIAS SOCIALES     ECONOMIA   \n",
       "4                                  CIENCIAS SOCIALES     ECONOMIA   \n",
       "\n",
       "  SUBDISCIPLINA                                        INSTITUCION    PAIS  \\\n",
       "0           NaN  CENTRO DE INVESTIGACION Y DE ESTUDIOS AVANZADO...     MEX   \n",
       "1           NaN                      EL COLEGIO DE LA FRONTERA SUR  MEXICO   \n",
       "2           NaN     COLEGIO DE POSTGRADUADOS EN CIENCIAS AGRICOLAS  MEXICO   \n",
       "3           NaN              EL COLEGIO DE LA FRONTERA NORTE, A.C.  MEXICO   \n",
       "4           NaN              EL COLEGIO DE LA FRONTERA NORTE, A.C.  MEXICO   \n",
       "\n",
       "            ESTADO                                        DEPENDENCIA  \\\n",
       "0               DF                                    UNIDAD IRAPUATO   \n",
       "1          CHIAPAS                  UNIDAD SAN CRISTOBAL DE LAS CASAS   \n",
       "2         VERACRUZ                                    CAMPUS VERACRUZ   \n",
       "3  BAJA CALIFORNIA  CENTRO DE ESTUDIOS FRONTERIZOS DEL NORTE DE ME...   \n",
       "4  BAJA CALIFORNIA                        DIRECCION GENERAL ACADEMICA   \n",
       "\n",
       "                                      SUBDEPENDENCIA  \\\n",
       "0         DEPARTAMENTO DE BIOTECNOLOGIA Y BIOQUIMICA   \n",
       "1                  UNIDAD SAN CRISTOBAL DE LAS CASAS   \n",
       "2                                    CAMPUS VERACRUZ   \n",
       "3  CENTRO DE ESTUDIOS FRONTERIZOS DEL NORTE DE ME...   \n",
       "4                        DIRECCION GENERAL ACADEMICA   \n",
       "\n",
       "                                DESCRIPCION_PROYECTO          PALABRAS_CLAVE1  \\\n",
       "0  mund actual alt dinam complej condicion socioa...  Inteligencia artificial   \n",
       "1  mund actual alt dinam complej condicion socioa...  Inteligencia artificial   \n",
       "2  mund actual alt dinam complej condicion socioa...  Inteligencia artificial   \n",
       "3  polit public enfrent pobrez extrem mediant dis...          Pobreza extrema   \n",
       "4  polit public enfrent pobrez extrem mediant dis...          Pobreza extrema   \n",
       "\n",
       "                   PALABRAS_CLAVE2                       PALABRAS_CLAVE3  \n",
       "0  Agricultura urbana y periurbana      Sistema de soporte de decisiones  \n",
       "1  Agricultura urbana y periurbana      Sistema de soporte de decisiones  \n",
       "2  Agricultura urbana y periurbana      Sistema de soporte de decisiones  \n",
       "3            Seguridad alimentaria  Perdidas y desperdicios de alimentos  \n",
       "4            Seguridad alimentaria  Perdidas y desperdicios de alimentos  "
      ]
     },
     "execution_count": 18,
     "metadata": {},
     "output_type": "execute_result"
    }
   ],
   "source": [
    "df_training.head()"
   ]
  },
  {
   "cell_type": "code",
   "execution_count": 19,
   "metadata": {},
   "outputs": [
    {
     "data": {
      "text/plain": [
       "3421"
      ]
     },
     "execution_count": 19,
     "metadata": {},
     "output_type": "execute_result"
    }
   ],
   "source": [
    "df_training[\"CVU\"].nunique()"
   ]
  },
  {
   "cell_type": "code",
   "execution_count": null,
   "metadata": {},
   "outputs": [],
   "source": [
    "df_training[]"
   ]
  },
  {
   "cell_type": "code",
   "execution_count": 55,
   "metadata": {},
   "outputs": [
    {
     "data": {
      "text/plain": [
       "(87350, 3)"
      ]
     },
     "execution_count": 55,
     "metadata": {},
     "output_type": "execute_result"
    }
   ],
   "source": [
    "df_training_duplicates = df_training[[\"ID_PROYECTO\", \"NUMERO_CONVOCATORIA\", \"ANIO\"]].drop_duplicates()\n",
    "df_training_duplicates.shape"
   ]
  },
  {
   "cell_type": "code",
   "execution_count": 56,
   "metadata": {},
   "outputs": [
    {
     "data": {
      "text/plain": [
       "(87350, 3)"
      ]
     },
     "execution_count": 56,
     "metadata": {},
     "output_type": "execute_result"
    }
   ],
   "source": [
    "df_training_duplicates = df_training[[\"ID_PROYECTO\", \"NUMERO_CONVOCATORIA\", \"ANIO\"]].drop_duplicates()\n",
    "df_training_duplicates.shape"
   ]
  },
  {
   "cell_type": "code",
   "execution_count": 57,
   "metadata": {},
   "outputs": [
    {
     "data": {
      "text/html": [
       "<div>\n",
       "<style scoped>\n",
       "    .dataframe tbody tr th:only-of-type {\n",
       "        vertical-align: middle;\n",
       "    }\n",
       "\n",
       "    .dataframe tbody tr th {\n",
       "        vertical-align: top;\n",
       "    }\n",
       "\n",
       "    .dataframe thead th {\n",
       "        text-align: right;\n",
       "    }\n",
       "</style>\n",
       "<table border=\"1\" class=\"dataframe\">\n",
       "  <thead>\n",
       "    <tr style=\"text-align: right;\">\n",
       "      <th></th>\n",
       "      <th>ID_PROYECTO</th>\n",
       "      <th>NUMERO_CONVOCATORIA</th>\n",
       "      <th>ANIO</th>\n",
       "    </tr>\n",
       "  </thead>\n",
       "  <tbody>\n",
       "    <tr>\n",
       "      <th>0</th>\n",
       "      <td>619</td>\n",
       "      <td>PROBLEMAS-2015-01</td>\n",
       "      <td>2015</td>\n",
       "    </tr>\n",
       "    <tr>\n",
       "      <th>3</th>\n",
       "      <td>1779</td>\n",
       "      <td>PROBLEMAS-2015-01</td>\n",
       "      <td>2015</td>\n",
       "    </tr>\n",
       "    <tr>\n",
       "      <th>8</th>\n",
       "      <td>109898</td>\n",
       "      <td>C0003</td>\n",
       "      <td>2000</td>\n",
       "    </tr>\n",
       "    <tr>\n",
       "      <th>12</th>\n",
       "      <td>112657</td>\n",
       "      <td>C0003</td>\n",
       "      <td>2000</td>\n",
       "    </tr>\n",
       "    <tr>\n",
       "      <th>14</th>\n",
       "      <td>112671</td>\n",
       "      <td>C0003</td>\n",
       "      <td>2000</td>\n",
       "    </tr>\n",
       "  </tbody>\n",
       "</table>\n",
       "</div>"
      ],
      "text/plain": [
       "    ID_PROYECTO NUMERO_CONVOCATORIA  ANIO\n",
       "0           619   PROBLEMAS-2015-01  2015\n",
       "3          1779   PROBLEMAS-2015-01  2015\n",
       "8        109898               C0003  2000\n",
       "12       112657               C0003  2000\n",
       "14       112671               C0003  2000"
      ]
     },
     "execution_count": 57,
     "metadata": {},
     "output_type": "execute_result"
    }
   ],
   "source": [
    "df_training_duplicates.head()"
   ]
  },
  {
   "cell_type": "code",
   "execution_count": 58,
   "metadata": {},
   "outputs": [
    {
     "data": {
      "text/plain": [
       "(86210, 1)"
      ]
     },
     "execution_count": 58,
     "metadata": {},
     "output_type": "execute_result"
    }
   ],
   "source": [
    "df_training_duplicates = df_training_duplicates[[\"ID_PROYECTO\"]].drop_duplicates()\n",
    "df_training_duplicates.shape"
   ]
  },
  {
   "cell_type": "code",
   "execution_count": 7,
   "metadata": {},
   "outputs": [
    {
     "data": {
      "text/plain": [
       "(8188, 19)"
      ]
     },
     "execution_count": 7,
     "metadata": {},
     "output_type": "execute_result"
    }
   ],
   "source": [
    "df = pd.read_csv(\"./data_training.csv\")\n",
    "df.shape"
   ]
  },
  {
   "cell_type": "code",
   "execution_count": 8,
   "metadata": {},
   "outputs": [],
   "source": [
    "df = df[[\"NOMBRE\", \"ID_PROYECTO\", \"NUMERO_CONVOCATORIA\", \"ANIO\", \"CVU\"]]"
   ]
  },
  {
   "cell_type": "code",
   "execution_count": 9,
   "metadata": {},
   "outputs": [
    {
     "name": "stdout",
     "output_type": "stream",
     "text": [
      "2397\n"
     ]
    }
   ],
   "source": [
    "print(df[\"ID_PROYECTO\"].nunique())\n",
    "\n",
    "    "
   ]
  },
  {
   "cell_type": "code",
   "execution_count": 10,
   "metadata": {},
   "outputs": [
    {
     "name": "stdout",
     "output_type": "stream",
     "text": [
      "3421\n"
     ]
    }
   ],
   "source": [
    "print(df[\"CVU\"].nunique())\n"
   ]
  },
  {
   "cell_type": "code",
   "execution_count": 5,
   "metadata": {},
   "outputs": [
    {
     "data": {
      "text/html": [
       "<div>\n",
       "<style scoped>\n",
       "    .dataframe tbody tr th:only-of-type {\n",
       "        vertical-align: middle;\n",
       "    }\n",
       "\n",
       "    .dataframe tbody tr th {\n",
       "        vertical-align: top;\n",
       "    }\n",
       "\n",
       "    .dataframe thead th {\n",
       "        text-align: right;\n",
       "    }\n",
       "</style>\n",
       "<table border=\"1\" class=\"dataframe\">\n",
       "  <thead>\n",
       "    <tr style=\"text-align: right;\">\n",
       "      <th></th>\n",
       "      <th>NOMBRE</th>\n",
       "      <th>ID_PROYECTO</th>\n",
       "      <th>NUMERO_CONVOCATORIA</th>\n",
       "      <th>ANIO</th>\n",
       "      <th>CVU</th>\n",
       "    </tr>\n",
       "  </thead>\n",
       "  <tbody>\n",
       "    <tr>\n",
       "      <th>0</th>\n",
       "      <td>JUAN JOSE PE?A CABRIALES</td>\n",
       "      <td>1105</td>\n",
       "      <td>PROBLEMAS-2015-01</td>\n",
       "      <td>2015</td>\n",
       "      <td>904</td>\n",
       "    </tr>\n",
       "    <tr>\n",
       "      <th>1</th>\n",
       "      <td>HELDA ELEONORA DE GUADALUPE  MORALES</td>\n",
       "      <td>1105</td>\n",
       "      <td>PROBLEMAS-2015-01</td>\n",
       "      <td>2015</td>\n",
       "      <td>22194</td>\n",
       "    </tr>\n",
       "    <tr>\n",
       "      <th>2</th>\n",
       "      <td>ARTURO  PEREZ  VAZQUEZ</td>\n",
       "      <td>1105</td>\n",
       "      <td>PROBLEMAS-2015-01</td>\n",
       "      <td>2015</td>\n",
       "      <td>58970</td>\n",
       "    </tr>\n",
       "    <tr>\n",
       "      <th>3</th>\n",
       "      <td>GERARDO MANUEL  ORDO?EZ  BARBA</td>\n",
       "      <td>1775</td>\n",
       "      <td>PROBLEMAS-2015-01</td>\n",
       "      <td>2015</td>\n",
       "      <td>11603</td>\n",
       "    </tr>\n",
       "    <tr>\n",
       "      <th>4</th>\n",
       "      <td>FELIX  ACOSTA  DIAZ</td>\n",
       "      <td>1775</td>\n",
       "      <td>PROBLEMAS-2015-01</td>\n",
       "      <td>2015</td>\n",
       "      <td>12725</td>\n",
       "    </tr>\n",
       "    <tr>\n",
       "      <th>...</th>\n",
       "      <td>...</td>\n",
       "      <td>...</td>\n",
       "      <td>...</td>\n",
       "      <td>...</td>\n",
       "      <td>...</td>\n",
       "    </tr>\n",
       "    <tr>\n",
       "      <th>8183</th>\n",
       "      <td>GUADALUPE BEATRIZ XOCONOSTLE CAZARES</td>\n",
       "      <td>6227</td>\n",
       "      <td>PROBLEMAS-2017-01</td>\n",
       "      <td>2017</td>\n",
       "      <td>9302</td>\n",
       "    </tr>\n",
       "    <tr>\n",
       "      <th>8184</th>\n",
       "      <td>GUADALUPE BEATRIZ XOCONOSTLE CAZARES</td>\n",
       "      <td>6406</td>\n",
       "      <td>PROBLEMAS-2017-01</td>\n",
       "      <td>2017</td>\n",
       "      <td>9302</td>\n",
       "    </tr>\n",
       "    <tr>\n",
       "      <th>8185</th>\n",
       "      <td>ADRIEN GALLOU</td>\n",
       "      <td>6406</td>\n",
       "      <td>PROBLEMAS-2017-01</td>\n",
       "      <td>2017</td>\n",
       "      <td>448860</td>\n",
       "    </tr>\n",
       "    <tr>\n",
       "      <th>8186</th>\n",
       "      <td>RUY LOPEZ RIDAURA</td>\n",
       "      <td>86</td>\n",
       "      <td>PROBLEMAS-2015-01</td>\n",
       "      <td>2015</td>\n",
       "      <td>89555</td>\n",
       "    </tr>\n",
       "    <tr>\n",
       "      <th>8187</th>\n",
       "      <td>BETTY SOLEDAD  MANRIQUE  ESPINOZA</td>\n",
       "      <td>86</td>\n",
       "      <td>PROBLEMAS-2015-01</td>\n",
       "      <td>2015</td>\n",
       "      <td>179969</td>\n",
       "    </tr>\n",
       "  </tbody>\n",
       "</table>\n",
       "<p>8188 rows × 5 columns</p>\n",
       "</div>"
      ],
      "text/plain": [
       "                                    NOMBRE  ID_PROYECTO NUMERO_CONVOCATORIA  \\\n",
       "0                 JUAN JOSE PE?A CABRIALES         1105   PROBLEMAS-2015-01   \n",
       "1     HELDA ELEONORA DE GUADALUPE  MORALES         1105   PROBLEMAS-2015-01   \n",
       "2                   ARTURO  PEREZ  VAZQUEZ         1105   PROBLEMAS-2015-01   \n",
       "3           GERARDO MANUEL  ORDO?EZ  BARBA         1775   PROBLEMAS-2015-01   \n",
       "4                      FELIX  ACOSTA  DIAZ         1775   PROBLEMAS-2015-01   \n",
       "...                                    ...          ...                 ...   \n",
       "8183  GUADALUPE BEATRIZ XOCONOSTLE CAZARES         6227   PROBLEMAS-2017-01   \n",
       "8184  GUADALUPE BEATRIZ XOCONOSTLE CAZARES         6406   PROBLEMAS-2017-01   \n",
       "8185                        ADRIEN GALLOU          6406   PROBLEMAS-2017-01   \n",
       "8186                     RUY LOPEZ RIDAURA           86   PROBLEMAS-2015-01   \n",
       "8187     BETTY SOLEDAD  MANRIQUE  ESPINOZA           86   PROBLEMAS-2015-01   \n",
       "\n",
       "      ANIO     CVU  \n",
       "0     2015     904  \n",
       "1     2015   22194  \n",
       "2     2015   58970  \n",
       "3     2015   11603  \n",
       "4     2015   12725  \n",
       "...    ...     ...  \n",
       "8183  2017    9302  \n",
       "8184  2017    9302  \n",
       "8185  2017  448860  \n",
       "8186  2015   89555  \n",
       "8187  2015  179969  \n",
       "\n",
       "[8188 rows x 5 columns]"
      ]
     },
     "execution_count": 5,
     "metadata": {},
     "output_type": "execute_result"
    }
   ],
   "source": [
    "df"
   ]
  },
  {
   "cell_type": "code",
   "execution_count": 6,
   "metadata": {},
   "outputs": [
    {
     "data": {
      "text/plain": [
       "3421"
      ]
     },
     "execution_count": 6,
     "metadata": {},
     "output_type": "execute_result"
    }
   ],
   "source": [
    "df[\"CVU\"].nunique()"
   ]
  },
  {
   "cell_type": "code",
   "execution_count": null,
   "metadata": {},
   "outputs": [],
   "source": []
  }
 ],
 "metadata": {
  "kernelspec": {
   "display_name": "Python 3",
   "language": "python",
   "name": "python3"
  },
  "language_info": {
   "codemirror_mode": {
    "name": "ipython",
    "version": 3
   },
   "file_extension": ".py",
   "mimetype": "text/x-python",
   "name": "python",
   "nbconvert_exporter": "python",
   "pygments_lexer": "ipython3",
   "version": "3.7.3"
  }
 },
 "nbformat": 4,
 "nbformat_minor": 2
}
