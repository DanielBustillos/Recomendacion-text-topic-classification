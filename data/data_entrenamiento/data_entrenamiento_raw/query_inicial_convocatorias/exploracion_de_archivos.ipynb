{
 "cells": [
  {
   "cell_type": "code",
   "execution_count": 1,
   "metadata": {},
   "outputs": [],
   "source": [
    "import pandas as pd\n",
    "import glob"
   ]
  },
  {
   "cell_type": "code",
   "execution_count": 13,
   "metadata": {},
   "outputs": [],
   "source": [
    "l = [pd.read_csv(filename) for filename in glob.glob(\"./csv_sample/*.csv\")]"
   ]
  },
  {
   "cell_type": "code",
   "execution_count": 14,
   "metadata": {},
   "outputs": [],
   "source": [
    "nombre_archivo = [filename for filename in glob.glob(\"./csv_sample/*.csv\")]"
   ]
  },
  {
   "cell_type": "code",
   "execution_count": 19,
   "metadata": {},
   "outputs": [
    {
     "name": "stdout",
     "output_type": "stream",
     "text": [
      "./FONDOS_proyecto_6.csv ,ID_PROYECTO,PLAN_TRABAJO,DESCRIPCION_INFRAESTRUCTURA,JUSTIFICACION_INFRA,IMPACTO_INFRA,FACTIBILIDAD_SOCIOECO_INFRA,DESC_TIPO_INFRAESTRUCTURA\n",
      "\n",
      "./PN_proyecto_7.csv ,ID_PROYECTO,NUMERO_CONVOCATORIA,ANIO,ID_CORESPONSABLE_TECNICO,CVU_CORESPONSABLE_TECNICO,USUARIO_CORESPONSABLE,NOMBRE_CORESPONSABLE_TECNICO,PRIMER_APELLIDO_CORES_TECNICO,SEGUNDO_APELLIDO_CORES_TECNICO,ES_RESPONSABLE_TECNICO\n",
      "\n",
      "./PN_proyecto_6.csv ,ID_PROYECTO,NUMERO_CONVOCATORIA,ANIO,DESCRIPCION_PROYECTO\n",
      "\n",
      "./FONDOS_proyecto_7.csv ,ID_PROYECTO,PLAN_TRABAJO,RAZON_AREA_FORMACION,RAZON_INSTITUCION_FORMACION,RAZON_PROGRAMA\n",
      "\n",
      "./FONDOS_proyecto_5.csv ,ID_PROYECTO,DESCRIPCION_IMPACTO\n",
      "\n",
      "./PN_proyecto_4.csv ,ID_PROYECTO,NUMERO_CONVOCATORIA,ANIO,DESCRIPCION_PROYECTO_FASE\n",
      "\n",
      "./FOSEC_SOLICITUD_PROYECTO.csv ,ID_PROYECTO,NOMBRE_CONVOCATORIA,TITULO_CONVOCATORIA\n",
      "\n",
      "./PN_proyecto_5.csv ,ID_PROYECTO,NUMERO_CONVOCATORIA,ANIO,PRESUPUESTO_SOLICITADO,PRESUPUESTO_SOLICITADO.1\n",
      "\n",
      "./FONDOS_proyecto_4.csv ,ID_PROYECTO,OBJETIVO,TIPO_OBJETIVO\n",
      "\n",
      "./PN_proyecto_1.csv ,ID_PROYECTO,NUMERO_CONVOCATORIA,ANIO,TITULO,NOMBRE_RESPONSABLE,PRIMER_APELLIDO,SEGUNDO_APELLIDO,USUARIO,PALABRAS_CLAVE1,PALABRAS_CLAVE2,PALABRAS_CLAVE3,DESCRIPCION_CONVOCATORIA,SUBDISCIPLINA,DISCIPLINA,AREA,DICTAMEN,DESCRIPCION,AUTORIZADO,FECHA_AUTORIZACION,ESTATUS_FORMALIZACION,DESCRIPCION_PROYECTO_FORM,NOMBRE_INSTITUCION\n",
      "\n",
      "./FONDOS_proyecto_1.csv ,ID_PROYECTO,TITULO,RESUMEN_PROYECTO,ESTRATEGIA_EJECUCION,JUSTIFICACION_PROYECTO,TITULO_PREPROPUESTA,PALABRA_CLAVE_1,PALABRA_CLAVE_2,PALABRA_CLAVE_3,PLAN_EXPLOTACION,ESTRUCTURA_ORGANIZACIONAL,VALOR_TOTAL_PROYECTO,EFECTOS_ESPERADOS,HIPOTESIS,ESPECIALIDAD,CVE_SUBDISCIPLINA,DESC_SUBDISCIPLINA,CVE_AREA_CONOCIMIENTO,DESC_AREA_CONOCIMIENTO,CVE_AREA_CONOCIMIENTO_CB,DESC_AREA_CONOCIMIENTO_CB,CVE_AREA_DESARROLLO,DESC_AREA_DESARROLLO,CVE_AREA_ESTRATEG_PECITI,DESC_AREA_ESTRATEG_PECITI,CVE_TIPO_INVESTIGACION_GEN,DESC_TIPO_INVESTIGACION_GEN,DESCRIPCION_ANTECEDENTE,DESC_TIPO_ANTECEDENTE\n",
      "\n",
      "./FONDOS_proyecto_3.csv ,ID_PROYECTO,DESCRIPCION_CONTRIBUCION,DESC_TIPO_CONTRIBUCION\n",
      "\n",
      "./PN_proyecto_2.csv ,ID_PROYECTO,NUMERO_CONVOCATORIA,ANIO,MONTO_SOLICITADO,JUSTIFICACION\n",
      "\n",
      "./PN_proyecto_3.csv ,ID_PROYECTO,NUMERO_CONVOCATORIA,ANIO,MONTO_SOLICITADO,JUSTIFICACION\n",
      "\n",
      "./FONDOS_proyecto_2.csv ,ID_PROYECTO,DESCRIPCION,IMPORTE\n",
      "\n",
      "./FOMIX_SOLICITUD_PROYECTO.csv ,ID_PROYECTO,NOMBRE_CONVOCATORIA,TITULO_CONVOCATORIA\n",
      "\n",
      "./FONDOS_proyecto_10.csv ,ID_PROYECTO,DESCRIPCION_PRODUCTO,ESPECIFICACION_PRODUCTO\n",
      "\n",
      "./FONDOS_proyecto_11.csv ,ID_PROYECTO,DESCRIPCION_META,CONSECUTIVO_META\n",
      "\n",
      "./FC_proyecto_5.csv ,ID_PROYECTO,NUMERO_CONVOCATORIA,ANIO,PRESUPUESTO_AJUSTADO,PRESUPUESTO_SOLICITADO\n",
      "\n",
      "./FONDOS_proyecto_13.csv ,ID_PROYECTO,NOMBRE_ETAPA,NUMERO_ETAPA,DESCRIPCION_ETAPA,DURACION_ETAPA,FECHA_INICIO,FECHA_FIN,CONCEPTO_GASTO,JUSTIFICACION_GASTO,CANTIDAD,DESCRIPCION_ACTIVIDAD,DESCRIPCION_META\n",
      "\n",
      "./FONDOS_proyecto_12.csv ,ID_PROYECTO,ANIO_GASTO,CONCEPTO_GASTO,VALOR_IVA,VALOR_SIN_IVA\n",
      "\n",
      "./FC_proyecto_4.csv ,ID_PROYECTO,NUMERO_CONVOCATORIA,ANIO,JUSTIFICACION_MONTO_FORM,MONTO_SOLICITADO_FORM\n",
      "\n",
      "./FONDOS_proyecto_9.csv ,ID_PROYECTO,DESCRIPCION_RIESGO,ESTRATEGIA_CONTINGENTE,PROBABILIDAD_OCURRENCIA\n",
      "\n",
      "./FC_proyecto_1.csv ,ID_PROYECTO,NUMERO_CONVOCATORIA,ANIO,ID_PROYECTO.1,NUMERO_CONVOCATORIA.1,ANIO.1,TITULO,NOMBRE_RESPONSABLE,PRIMER_APELLIDO,SEGUNDO_APELLIDO,USUARIO,PALABRAS_CLAVE,DESCRIPCION_CONVOCATORIA,DESCRIPCION_AREA,NOMBRE_INSTITUCION,DICTAMEN,DESCRIPCION,CALIFICACION_FINAL,AUTORIZADO,FECHA_AUTORIZACION,ESTATUS_FORMALIZACION,DESCRIPCION_PROYECTO_FORM\n",
      "\n",
      "./FONDOS_proyecto_8.csv ,ID_PROYECTO,DESCRIPCION\n",
      "\n",
      "./FC_proyecto_3.csv ,ID_PROYECTO,NUMERO_CONVOCATORIA,ANIO,JUSTIFICACION_MONTO,MONTO_SOLICITADO\n",
      "\n",
      "./FC_proyecto_2.csv ,ID_PROYECTO,NUMERO_CONVOCATORIA,ANIO,DESCRIPCION_PROYECTO\n",
      "\n",
      "./FONDOS_proyecto_14.csv ,ID_PROYECTO,NOMBRE,APELLIDO_PATERNO,APELLIDO_MATERNO,NUMERO_CVU,DESC_ROL_PERSONA_FIS_FONDO,DESC_INSTITUCION\n",
      "\n"
     ]
    }
   ],
   "source": [
    "for f in nombre_archivo:\n",
    "    print(f, open(f,'r').readline())"
   ]
  },
  {
   "cell_type": "markdown",
   "metadata": {},
   "source": [
    "# fronteras"
   ]
  },
  {
   "cell_type": "code",
   "execution_count": 41,
   "metadata": {},
   "outputs": [
    {
     "name": "stdout",
     "output_type": "stream",
     "text": [
      "./FC_proyecto_1.csv\n",
      "Index(['Unnamed: 0', 'ID_PROYECTO', 'NUMERO_CONVOCATORIA', 'ANIO',\n",
      "       'ID_PROYECTO.1', 'NUMERO_CONVOCATORIA.1', 'ANIO.1', 'TITULO',\n",
      "       'NOMBRE_RESPONSABLE', 'PRIMER_APELLIDO', 'SEGUNDO_APELLIDO', 'USUARIO',\n",
      "       'PALABRAS_CLAVE', 'DESCRIPCION_CONVOCATORIA', 'DESCRIPCION_AREA',\n",
      "       'NOMBRE_INSTITUCION', 'DICTAMEN', 'DESCRIPCION', 'CALIFICACION_FINAL',\n",
      "       'AUTORIZADO', 'FECHA_AUTORIZACION', 'ESTATUS_FORMALIZACION',\n",
      "       'DESCRIPCION_PROYECTO_FORM'],\n",
      "      dtype='object')\n"
     ]
    },
    {
     "data": {
      "text/html": [
       "<div>\n",
       "<style scoped>\n",
       "    .dataframe tbody tr th:only-of-type {\n",
       "        vertical-align: middle;\n",
       "    }\n",
       "\n",
       "    .dataframe tbody tr th {\n",
       "        vertical-align: top;\n",
       "    }\n",
       "\n",
       "    .dataframe thead th {\n",
       "        text-align: right;\n",
       "    }\n",
       "</style>\n",
       "<table border=\"1\" class=\"dataframe\">\n",
       "  <thead>\n",
       "    <tr style=\"text-align: right;\">\n",
       "      <th></th>\n",
       "      <th>Unnamed: 0</th>\n",
       "      <th>ID_PROYECTO</th>\n",
       "      <th>NUMERO_CONVOCATORIA</th>\n",
       "      <th>ANIO</th>\n",
       "      <th>ID_PROYECTO.1</th>\n",
       "      <th>NUMERO_CONVOCATORIA.1</th>\n",
       "      <th>ANIO.1</th>\n",
       "      <th>TITULO</th>\n",
       "      <th>NOMBRE_RESPONSABLE</th>\n",
       "      <th>PRIMER_APELLIDO</th>\n",
       "      <th>...</th>\n",
       "      <th>DESCRIPCION_CONVOCATORIA</th>\n",
       "      <th>DESCRIPCION_AREA</th>\n",
       "      <th>NOMBRE_INSTITUCION</th>\n",
       "      <th>DICTAMEN</th>\n",
       "      <th>DESCRIPCION</th>\n",
       "      <th>CALIFICACION_FINAL</th>\n",
       "      <th>AUTORIZADO</th>\n",
       "      <th>FECHA_AUTORIZACION</th>\n",
       "      <th>ESTATUS_FORMALIZACION</th>\n",
       "      <th>DESCRIPCION_PROYECTO_FORM</th>\n",
       "    </tr>\n",
       "  </thead>\n",
       "  <tbody>\n",
       "    <tr>\n",
       "      <td>0</td>\n",
       "      <td>45</td>\n",
       "      <td>1</td>\n",
       "      <td>FRONTERAS-2015-01</td>\n",
       "      <td>2015</td>\n",
       "      <td>1</td>\n",
       "      <td>FRONTERAS-2015-01</td>\n",
       "      <td>2015</td>\n",
       "      <td>Nano-vehículos biocatalíticos para usos médicos.</td>\n",
       "      <td>RAFAEL</td>\n",
       "      <td>VAZQUEZ</td>\n",
       "      <td>...</td>\n",
       "      <td>FRONTERAS DE LA CIENCIA</td>\n",
       "      <td>CIENCIAS AGROPECUARIAS Y BIOTECNOLOGÍA</td>\n",
       "      <td>UNIVERSIDAD NACIONAL AUTONOMA DE MEXICO</td>\n",
       "      <td>Es un proyecto muy interesante y la experienci...</td>\n",
       "      <td>Nano-vehículos biocatalíticos para usos médicos.</td>\n",
       "      <td>29.0</td>\n",
       "      <td>1.0</td>\n",
       "      <td>2016-01-18 13:41:59</td>\n",
       "      <td>FIRMADO</td>\n",
       "      <td>NaN</td>\n",
       "    </tr>\n",
       "    <tr>\n",
       "      <td>1</td>\n",
       "      <td>46</td>\n",
       "      <td>2</td>\n",
       "      <td>FRONTERAS-2015-01</td>\n",
       "      <td>2015</td>\n",
       "      <td>2</td>\n",
       "      <td>FRONTERAS-2015-01</td>\n",
       "      <td>2015</td>\n",
       "      <td>Resiliencia al Cambio Climático por Asimilació...</td>\n",
       "      <td>ERNESTO</td>\n",
       "      <td>MALDONADO</td>\n",
       "      <td>...</td>\n",
       "      <td>FRONTERAS DE LA CIENCIA</td>\n",
       "      <td>BIOLOGÍA Y QUÍMICA</td>\n",
       "      <td>UNIVERSIDAD NACIONAL AUTONOMA DE MEXICO</td>\n",
       "      <td>proyecto de frontera cuyos resultados pueden s...</td>\n",
       "      <td>Resiliencia al Cambio Climático por Asimilació...</td>\n",
       "      <td>29.0</td>\n",
       "      <td>1.0</td>\n",
       "      <td>2016-01-18 13:41:59</td>\n",
       "      <td>FIRMADO</td>\n",
       "      <td>NaN</td>\n",
       "    </tr>\n",
       "  </tbody>\n",
       "</table>\n",
       "<p>2 rows × 23 columns</p>\n",
       "</div>"
      ],
      "text/plain": [
       "   Unnamed: 0  ID_PROYECTO NUMERO_CONVOCATORIA  ANIO  ID_PROYECTO.1  \\\n",
       "0          45            1   FRONTERAS-2015-01  2015              1   \n",
       "1          46            2   FRONTERAS-2015-01  2015              2   \n",
       "\n",
       "  NUMERO_CONVOCATORIA.1  ANIO.1  \\\n",
       "0     FRONTERAS-2015-01    2015   \n",
       "1     FRONTERAS-2015-01    2015   \n",
       "\n",
       "                                              TITULO NOMBRE_RESPONSABLE  \\\n",
       "0   Nano-vehículos biocatalíticos para usos médicos.             RAFAEL   \n",
       "1  Resiliencia al Cambio Climático por Asimilació...            ERNESTO   \n",
       "\n",
       "  PRIMER_APELLIDO  ... DESCRIPCION_CONVOCATORIA  \\\n",
       "0         VAZQUEZ  ...  FRONTERAS DE LA CIENCIA   \n",
       "1       MALDONADO  ...  FRONTERAS DE LA CIENCIA   \n",
       "\n",
       "                         DESCRIPCION_AREA  \\\n",
       "0  CIENCIAS AGROPECUARIAS Y BIOTECNOLOGÍA   \n",
       "1                      BIOLOGÍA Y QUÍMICA   \n",
       "\n",
       "                        NOMBRE_INSTITUCION  \\\n",
       "0  UNIVERSIDAD NACIONAL AUTONOMA DE MEXICO   \n",
       "1  UNIVERSIDAD NACIONAL AUTONOMA DE MEXICO   \n",
       "\n",
       "                                            DICTAMEN  \\\n",
       "0  Es un proyecto muy interesante y la experienci...   \n",
       "1  proyecto de frontera cuyos resultados pueden s...   \n",
       "\n",
       "                                         DESCRIPCION CALIFICACION_FINAL  \\\n",
       "0   Nano-vehículos biocatalíticos para usos médicos.               29.0   \n",
       "1  Resiliencia al Cambio Climático por Asimilació...               29.0   \n",
       "\n",
       "  AUTORIZADO   FECHA_AUTORIZACION  ESTATUS_FORMALIZACION  \\\n",
       "0        1.0  2016-01-18 13:41:59                FIRMADO   \n",
       "1        1.0  2016-01-18 13:41:59                FIRMADO   \n",
       "\n",
       "   DESCRIPCION_PROYECTO_FORM  \n",
       "0                        NaN  \n",
       "1                        NaN  \n",
       "\n",
       "[2 rows x 23 columns]"
      ]
     },
     "execution_count": 41,
     "metadata": {},
     "output_type": "execute_result"
    }
   ],
   "source": [
    "archivo = -5\n",
    "\n",
    "print(nombre_archivo[archivo])\n",
    "\n",
    "print(l[archivo].columns)\n",
    "\n",
    "l[archivo].head(2)"
   ]
  },
  {
   "cell_type": "code",
   "execution_count": 42,
   "metadata": {},
   "outputs": [
    {
     "name": "stdout",
     "output_type": "stream",
     "text": [
      "./FC_proyecto_2.csv\n",
      "Index(['Unnamed: 0', 'ID_PROYECTO', 'NUMERO_CONVOCATORIA', 'ANIO',\n",
      "       'DESCRIPCION_PROYECTO'],\n",
      "      dtype='object')\n"
     ]
    },
    {
     "data": {
      "text/html": [
       "<div>\n",
       "<style scoped>\n",
       "    .dataframe tbody tr th:only-of-type {\n",
       "        vertical-align: middle;\n",
       "    }\n",
       "\n",
       "    .dataframe tbody tr th {\n",
       "        vertical-align: top;\n",
       "    }\n",
       "\n",
       "    .dataframe thead th {\n",
       "        text-align: right;\n",
       "    }\n",
       "</style>\n",
       "<table border=\"1\" class=\"dataframe\">\n",
       "  <thead>\n",
       "    <tr style=\"text-align: right;\">\n",
       "      <th></th>\n",
       "      <th>Unnamed: 0</th>\n",
       "      <th>ID_PROYECTO</th>\n",
       "      <th>NUMERO_CONVOCATORIA</th>\n",
       "      <th>ANIO</th>\n",
       "      <th>DESCRIPCION_PROYECTO</th>\n",
       "    </tr>\n",
       "  </thead>\n",
       "  <tbody>\n",
       "    <tr>\n",
       "      <td>0</td>\n",
       "      <td>2612</td>\n",
       "      <td>1</td>\n",
       "      <td>FRONTERAS-2015-01</td>\n",
       "      <td>2015</td>\n",
       "      <td>1. Manchester, Steinmetz (2009) Curr. Top. Mic...</td>\n",
       "    </tr>\n",
       "    <tr>\n",
       "      <td>1</td>\n",
       "      <td>2835</td>\n",
       "      <td>1</td>\n",
       "      <td>FRONTERAS-2015-01</td>\n",
       "      <td>2015</td>\n",
       "      <td>La Bionanotecnolgía es una área del conocimien...</td>\n",
       "    </tr>\n",
       "  </tbody>\n",
       "</table>\n",
       "</div>"
      ],
      "text/plain": [
       "   Unnamed: 0  ID_PROYECTO NUMERO_CONVOCATORIA  ANIO  \\\n",
       "0        2612            1   FRONTERAS-2015-01  2015   \n",
       "1        2835            1   FRONTERAS-2015-01  2015   \n",
       "\n",
       "                                DESCRIPCION_PROYECTO  \n",
       "0  1. Manchester, Steinmetz (2009) Curr. Top. Mic...  \n",
       "1  La Bionanotecnolgía es una área del conocimien...  "
      ]
     },
     "execution_count": 42,
     "metadata": {},
     "output_type": "execute_result"
    }
   ],
   "source": [
    "archivo = -2\n",
    "\n",
    "print(nombre_archivo[archivo])\n",
    "\n",
    "print(l[archivo].columns)\n",
    "\n",
    "l[archivo].head(2)"
   ]
  },
  {
   "cell_type": "code",
   "execution_count": 44,
   "metadata": {},
   "outputs": [
    {
     "data": {
      "text/plain": [
       "680.7927747114902"
      ]
     },
     "execution_count": 44,
     "metadata": {},
     "output_type": "execute_result"
    }
   ],
   "source": [
    "l[archivo][\"DESCRIPCION_PROYECTO\"].str.split().str.len().dropna().mean()"
   ]
  },
  {
   "cell_type": "code",
   "execution_count": 45,
   "metadata": {},
   "outputs": [
    {
     "data": {
      "text/plain": [
       "0       1. Manchester, Steinmetz (2009) Curr. Top. Mic...\n",
       "1       La Bionanotecnolgía es una área del conocimien...\n",
       "2       El encapsulamiento de enzimas de interés médic...\n",
       "3       Dr. Rafael Vázquez Duhalt (Responsable)\\nCentr...\n",
       "4                                                      NO\n",
       "                              ...                        \n",
       "1995    1.- La identificación de un perfil metatranscr...\n",
       "1996    El intestino humano alberga una compleja comun...\n",
       "1997    Al suplementar la dieta con los azúcares compl...\n",
       "1998    Agustin Lopez Munguia Canales.  (CVU 998) Coor...\n",
       "1999    Año 1: \\r\\nTratamiento de dos sujetos de estud...\n",
       "Name: DESCRIPCION_PROYECTO, Length: 2000, dtype: object"
      ]
     },
     "execution_count": 45,
     "metadata": {},
     "output_type": "execute_result"
    }
   ],
   "source": [
    "l[archivo][\"DESCRIPCION_PROYECTO\"]"
   ]
  },
  {
   "cell_type": "code",
   "execution_count": 47,
   "metadata": {},
   "outputs": [
    {
     "name": "stdout",
     "output_type": "stream",
     "text": [
      "./FC_proyecto_4.csv\n",
      "Index(['Unnamed: 0', 'ID_PROYECTO', 'NUMERO_CONVOCATORIA', 'ANIO',\n",
      "       'JUSTIFICACION_MONTO_FORM', 'MONTO_SOLICITADO_FORM'],\n",
      "      dtype='object')\n"
     ]
    },
    {
     "data": {
      "text/html": [
       "<div>\n",
       "<style scoped>\n",
       "    .dataframe tbody tr th:only-of-type {\n",
       "        vertical-align: middle;\n",
       "    }\n",
       "\n",
       "    .dataframe tbody tr th {\n",
       "        vertical-align: top;\n",
       "    }\n",
       "\n",
       "    .dataframe thead th {\n",
       "        text-align: right;\n",
       "    }\n",
       "</style>\n",
       "<table border=\"1\" class=\"dataframe\">\n",
       "  <thead>\n",
       "    <tr style=\"text-align: right;\">\n",
       "      <th></th>\n",
       "      <th>Unnamed: 0</th>\n",
       "      <th>ID_PROYECTO</th>\n",
       "      <th>NUMERO_CONVOCATORIA</th>\n",
       "      <th>ANIO</th>\n",
       "      <th>JUSTIFICACION_MONTO_FORM</th>\n",
       "      <th>MONTO_SOLICITADO_FORM</th>\n",
       "    </tr>\n",
       "  </thead>\n",
       "  <tbody>\n",
       "    <tr>\n",
       "      <td>0</td>\n",
       "      <td>2891</td>\n",
       "      <td>1</td>\n",
       "      <td>FRONTERAS-2015-01</td>\n",
       "      <td>2015</td>\n",
       "      <td>DICB/C1000/7001/2018</td>\n",
       "      <td>107566.0</td>\n",
       "    </tr>\n",
       "    <tr>\n",
       "      <td>1</td>\n",
       "      <td>161</td>\n",
       "      <td>1</td>\n",
       "      <td>FRONTERAS-2015-01</td>\n",
       "      <td>2015</td>\n",
       "      <td>Compra de libros sobre nanomedicina y bionanot...</td>\n",
       "      <td>30000.0</td>\n",
       "    </tr>\n",
       "  </tbody>\n",
       "</table>\n",
       "</div>"
      ],
      "text/plain": [
       "   Unnamed: 0  ID_PROYECTO NUMERO_CONVOCATORIA  ANIO  \\\n",
       "0        2891            1   FRONTERAS-2015-01  2015   \n",
       "1         161            1   FRONTERAS-2015-01  2015   \n",
       "\n",
       "                            JUSTIFICACION_MONTO_FORM  MONTO_SOLICITADO_FORM  \n",
       "0                               DICB/C1000/7001/2018               107566.0  \n",
       "1  Compra de libros sobre nanomedicina y bionanot...                30000.0  "
      ]
     },
     "execution_count": 47,
     "metadata": {},
     "output_type": "execute_result"
    }
   ],
   "source": [
    "archivo = -7\n",
    "\n",
    "print(nombre_archivo[archivo])\n",
    "print(l[archivo].columns)\n",
    "\n",
    "l[archivo].head(2)"
   ]
  },
  {
   "cell_type": "code",
   "execution_count": 50,
   "metadata": {},
   "outputs": [
    {
     "name": "stdout",
     "output_type": "stream",
     "text": [
      "./FC_proyecto_5.csv\n",
      "Index(['Unnamed: 0', 'ID_PROYECTO', 'NUMERO_CONVOCATORIA', 'ANIO',\n",
      "       'PRESUPUESTO_AJUSTADO', 'PRESUPUESTO_SOLICITADO'],\n",
      "      dtype='object')\n"
     ]
    },
    {
     "data": {
      "text/html": [
       "<div>\n",
       "<style scoped>\n",
       "    .dataframe tbody tr th:only-of-type {\n",
       "        vertical-align: middle;\n",
       "    }\n",
       "\n",
       "    .dataframe tbody tr th {\n",
       "        vertical-align: top;\n",
       "    }\n",
       "\n",
       "    .dataframe thead th {\n",
       "        text-align: right;\n",
       "    }\n",
       "</style>\n",
       "<table border=\"1\" class=\"dataframe\">\n",
       "  <thead>\n",
       "    <tr style=\"text-align: right;\">\n",
       "      <th></th>\n",
       "      <th>Unnamed: 0</th>\n",
       "      <th>ID_PROYECTO</th>\n",
       "      <th>NUMERO_CONVOCATORIA</th>\n",
       "      <th>ANIO</th>\n",
       "      <th>PRESUPUESTO_AJUSTADO</th>\n",
       "      <th>PRESUPUESTO_SOLICITADO</th>\n",
       "    </tr>\n",
       "  </thead>\n",
       "  <tbody>\n",
       "    <tr>\n",
       "      <td>0</td>\n",
       "      <td>57</td>\n",
       "      <td>1</td>\n",
       "      <td>FRONTERAS-2015-01</td>\n",
       "      <td>2015</td>\n",
       "      <td>4000000</td>\n",
       "      <td>4000000</td>\n",
       "    </tr>\n",
       "    <tr>\n",
       "      <td>1</td>\n",
       "      <td>190</td>\n",
       "      <td>2</td>\n",
       "      <td>FRONTERAS-2015-01</td>\n",
       "      <td>2015</td>\n",
       "      <td>3976450</td>\n",
       "      <td>3976450</td>\n",
       "    </tr>\n",
       "  </tbody>\n",
       "</table>\n",
       "</div>"
      ],
      "text/plain": [
       "   Unnamed: 0  ID_PROYECTO NUMERO_CONVOCATORIA  ANIO  PRESUPUESTO_AJUSTADO  \\\n",
       "0          57            1   FRONTERAS-2015-01  2015               4000000   \n",
       "1         190            2   FRONTERAS-2015-01  2015               3976450   \n",
       "\n",
       "   PRESUPUESTO_SOLICITADO  \n",
       "0                 4000000  \n",
       "1                 3976450  "
      ]
     },
     "execution_count": 50,
     "metadata": {},
     "output_type": "execute_result"
    }
   ],
   "source": [
    "archivo = -10\n",
    "\n",
    "print(nombre_archivo[archivo])\n",
    "\n",
    "print(l[archivo].columns)\n",
    "\n",
    "l[archivo].head(2)"
   ]
  }
 ],
 "metadata": {
  "kernelspec": {
   "display_name": "Python 3",
   "language": "python",
   "name": "python3"
  },
  "language_info": {
   "codemirror_mode": {
    "name": "ipython",
    "version": 3
   },
   "file_extension": ".py",
   "mimetype": "text/x-python",
   "name": "python",
   "nbconvert_exporter": "python",
   "pygments_lexer": "ipython3",
   "version": "3.7.4"
  }
 },
 "nbformat": 4,
 "nbformat_minor": 4
}
