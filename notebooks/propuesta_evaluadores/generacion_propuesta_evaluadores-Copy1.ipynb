{
 "cells": [
  {
   "cell_type": "markdown",
   "metadata": {},
   "source": [
    "## Propuesta de Evaluadores"
   ]
  },
  {
   "cell_type": "code",
   "execution_count": 11,
   "metadata": {},
   "outputs": [],
   "source": [
    "from joblib import load, dump \n",
    "from sklearn.metrics.pairwise import cosine_similarity\n",
    "import pandas as pd\n",
    "import seaborn as sns\n",
    "import numpy as np"
   ]
  },
  {
   "cell_type": "markdown",
   "metadata": {},
   "source": [
    "### Topicos por evaluador"
   ]
  },
  {
   "cell_type": "code",
   "execution_count": 12,
   "metadata": {},
   "outputs": [
    {
     "data": {
      "text/html": [
       "<div>\n",
       "<style scoped>\n",
       "    .dataframe tbody tr th:only-of-type {\n",
       "        vertical-align: middle;\n",
       "    }\n",
       "\n",
       "    .dataframe tbody tr th {\n",
       "        vertical-align: top;\n",
       "    }\n",
       "\n",
       "    .dataframe thead th {\n",
       "        text-align: right;\n",
       "    }\n",
       "</style>\n",
       "<table border=\"1\" class=\"dataframe\">\n",
       "  <thead>\n",
       "    <tr style=\"text-align: right;\">\n",
       "      <th></th>\n",
       "      <th>CVU</th>\n",
       "      <th>0</th>\n",
       "      <th>1</th>\n",
       "      <th>2</th>\n",
       "      <th>3</th>\n",
       "      <th>4</th>\n",
       "      <th>5</th>\n",
       "      <th>6</th>\n",
       "      <th>7</th>\n",
       "      <th>8</th>\n",
       "      <th>...</th>\n",
       "      <th>490</th>\n",
       "      <th>491</th>\n",
       "      <th>492</th>\n",
       "      <th>493</th>\n",
       "      <th>494</th>\n",
       "      <th>495</th>\n",
       "      <th>496</th>\n",
       "      <th>497</th>\n",
       "      <th>498</th>\n",
       "      <th>499</th>\n",
       "    </tr>\n",
       "  </thead>\n",
       "  <tbody>\n",
       "    <tr>\n",
       "      <td>0</td>\n",
       "      <td>32</td>\n",
       "      <td>1.039730e-11</td>\n",
       "      <td>0.022571</td>\n",
       "      <td>0.024007</td>\n",
       "      <td>0.000000e+00</td>\n",
       "      <td>3.344736e-13</td>\n",
       "      <td>5.946791e-01</td>\n",
       "      <td>0.045747</td>\n",
       "      <td>0.007538</td>\n",
       "      <td>0.000234</td>\n",
       "      <td>...</td>\n",
       "      <td>0.003466</td>\n",
       "      <td>0.000000e+00</td>\n",
       "      <td>0.015221</td>\n",
       "      <td>6.372822e-11</td>\n",
       "      <td>0.101933</td>\n",
       "      <td>0.000000</td>\n",
       "      <td>5.356554e-01</td>\n",
       "      <td>0.000000</td>\n",
       "      <td>0.000000e+00</td>\n",
       "      <td>0.000000e+00</td>\n",
       "    </tr>\n",
       "    <tr>\n",
       "      <td>1</td>\n",
       "      <td>62</td>\n",
       "      <td>3.316664e-06</td>\n",
       "      <td>0.033592</td>\n",
       "      <td>0.075867</td>\n",
       "      <td>2.268785e-15</td>\n",
       "      <td>1.231933e-13</td>\n",
       "      <td>2.130934e-05</td>\n",
       "      <td>0.070647</td>\n",
       "      <td>0.035292</td>\n",
       "      <td>0.009585</td>\n",
       "      <td>...</td>\n",
       "      <td>0.015404</td>\n",
       "      <td>1.614905e-14</td>\n",
       "      <td>0.013444</td>\n",
       "      <td>2.346778e-11</td>\n",
       "      <td>0.025559</td>\n",
       "      <td>0.037891</td>\n",
       "      <td>3.676195e-02</td>\n",
       "      <td>0.000000</td>\n",
       "      <td>5.257031e-18</td>\n",
       "      <td>5.586499e-02</td>\n",
       "    </tr>\n",
       "    <tr>\n",
       "      <td>2</td>\n",
       "      <td>69</td>\n",
       "      <td>1.383044e-01</td>\n",
       "      <td>0.125887</td>\n",
       "      <td>0.115679</td>\n",
       "      <td>3.138819e-02</td>\n",
       "      <td>3.081193e-03</td>\n",
       "      <td>3.188412e-02</td>\n",
       "      <td>0.085819</td>\n",
       "      <td>0.042314</td>\n",
       "      <td>0.031455</td>\n",
       "      <td>...</td>\n",
       "      <td>0.069906</td>\n",
       "      <td>6.562758e-02</td>\n",
       "      <td>0.102238</td>\n",
       "      <td>6.494592e-02</td>\n",
       "      <td>0.098280</td>\n",
       "      <td>0.045843</td>\n",
       "      <td>6.188742e-02</td>\n",
       "      <td>0.033367</td>\n",
       "      <td>9.932581e-02</td>\n",
       "      <td>6.823725e-01</td>\n",
       "    </tr>\n",
       "    <tr>\n",
       "      <td>3</td>\n",
       "      <td>92</td>\n",
       "      <td>1.095244e-05</td>\n",
       "      <td>0.039850</td>\n",
       "      <td>0.032008</td>\n",
       "      <td>0.000000e+00</td>\n",
       "      <td>7.967706e-17</td>\n",
       "      <td>1.572656e-08</td>\n",
       "      <td>0.037290</td>\n",
       "      <td>0.011857</td>\n",
       "      <td>0.045701</td>\n",
       "      <td>...</td>\n",
       "      <td>0.031606</td>\n",
       "      <td>2.439729e-14</td>\n",
       "      <td>0.004882</td>\n",
       "      <td>0.000000e+00</td>\n",
       "      <td>0.020260</td>\n",
       "      <td>0.011168</td>\n",
       "      <td>1.085635e-01</td>\n",
       "      <td>0.000000</td>\n",
       "      <td>1.736001e-17</td>\n",
       "      <td>3.050502e-12</td>\n",
       "    </tr>\n",
       "    <tr>\n",
       "      <td>4</td>\n",
       "      <td>112</td>\n",
       "      <td>1.199364e-05</td>\n",
       "      <td>0.089996</td>\n",
       "      <td>0.024074</td>\n",
       "      <td>1.300955e-01</td>\n",
       "      <td>1.485544e-13</td>\n",
       "      <td>2.569760e-05</td>\n",
       "      <td>0.067111</td>\n",
       "      <td>0.008156</td>\n",
       "      <td>0.015631</td>\n",
       "      <td>...</td>\n",
       "      <td>0.044469</td>\n",
       "      <td>4.672058e-14</td>\n",
       "      <td>0.024951</td>\n",
       "      <td>2.828788e-11</td>\n",
       "      <td>0.009978</td>\n",
       "      <td>0.119817</td>\n",
       "      <td>2.977220e-08</td>\n",
       "      <td>0.000000</td>\n",
       "      <td>2.744523e-01</td>\n",
       "      <td>3.340501e-12</td>\n",
       "    </tr>\n",
       "  </tbody>\n",
       "</table>\n",
       "<p>5 rows × 501 columns</p>\n",
       "</div>"
      ],
      "text/plain": [
       "   CVU             0         1         2             3             4  \\\n",
       "0   32  1.039730e-11  0.022571  0.024007  0.000000e+00  3.344736e-13   \n",
       "1   62  3.316664e-06  0.033592  0.075867  2.268785e-15  1.231933e-13   \n",
       "2   69  1.383044e-01  0.125887  0.115679  3.138819e-02  3.081193e-03   \n",
       "3   92  1.095244e-05  0.039850  0.032008  0.000000e+00  7.967706e-17   \n",
       "4  112  1.199364e-05  0.089996  0.024074  1.300955e-01  1.485544e-13   \n",
       "\n",
       "              5         6         7         8  ...       490           491  \\\n",
       "0  5.946791e-01  0.045747  0.007538  0.000234  ...  0.003466  0.000000e+00   \n",
       "1  2.130934e-05  0.070647  0.035292  0.009585  ...  0.015404  1.614905e-14   \n",
       "2  3.188412e-02  0.085819  0.042314  0.031455  ...  0.069906  6.562758e-02   \n",
       "3  1.572656e-08  0.037290  0.011857  0.045701  ...  0.031606  2.439729e-14   \n",
       "4  2.569760e-05  0.067111  0.008156  0.015631  ...  0.044469  4.672058e-14   \n",
       "\n",
       "        492           493       494       495           496       497  \\\n",
       "0  0.015221  6.372822e-11  0.101933  0.000000  5.356554e-01  0.000000   \n",
       "1  0.013444  2.346778e-11  0.025559  0.037891  3.676195e-02  0.000000   \n",
       "2  0.102238  6.494592e-02  0.098280  0.045843  6.188742e-02  0.033367   \n",
       "3  0.004882  0.000000e+00  0.020260  0.011168  1.085635e-01  0.000000   \n",
       "4  0.024951  2.828788e-11  0.009978  0.119817  2.977220e-08  0.000000   \n",
       "\n",
       "            498           499  \n",
       "0  0.000000e+00  0.000000e+00  \n",
       "1  5.257031e-18  5.586499e-02  \n",
       "2  9.932581e-02  6.823725e-01  \n",
       "3  1.736001e-17  3.050502e-12  \n",
       "4  2.744523e-01  3.340501e-12  \n",
       "\n",
       "[5 rows x 501 columns]"
      ]
     },
     "execution_count": 12,
     "metadata": {},
     "output_type": "execute_result"
    }
   ],
   "source": [
    "topicos_evaluador = load('../../trained_models/archivos/topicos_por_evaluador.pkl')\n",
    "topicos_evaluador.reset_index(drop=False,inplace=True)\n",
    "evaluadores_entreanado = topicos_evaluador[\"CVU\"].tolist()\n",
    "#  rcea_entreanado = topicos_evaluador[\"CVU\"].tolist()\n",
    "topicos_evaluador.head(5)"
   ]
  },
  {
   "cell_type": "code",
   "execution_count": 13,
   "metadata": {},
   "outputs": [
    {
     "data": {
      "text/plain": [
       "489"
      ]
     },
     "execution_count": 13,
     "metadata": {},
     "output_type": "execute_result"
    }
   ],
   "source": [
    "topicos_evaluador[\"CVU\"].nunique()"
   ]
  },
  {
   "cell_type": "markdown",
   "metadata": {},
   "source": [
    "## Topicos por propuesta"
   ]
  },
  {
   "cell_type": "code",
   "execution_count": 14,
   "metadata": {},
   "outputs": [
    {
     "data": {
      "text/html": [
       "<div>\n",
       "<style scoped>\n",
       "    .dataframe tbody tr th:only-of-type {\n",
       "        vertical-align: middle;\n",
       "    }\n",
       "\n",
       "    .dataframe tbody tr th {\n",
       "        vertical-align: top;\n",
       "    }\n",
       "\n",
       "    .dataframe thead th {\n",
       "        text-align: right;\n",
       "    }\n",
       "</style>\n",
       "<table border=\"1\" class=\"dataframe\">\n",
       "  <thead>\n",
       "    <tr style=\"text-align: right;\">\n",
       "      <th></th>\n",
       "      <th>0</th>\n",
       "      <th>1</th>\n",
       "      <th>2</th>\n",
       "      <th>3</th>\n",
       "      <th>4</th>\n",
       "      <th>5</th>\n",
       "      <th>6</th>\n",
       "      <th>7</th>\n",
       "      <th>8</th>\n",
       "      <th>9</th>\n",
       "      <th>...</th>\n",
       "      <th>491</th>\n",
       "      <th>492</th>\n",
       "      <th>493</th>\n",
       "      <th>494</th>\n",
       "      <th>495</th>\n",
       "      <th>496</th>\n",
       "      <th>497</th>\n",
       "      <th>498</th>\n",
       "      <th>499</th>\n",
       "      <th>ID_PROYECTO</th>\n",
       "    </tr>\n",
       "  </thead>\n",
       "  <tbody>\n",
       "    <tr>\n",
       "      <td>26684</td>\n",
       "      <td>2.162930e-01</td>\n",
       "      <td>0.061640</td>\n",
       "      <td>0.065430</td>\n",
       "      <td>0.000000e+00</td>\n",
       "      <td>0.0</td>\n",
       "      <td>0.199193</td>\n",
       "      <td>0.090115</td>\n",
       "      <td>0.204934</td>\n",
       "      <td>0.000000e+00</td>\n",
       "      <td>0.018401</td>\n",
       "      <td>...</td>\n",
       "      <td>6.436994e-15</td>\n",
       "      <td>0.045546</td>\n",
       "      <td>0.000000</td>\n",
       "      <td>0.030017</td>\n",
       "      <td>0.060498</td>\n",
       "      <td>0.119627</td>\n",
       "      <td>0.000000</td>\n",
       "      <td>0.0</td>\n",
       "      <td>0.101640</td>\n",
       "      <td>202637</td>\n",
       "    </tr>\n",
       "    <tr>\n",
       "      <td>23823</td>\n",
       "      <td>3.212326e-13</td>\n",
       "      <td>0.074174</td>\n",
       "      <td>0.016766</td>\n",
       "      <td>1.142082e-15</td>\n",
       "      <td>0.0</td>\n",
       "      <td>0.440904</td>\n",
       "      <td>0.048277</td>\n",
       "      <td>0.031629</td>\n",
       "      <td>4.306999e-13</td>\n",
       "      <td>0.003143</td>\n",
       "      <td>...</td>\n",
       "      <td>2.839865e-02</td>\n",
       "      <td>0.047902</td>\n",
       "      <td>0.028104</td>\n",
       "      <td>0.015734</td>\n",
       "      <td>0.060558</td>\n",
       "      <td>0.016549</td>\n",
       "      <td>0.231023</td>\n",
       "      <td>0.0</td>\n",
       "      <td>0.056244</td>\n",
       "      <td>5724</td>\n",
       "    </tr>\n",
       "  </tbody>\n",
       "</table>\n",
       "<p>2 rows × 501 columns</p>\n",
       "</div>"
      ],
      "text/plain": [
       "                  0         1         2             3    4         5  \\\n",
       "26684  2.162930e-01  0.061640  0.065430  0.000000e+00  0.0  0.199193   \n",
       "23823  3.212326e-13  0.074174  0.016766  1.142082e-15  0.0  0.440904   \n",
       "\n",
       "              6         7             8         9  ...           491  \\\n",
       "26684  0.090115  0.204934  0.000000e+00  0.018401  ...  6.436994e-15   \n",
       "23823  0.048277  0.031629  4.306999e-13  0.003143  ...  2.839865e-02   \n",
       "\n",
       "            492       493       494       495       496       497  498  \\\n",
       "26684  0.045546  0.000000  0.030017  0.060498  0.119627  0.000000  0.0   \n",
       "23823  0.047902  0.028104  0.015734  0.060558  0.016549  0.231023  0.0   \n",
       "\n",
       "            499  ID_PROYECTO  \n",
       "26684  0.101640       202637  \n",
       "23823  0.056244         5724  \n",
       "\n",
       "[2 rows x 501 columns]"
      ]
     },
     "execution_count": 14,
     "metadata": {},
     "output_type": "execute_result"
    }
   ],
   "source": [
    "topicos_texto = load(\"../../trained_models/archivos/topicos_por_texto_train.pkl\")\n",
    "topicos_texto.drop_duplicates(\"ID_PROYECTO\", inplace=True)\n",
    "id_proyecto_index = topicos_texto[\"ID_PROYECTO\"].tolist()\n",
    "topicos_texto.head(2)"
   ]
  },
  {
   "cell_type": "code",
   "execution_count": 15,
   "metadata": {},
   "outputs": [
    {
     "data": {
      "text/plain": [
       "(493, 501)"
      ]
     },
     "execution_count": 15,
     "metadata": {},
     "output_type": "execute_result"
    }
   ],
   "source": [
    "topicos_texto.shape"
   ]
  },
  {
   "cell_type": "markdown",
   "metadata": {},
   "source": [
    "### cosine similarity"
   ]
  },
  {
   "cell_type": "code",
   "execution_count": 16,
   "metadata": {},
   "outputs": [],
   "source": [
    "cos_simi = cosine_similarity(topicos_evaluador.iloc[:,1:], topicos_texto.iloc[:,:-1])"
   ]
  },
  {
   "cell_type": "code",
   "execution_count": 17,
   "metadata": {},
   "outputs": [
    {
     "data": {
      "text/plain": [
       "<matplotlib.axes._subplots.AxesSubplot at 0x1a2224d110>"
      ]
     },
     "execution_count": 17,
     "metadata": {},
     "output_type": "execute_result"
    },
    {
     "data": {
      "image/png": "[encoded data removed]",
      "text/plain": [
       "<Figure size 432x288 with 1 Axes>"
      ]
     },
     "metadata": {
      "needs_background": "light"
     },
     "output_type": "display_data"
    }
   ],
   "source": [
    "df_cos_simi = pd.DataFrame(cos_simi)\n",
    "sns.distplot(df_cos_simi.mean(axis=0))"
   ]
  },
  {
   "cell_type": "markdown",
   "metadata": {},
   "source": [
    "## encontrar top 5 evaluadores"
   ]
  },
  {
   "cell_type": "code",
   "execution_count": 18,
   "metadata": {},
   "outputs": [],
   "source": [
    "numero_sugeridos = 3"
   ]
  },
  {
   "cell_type": "markdown",
   "metadata": {},
   "source": [
    "encontramos elpercentil 97 por fila"
   ]
  },
  {
   "cell_type": "code",
   "execution_count": 19,
   "metadata": {},
   "outputs": [
    {
     "data": {
      "text/html": [
       "<div>\n",
       "<style scoped>\n",
       "    .dataframe tbody tr th:only-of-type {\n",
       "        vertical-align: middle;\n",
       "    }\n",
       "\n",
       "    .dataframe tbody tr th {\n",
       "        vertical-align: top;\n",
       "    }\n",
       "\n",
       "    .dataframe thead th {\n",
       "        text-align: right;\n",
       "    }\n",
       "</style>\n",
       "<table border=\"1\" class=\"dataframe\">\n",
       "  <thead>\n",
       "    <tr style=\"text-align: right;\">\n",
       "      <th></th>\n",
       "      <th>id_proyecto</th>\n",
       "      <th>CVU</th>\n",
       "      <th>score_tm</th>\n",
       "    </tr>\n",
       "  </thead>\n",
       "  <tbody>\n",
       "    <tr>\n",
       "      <td>0</td>\n",
       "      <td>NaN</td>\n",
       "      <td>NaN</td>\n",
       "      <td>NaN</td>\n",
       "    </tr>\n",
       "    <tr>\n",
       "      <td>1</td>\n",
       "      <td>NaN</td>\n",
       "      <td>NaN</td>\n",
       "      <td>NaN</td>\n",
       "    </tr>\n",
       "    <tr>\n",
       "      <td>2</td>\n",
       "      <td>NaN</td>\n",
       "      <td>NaN</td>\n",
       "      <td>NaN</td>\n",
       "    </tr>\n",
       "    <tr>\n",
       "      <td>3</td>\n",
       "      <td>NaN</td>\n",
       "      <td>NaN</td>\n",
       "      <td>NaN</td>\n",
       "    </tr>\n",
       "    <tr>\n",
       "      <td>4</td>\n",
       "      <td>NaN</td>\n",
       "      <td>NaN</td>\n",
       "      <td>NaN</td>\n",
       "    </tr>\n",
       "  </tbody>\n",
       "</table>\n",
       "</div>"
      ],
      "text/plain": [
       "  id_proyecto  CVU score_tm\n",
       "0         NaN  NaN      NaN\n",
       "1         NaN  NaN      NaN\n",
       "2         NaN  NaN      NaN\n",
       "3         NaN  NaN      NaN\n",
       "4         NaN  NaN      NaN"
      ]
     },
     "execution_count": 19,
     "metadata": {},
     "output_type": "execute_result"
    }
   ],
   "source": [
    "df_evaluadores_recomendados = pd.DataFrame(index=[i for i in range(len(id_proyecto_index*numero_sugeridos))]\n",
    "                                           ,columns=[\"id_proyecto\",\"CVU\",\"score_tm\"])\n",
    "df_evaluadores_recomendados.head()                                "
   ]
  },
  {
   "cell_type": "code",
   "execution_count": 20,
   "metadata": {},
   "outputs": [],
   "source": [
    "def normalize(lista, to_sum=False, copy=True):\n",
    "    # d is a (n x dimension) np array\n",
    "    lista_max = np.max(lista, axis=0)\n",
    "    lista = [elemento/lista_max for elemento in lista ]\n",
    "    return lista"
   ]
  },
  {
   "cell_type": "code",
   "execution_count": 21,
   "metadata": {},
   "outputs": [],
   "source": [
    "cvu_evaluadores_lista = []\n",
    "score_evaluadores_lista = []\n",
    "id_proyecto_lista = []\n",
    "\n",
    "for proyecto in range(df_cos_simi.shape[1]):\n",
    "    \n",
    "    list_each_proyecto = df_cos_simi.iloc[:,proyecto].tolist()\n",
    "    \n",
    "    top_5_idx = np.argsort(list_each_proyecto)[-numero_sugeridos:][::-1].tolist()\n",
    "    \n",
    "    [cvu_evaluadores_lista.append(evaluadores_entreanado[pos]) for pos in top_5_idx] \n",
    "    \n",
    "    # normalized_score = normalize([df_cos_simi.iloc[pos,proyecto] for pos in top_5_idx])\n",
    "    [score_evaluadores_lista.append(df_cos_simi.iloc[pos,proyecto]) for pos in top_5_idx]\n",
    "    [id_proyecto_lista.append(id_proyecto_index[proyecto]) for i in range(numero_sugeridos)]\n"
   ]
  },
  {
   "cell_type": "code",
   "execution_count": 22,
   "metadata": {},
   "outputs": [],
   "source": [
    "df_evaluadores_recomendados[\"id_proyecto\"] = id_proyecto_lista\n",
    "df_evaluadores_recomendados[\"CVU\"] = cvu_evaluadores_lista\n",
    "df_evaluadores_recomendados[\"score_tm\"] = score_evaluadores_lista"
   ]
  },
  {
   "cell_type": "code",
   "execution_count": 23,
   "metadata": {},
   "outputs": [
    {
     "data": {
      "text/html": [
       "<div>\n",
       "<style scoped>\n",
       "    .dataframe tbody tr th:only-of-type {\n",
       "        vertical-align: middle;\n",
       "    }\n",
       "\n",
       "    .dataframe tbody tr th {\n",
       "        vertical-align: top;\n",
       "    }\n",
       "\n",
       "    .dataframe thead th {\n",
       "        text-align: right;\n",
       "    }\n",
       "</style>\n",
       "<table border=\"1\" class=\"dataframe\">\n",
       "  <thead>\n",
       "    <tr style=\"text-align: right;\">\n",
       "      <th></th>\n",
       "      <th>id_proyecto</th>\n",
       "      <th>CVU</th>\n",
       "      <th>score_tm</th>\n",
       "    </tr>\n",
       "  </thead>\n",
       "  <tbody>\n",
       "    <tr>\n",
       "      <td>0</td>\n",
       "      <td>202637</td>\n",
       "      <td>163056</td>\n",
       "      <td>1.000000</td>\n",
       "    </tr>\n",
       "    <tr>\n",
       "      <td>1</td>\n",
       "      <td>202637</td>\n",
       "      <td>84933</td>\n",
       "      <td>0.517875</td>\n",
       "    </tr>\n",
       "    <tr>\n",
       "      <td>2</td>\n",
       "      <td>202637</td>\n",
       "      <td>5617</td>\n",
       "      <td>0.482556</td>\n",
       "    </tr>\n",
       "    <tr>\n",
       "      <td>3</td>\n",
       "      <td>5724</td>\n",
       "      <td>21465</td>\n",
       "      <td>1.000000</td>\n",
       "    </tr>\n",
       "    <tr>\n",
       "      <td>4</td>\n",
       "      <td>5724</td>\n",
       "      <td>5285</td>\n",
       "      <td>0.517069</td>\n",
       "    </tr>\n",
       "    <tr>\n",
       "      <td>5</td>\n",
       "      <td>5724</td>\n",
       "      <td>14518</td>\n",
       "      <td>0.494904</td>\n",
       "    </tr>\n",
       "    <tr>\n",
       "      <td>6</td>\n",
       "      <td>215598</td>\n",
       "      <td>74240</td>\n",
       "      <td>1.000000</td>\n",
       "    </tr>\n",
       "    <tr>\n",
       "      <td>7</td>\n",
       "      <td>215598</td>\n",
       "      <td>120739</td>\n",
       "      <td>0.575777</td>\n",
       "    </tr>\n",
       "    <tr>\n",
       "      <td>8</td>\n",
       "      <td>215598</td>\n",
       "      <td>1132</td>\n",
       "      <td>0.548406</td>\n",
       "    </tr>\n",
       "    <tr>\n",
       "      <td>9</td>\n",
       "      <td>29820</td>\n",
       "      <td>15732</td>\n",
       "      <td>1.000000</td>\n",
       "    </tr>\n",
       "  </tbody>\n",
       "</table>\n",
       "</div>"
      ],
      "text/plain": [
       "   id_proyecto     CVU  score_tm\n",
       "0       202637  163056  1.000000\n",
       "1       202637   84933  0.517875\n",
       "2       202637    5617  0.482556\n",
       "3         5724   21465  1.000000\n",
       "4         5724    5285  0.517069\n",
       "5         5724   14518  0.494904\n",
       "6       215598   74240  1.000000\n",
       "7       215598  120739  0.575777\n",
       "8       215598    1132  0.548406\n",
       "9        29820   15732  1.000000"
      ]
     },
     "execution_count": 23,
     "metadata": {},
     "output_type": "execute_result"
    }
   ],
   "source": [
    "df_evaluadores_recomendados.iloc[0:10,:]"
   ]
  },
  {
   "cell_type": "code",
   "execution_count": 24,
   "metadata": {},
   "outputs": [
    {
     "data": {
      "text/plain": [
       "<matplotlib.axes._subplots.AxesSubplot at 0x1a223d8d10>"
      ]
     },
     "execution_count": 24,
     "metadata": {},
     "output_type": "execute_result"
    },
    {
     "data": {
      "image/png": "[encoded data removed]",
      "text/plain": [
       "<Figure size 432x288 with 1 Axes>"
      ]
     },
     "metadata": {
      "needs_background": "light"
     },
     "output_type": "display_data"
    }
   ],
   "source": [
    "df_evaluadores_recomendados[\"CVU\"].value_counts().hist()"
   ]
  },
  {
   "cell_type": "code",
   "execution_count": 25,
   "metadata": {},
   "outputs": [
    {
     "data": {
      "text/plain": [
       "<matplotlib.axes._subplots.AxesSubplot at 0x1a22b2d7d0>"
      ]
     },
     "execution_count": 25,
     "metadata": {},
     "output_type": "execute_result"
    },
    {
     "data": {
      "image/png": "[encoded data removed]",
      "text/plain": [
       "<Figure size 432x288 with 1 Axes>"
      ]
     },
     "metadata": {
      "needs_background": "light"
     },
     "output_type": "display_data"
    }
   ],
   "source": [
    "df_evaluadores_recomendados[\"score_tm\"].hist(bins=30)"
   ]
  },
  {
   "cell_type": "code",
   "execution_count": 33,
   "metadata": {},
   "outputs": [
    {
     "data": {
      "text/plain": [
       "['./propuesta_evaluadores_sample.pkl']"
      ]
     },
     "execution_count": 33,
     "metadata": {},
     "output_type": "execute_result"
    }
   ],
   "source": [
    "dump( df_evaluadores_recomendados, \"./propuesta_evaluadores_sample.pkl\")"
   ]
  },
  {
   "cell_type": "markdown",
   "metadata": {},
   "source": [
    "___"
   ]
  },
  {
   "cell_type": "code",
   "execution_count": 34,
   "metadata": {},
   "outputs": [],
   "source": [
    "df_evaluadores_recomendados_1 = load(\"./propuesta_evaluadores.pkl\")"
   ]
  },
  {
   "cell_type": "code",
   "execution_count": 35,
   "metadata": {},
   "outputs": [],
   "source": [
    "id_proyectos = df_evaluadores_recomendados_1[\"id_proyecto\"].unique().tolist()"
   ]
  },
  {
   "cell_type": "code",
   "execution_count": 36,
   "metadata": {},
   "outputs": [],
   "source": [
    "proyecto = 2455"
   ]
  },
  {
   "cell_type": "code",
   "execution_count": 37,
   "metadata": {},
   "outputs": [
    {
     "data": {
      "text/html": [
       "<div>\n",
       "<style scoped>\n",
       "    .dataframe tbody tr th:only-of-type {\n",
       "        vertical-align: middle;\n",
       "    }\n",
       "\n",
       "    .dataframe tbody tr th {\n",
       "        vertical-align: top;\n",
       "    }\n",
       "\n",
       "    .dataframe thead th {\n",
       "        text-align: right;\n",
       "    }\n",
       "</style>\n",
       "<table border=\"1\" class=\"dataframe\">\n",
       "  <thead>\n",
       "    <tr style=\"text-align: right;\">\n",
       "      <th></th>\n",
       "      <th>id_proyecto</th>\n",
       "      <th>CVU</th>\n",
       "      <th>score_tm</th>\n",
       "    </tr>\n",
       "  </thead>\n",
       "  <tbody>\n",
       "    <tr>\n",
       "      <td>49100</td>\n",
       "      <td>74869</td>\n",
       "      <td>25369</td>\n",
       "      <td>0.675206</td>\n",
       "    </tr>\n",
       "    <tr>\n",
       "      <td>49101</td>\n",
       "      <td>74869</td>\n",
       "      <td>31033</td>\n",
       "      <td>0.662452</td>\n",
       "    </tr>\n",
       "    <tr>\n",
       "      <td>49102</td>\n",
       "      <td>74869</td>\n",
       "      <td>33636</td>\n",
       "      <td>0.653645</td>\n",
       "    </tr>\n",
       "    <tr>\n",
       "      <td>49103</td>\n",
       "      <td>74869</td>\n",
       "      <td>209974</td>\n",
       "      <td>0.651359</td>\n",
       "    </tr>\n",
       "    <tr>\n",
       "      <td>49104</td>\n",
       "      <td>74869</td>\n",
       "      <td>101660</td>\n",
       "      <td>0.646202</td>\n",
       "    </tr>\n",
       "  </tbody>\n",
       "</table>\n",
       "</div>"
      ],
      "text/plain": [
       "       id_proyecto     CVU  score_tm\n",
       "49100        74869   25369  0.675206\n",
       "49101        74869   31033  0.662452\n",
       "49102        74869   33636  0.653645\n",
       "49103        74869  209974  0.651359\n",
       "49104        74869  101660  0.646202"
      ]
     },
     "execution_count": 37,
     "metadata": {},
     "output_type": "execute_result"
    }
   ],
   "source": [
    "df_evaluadores_recomendados_1[df_evaluadores_recomendados_1[\"id_proyecto\"]==id_proyectos[proyecto]].head(5)"
   ]
  },
  {
   "cell_type": "code",
   "execution_count": 38,
   "metadata": {},
   "outputs": [],
   "source": [
    "df_evaluadores_recomendados.sort_values(\"score_tm\", ascending=False, inplace=True)"
   ]
  },
  {
   "cell_type": "code",
   "execution_count": 39,
   "metadata": {},
   "outputs": [
    {
     "data": {
      "text/html": [
       "<div>\n",
       "<style scoped>\n",
       "    .dataframe tbody tr th:only-of-type {\n",
       "        vertical-align: middle;\n",
       "    }\n",
       "\n",
       "    .dataframe tbody tr th {\n",
       "        vertical-align: top;\n",
       "    }\n",
       "\n",
       "    .dataframe thead th {\n",
       "        text-align: right;\n",
       "    }\n",
       "</style>\n",
       "<table border=\"1\" class=\"dataframe\">\n",
       "  <thead>\n",
       "    <tr style=\"text-align: right;\">\n",
       "      <th></th>\n",
       "      <th>id_proyecto</th>\n",
       "      <th>CVU</th>\n",
       "      <th>score_tm</th>\n",
       "    </tr>\n",
       "  </thead>\n",
       "  <tbody>\n",
       "  </tbody>\n",
       "</table>\n",
       "</div>"
      ],
      "text/plain": [
       "Empty DataFrame\n",
       "Columns: [id_proyecto, CVU, score_tm]\n",
       "Index: []"
      ]
     },
     "execution_count": 39,
     "metadata": {},
     "output_type": "execute_result"
    }
   ],
   "source": [
    "df_evaluadores_recomendados[df_evaluadores_recomendados[\"id_proyecto\"]==id_proyectos[proyecto]].head(10)"
   ]
  },
  {
   "cell_type": "code",
   "execution_count": null,
   "metadata": {},
   "outputs": [],
   "source": []
  },
  {
   "cell_type": "code",
   "execution_count": null,
   "metadata": {},
   "outputs": [],
   "source": []
  },
  {
   "cell_type": "code",
   "execution_count": null,
   "metadata": {},
   "outputs": [],
   "source": []
  }
 ],
 "metadata": {
  "kernelspec": {
   "display_name": "Python 3",
   "language": "python",
   "name": "python3"
  },
  "language_info": {
   "codemirror_mode": {
    "name": "ipython",
    "version": 3
   },
   "file_extension": ".py",
   "mimetype": "text/x-python",
   "name": "python",
   "nbconvert_exporter": "python",
   "pygments_lexer": "ipython3",
   "version": "3.7.4"
  }
 },
 "nbformat": 4,
 "nbformat_minor": 4
}
