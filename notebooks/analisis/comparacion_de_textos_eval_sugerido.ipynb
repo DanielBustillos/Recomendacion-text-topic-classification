{
 "cells": [
  {
   "cell_type": "markdown",
   "metadata": {},
   "source": [
    "## Encontrar top5 evaluadores"
   ]
  },
  {
   "cell_type": "code",
   "execution_count": 43,
   "metadata": {},
   "outputs": [],
   "source": [
    "from joblib import load, dump \n",
    "from sklearn.metrics.pairwise import cosine_similarity\n",
    "import pandas as pd\n",
    "import seaborn as sns\n",
    "import numpy as np"
   ]
  },
  {
   "cell_type": "markdown",
   "metadata": {},
   "source": [
    "### Topicos por evaluador"
   ]
  },
  {
   "cell_type": "code",
   "execution_count": 44,
   "metadata": {},
   "outputs": [
    {
     "data": {
      "text/html": [
       "<div>\n",
       "<style scoped>\n",
       "    .dataframe tbody tr th:only-of-type {\n",
       "        vertical-align: middle;\n",
       "    }\n",
       "\n",
       "    .dataframe tbody tr th {\n",
       "        vertical-align: top;\n",
       "    }\n",
       "\n",
       "    .dataframe thead th {\n",
       "        text-align: right;\n",
       "    }\n",
       "</style>\n",
       "<table border=\"1\" class=\"dataframe\">\n",
       "  <thead>\n",
       "    <tr style=\"text-align: right;\">\n",
       "      <th></th>\n",
       "      <th>CVU</th>\n",
       "      <th>0</th>\n",
       "      <th>1</th>\n",
       "      <th>2</th>\n",
       "      <th>3</th>\n",
       "      <th>4</th>\n",
       "      <th>5</th>\n",
       "      <th>6</th>\n",
       "      <th>7</th>\n",
       "      <th>8</th>\n",
       "      <th>...</th>\n",
       "      <th>290</th>\n",
       "      <th>291</th>\n",
       "      <th>292</th>\n",
       "      <th>293</th>\n",
       "      <th>294</th>\n",
       "      <th>295</th>\n",
       "      <th>296</th>\n",
       "      <th>297</th>\n",
       "      <th>298</th>\n",
       "      <th>299</th>\n",
       "    </tr>\n",
       "  </thead>\n",
       "  <tbody>\n",
       "    <tr>\n",
       "      <th>0</th>\n",
       "      <td>2</td>\n",
       "      <td>1.130600</td>\n",
       "      <td>0.118392</td>\n",
       "      <td>0.294950</td>\n",
       "      <td>0.356411</td>\n",
       "      <td>0.389314</td>\n",
       "      <td>0.133646</td>\n",
       "      <td>0.459778</td>\n",
       "      <td>0.835775</td>\n",
       "      <td>0.256283</td>\n",
       "      <td>...</td>\n",
       "      <td>0.094112</td>\n",
       "      <td>0.036073</td>\n",
       "      <td>0.208901</td>\n",
       "      <td>0.143347</td>\n",
       "      <td>0.016533</td>\n",
       "      <td>0.359721</td>\n",
       "      <td>0.001283</td>\n",
       "      <td>0.288486</td>\n",
       "      <td>0.200580</td>\n",
       "      <td>0.030831</td>\n",
       "    </tr>\n",
       "    <tr>\n",
       "      <th>1</th>\n",
       "      <td>3</td>\n",
       "      <td>0.798631</td>\n",
       "      <td>0.259242</td>\n",
       "      <td>1.130029</td>\n",
       "      <td>0.221025</td>\n",
       "      <td>0.482941</td>\n",
       "      <td>0.174408</td>\n",
       "      <td>1.473934</td>\n",
       "      <td>0.746537</td>\n",
       "      <td>0.899780</td>\n",
       "      <td>...</td>\n",
       "      <td>0.111244</td>\n",
       "      <td>0.038424</td>\n",
       "      <td>0.025052</td>\n",
       "      <td>0.191529</td>\n",
       "      <td>0.011577</td>\n",
       "      <td>0.243613</td>\n",
       "      <td>0.002569</td>\n",
       "      <td>0.065418</td>\n",
       "      <td>0.090378</td>\n",
       "      <td>0.000888</td>\n",
       "    </tr>\n",
       "    <tr>\n",
       "      <th>2</th>\n",
       "      <td>4</td>\n",
       "      <td>1.025511</td>\n",
       "      <td>0.222316</td>\n",
       "      <td>0.216595</td>\n",
       "      <td>0.378107</td>\n",
       "      <td>0.328052</td>\n",
       "      <td>0.161120</td>\n",
       "      <td>0.539472</td>\n",
       "      <td>0.670366</td>\n",
       "      <td>0.158943</td>\n",
       "      <td>...</td>\n",
       "      <td>0.074608</td>\n",
       "      <td>0.092555</td>\n",
       "      <td>0.145443</td>\n",
       "      <td>0.017091</td>\n",
       "      <td>0.069689</td>\n",
       "      <td>0.106354</td>\n",
       "      <td>0.109976</td>\n",
       "      <td>0.143644</td>\n",
       "      <td>0.222613</td>\n",
       "      <td>0.149978</td>\n",
       "    </tr>\n",
       "    <tr>\n",
       "      <th>3</th>\n",
       "      <td>5</td>\n",
       "      <td>0.931354</td>\n",
       "      <td>0.262250</td>\n",
       "      <td>0.144247</td>\n",
       "      <td>0.162760</td>\n",
       "      <td>0.126175</td>\n",
       "      <td>0.133520</td>\n",
       "      <td>0.533761</td>\n",
       "      <td>0.644740</td>\n",
       "      <td>0.175555</td>\n",
       "      <td>...</td>\n",
       "      <td>0.146362</td>\n",
       "      <td>0.001076</td>\n",
       "      <td>0.071753</td>\n",
       "      <td>0.261185</td>\n",
       "      <td>0.006734</td>\n",
       "      <td>0.143575</td>\n",
       "      <td>0.031772</td>\n",
       "      <td>0.066532</td>\n",
       "      <td>0.000424</td>\n",
       "      <td>0.115548</td>\n",
       "    </tr>\n",
       "    <tr>\n",
       "      <th>4</th>\n",
       "      <td>7</td>\n",
       "      <td>0.935074</td>\n",
       "      <td>1.381798</td>\n",
       "      <td>0.355821</td>\n",
       "      <td>0.111049</td>\n",
       "      <td>0.703582</td>\n",
       "      <td>1.122429</td>\n",
       "      <td>0.885398</td>\n",
       "      <td>0.564632</td>\n",
       "      <td>0.366130</td>\n",
       "      <td>...</td>\n",
       "      <td>0.047770</td>\n",
       "      <td>0.304340</td>\n",
       "      <td>0.150376</td>\n",
       "      <td>0.111851</td>\n",
       "      <td>0.153792</td>\n",
       "      <td>0.396355</td>\n",
       "      <td>0.086703</td>\n",
       "      <td>0.136461</td>\n",
       "      <td>0.000465</td>\n",
       "      <td>0.263136</td>\n",
       "    </tr>\n",
       "  </tbody>\n",
       "</table>\n",
       "<p>5 rows × 301 columns</p>\n",
       "</div>"
      ],
      "text/plain": [
       "   CVU         0         1         2         3         4         5         6  \\\n",
       "0    2  1.130600  0.118392  0.294950  0.356411  0.389314  0.133646  0.459778   \n",
       "1    3  0.798631  0.259242  1.130029  0.221025  0.482941  0.174408  1.473934   \n",
       "2    4  1.025511  0.222316  0.216595  0.378107  0.328052  0.161120  0.539472   \n",
       "3    5  0.931354  0.262250  0.144247  0.162760  0.126175  0.133520  0.533761   \n",
       "4    7  0.935074  1.381798  0.355821  0.111049  0.703582  1.122429  0.885398   \n",
       "\n",
       "          7         8  ...       290       291       292       293       294  \\\n",
       "0  0.835775  0.256283  ...  0.094112  0.036073  0.208901  0.143347  0.016533   \n",
       "1  0.746537  0.899780  ...  0.111244  0.038424  0.025052  0.191529  0.011577   \n",
       "2  0.670366  0.158943  ...  0.074608  0.092555  0.145443  0.017091  0.069689   \n",
       "3  0.644740  0.175555  ...  0.146362  0.001076  0.071753  0.261185  0.006734   \n",
       "4  0.564632  0.366130  ...  0.047770  0.304340  0.150376  0.111851  0.153792   \n",
       "\n",
       "        295       296       297       298       299  \n",
       "0  0.359721  0.001283  0.288486  0.200580  0.030831  \n",
       "1  0.243613  0.002569  0.065418  0.090378  0.000888  \n",
       "2  0.106354  0.109976  0.143644  0.222613  0.149978  \n",
       "3  0.143575  0.031772  0.066532  0.000424  0.115548  \n",
       "4  0.396355  0.086703  0.136461  0.000465  0.263136  \n",
       "\n",
       "[5 rows x 301 columns]"
      ]
     },
     "execution_count": 44,
     "metadata": {},
     "output_type": "execute_result"
    }
   ],
   "source": [
    "topicos_evaluador = load('../../trained_models/modelo_entregado/respaldo/archivos/topicos_por_evaluador_trained.pkl')\n",
    "topicos_evaluador.reset_index(drop=False,inplace=True)\n",
    "evaluadores_entreanado = topicos_evaluador[\"CVU\"].tolist()\n",
    "#  rcea_entreanado = topicos_evaluador[\"CVU\"].tolist()\n",
    "topicos_evaluador.head(5)"
   ]
  },
  {
   "cell_type": "code",
   "execution_count": 45,
   "metadata": {},
   "outputs": [
    {
     "data": {
      "text/plain": [
       "8842"
      ]
     },
     "execution_count": 45,
     "metadata": {},
     "output_type": "execute_result"
    }
   ],
   "source": [
    "topicos_evaluador[\"CVU\"].nunique()"
   ]
  },
  {
   "cell_type": "markdown",
   "metadata": {},
   "source": [
    "## Topicos por propuesta"
   ]
  },
  {
   "cell_type": "code",
   "execution_count": 46,
   "metadata": {},
   "outputs": [
    {
     "data": {
      "text/html": [
       "<div>\n",
       "<style scoped>\n",
       "    .dataframe tbody tr th:only-of-type {\n",
       "        vertical-align: middle;\n",
       "    }\n",
       "\n",
       "    .dataframe tbody tr th {\n",
       "        vertical-align: top;\n",
       "    }\n",
       "\n",
       "    .dataframe thead th {\n",
       "        text-align: right;\n",
       "    }\n",
       "</style>\n",
       "<table border=\"1\" class=\"dataframe\">\n",
       "  <thead>\n",
       "    <tr style=\"text-align: right;\">\n",
       "      <th></th>\n",
       "      <th>0</th>\n",
       "      <th>1</th>\n",
       "      <th>2</th>\n",
       "      <th>3</th>\n",
       "      <th>4</th>\n",
       "      <th>5</th>\n",
       "      <th>6</th>\n",
       "      <th>7</th>\n",
       "      <th>8</th>\n",
       "      <th>9</th>\n",
       "      <th>...</th>\n",
       "      <th>291</th>\n",
       "      <th>292</th>\n",
       "      <th>293</th>\n",
       "      <th>294</th>\n",
       "      <th>295</th>\n",
       "      <th>296</th>\n",
       "      <th>297</th>\n",
       "      <th>298</th>\n",
       "      <th>299</th>\n",
       "      <th>ID_PROYECTO</th>\n",
       "    </tr>\n",
       "  </thead>\n",
       "  <tbody>\n",
       "    <tr>\n",
       "      <th>0</th>\n",
       "      <td>0.599992</td>\n",
       "      <td>0.383979</td>\n",
       "      <td>0.437086</td>\n",
       "      <td>0.098177</td>\n",
       "      <td>0.090821</td>\n",
       "      <td>0.121714</td>\n",
       "      <td>0.478865</td>\n",
       "      <td>0.144643</td>\n",
       "      <td>0.235428</td>\n",
       "      <td>0.043327</td>\n",
       "      <td>...</td>\n",
       "      <td>6.818960e-08</td>\n",
       "      <td>0.043533</td>\n",
       "      <td>0.256114</td>\n",
       "      <td>6.382170e-08</td>\n",
       "      <td>2.195989e-09</td>\n",
       "      <td>1.738395e-08</td>\n",
       "      <td>8.195671e-07</td>\n",
       "      <td>0.000001</td>\n",
       "      <td>1.604645e-09</td>\n",
       "      <td>4647203</td>\n",
       "    </tr>\n",
       "    <tr>\n",
       "      <th>1</th>\n",
       "      <td>0.451738</td>\n",
       "      <td>2.867823</td>\n",
       "      <td>0.387988</td>\n",
       "      <td>0.168737</td>\n",
       "      <td>0.067228</td>\n",
       "      <td>0.469127</td>\n",
       "      <td>0.364380</td>\n",
       "      <td>0.401964</td>\n",
       "      <td>0.188020</td>\n",
       "      <td>0.118290</td>\n",
       "      <td>...</td>\n",
       "      <td>4.985725e-01</td>\n",
       "      <td>0.069736</td>\n",
       "      <td>0.399692</td>\n",
       "      <td>1.545346e-04</td>\n",
       "      <td>9.232526e-03</td>\n",
       "      <td>4.200308e-01</td>\n",
       "      <td>7.693902e-07</td>\n",
       "      <td>0.000732</td>\n",
       "      <td>3.132806e-05</td>\n",
       "      <td>2574574</td>\n",
       "    </tr>\n",
       "  </tbody>\n",
       "</table>\n",
       "<p>2 rows × 301 columns</p>\n",
       "</div>"
      ],
      "text/plain": [
       "          0         1         2         3         4         5         6  \\\n",
       "0  0.599992  0.383979  0.437086  0.098177  0.090821  0.121714  0.478865   \n",
       "1  0.451738  2.867823  0.387988  0.168737  0.067228  0.469127  0.364380   \n",
       "\n",
       "          7         8         9  ...           291       292       293  \\\n",
       "0  0.144643  0.235428  0.043327  ...  6.818960e-08  0.043533  0.256114   \n",
       "1  0.401964  0.188020  0.118290  ...  4.985725e-01  0.069736  0.399692   \n",
       "\n",
       "            294           295           296           297       298  \\\n",
       "0  6.382170e-08  2.195989e-09  1.738395e-08  8.195671e-07  0.000001   \n",
       "1  1.545346e-04  9.232526e-03  4.200308e-01  7.693902e-07  0.000732   \n",
       "\n",
       "            299  ID_PROYECTO  \n",
       "0  1.604645e-09      4647203  \n",
       "1  3.132806e-05      2574574  \n",
       "\n",
       "[2 rows x 301 columns]"
      ]
     },
     "execution_count": 46,
     "metadata": {},
     "output_type": "execute_result"
    }
   ],
   "source": [
    "topicos_texto = load(\"../../trained_models/modelo_entregado/respaldo/archivos/topicos_por_texto_trained.pkl\")\n",
    "topicos_texto.drop_duplicates(\"ID_PROYECTO\", inplace=True)\n",
    "id_proyecto_index = topicos_texto[\"ID_PROYECTO\"].tolist()\n",
    "topicos_texto.head(2)"
   ]
  },
  {
   "cell_type": "code",
   "execution_count": 47,
   "metadata": {},
   "outputs": [
    {
     "data": {
      "text/plain": [
       "(3232, 301)"
      ]
     },
     "execution_count": 47,
     "metadata": {},
     "output_type": "execute_result"
    }
   ],
   "source": [
    "topicos_texto.shape"
   ]
  },
  {
   "cell_type": "markdown",
   "metadata": {},
   "source": [
    "### cosine similarity"
   ]
  },
  {
   "cell_type": "markdown",
   "metadata": {},
   "source": [
    "obtener score en las colas t."
   ]
  },
  {
   "cell_type": "code",
   "execution_count": 48,
   "metadata": {},
   "outputs": [],
   "source": [
    "cos_simi = cosine_similarity(topicos_evaluador.iloc[:,1:], topicos_texto.iloc[:,:-1])"
   ]
  },
  {
   "cell_type": "code",
   "execution_count": 49,
   "metadata": {},
   "outputs": [
    {
     "data": {
      "text/plain": [
       "<matplotlib.axes._subplots.AxesSubplot at 0x7f3e8a374b00>"
      ]
     },
     "execution_count": 49,
     "metadata": {},
     "output_type": "execute_result"
    },
    {
     "data": {
      "image/png": "[encoded data removed]",
      "text/plain": [
       "<Figure size 432x288 with 1 Axes>"
      ]
     },
     "metadata": {
      "needs_background": "light"
     },
     "output_type": "display_data"
    }
   ],
   "source": [
    "df_cos_simi = pd.DataFrame(cos_simi)\n",
    "sns.distplot(df_cos_simi.mean(axis=0))"
   ]
  },
  {
   "cell_type": "markdown",
   "metadata": {},
   "source": [
    "## encontrar top 5 evaluadores"
   ]
  },
  {
   "cell_type": "code",
   "execution_count": null,
   "metadata": {},
   "outputs": [],
   "source": []
  },
  {
   "cell_type": "code",
   "execution_count": 50,
   "metadata": {},
   "outputs": [],
   "source": [
    "numero_sugeridos = 20"
   ]
  },
  {
   "cell_type": "markdown",
   "metadata": {},
   "source": [
    "encontramos elpercentil 97 por fila"
   ]
  },
  {
   "cell_type": "code",
   "execution_count": 51,
   "metadata": {},
   "outputs": [
    {
     "data": {
      "text/html": [
       "<div>\n",
       "<style scoped>\n",
       "    .dataframe tbody tr th:only-of-type {\n",
       "        vertical-align: middle;\n",
       "    }\n",
       "\n",
       "    .dataframe tbody tr th {\n",
       "        vertical-align: top;\n",
       "    }\n",
       "\n",
       "    .dataframe thead th {\n",
       "        text-align: right;\n",
       "    }\n",
       "</style>\n",
       "<table border=\"1\" class=\"dataframe\">\n",
       "  <thead>\n",
       "    <tr style=\"text-align: right;\">\n",
       "      <th></th>\n",
       "      <th>id_proyecto</th>\n",
       "      <th>CVU</th>\n",
       "      <th>score_tm</th>\n",
       "    </tr>\n",
       "  </thead>\n",
       "  <tbody>\n",
       "    <tr>\n",
       "      <th>0</th>\n",
       "      <td>NaN</td>\n",
       "      <td>NaN</td>\n",
       "      <td>NaN</td>\n",
       "    </tr>\n",
       "    <tr>\n",
       "      <th>1</th>\n",
       "      <td>NaN</td>\n",
       "      <td>NaN</td>\n",
       "      <td>NaN</td>\n",
       "    </tr>\n",
       "    <tr>\n",
       "      <th>2</th>\n",
       "      <td>NaN</td>\n",
       "      <td>NaN</td>\n",
       "      <td>NaN</td>\n",
       "    </tr>\n",
       "    <tr>\n",
       "      <th>3</th>\n",
       "      <td>NaN</td>\n",
       "      <td>NaN</td>\n",
       "      <td>NaN</td>\n",
       "    </tr>\n",
       "    <tr>\n",
       "      <th>4</th>\n",
       "      <td>NaN</td>\n",
       "      <td>NaN</td>\n",
       "      <td>NaN</td>\n",
       "    </tr>\n",
       "  </tbody>\n",
       "</table>\n",
       "</div>"
      ],
      "text/plain": [
       "  id_proyecto  CVU score_tm\n",
       "0         NaN  NaN      NaN\n",
       "1         NaN  NaN      NaN\n",
       "2         NaN  NaN      NaN\n",
       "3         NaN  NaN      NaN\n",
       "4         NaN  NaN      NaN"
      ]
     },
     "execution_count": 51,
     "metadata": {},
     "output_type": "execute_result"
    }
   ],
   "source": [
    "df_evaluadores_recomendados = pd.DataFrame(index=[i for i in range(len(id_proyecto_index*numero_sugeridos))]\n",
    "                                           ,columns=[\"id_proyecto\",\"CVU\",\"score_tm\"])\n",
    "df_evaluadores_recomendados.head()                                "
   ]
  },
  {
   "cell_type": "code",
   "execution_count": 52,
   "metadata": {},
   "outputs": [],
   "source": [
    "def normalize(lista, to_sum=False, copy=True):\n",
    "    # d is a (n x dimension) np array\n",
    "    lista_max = np.max(lista, axis=0)\n",
    "    lista = [elemento/lista_max for elemento in lista ]\n",
    "    return lista"
   ]
  },
  {
   "cell_type": "code",
   "execution_count": 53,
   "metadata": {},
   "outputs": [],
   "source": [
    "cvu_evaluadores_lista = []\n",
    "score_evaluadores_lista = []\n",
    "id_proyecto_lista = []\n",
    "\n",
    "for proyecto in range(df_cos_simi.shape[1]):\n",
    "    \n",
    "    list_each_proyecto = df_cos_simi.iloc[:,proyecto].tolist()\n",
    "    \n",
    "    top_5_idx = np.argsort(list_each_proyecto)[-numero_sugeridos:][::-1].tolist()\n",
    "    \n",
    "    [cvu_evaluadores_lista.append(evaluadores_entreanado[pos]) for pos in top_5_idx] \n",
    "    \n",
    "    # normalized_score = normalize([df_cos_simi.iloc[pos,proyecto] for pos in top_5_idx])\n",
    "    [score_evaluadores_lista.append(df_cos_simi.iloc[pos,proyecto]) for pos in top_5_idx]\n",
    "    [id_proyecto_lista.append(id_proyecto_index[proyecto]) for i in range(numero_sugeridos)]\n"
   ]
  },
  {
   "cell_type": "code",
   "execution_count": 54,
   "metadata": {},
   "outputs": [],
   "source": [
    "df_evaluadores_recomendados[\"id_proyecto\"] = id_proyecto_lista\n",
    "df_evaluadores_recomendados[\"CVU\"] = cvu_evaluadores_lista\n",
    "df_evaluadores_recomendados[\"score_tm\"] = score_evaluadores_lista"
   ]
  },
  {
   "cell_type": "code",
   "execution_count": null,
   "metadata": {},
   "outputs": [],
   "source": []
  },
  {
   "cell_type": "code",
   "execution_count": 55,
   "metadata": {},
   "outputs": [
    {
     "data": {
      "text/html": [
       "<div>\n",
       "<style scoped>\n",
       "    .dataframe tbody tr th:only-of-type {\n",
       "        vertical-align: middle;\n",
       "    }\n",
       "\n",
       "    .dataframe tbody tr th {\n",
       "        vertical-align: top;\n",
       "    }\n",
       "\n",
       "    .dataframe thead th {\n",
       "        text-align: right;\n",
       "    }\n",
       "</style>\n",
       "<table border=\"1\" class=\"dataframe\">\n",
       "  <thead>\n",
       "    <tr style=\"text-align: right;\">\n",
       "      <th></th>\n",
       "      <th>id_proyecto</th>\n",
       "      <th>CVU</th>\n",
       "      <th>score_tm</th>\n",
       "    </tr>\n",
       "  </thead>\n",
       "  <tbody>\n",
       "    <tr>\n",
       "      <th>0</th>\n",
       "      <td>4647203</td>\n",
       "      <td>120981</td>\n",
       "      <td>0.668643</td>\n",
       "    </tr>\n",
       "    <tr>\n",
       "      <th>1</th>\n",
       "      <td>4647203</td>\n",
       "      <td>55008</td>\n",
       "      <td>0.664404</td>\n",
       "    </tr>\n",
       "    <tr>\n",
       "      <th>2</th>\n",
       "      <td>4647203</td>\n",
       "      <td>344873</td>\n",
       "      <td>0.661457</td>\n",
       "    </tr>\n",
       "    <tr>\n",
       "      <th>3</th>\n",
       "      <td>4647203</td>\n",
       "      <td>299283</td>\n",
       "      <td>0.645468</td>\n",
       "    </tr>\n",
       "    <tr>\n",
       "      <th>4</th>\n",
       "      <td>4647203</td>\n",
       "      <td>20027</td>\n",
       "      <td>0.641073</td>\n",
       "    </tr>\n",
       "    <tr>\n",
       "      <th>5</th>\n",
       "      <td>4647203</td>\n",
       "      <td>12426</td>\n",
       "      <td>0.634665</td>\n",
       "    </tr>\n",
       "    <tr>\n",
       "      <th>6</th>\n",
       "      <td>4647203</td>\n",
       "      <td>436019</td>\n",
       "      <td>0.634357</td>\n",
       "    </tr>\n",
       "    <tr>\n",
       "      <th>7</th>\n",
       "      <td>4647203</td>\n",
       "      <td>15326</td>\n",
       "      <td>0.633498</td>\n",
       "    </tr>\n",
       "    <tr>\n",
       "      <th>8</th>\n",
       "      <td>4647203</td>\n",
       "      <td>10087</td>\n",
       "      <td>0.633415</td>\n",
       "    </tr>\n",
       "    <tr>\n",
       "      <th>9</th>\n",
       "      <td>4647203</td>\n",
       "      <td>13010</td>\n",
       "      <td>0.632130</td>\n",
       "    </tr>\n",
       "    <tr>\n",
       "      <th>10</th>\n",
       "      <td>4647203</td>\n",
       "      <td>37296</td>\n",
       "      <td>0.630614</td>\n",
       "    </tr>\n",
       "    <tr>\n",
       "      <th>11</th>\n",
       "      <td>4647203</td>\n",
       "      <td>623</td>\n",
       "      <td>0.627687</td>\n",
       "    </tr>\n",
       "    <tr>\n",
       "      <th>12</th>\n",
       "      <td>4647203</td>\n",
       "      <td>14433</td>\n",
       "      <td>0.626160</td>\n",
       "    </tr>\n",
       "    <tr>\n",
       "      <th>13</th>\n",
       "      <td>4647203</td>\n",
       "      <td>14539</td>\n",
       "      <td>0.621765</td>\n",
       "    </tr>\n",
       "    <tr>\n",
       "      <th>14</th>\n",
       "      <td>4647203</td>\n",
       "      <td>201489</td>\n",
       "      <td>0.619371</td>\n",
       "    </tr>\n",
       "    <tr>\n",
       "      <th>15</th>\n",
       "      <td>4647203</td>\n",
       "      <td>25714</td>\n",
       "      <td>0.618821</td>\n",
       "    </tr>\n",
       "    <tr>\n",
       "      <th>16</th>\n",
       "      <td>4647203</td>\n",
       "      <td>6972</td>\n",
       "      <td>0.618728</td>\n",
       "    </tr>\n",
       "    <tr>\n",
       "      <th>17</th>\n",
       "      <td>4647203</td>\n",
       "      <td>19467</td>\n",
       "      <td>0.612929</td>\n",
       "    </tr>\n",
       "    <tr>\n",
       "      <th>18</th>\n",
       "      <td>4647203</td>\n",
       "      <td>26004</td>\n",
       "      <td>0.612397</td>\n",
       "    </tr>\n",
       "    <tr>\n",
       "      <th>19</th>\n",
       "      <td>4647203</td>\n",
       "      <td>4333</td>\n",
       "      <td>0.611429</td>\n",
       "    </tr>\n",
       "    <tr>\n",
       "      <th>20</th>\n",
       "      <td>2574574</td>\n",
       "      <td>1973</td>\n",
       "      <td>0.727728</td>\n",
       "    </tr>\n",
       "    <tr>\n",
       "      <th>21</th>\n",
       "      <td>2574574</td>\n",
       "      <td>12968</td>\n",
       "      <td>0.723766</td>\n",
       "    </tr>\n",
       "    <tr>\n",
       "      <th>22</th>\n",
       "      <td>2574574</td>\n",
       "      <td>40248</td>\n",
       "      <td>0.714033</td>\n",
       "    </tr>\n",
       "    <tr>\n",
       "      <th>23</th>\n",
       "      <td>2574574</td>\n",
       "      <td>6577</td>\n",
       "      <td>0.713618</td>\n",
       "    </tr>\n",
       "    <tr>\n",
       "      <th>24</th>\n",
       "      <td>2574574</td>\n",
       "      <td>11114</td>\n",
       "      <td>0.711742</td>\n",
       "    </tr>\n",
       "    <tr>\n",
       "      <th>25</th>\n",
       "      <td>2574574</td>\n",
       "      <td>9287</td>\n",
       "      <td>0.707891</td>\n",
       "    </tr>\n",
       "    <tr>\n",
       "      <th>26</th>\n",
       "      <td>2574574</td>\n",
       "      <td>20813</td>\n",
       "      <td>0.707268</td>\n",
       "    </tr>\n",
       "    <tr>\n",
       "      <th>27</th>\n",
       "      <td>2574574</td>\n",
       "      <td>122937</td>\n",
       "      <td>0.701755</td>\n",
       "    </tr>\n",
       "    <tr>\n",
       "      <th>28</th>\n",
       "      <td>2574574</td>\n",
       "      <td>25477</td>\n",
       "      <td>0.701604</td>\n",
       "    </tr>\n",
       "    <tr>\n",
       "      <th>29</th>\n",
       "      <td>2574574</td>\n",
       "      <td>123541</td>\n",
       "      <td>0.699078</td>\n",
       "    </tr>\n",
       "    <tr>\n",
       "      <th>30</th>\n",
       "      <td>2574574</td>\n",
       "      <td>120519</td>\n",
       "      <td>0.697909</td>\n",
       "    </tr>\n",
       "    <tr>\n",
       "      <th>31</th>\n",
       "      <td>2574574</td>\n",
       "      <td>222086</td>\n",
       "      <td>0.697262</td>\n",
       "    </tr>\n",
       "    <tr>\n",
       "      <th>32</th>\n",
       "      <td>2574574</td>\n",
       "      <td>123242</td>\n",
       "      <td>0.695868</td>\n",
       "    </tr>\n",
       "    <tr>\n",
       "      <th>33</th>\n",
       "      <td>2574574</td>\n",
       "      <td>238725</td>\n",
       "      <td>0.692654</td>\n",
       "    </tr>\n",
       "    <tr>\n",
       "      <th>34</th>\n",
       "      <td>2574574</td>\n",
       "      <td>121886</td>\n",
       "      <td>0.692156</td>\n",
       "    </tr>\n",
       "    <tr>\n",
       "      <th>35</th>\n",
       "      <td>2574574</td>\n",
       "      <td>14281</td>\n",
       "      <td>0.690757</td>\n",
       "    </tr>\n",
       "    <tr>\n",
       "      <th>36</th>\n",
       "      <td>2574574</td>\n",
       "      <td>5571</td>\n",
       "      <td>0.689298</td>\n",
       "    </tr>\n",
       "    <tr>\n",
       "      <th>37</th>\n",
       "      <td>2574574</td>\n",
       "      <td>2163</td>\n",
       "      <td>0.689249</td>\n",
       "    </tr>\n",
       "    <tr>\n",
       "      <th>38</th>\n",
       "      <td>2574574</td>\n",
       "      <td>21436</td>\n",
       "      <td>0.689174</td>\n",
       "    </tr>\n",
       "    <tr>\n",
       "      <th>39</th>\n",
       "      <td>2574574</td>\n",
       "      <td>6471</td>\n",
       "      <td>0.688987</td>\n",
       "    </tr>\n",
       "    <tr>\n",
       "      <th>40</th>\n",
       "      <td>1098668</td>\n",
       "      <td>2629</td>\n",
       "      <td>0.688218</td>\n",
       "    </tr>\n",
       "    <tr>\n",
       "      <th>41</th>\n",
       "      <td>1098668</td>\n",
       "      <td>914</td>\n",
       "      <td>0.675738</td>\n",
       "    </tr>\n",
       "    <tr>\n",
       "      <th>42</th>\n",
       "      <td>1098668</td>\n",
       "      <td>2161</td>\n",
       "      <td>0.674880</td>\n",
       "    </tr>\n",
       "    <tr>\n",
       "      <th>43</th>\n",
       "      <td>1098668</td>\n",
       "      <td>30552</td>\n",
       "      <td>0.670602</td>\n",
       "    </tr>\n",
       "    <tr>\n",
       "      <th>44</th>\n",
       "      <td>1098668</td>\n",
       "      <td>643</td>\n",
       "      <td>0.667442</td>\n",
       "    </tr>\n",
       "    <tr>\n",
       "      <th>45</th>\n",
       "      <td>1098668</td>\n",
       "      <td>30500</td>\n",
       "      <td>0.665919</td>\n",
       "    </tr>\n",
       "    <tr>\n",
       "      <th>46</th>\n",
       "      <td>1098668</td>\n",
       "      <td>16002</td>\n",
       "      <td>0.664089</td>\n",
       "    </tr>\n",
       "    <tr>\n",
       "      <th>47</th>\n",
       "      <td>1098668</td>\n",
       "      <td>20422</td>\n",
       "      <td>0.663158</td>\n",
       "    </tr>\n",
       "    <tr>\n",
       "      <th>48</th>\n",
       "      <td>1098668</td>\n",
       "      <td>2164</td>\n",
       "      <td>0.661928</td>\n",
       "    </tr>\n",
       "    <tr>\n",
       "      <th>49</th>\n",
       "      <td>1098668</td>\n",
       "      <td>122232</td>\n",
       "      <td>0.661874</td>\n",
       "    </tr>\n",
       "  </tbody>\n",
       "</table>\n",
       "</div>"
      ],
      "text/plain": [
       "    id_proyecto     CVU  score_tm\n",
       "0       4647203  120981  0.668643\n",
       "1       4647203   55008  0.664404\n",
       "2       4647203  344873  0.661457\n",
       "3       4647203  299283  0.645468\n",
       "4       4647203   20027  0.641073\n",
       "5       4647203   12426  0.634665\n",
       "6       4647203  436019  0.634357\n",
       "7       4647203   15326  0.633498\n",
       "8       4647203   10087  0.633415\n",
       "9       4647203   13010  0.632130\n",
       "10      4647203   37296  0.630614\n",
       "11      4647203     623  0.627687\n",
       "12      4647203   14433  0.626160\n",
       "13      4647203   14539  0.621765\n",
       "14      4647203  201489  0.619371\n",
       "15      4647203   25714  0.618821\n",
       "16      4647203    6972  0.618728\n",
       "17      4647203   19467  0.612929\n",
       "18      4647203   26004  0.612397\n",
       "19      4647203    4333  0.611429\n",
       "20      2574574    1973  0.727728\n",
       "21      2574574   12968  0.723766\n",
       "22      2574574   40248  0.714033\n",
       "23      2574574    6577  0.713618\n",
       "24      2574574   11114  0.711742\n",
       "25      2574574    9287  0.707891\n",
       "26      2574574   20813  0.707268\n",
       "27      2574574  122937  0.701755\n",
       "28      2574574   25477  0.701604\n",
       "29      2574574  123541  0.699078\n",
       "30      2574574  120519  0.697909\n",
       "31      2574574  222086  0.697262\n",
       "32      2574574  123242  0.695868\n",
       "33      2574574  238725  0.692654\n",
       "34      2574574  121886  0.692156\n",
       "35      2574574   14281  0.690757\n",
       "36      2574574    5571  0.689298\n",
       "37      2574574    2163  0.689249\n",
       "38      2574574   21436  0.689174\n",
       "39      2574574    6471  0.688987\n",
       "40      1098668    2629  0.688218\n",
       "41      1098668     914  0.675738\n",
       "42      1098668    2161  0.674880\n",
       "43      1098668   30552  0.670602\n",
       "44      1098668     643  0.667442\n",
       "45      1098668   30500  0.665919\n",
       "46      1098668   16002  0.664089\n",
       "47      1098668   20422  0.663158\n",
       "48      1098668    2164  0.661928\n",
       "49      1098668  122232  0.661874"
      ]
     },
     "execution_count": 55,
     "metadata": {},
     "output_type": "execute_result"
    }
   ],
   "source": [
    "df_evaluadores_recomendados.iloc[0:50,:]"
   ]
  },
  {
   "cell_type": "code",
   "execution_count": 56,
   "metadata": {},
   "outputs": [
    {
     "data": {
      "text/plain": [
       "<matplotlib.axes._subplots.AxesSubplot at 0x7f3e8a882630>"
      ]
     },
     "execution_count": 56,
     "metadata": {},
     "output_type": "execute_result"
    },
    {
     "data": {
      "image/png": "[encoded data removed]",
      "text/plain": [
       "<Figure size 432x288 with 1 Axes>"
      ]
     },
     "metadata": {
      "needs_background": "light"
     },
     "output_type": "display_data"
    }
   ],
   "source": [
    "import seaborn as sns\n",
    "sns.distplot(df_evaluadores_recomendados[\"score_tm\"])"
   ]
  },
  {
   "cell_type": "markdown",
   "metadata": {},
   "source": [
    "Numero de proyecto asignados a evaluador"
   ]
  },
  {
   "cell_type": "code",
   "execution_count": 57,
   "metadata": {},
   "outputs": [
    {
     "data": {
      "text/plain": [
       "<matplotlib.axes._subplots.AxesSubplot at 0x7f3e8a820550>"
      ]
     },
     "execution_count": 57,
     "metadata": {},
     "output_type": "execute_result"
    },
    {
     "data": {
      "image/png": "[encoded data removed]",
      "text/plain": [
       "<Figure size 432x288 with 1 Axes>"
      ]
     },
     "metadata": {
      "needs_background": "light"
     },
     "output_type": "display_data"
    }
   ],
   "source": [
    "df_evaluadores_recomendados[\"CVU\"].value_counts().hist()"
   ]
  },
  {
   "cell_type": "markdown",
   "metadata": {},
   "source": [
    "distribucion del score"
   ]
  },
  {
   "cell_type": "code",
   "execution_count": 58,
   "metadata": {},
   "outputs": [
    {
     "data": {
      "text/plain": [
       "<matplotlib.axes._subplots.AxesSubplot at 0x7f3e8809aa20>"
      ]
     },
     "execution_count": 58,
     "metadata": {},
     "output_type": "execute_result"
    },
    {
     "data": {
      "image/png": "[encoded data removed]",
      "text/plain": [
       "<Figure size 432x288 with 1 Axes>"
      ]
     },
     "metadata": {
      "needs_background": "light"
     },
     "output_type": "display_data"
    }
   ],
   "source": [
    "df_evaluadores_recomendados[\"score_tm\"].hist(bins=30)"
   ]
  },
  {
   "cell_type": "raw",
   "metadata": {},
   "source": [
    "dump( df_evaluadores_recomendados, \"./propuesta_evaluadores.pkl\")"
   ]
  },
  {
   "cell_type": "markdown",
   "metadata": {},
   "source": [
    "___"
   ]
  },
  {
   "cell_type": "markdown",
   "metadata": {},
   "source": [
    "### Comparación de textos de cada evaluador entre nueva asignacion de valuacion y proyectos ya evalaudos"
   ]
  },
  {
   "cell_type": "code",
   "execution_count": 25,
   "metadata": {},
   "outputs": [],
   "source": [
    "df_conv_2019 = pd.read_csv(\"../../data/solicitudes_2019/raw/solicitudes_201912031041.csv\")"
   ]
  },
  {
   "cell_type": "code",
   "execution_count": 26,
   "metadata": {},
   "outputs": [
    {
     "data": {
      "text/html": [
       "<div>\n",
       "<style scoped>\n",
       "    .dataframe tbody tr th:only-of-type {\n",
       "        vertical-align: middle;\n",
       "    }\n",
       "\n",
       "    .dataframe tbody tr th {\n",
       "        vertical-align: top;\n",
       "    }\n",
       "\n",
       "    .dataframe thead th {\n",
       "        text-align: right;\n",
       "    }\n",
       "</style>\n",
       "<table border=\"1\" class=\"dataframe\">\n",
       "  <thead>\n",
       "    <tr style=\"text-align: right;\">\n",
       "      <th></th>\n",
       "      <th>convocatoria</th>\n",
       "      <th>clave</th>\n",
       "      <th>proyecto_id</th>\n",
       "      <th>id_area</th>\n",
       "      <th>area</th>\n",
       "      <th>id_campo</th>\n",
       "      <th>campo</th>\n",
       "      <th>id_disciplina</th>\n",
       "      <th>disciplina</th>\n",
       "      <th>id_subdisciplina</th>\n",
       "      <th>...</th>\n",
       "      <th>pc8</th>\n",
       "      <th>pc9</th>\n",
       "      <th>pc10</th>\n",
       "      <th>pc11</th>\n",
       "      <th>pc12</th>\n",
       "      <th>pc13</th>\n",
       "      <th>pc14</th>\n",
       "      <th>pc15</th>\n",
       "      <th>pc16</th>\n",
       "      <th>pc17</th>\n",
       "    </tr>\n",
       "  </thead>\n",
       "  <tbody>\n",
       "    <tr>\n",
       "      <th>0</th>\n",
       "      <td>Ciencia de Frontera 2019</td>\n",
       "      <td>CF-MG-20191107191915010-4647203</td>\n",
       "      <td>4647203</td>\n",
       "      <td>1</td>\n",
       "      <td>Ciencias físico matemáticas y ciencias de la t...</td>\n",
       "      <td>4</td>\n",
       "      <td>Física</td>\n",
       "      <td>24</td>\n",
       "      <td>Fisica estadística</td>\n",
       "      <td>604</td>\n",
       "      <td>...</td>\n",
       "      <td>stress test</td>\n",
       "      <td>NaN</td>\n",
       "      <td>NaN</td>\n",
       "      <td>NaN</td>\n",
       "      <td>NaN</td>\n",
       "      <td>NaN</td>\n",
       "      <td>NaN</td>\n",
       "      <td>NaN</td>\n",
       "      <td>NaN</td>\n",
       "      <td>NaN</td>\n",
       "    </tr>\n",
       "    <tr>\n",
       "      <th>1</th>\n",
       "      <td>Ciencia de Frontera 2019</td>\n",
       "      <td>CF-MG-20191105031440822-2574574</td>\n",
       "      <td>2574574</td>\n",
       "      <td>3</td>\n",
       "      <td>Medicina y ciencias de la salud</td>\n",
       "      <td>121</td>\n",
       "      <td>Investigación médica</td>\n",
       "      <td>837</td>\n",
       "      <td>Enfermedades infecciosas, bacteriología clínic...</td>\n",
       "      <td>4856</td>\n",
       "      <td>...</td>\n",
       "      <td>NaN</td>\n",
       "      <td>NaN</td>\n",
       "      <td>NaN</td>\n",
       "      <td>NaN</td>\n",
       "      <td>NaN</td>\n",
       "      <td>NaN</td>\n",
       "      <td>NaN</td>\n",
       "      <td>NaN</td>\n",
       "      <td>NaN</td>\n",
       "      <td>NaN</td>\n",
       "    </tr>\n",
       "  </tbody>\n",
       "</table>\n",
       "<p>2 rows × 58 columns</p>\n",
       "</div>"
      ],
      "text/plain": [
       "               convocatoria                            clave  proyecto_id  \\\n",
       "0  Ciencia de Frontera 2019  CF-MG-20191107191915010-4647203      4647203   \n",
       "1  Ciencia de Frontera 2019  CF-MG-20191105031440822-2574574      2574574   \n",
       "\n",
       "   id_area                                               area  id_campo  \\\n",
       "0        1  Ciencias físico matemáticas y ciencias de la t...         4   \n",
       "1        3                    Medicina y ciencias de la salud       121   \n",
       "\n",
       "                  campo  id_disciplina  \\\n",
       "0                Física             24   \n",
       "1  Investigación médica            837   \n",
       "\n",
       "                                          disciplina  id_subdisciplina  ...  \\\n",
       "0                                 Fisica estadística               604  ...   \n",
       "1  Enfermedades infecciosas, bacteriología clínic...              4856  ...   \n",
       "\n",
       "           pc8  pc9 pc10 pc11 pc12 pc13 pc14 pc15 pc16 pc17  \n",
       "0  stress test  NaN  NaN  NaN  NaN  NaN  NaN  NaN  NaN  NaN  \n",
       "1          NaN  NaN  NaN  NaN  NaN  NaN  NaN  NaN  NaN  NaN  \n",
       "\n",
       "[2 rows x 58 columns]"
      ]
     },
     "execution_count": 26,
     "metadata": {},
     "output_type": "execute_result"
    }
   ],
   "source": [
    "df_conv_2019.head(2)"
   ]
  },
  {
   "cell_type": "markdown",
   "metadata": {},
   "source": [
    "Exploracion de proyectos a evaluar "
   ]
  },
  {
   "cell_type": "code",
   "execution_count": 27,
   "metadata": {},
   "outputs": [],
   "source": [
    "lista_proyectos = df_evaluadores_recomendados[\"id_proyecto\"].unique().tolist()"
   ]
  },
  {
   "cell_type": "code",
   "execution_count": 71,
   "metadata": {},
   "outputs": [],
   "source": [
    "id_proy = lista_proyectos[0]\n",
    "id_proy = 194159"
   ]
  },
  {
   "cell_type": "markdown",
   "metadata": {},
   "source": [
    "- CVUS de los participantes del proyecto"
   ]
  },
  {
   "cell_type": "code",
   "execution_count": 72,
   "metadata": {},
   "outputs": [
    {
     "name": "stdout",
     "output_type": "stream",
     "text": [
      "ra: 383676 \n",
      " rl: 70\n"
     ]
    }
   ],
   "source": [
    "print(\"ra: {} \\n rl: {}\".format(\n",
    "    df_conv_2019[df_conv_2019[\"proyecto_id\"]==id_proy][\"ra_cvu\"].tolist()[0],\n",
    "    df_conv_2019[df_conv_2019[\"proyecto_id\"]==id_proy][\"rl_cvu\"].tolist()[0]))"
   ]
  },
  {
   "cell_type": "markdown",
   "metadata": {},
   "source": [
    "- Título"
   ]
  },
  {
   "cell_type": "code",
   "execution_count": 73,
   "metadata": {},
   "outputs": [
    {
     "data": {
      "text/plain": [
       "['Microsensado térmico sin contacto en muestras termosensibles mediante microscopía de hoja de luz láser']"
      ]
     },
     "execution_count": 73,
     "metadata": {},
     "output_type": "execute_result"
    }
   ],
   "source": [
    "df_conv_2019[df_conv_2019[\"proyecto_id\"]==id_proy][\"titulo_es\"].tolist()"
   ]
  },
  {
   "cell_type": "markdown",
   "metadata": {},
   "source": [
    "- Texto"
   ]
  },
  {
   "cell_type": "code",
   "execution_count": 74,
   "metadata": {
    "collapsed": true
   },
   "outputs": [
    {
     "data": {
      "text/plain": [
       "['En este proyecto se propone la medición de temperatura a escala sub-micrométrica en muestras de nanogeles de polímero termosensibles mediante una configuración de microscopía de hoja de luz láser. Los nanogeles de polímero contienen nanopartículas de oro que tienen una banda de absorción en el infrarrojo cercano para inducir el calentamiento a través de luz láser. Para medir la variación de la temperatura, se encapsularán en los nanogeles termosensible nanopartículas cuya fluorescencia es altamente dependiente de la temperatura. Para inducir el calentamiento y medir la temperatura, se van a adaptar dos láseres en el infrarrojo cercano a 785 y 808 nm. El láser de 785 nm se usa para calentar la muestra, mientras que el láser a 808 nm se usa para excitar las nanopartículas cuya luminiscencia es dependiente de la temperatura.']"
      ]
     },
     "execution_count": 74,
     "metadata": {},
     "output_type": "execute_result"
    }
   ],
   "source": [
    "df_conv_2019[df_conv_2019[\"proyecto_id\"]==id_proy][\"resumen_es\"].tolist()[0].split(\"\\n\")"
   ]
  },
  {
   "cell_type": "code",
   "execution_count": 91,
   "metadata": {},
   "outputs": [],
   "source": [
    "\n",
    "len_palabras  = [len(lista_pal) for lista_pal in df_conv_2019[\"resumen_es\"].str.split()]"
   ]
  },
  {
   "cell_type": "code",
   "execution_count": 92,
   "metadata": {},
   "outputs": [
    {
     "data": {
      "text/plain": [
       "<matplotlib.axes._subplots.AxesSubplot at 0x7f3e565d6748>"
      ]
     },
     "execution_count": 92,
     "metadata": {},
     "output_type": "execute_result"
    },
    {
     "data": {
      "image/png": "[encoded data removed]",
      "text/plain": [
       "<Figure size 432x288 with 1 Axes>"
      ]
     },
     "metadata": {
      "needs_background": "light"
     },
     "output_type": "display_data"
    }
   ],
   "source": [
    "sns.distplot(len_palabras)"
   ]
  },
  {
   "cell_type": "markdown",
   "metadata": {},
   "source": [
    "___"
   ]
  },
  {
   "cell_type": "markdown",
   "metadata": {},
   "source": [
    "Datos historicos"
   ]
  },
  {
   "cell_type": "code",
   "execution_count": 75,
   "metadata": {},
   "outputs": [],
   "source": [
    "df_conv_hist = load(\"../../data/data_entrenamento_preprocesado/datos_entrenamiento_convocatorias_filtro.pkl\")"
   ]
  },
  {
   "cell_type": "markdown",
   "metadata": {},
   "source": [
    "2161"
   ]
  },
  {
   "cell_type": "markdown",
   "metadata": {},
   "source": [
    "Tomamos cada CVU rcomendado:"
   ]
  },
  {
   "cell_type": "markdown",
   "metadata": {},
   "source": [
    "- CVU del evaluador recomendado"
   ]
  },
  {
   "cell_type": "code",
   "execution_count": 76,
   "metadata": {},
   "outputs": [
    {
     "name": "stdout",
     "output_type": "stream",
     "text": [
      "16906\n"
     ]
    }
   ],
   "source": [
    "cvu_id = df_evaluadores_recomendados[\"CVU\"][df_evaluadores_recomendados[\"id_proyecto\"]==id_proy].reset_index(\n",
    "    drop=True)[0]\n",
    "print(cvu_id)"
   ]
  },
  {
   "cell_type": "code",
   "execution_count": 77,
   "metadata": {},
   "outputs": [],
   "source": [
    "cvu_id = 743"
   ]
  },
  {
   "cell_type": "markdown",
   "metadata": {},
   "source": [
    "- Título de los proyectos ya evaluados"
   ]
  },
  {
   "cell_type": "code",
   "execution_count": 78,
   "metadata": {},
   "outputs": [
    {
     "data": {
      "text/plain": [
       "[None, None, None, None, None]"
      ]
     },
     "execution_count": 78,
     "metadata": {},
     "output_type": "execute_result"
    }
   ],
   "source": [
    "df_conv_hist[df_conv_hist[\"CVU\"]==cvu_id][\"TITULO\"].tolist()"
   ]
  },
  {
   "cell_type": "markdown",
   "metadata": {},
   "source": [
    "- Texto de los evaluador recomendado"
   ]
  },
  {
   "cell_type": "code",
   "execution_count": 79,
   "metadata": {},
   "outputs": [
    {
     "name": "stdout",
     "output_type": "stream",
     "text": [
      "existen 3 problemas durante la formación de materiales cerámicos compuestos con cnt, que son:\r\n",
      "\tdispersión no-homogénea de los cnt en la matriz cerámica\r\n",
      "\tinadecuada densificación\r\n",
      "\tbaja mojabilidad entre los cnt y la matriz cerámica\r\n",
      "para solventar el primer paso, se propone mezclar directamente los catalizadores que son nanopartículas de algún metal con polvos micrométricos de carburos u óxidos.\n",
      " \n",
      " s precursores sólidos, funcionalizando los cnt de manera simultánea a la infiltración y crecimiento de los nitruros en la preforma cerámica.\r\n",
      "el sistema híbrido de depósito químico de vapor (hysycvd) es una nueva ruta, eficiente, sencilla, rápida, segura y de bajo costo que permite la síntesis de materiales cerámicos compuestos con nanotubos de carbono: carburos/nitruros/cnt y óxidos/nitruros/cnt.\n",
      " \n",
      "  -------- \n",
      "\n",
      "desde mediados de la década de los 90's se ha confirmado el papel fundamental que juega la estructura atómica local en la determinación de propiedades eléctricas, en especial el fenómeno de superconductividad, en los superconductores de alta temperatura crítica basados en cobre. [1] así mismo, también ahora es clara la importancia la propuesta original de los descubridores de estos materiales acer\n",
      " \n",
      " (2008).\r\n",
      "[9] joseph b.; iadecola a.; malavasi l.; et al., journal of physics-condensed matter 23, 265701 (2011).\r\n",
      "[10] mustre de león j., acosta-alejandro m., conradson s.d., bishop a.r., journal of physics and chemistry of solids 69, 2288 (2008).\r\n",
      "[11] bussmann-holder  a., keller h., mustre de leon j., simon a., bishop a.r, müller k.a.,  j. of superconductivity and novel magnetism 23, 295 (2010).\n",
      " \n",
      "  -------- \n",
      "\n",
      "el presente trabajo propone la realización de un estudio básico de la interrelación síntesis <=> estructura <=> propiedades en el material compuesto (composite, en la literatura) bifásico, con conectividad espacial 0-3, formado por el ferroeléctrico `blando¿ pb1-ylay(zr0.52ti0.48)1-znbzo3 (plztn) y por el magnetostrictivo life5o8 (lfo).\r\n",
      "\r\n",
      "el estudio abarca la síntesis vía sol-gel de nanopolvos y \n",
      " \n",
      " nectividad propuesta atendiendo a sus propiedades magnetoeléctricas.\r\n",
      "\r\n",
      "pese a la novedad del sistema propuesto, del que no conocemos reportes, y al enfoque eminentemente básico del trabajo, no dejará de prestarse atención a las figuras de mérito asociadas a estos materiales con vistas a aquellas aplicaciones prácticas donde pueda ser promisorio, o altamente competitivo, para su uso y explotación.\n",
      " \n",
      "  -------- \n",
      "\n",
      "realizar un estudio experimental-numérico de una capa de líquido conductor a a través de la cual se hace circular una corriente eléctrica, todo en presencia de un campo magnético como el generado por imanes permanentes. para llevar a cabo el estudio experimental se planea diseñar y construir un dispositivo que consistirá de un recipiente cilíndrico de acrílico, dentro se depositará un electrolito \n",
      " \n",
      "  para configuraciones simplificadas del problema (1d y 2d) y también el uso de software libre como openfoam para configuraciones 3d. resultados de las simulaciones permitirán obtener campos tridimensionales de velocidad, temperatura y corriente eléctrica inducida. se espera poder contrastar los resultados experimentales y de simulaciónes para el campo de velocidad en las configuraciones descritas.\n",
      " \n",
      "  -------- \n",
      "\n",
      "se propone la síntesis y/o sinterización  de algunas boracitas multiferroicas con fórmula química general  me3b7o13x, donde me es un  metal divalente y, en este proyecto, x será un halógeno: cl, br o i,  y del titanato de plomo dopado con el ión europio, con el fin de obtener películas delgadas de estos materiales, campo casi inexplorado, para estudiar sus propiedades físicas fundamentales tales c\n",
      " \n",
      "  de medición de la carga en función de la temperatura. \r\n",
      "referencias\r\n",
      "[1]  aizu kêitsiro. physical review b. 2,p754 (1970)\r\n",
      "[2]  dzyaloshinskii i.e. sov.phys jetp.10, p.628 (1959)\r\n",
      "[3]  astrov d.n. sov. phys jetp, 13,p.729 (1961) \r\n",
      "[4]  schmid hans, in magnetoelectric interaction phenomena in crystals. \r\n",
      "      klugerdordech. (2004)\r\n",
      "[5]  yuonan xia, peidong yan et. al. adv. mater. 15, p.353 (2003)\n",
      " \n",
      "  -------- \n",
      "\n"
     ]
    }
   ],
   "source": [
    "lista_textos = df_conv_hist[df_conv_hist[\"CVU\"]==cvu_id][\"DESCRIPCION\"].tolist()\n",
    "for texto in lista_textos:\n",
    "    print(texto[:400].lower() + '\\n \\n ' + texto[-400:].lower()  + '\\n \\n  -------- \\n')"
   ]
  },
  {
   "cell_type": "code",
   "execution_count": null,
   "metadata": {},
   "outputs": [],
   "source": []
  }
 ],
 "metadata": {
  "kernelspec": {
   "display_name": "Python 3",
   "language": "python",
   "name": "python3"
  },
  "language_info": {
   "codemirror_mode": {
    "name": "ipython",
    "version": 3
   },
   "file_extension": ".py",
   "mimetype": "text/x-python",
   "name": "python",
   "nbconvert_exporter": "python",
   "pygments_lexer": "ipython3",
   "version": "3.7.3"
  }
 },
 "nbformat": 4,
 "nbformat_minor": 4
}
