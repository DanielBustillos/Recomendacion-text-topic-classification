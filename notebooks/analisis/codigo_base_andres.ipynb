{
 "cells": [
  {
   "cell_type": "markdown",
   "metadata": {},
   "source": [
    "## Exploración de Similitud entre Documentos de Prueba y Entrenamiento."
   ]
  },
  {
   "cell_type": "markdown",
   "metadata": {},
   "source": [
    "El **objetivo** de este notebook es hacer una exploración de similitud de proyectos asignados a cada evaluador."
   ]
  },
  {
   "cell_type": "markdown",
   "metadata": {},
   "source": [
    "---"
   ]
  },
  {
   "cell_type": "code",
   "execution_count": 3,
   "metadata": {},
   "outputs": [],
   "source": [
    "from sklearn.metrics.pairwise import cosine_similarity\n",
    "import pandas as pd\n",
    "from joblib import load # sirve para leer dataframes\n",
    "from dataset_split.dataset_split import SplitTrainTest # codigo para dividir el conjunto en prueba y entrenamiento\n",
    "# import ?? importa aqui las demás librerias que vas a ocupar"
   ]
  },
  {
   "cell_type": "code",
   "execution_count": 4,
   "metadata": {},
   "outputs": [],
   "source": [
    "df_proyectos_eval_ = load(\"../../data/entrenamiento/datos_training_n_eval_5_sample.pkl\")"
   ]
  },
  {
   "cell_type": "markdown",
   "metadata": {},
   "source": [
    "Se parte de dos conjuntos, el de prueba y entrenamiento tal que haya un documento para cada evaluador en cada conjunto.\n",
    "\n",
    "Hagamos el split de la siguiente manera:\n",
    "\n",
    "- En el conjunto test nos quedaremos con un solo texto por evaluador.\n",
    "- En el conjunto train nos quedaremos con 3 textos por evaluador. El texto de test no debe de encontrarse en este conjunto."
   ]
  },
  {
   "cell_type": "code",
   "execution_count": 6,
   "metadata": {},
   "outputs": [],
   "source": [
    "STT = SplitTrainTest() # inicializamos la clase\n",
    "df_texto_train, df_texto_test = STT.split_train_test(\n",
    "                            df=df_proyectos_eval_,\n",
    "                            thresh_min_frecuencia_eval=3,# numero minimo de documentos por evaluador\n",
    "                            thresh_max_frecuencia_eval=-1, # numero maximo de documentos por evaluador (-1 significa todos)\n",
    "                            porcentaje_muestra=.01) # porcentaje de la muestra de df_entrenamiento, entre menos mas\n",
    "                                                   # rapido el procesmaiento, util en pruebas.\n",
    "                                                    # el procentaje final para obtener los resultados debe ser 1\n",
    "                                                    # para tomar todos los datos."
   ]
  },
  {
   "cell_type": "markdown",
   "metadata": {},
   "source": [
    ">  quizá debas checar que es una muestra, cre que Nadia hablo de eso en su cursito."
   ]
  },
  {
   "cell_type": "markdown",
   "metadata": {},
   "source": [
    "Tenemos ahora dos dataframes, **df_texto_train, df_texto_test**:"
   ]
  },
  {
   "cell_type": "code",
   "execution_count": 19,
   "metadata": {},
   "outputs": [
    {
     "data": {
      "text/plain": [
       "(308, 13)"
      ]
     },
     "execution_count": 19,
     "metadata": {},
     "output_type": "execute_result"
    }
   ],
   "source": [
    "df_texto_train.shape"
   ]
  },
  {
   "cell_type": "code",
   "execution_count": 20,
   "metadata": {},
   "outputs": [
    {
     "data": {
      "text/html": [
       "<div>\n",
       "<style scoped>\n",
       "    .dataframe tbody tr th:only-of-type {\n",
       "        vertical-align: middle;\n",
       "    }\n",
       "\n",
       "    .dataframe tbody tr th {\n",
       "        vertical-align: top;\n",
       "    }\n",
       "\n",
       "    .dataframe thead th {\n",
       "        text-align: right;\n",
       "    }\n",
       "</style>\n",
       "<table border=\"1\" class=\"dataframe\">\n",
       "  <thead>\n",
       "    <tr style=\"text-align: right;\">\n",
       "      <th></th>\n",
       "      <th>CVU</th>\n",
       "      <th>IVIGENCIA</th>\n",
       "      <th>FVIGENCIA</th>\n",
       "      <th>NIVEL</th>\n",
       "      <th>ID_PROYECTO</th>\n",
       "      <th>NUMERO_CONVOCATORIA</th>\n",
       "      <th>ANIO</th>\n",
       "      <th>PALABRAS_CLAVE</th>\n",
       "      <th>SUBDISCIPLINA</th>\n",
       "      <th>DISCIPLINA</th>\n",
       "      <th>AREA</th>\n",
       "      <th>TITULO</th>\n",
       "      <th>DESCRIPCION_PROYECTO</th>\n",
       "    </tr>\n",
       "  </thead>\n",
       "  <tbody>\n",
       "    <tr>\n",
       "      <th>0</th>\n",
       "      <td>3168</td>\n",
       "      <td>2016-01-01</td>\n",
       "      <td>2025-12-31 00:00:00</td>\n",
       "      <td>3</td>\n",
       "      <td>58697</td>\n",
       "      <td>I0002</td>\n",
       "      <td>2000</td>\n",
       "      <td>None</td>\n",
       "      <td>None</td>\n",
       "      <td>None</td>\n",
       "      <td>None</td>\n",
       "      <td>None</td>\n",
       "      <td>fundamentacion academ actual investig nanobiot...</td>\n",
       "    </tr>\n",
       "    <tr>\n",
       "      <th>1</th>\n",
       "      <td>3168</td>\n",
       "      <td>2016-01-01</td>\n",
       "      <td>2025-12-31 00:00:00</td>\n",
       "      <td>3</td>\n",
       "      <td>130109</td>\n",
       "      <td>I0003</td>\n",
       "      <td>2000</td>\n",
       "      <td>None</td>\n",
       "      <td>None</td>\n",
       "      <td>None</td>\n",
       "      <td>None</td>\n",
       "      <td>None</td>\n",
       "      <td>perd capac camin tien consecuent desarroll soc...</td>\n",
       "    </tr>\n",
       "    <tr>\n",
       "      <th>2</th>\n",
       "      <td>3168</td>\n",
       "      <td>2016-01-01</td>\n",
       "      <td>2025-12-31 00:00:00</td>\n",
       "      <td>3</td>\n",
       "      <td>102030</td>\n",
       "      <td>I0003</td>\n",
       "      <td>2000</td>\n",
       "      <td>None</td>\n",
       "      <td>None</td>\n",
       "      <td>None</td>\n",
       "      <td>None</td>\n",
       "      <td>None</td>\n",
       "      <td>proyect pretend sintetiz caracteriz nanoestruc...</td>\n",
       "    </tr>\n",
       "    <tr>\n",
       "      <th>3</th>\n",
       "      <td>3168</td>\n",
       "      <td>2016-01-01</td>\n",
       "      <td>2025-12-31 00:00:00</td>\n",
       "      <td>3</td>\n",
       "      <td>31733</td>\n",
       "      <td>M0007</td>\n",
       "      <td>2000</td>\n",
       "      <td>None</td>\n",
       "      <td>None</td>\n",
       "      <td>None</td>\n",
       "      <td>None</td>\n",
       "      <td>None</td>\n",
       "      <td>form metal centr interes particip nuev nich me...</td>\n",
       "    </tr>\n",
       "    <tr>\n",
       "      <th>4</th>\n",
       "      <td>38967</td>\n",
       "      <td>2016-01-01</td>\n",
       "      <td>2019-12-31 00:00:00</td>\n",
       "      <td>1</td>\n",
       "      <td>162295</td>\n",
       "      <td>S0008</td>\n",
       "      <td>2000</td>\n",
       "      <td>None</td>\n",
       "      <td>None</td>\n",
       "      <td>None</td>\n",
       "      <td>None</td>\n",
       "      <td>None</td>\n",
       "      <td>antecedent mexic men dec diabet mellitus conve...</td>\n",
       "    </tr>\n",
       "  </tbody>\n",
       "</table>\n",
       "</div>"
      ],
      "text/plain": [
       "     CVU   IVIGENCIA            FVIGENCIA  NIVEL  ID_PROYECTO  \\\n",
       "0   3168  2016-01-01  2025-12-31 00:00:00      3        58697   \n",
       "1   3168  2016-01-01  2025-12-31 00:00:00      3       130109   \n",
       "2   3168  2016-01-01  2025-12-31 00:00:00      3       102030   \n",
       "3   3168  2016-01-01  2025-12-31 00:00:00      3        31733   \n",
       "4  38967  2016-01-01  2019-12-31 00:00:00      1       162295   \n",
       "\n",
       "  NUMERO_CONVOCATORIA  ANIO PALABRAS_CLAVE SUBDISCIPLINA DISCIPLINA  AREA  \\\n",
       "0               I0002  2000           None          None       None  None   \n",
       "1               I0003  2000           None          None       None  None   \n",
       "2               I0003  2000           None          None       None  None   \n",
       "3               M0007  2000           None          None       None  None   \n",
       "4               S0008  2000           None          None       None  None   \n",
       "\n",
       "  TITULO                               DESCRIPCION_PROYECTO  \n",
       "0   None  fundamentacion academ actual investig nanobiot...  \n",
       "1   None  perd capac camin tien consecuent desarroll soc...  \n",
       "2   None  proyect pretend sintetiz caracteriz nanoestruc...  \n",
       "3   None  form metal centr interes particip nuev nich me...  \n",
       "4   None  antecedent mexic men dec diabet mellitus conve...  "
      ]
     },
     "execution_count": 20,
     "metadata": {},
     "output_type": "execute_result"
    }
   ],
   "source": [
    "df_texto_train.head()"
   ]
  },
  {
   "cell_type": "code",
   "execution_count": 21,
   "metadata": {},
   "outputs": [
    {
     "data": {
      "text/plain": [
       "(80, 13)"
      ]
     },
     "execution_count": 21,
     "metadata": {},
     "output_type": "execute_result"
    }
   ],
   "source": [
    "df_texto_test.shape"
   ]
  },
  {
   "cell_type": "code",
   "execution_count": 22,
   "metadata": {},
   "outputs": [
    {
     "data": {
      "text/html": [
       "<div>\n",
       "<style scoped>\n",
       "    .dataframe tbody tr th:only-of-type {\n",
       "        vertical-align: middle;\n",
       "    }\n",
       "\n",
       "    .dataframe tbody tr th {\n",
       "        vertical-align: top;\n",
       "    }\n",
       "\n",
       "    .dataframe thead th {\n",
       "        text-align: right;\n",
       "    }\n",
       "</style>\n",
       "<table border=\"1\" class=\"dataframe\">\n",
       "  <thead>\n",
       "    <tr style=\"text-align: right;\">\n",
       "      <th></th>\n",
       "      <th>CVU</th>\n",
       "      <th>IVIGENCIA</th>\n",
       "      <th>FVIGENCIA</th>\n",
       "      <th>NIVEL</th>\n",
       "      <th>ID_PROYECTO</th>\n",
       "      <th>NUMERO_CONVOCATORIA</th>\n",
       "      <th>ANIO</th>\n",
       "      <th>PALABRAS_CLAVE</th>\n",
       "      <th>SUBDISCIPLINA</th>\n",
       "      <th>DISCIPLINA</th>\n",
       "      <th>AREA</th>\n",
       "      <th>TITULO</th>\n",
       "      <th>DESCRIPCION_PROYECTO</th>\n",
       "    </tr>\n",
       "  </thead>\n",
       "  <tbody>\n",
       "    <tr>\n",
       "      <th>0</th>\n",
       "      <td>3168</td>\n",
       "      <td>2016-01-01</td>\n",
       "      <td>2025-12-31 00:00:00</td>\n",
       "      <td>3</td>\n",
       "      <td>130321</td>\n",
       "      <td>I0003</td>\n",
       "      <td>2000</td>\n",
       "      <td>None</td>\n",
       "      <td>None</td>\n",
       "      <td>None</td>\n",
       "      <td>None</td>\n",
       "      <td>None</td>\n",
       "      <td>objet general present propuest realiz contribu...</td>\n",
       "    </tr>\n",
       "    <tr>\n",
       "      <th>1</th>\n",
       "      <td>38967</td>\n",
       "      <td>2016-01-01</td>\n",
       "      <td>2019-12-31 00:00:00</td>\n",
       "      <td>1</td>\n",
       "      <td>268420</td>\n",
       "      <td>I015B</td>\n",
       "      <td>2000</td>\n",
       "      <td>None</td>\n",
       "      <td>None</td>\n",
       "      <td>None</td>\n",
       "      <td>None</td>\n",
       "      <td>None</td>\n",
       "      <td>tecnic biologi molecul aspect clav mayori inve...</td>\n",
       "    </tr>\n",
       "    <tr>\n",
       "      <th>2</th>\n",
       "      <td>21638</td>\n",
       "      <td>2015-01-02</td>\n",
       "      <td>2032-12-31 00:00:00</td>\n",
       "      <td>2</td>\n",
       "      <td>106955</td>\n",
       "      <td>I0003</td>\n",
       "      <td>2000</td>\n",
       "      <td>None</td>\n",
       "      <td>None</td>\n",
       "      <td>None</td>\n",
       "      <td>None</td>\n",
       "      <td>None</td>\n",
       "      <td>ablacion las metod fisic eficient nanofabricac...</td>\n",
       "    </tr>\n",
       "    <tr>\n",
       "      <th>3</th>\n",
       "      <td>25107</td>\n",
       "      <td>2018-01-01</td>\n",
       "      <td>2021-12-31 00:00:00</td>\n",
       "      <td>2</td>\n",
       "      <td>255612</td>\n",
       "      <td>I0017</td>\n",
       "      <td>2000</td>\n",
       "      <td>None</td>\n",
       "      <td>None</td>\n",
       "      <td>None</td>\n",
       "      <td>None</td>\n",
       "      <td>None</td>\n",
       "      <td>durant siet cultiv atmosfer ric microalg eucar...</td>\n",
       "    </tr>\n",
       "    <tr>\n",
       "      <th>4</th>\n",
       "      <td>7705</td>\n",
       "      <td>2015-01-01</td>\n",
       "      <td>2019-12-31 00:00:00</td>\n",
       "      <td>3</td>\n",
       "      <td>134687</td>\n",
       "      <td>I0003</td>\n",
       "      <td>2000</td>\n",
       "      <td>None</td>\n",
       "      <td>None</td>\n",
       "      <td>None</td>\n",
       "      <td>None</td>\n",
       "      <td>None</td>\n",
       "      <td>hipotesis objet met propuest extension direct ...</td>\n",
       "    </tr>\n",
       "  </tbody>\n",
       "</table>\n",
       "</div>"
      ],
      "text/plain": [
       "     CVU   IVIGENCIA            FVIGENCIA  NIVEL  ID_PROYECTO  \\\n",
       "0   3168  2016-01-01  2025-12-31 00:00:00      3       130321   \n",
       "1  38967  2016-01-01  2019-12-31 00:00:00      1       268420   \n",
       "2  21638  2015-01-02  2032-12-31 00:00:00      2       106955   \n",
       "3  25107  2018-01-01  2021-12-31 00:00:00      2       255612   \n",
       "4   7705  2015-01-01  2019-12-31 00:00:00      3       134687   \n",
       "\n",
       "  NUMERO_CONVOCATORIA  ANIO PALABRAS_CLAVE SUBDISCIPLINA DISCIPLINA  AREA  \\\n",
       "0               I0003  2000           None          None       None  None   \n",
       "1               I015B  2000           None          None       None  None   \n",
       "2               I0003  2000           None          None       None  None   \n",
       "3               I0017  2000           None          None       None  None   \n",
       "4               I0003  2000           None          None       None  None   \n",
       "\n",
       "  TITULO                               DESCRIPCION_PROYECTO  \n",
       "0   None  objet general present propuest realiz contribu...  \n",
       "1   None  tecnic biologi molecul aspect clav mayori inve...  \n",
       "2   None  ablacion las metod fisic eficient nanofabricac...  \n",
       "3   None  durant siet cultiv atmosfer ric microalg eucar...  \n",
       "4   None  hipotesis objet met propuest extension direct ...  "
      ]
     },
     "execution_count": 22,
     "metadata": {},
     "output_type": "execute_result"
    }
   ],
   "source": [
    "df_texto_test.head()"
   ]
  },
  {
   "cell_type": "markdown",
   "metadata": {},
   "source": [
    "___"
   ]
  },
  {
   "cell_type": "markdown",
   "metadata": {},
   "source": [
    "#### Aquí empiezas..."
   ]
  },
  {
   "cell_type": "markdown",
   "metadata": {},
   "source": [
    "Para encontrar la similitud de los documentos se empieza tomando el máximo de los documentos de entrenamiento...\n",
    "**complementa esta documentación con lo que hace tu programa**"
   ]
  },
  {
   "cell_type": "markdown",
   "metadata": {},
   "source": [
    "> Ojo, este solo es un esqueleto, no funciona.\n"
   ]
  },
  {
   "cell_type": "code",
   "execution_count": 14,
   "metadata": {},
   "outputs": [
    {
     "ename": "NameError",
     "evalue": "name 'df' is not defined",
     "output_type": "error",
     "traceback": [
      "\u001b[0;31m---------------------------------------------------------------------------\u001b[0m",
      "\u001b[0;31mNameError\u001b[0m                                 Traceback (most recent call last)",
      "\u001b[0;32m<ipython-input-14-69c635499829>\u001b[0m in \u001b[0;36m<module>\u001b[0;34m\u001b[0m\n\u001b[0;32m----> 1\u001b[0;31m \u001b[0mdf\u001b[0m \u001b[0;34m=\u001b[0m \u001b[0mdf\u001b[0m\u001b[0;34m[\u001b[0m\u001b[0mdf\u001b[0m\u001b[0;34m[\u001b[0m\u001b[0;34m\"CVU\"\u001b[0m\u001b[0;34m]\u001b[0m\u001b[0;34m.\u001b[0m\u001b[0misin\u001b[0m\u001b[0;34m(\u001b[0m\u001b[0mlista_cvus\u001b[0m\u001b[0;34m)\u001b[0m\u001b[0;34m]\u001b[0m \u001b[0;31m# guardar cvus en una lista\u001b[0m\u001b[0;34m\u001b[0m\u001b[0;34m\u001b[0m\u001b[0m\n\u001b[0m\u001b[1;32m      2\u001b[0m \u001b[0;34m\u001b[0m\u001b[0m\n\u001b[1;32m      3\u001b[0m \u001b[0;32mfor\u001b[0m \u001b[0mCVU\u001b[0m \u001b[0;32min\u001b[0m \u001b[0mlista_cvus\u001b[0m\u001b[0;34m:\u001b[0m \u001b[0;31m# iterar para cada cvu o evaluador\u001b[0m\u001b[0;34m\u001b[0m\u001b[0;34m\u001b[0m\u001b[0m\n\u001b[1;32m      4\u001b[0m     \u001b[0mcoincidencia_cvu_train\u001b[0m \u001b[0;34m=\u001b[0m \u001b[0mdf_t\u001b[0m\u001b[0;34m[\u001b[0m\u001b[0mdf_t\u001b[0m\u001b[0;34m[\u001b[0m\u001b[0;34m\"CVU\"\u001b[0m\u001b[0;34m]\u001b[0m\u001b[0;34m==\u001b[0m\u001b[0mCVU\u001b[0m\u001b[0;34m]\u001b[0m \u001b[0;31m# busqueda de cvu en df de entreamiento\u001b[0m\u001b[0;34m\u001b[0m\u001b[0;34m\u001b[0m\u001b[0m\n\u001b[1;32m      5\u001b[0m     \u001b[0mcoincidencia_cvu_train_gb\u001b[0m \u001b[0;34m=\u001b[0m \u001b[0mcoincidencia_cvu_train\u001b[0m\u001b[0;34m.\u001b[0m\u001b[0mgroupby\u001b[0m\u001b[0;34m(\u001b[0m\u001b[0;34m)\u001b[0m\u001b[0;34m.\u001b[0m\u001b[0mmax\u001b[0m\u001b[0;34m(\u001b[0m\u001b[0;34m)\u001b[0m \u001b[0;31m# obtener maximos\u001b[0m\u001b[0;34m\u001b[0m\u001b[0;34m\u001b[0m\u001b[0m\n",
      "\u001b[0;31mNameError\u001b[0m: name 'df' is not defined"
     ]
    }
   ],
   "source": [
    "df = df[df[\"CVU\"].isin(lista_cvus)] # guardar cvus en una lista\n",
    "\n",
    "for CVU in lista_cvus: # iterar para cada cvu o evaluador\n",
    "    coincidencia_cvu_train = df_t[df_t[\"CVU\"]==CVU] # busqueda de cvu en df de entreamiento\n",
    "    coincidencia_cvu_train_gb = coincidencia_cvu_train.groupby().max() # obtener maximos\n",
    "    # no funciona, buscar documentacion de gb\n",
    "\n",
    "    coincidencia_cvu_test = df[df[\"CVU\"]==CVU] # busqueda de cvu en df de prueba\n",
    "   # filtrar para coñunas de palabras\n",
    "    cs = cosine_similarity(coincidencia_cvu_train_gb, coincidencia_cvu_test) #efectuar cosine similarity\n",
    "\n",
    "    # guardar reultados\n",
    "    lista_cvus = lista_cvus.apend(CVU)\n",
    "    lista_score = lista_score.append(cs)"
   ]
  },
  {
   "cell_type": "markdown",
   "metadata": {},
   "source": [
    "### Ademas de esto, hacer:"
   ]
  },
  {
   "cell_type": "markdown",
   "metadata": {},
   "source": [
    "- Convertir ambas listas a un dataframe, esto es para hacer mas facil la lectura. [tal vez esto sirva](https://thispointer.com/python-pandas-how-to-convert-lists-to-a-dataframe/)"
   ]
  },
  {
   "cell_type": "code",
   "execution_count": 15,
   "metadata": {},
   "outputs": [],
   "source": [
    "# codigo para convertir listas a DF"
   ]
  },
  {
   "cell_type": "markdown",
   "metadata": {},
   "source": [
    "- Graficar la distribuion del score usando: \n",
    "   - matplotlib [distribucion en matplotlib](https://www.google.com/search?q=plot_distribution_matplotlib)\n",
    "   - seaborn [graficar distribucion en Seaborn](https://www.google.com/search?q=plot_distribution_seaborn)"
   ]
  },
  {
   "cell_type": "code",
   "execution_count": 16,
   "metadata": {},
   "outputs": [],
   "source": [
    "# grafica en matplotlib"
   ]
  },
  {
   "cell_type": "code",
   "execution_count": 17,
   "metadata": {},
   "outputs": [],
   "source": [
    "# grafica en seaborn"
   ]
  },
  {
   "cell_type": "markdown",
   "metadata": {},
   "source": [
    "- Obtener la varanza del score usando [df.var()](http://www.datasciencemadesimple.com/variance-function-python-pandas-dataframe-row-column-wise-variance/)"
   ]
  },
  {
   "cell_type": "code",
   "execution_count": 18,
   "metadata": {},
   "outputs": [],
   "source": [
    "# obtener la varianza del score"
   ]
  }
 ],
 "metadata": {
  "kernelspec": {
   "display_name": "Python (convocatorias)",
   "language": "python",
   "name": "env_convocatorias"
  },
  "language_info": {
   "codemirror_mode": {
    "name": "ipython",
    "version": 3
   },
   "file_extension": ".py",
   "mimetype": "text/x-python",
   "name": "python",
   "nbconvert_exporter": "python",
   "pygments_lexer": "ipython3",
   "version": "3.7.3"
  }
 },
 "nbformat": 4,
 "nbformat_minor": 4
}
