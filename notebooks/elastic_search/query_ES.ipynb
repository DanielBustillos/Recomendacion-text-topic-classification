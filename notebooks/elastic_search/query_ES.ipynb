{
 "cells": [
  {
   "cell_type": "code",
   "execution_count": 75,
   "metadata": {},
   "outputs": [],
   "source": [
    "from datetime import datetime\n",
    "from elasticsearch import Elasticsearch\n",
    "import json"
   ]
  },
  {
   "cell_type": "code",
   "execution_count": 76,
   "metadata": {},
   "outputs": [],
   "source": [
    "es = Elasticsearch([{'host':'svrccdqa01','port':9200}])"
   ]
  },
  {
   "cell_type": "code",
   "execution_count": 77,
   "metadata": {},
   "outputs": [],
   "source": [
    "query = {u'CVE_RCEA': u'11111',\n",
    "            u'AREA': [\"area_1\",\"area_2\"],\n",
    "            u'CAMPO': [\"campo_1\",\"campo_2\"],\n",
    "            u'DISCIPLINA': [\"disciplina_1\",\"disciplina_2\"],\n",
    "            u'SUBDISCIPLINA': [\"subdisciplina_1\",\"subdisciplina_2\"]}"
   ]
  },
  {
   "cell_type": "code",
   "execution_count": 78,
   "metadata": {},
   "outputs": [],
   "source": [
    "query_dumps = json.dumps(query_es)\n",
    "query_json = json.loads(query_dumps)"
   ]
  },
  {
   "cell_type": "code",
   "execution_count": 79,
   "metadata": {},
   "outputs": [
    {
     "data": {
      "text/plain": [
       "['area_1', 'area_2']"
      ]
     },
     "execution_count": 79,
     "metadata": {},
     "output_type": "execute_result"
    }
   ],
   "source": [
    "query_json[ u'AREA']"
   ]
  },
  {
   "cell_type": "code",
   "execution_count": null,
   "metadata": {},
   "outputs": [],
   "source": []
  },
  {
   "cell_type": "code",
   "execution_count": null,
   "metadata": {},
   "outputs": [],
   "source": []
  },
  {
   "cell_type": "code",
   "execution_count": null,
   "metadata": {},
   "outputs": [],
   "source": []
  },
  {
   "cell_type": "code",
   "execution_count": null,
   "metadata": {},
   "outputs": [],
   "source": []
  },
  {
   "cell_type": "code",
   "execution_count": null,
   "metadata": {},
   "outputs": [],
   "source": []
  },
  {
   "cell_type": "code",
   "execution_count": null,
   "metadata": {},
   "outputs": [],
   "source": []
  },
  {
   "cell_type": "code",
   "execution_count": null,
   "metadata": {},
   "outputs": [],
   "source": []
  },
  {
   "cell_type": "raw",
   "metadata": {},
   "source": [
    "string = \"Training ...tfidf_vectorizador_train ...train_nmf ...vocabulario_nmf ...filtro_vectores_nmf ...producto_punto_topicos ...topicos_a_evaluador Testing ...text_cleaner ...stem_sentence ...tfidf_vectorizador_test ...producto_punto_topicos ...topicos_a_evaluador ...score ...cosine Training ...tfidf_vectorizador_train ...train_nmf ...vocabulario_nmf ...filtro_vectores_nmf ...producto_punto_topicos ...topicos_a_evaluador Testing ...text_cleaner ...stem_sentence ...tfidf_vectorizador_test ...producto_punto_topicos ...topicos_a_evaluador ...score ...cosine Training ...tfidf_vectorizador_train ...train_nmf ...vocabulario_nmf ...filtro_vectores_nmf ...producto_punto_topicos ...topicos_a_evaluador Testing ...text_cleaner ...stem_sentence ...tfidf_vectorizador_test ...producto_punto_topicos ...topicos_a_evaluador ...score ...cosine Training ...tfidf_vectorizador_train ...train_nmf ...vocabulario_nmf ...filtro_vectores_nmf ...producto_punto_topicos ...topicos_a_evaluador Testing ...text_cleaner ...stem_sentence ...tfidf_vectorizador_test ...producto_punto_topicos ...topicos_a_evaluador ...score ...cosine Training ...tfidf_vectorizador_train ...train_nmf ...vocabulario_nmf ...filtro_vectores_nmf ...producto_punto_topicos ...topicos_a_evaluador Testing ...text_cleaner ...stem_sentence ...tfidf_vectorizador_test ...producto_punto_topicos ...topicos_a_evaluador ...score ...cosine Training ...tfidf_vectorizador_train ...train_nmf ...vocabulario_nmf ...filtro_vectores_nmf ...producto_punto_topicos ...topicos_a_evaluador Testing ...text_cleaner ...stem_sentence ...tfidf_vectorizador_test ...producto_punto_topicos ...topicos_a_evaluador ...score ...cosine Training ...tfidf_vectorizador_train ...train_nmf ...vocabulario_nmf ...filtro_vectores_nmf ...producto_punto_topicos ...topicos_a_evaluador Testing ...text_cleaner ...stem_sentence ...tfidf_vectorizador_test ...producto_punto_topicos ...topicos_a_evaluador ...score ...cosine Training ...tfidf_vectorizador_train ...train_nmf ...vocabulario_nmf ...filtro_vectores_nmf ...producto_punto_topicos ...topicos_a_evaluador Testing ...text_cleaner ...stem_sentence ...tfidf_vectorizador_test ...producto_punto_topicos ...topicos_a_evaluador ...score ...cosine Training ...tfidf_vectorizador_train ...train_nmf ...vocabulario_nmf ...filtro_vectores_nmf ...producto_punto_topicos ...topicos_a_evaluador Testing ...text_cleaner ...stem_sentence ...tfidf_vectorizador_test ...producto_punto_topicos ...topicos_a_evaluador ...score ...cosine Training ...tfidf_vectorizador_train ...train_nmf ...vocabulario_nmf ...filtro_vectores_nmf ...producto_punto_topicos ...topicos_a_evaluador Testing ...text_cleaner ...stem_sentence ...tfidf_vectorizador_test ...producto_punto_topicos  \""
   ]
  },
  {
   "cell_type": "raw",
   "metadata": {},
   "source": [
    "len(string.split(\"Training\"))"
   ]
  },
  {
   "cell_type": "code",
   "execution_count": null,
   "metadata": {},
   "outputs": [],
   "source": []
  }
 ],
 "metadata": {
  "kernelspec": {
   "display_name": "Python 3",
   "language": "python",
   "name": "python3"
  },
  "language_info": {
   "codemirror_mode": {
    "name": "ipython",
    "version": 3
   },
   "file_extension": ".py",
   "mimetype": "text/x-python",
   "name": "python",
   "nbconvert_exporter": "python",
   "pygments_lexer": "ipython3",
   "version": "3.7.4"
  }
 },
 "nbformat": 4,
 "nbformat_minor": 4
}
