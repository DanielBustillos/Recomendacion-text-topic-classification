{
 "cells": [
  {
   "cell_type": "code",
   "execution_count": 1,
   "metadata": {},
   "outputs": [],
   "source": [
    "from elasticsearch import Elasticsearch\n",
    "from ssl import create_default_context\n",
    "\n",
    "context = create_default_context(cafile=\"/nodo/ca.crt\")\n",
    "es = Elasticsearch(\n",
    "    ['svrccdqa01'],\n",
    "    http_auth=('elastic', 'xEPV2dGh5XyrpMhuaBOL'),\n",
    "    scheme=\"https\",\n",
    "    port=9200,\n",
    "    ssl_context=context,\n",
    ")"
   ]
  },
  {
   "cell_type": "code",
   "execution_count": 2,
   "metadata": {},
   "outputs": [],
   "source": [
    "name_index = 'evaluadores'"
   ]
  },
  {
   "cell_type": "code",
   "execution_count": 13,
   "metadata": {},
   "outputs": [
    {
     "data": {
      "text/plain": [
       "{u'_id': u'7',\n",
       " u'_index': u'evaluadores',\n",
       " u'_primary_term': 2,\n",
       " u'_seq_no': 6835,\n",
       " u'_source': {u'apellidos': u'RAMONROMERO',\n",
       "  u'campo': u'CIENCIAS DE LA VIDA',\n",
       "  u'clave_rcea': u'RCEA-02-01661-2002',\n",
       "  u'cvu': 7,\n",
       "  u'dependencia': u'COORDINACION DE INVESTIGACION CIENTIFICA',\n",
       "  u'disciplina': u'FISIOLOGIA HUMANA',\n",
       "  u'estado': u'DISTRITO FEDERAL',\n",
       "  u'keywords': [u' ', u' ', u' '],\n",
       "  u'nivel_sni': u'2',\n",
       "  u'nombres': u'FIDEL ALBERTO',\n",
       "  u'pais': u'',\n",
       "  u'subdisciplina': u'NEUROFISIOLOGIA',\n",
       "  u'texto_espanol': u''},\n",
       " u'_type': u'_doc',\n",
       " u'_version': 2,\n",
       " u'found': True}"
      ]
     },
     "execution_count": 13,
     "metadata": {},
     "output_type": "execute_result"
    }
   ],
   "source": [
    "es.get(index = name_index,id=7)\n"
   ]
  },
  {
   "cell_type": "code",
   "execution_count": null,
   "metadata": {},
   "outputs": [],
   "source": []
  },
  {
   "cell_type": "code",
   "execution_count": null,
   "metadata": {},
   "outputs": [],
   "source": []
  }
 ],
 "metadata": {
  "kernelspec": {
   "display_name": "Python 3",
   "language": "python",
   "name": "python3"
  },
  "language_info": {
   "codemirror_mode": {
    "name": "ipython",
    "version": 2
   },
   "file_extension": ".py",
   "mimetype": "text/x-python",
   "name": "python",
   "nbconvert_exporter": "python",
   "pygments_lexer": "ipython2",
   "version": "2.7.16"
  }
 },
 "nbformat": 4,
 "nbformat_minor": 2
}
