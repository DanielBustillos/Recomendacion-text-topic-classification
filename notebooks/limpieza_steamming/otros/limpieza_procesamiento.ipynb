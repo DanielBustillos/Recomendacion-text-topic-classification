{
 "cells": [
  {
   "cell_type": "markdown",
   "metadata": {},
   "source": [
    "## limpieza y procesamiento de tablas\n",
    "\n",
    "0. Juntar tablas de proyectos y evaluadores (uno a muchos)\n",
    "1. Aplicar limpieza y steamming\n",
    "2. Agrupar textos por evaluador\n",
    "3. Análisis de longitud de textos por investigador\n",
    "\n",
    "---\n",
    "\n",
    "\n"
   ]
  },
  {
   "cell_type": "code",
   "execution_count": 2,
   "metadata": {},
   "outputs": [
    {
     "name": "stderr",
     "output_type": "stream",
     "text": [
      "[nltk_data] Downloading package wordnet to\n",
      "[nltk_data]     /Users/danielbustillos/nltk_data...\n",
      "[nltk_data]   Package wordnet is already up-to-date!\n",
      "[nltk_data] Downloading package punkt to\n",
      "[nltk_data]     /Users/danielbustillos/nltk_data...\n",
      "[nltk_data]   Package punkt is already up-to-date!\n"
     ]
    }
   ],
   "source": [
    "import pandas as pd\n",
    "import pickle\n",
    "\n",
    "import numpy as np\n",
    "import pandas as pd\n",
    "import networkx as nx\n",
    "import seaborn as sns\n",
    "import matplotlib.pyplot as plt\n",
    "\n",
    "from os import listdir\n",
    "from math import sqrt\n",
    "\n",
    "from sklearn.metrics.pairwise import cosine_similarity\n",
    "from sklearn.feature_extraction.text import TfidfVectorizer, CountVectorizer\n",
    "from sklearn.decomposition import NMF, LatentDirichletAllocation\n",
    "\n",
    "import nltk\n",
    "from nltk.stem import WordNetLemmatizer, SnowballStemmer\n",
    "from nltk.stem.porter import *\n",
    "from nltk.tokenize import sent_tokenize, word_tokenize\n",
    "import heapq\n",
    "\n",
    "from joblib import load, dump\n",
    "nltk.download('wordnet')\n",
    "nltk.download('punkt')\n",
    "\n",
    "stemmer = SnowballStemmer('spanish')\n",
    "\n",
    "pd.options.mode.chained_assignment = None #...\n",
    "import seaborn as sns\n"
   ]
  },
  {
   "cell_type": "markdown",
   "metadata": {},
   "source": [
    "## Descripción del proyecto:"
   ]
  },
  {
   "cell_type": "raw",
   "metadata": {},
   "source": [
    "data_topics = pd.read_csv(\"../data/solicitudes_con_modalidad/solicitudes.csv\")"
   ]
  },
  {
   "cell_type": "raw",
   "metadata": {},
   "source": [
    "data_topics = pd.read_csv(\"../data/RCEA_text.csv\")"
   ]
  },
  {
   "cell_type": "code",
   "execution_count": 30,
   "metadata": {},
   "outputs": [
    {
     "data": {
      "text/html": [
       "<div>\n",
       "<style scoped>\n",
       "    .dataframe tbody tr th:only-of-type {\n",
       "        vertical-align: middle;\n",
       "    }\n",
       "\n",
       "    .dataframe tbody tr th {\n",
       "        vertical-align: top;\n",
       "    }\n",
       "\n",
       "    .dataframe thead th {\n",
       "        text-align: right;\n",
       "    }\n",
       "</style>\n",
       "<table border=\"1\" class=\"dataframe\">\n",
       "  <thead>\n",
       "    <tr style=\"text-align: right;\">\n",
       "      <th></th>\n",
       "      <th>CVU</th>\n",
       "      <th>IVIGENCIA</th>\n",
       "      <th>FVIGENCIA</th>\n",
       "      <th>NIVEL</th>\n",
       "      <th>ID_PROYECTO</th>\n",
       "      <th>NUMERO_CONVOCATORIA</th>\n",
       "      <th>ANIO</th>\n",
       "      <th>PALABRAS_CLAVE</th>\n",
       "      <th>SUBDISCIPLINA</th>\n",
       "      <th>DISCIPLINA</th>\n",
       "      <th>AREA</th>\n",
       "      <th>TITULO</th>\n",
       "      <th>DESCRIPCION_PROYECTO</th>\n",
       "    </tr>\n",
       "  </thead>\n",
       "  <tbody>\n",
       "    <tr>\n",
       "      <td>0</td>\n",
       "      <td>14841</td>\n",
       "      <td>2018-01-01</td>\n",
       "      <td>2022-12-31 00:00:00</td>\n",
       "      <td>3</td>\n",
       "      <td>254622</td>\n",
       "      <td>I0017</td>\n",
       "      <td>2000</td>\n",
       "      <td>None</td>\n",
       "      <td>None</td>\n",
       "      <td>None</td>\n",
       "      <td>None</td>\n",
       "      <td>None</td>\n",
       "      <td>Uno de los principales problemas de salud que ...</td>\n",
       "    </tr>\n",
       "    <tr>\n",
       "      <td>1</td>\n",
       "      <td>14841</td>\n",
       "      <td>2018-01-01</td>\n",
       "      <td>2022-12-31 00:00:00</td>\n",
       "      <td>3</td>\n",
       "      <td>258332</td>\n",
       "      <td>I0017</td>\n",
       "      <td>2000</td>\n",
       "      <td>None</td>\n",
       "      <td>None</td>\n",
       "      <td>None</td>\n",
       "      <td>None</td>\n",
       "      <td>None</td>\n",
       "      <td>En los pasados 15 años nuestro equipo de traba...</td>\n",
       "    </tr>\n",
       "  </tbody>\n",
       "</table>\n",
       "</div>"
      ],
      "text/plain": [
       "     CVU   IVIGENCIA            FVIGENCIA  NIVEL  ID_PROYECTO  \\\n",
       "0  14841  2018-01-01  2022-12-31 00:00:00      3       254622   \n",
       "1  14841  2018-01-01  2022-12-31 00:00:00      3       258332   \n",
       "\n",
       "  NUMERO_CONVOCATORIA  ANIO PALABRAS_CLAVE SUBDISCIPLINA DISCIPLINA  AREA  \\\n",
       "0               I0017  2000           None          None       None  None   \n",
       "1               I0017  2000           None          None       None  None   \n",
       "\n",
       "  TITULO                               DESCRIPCION_PROYECTO  \n",
       "0   None  Uno de los principales problemas de salud que ...  \n",
       "1   None  En los pasados 15 años nuestro equipo de traba...  "
      ]
     },
     "execution_count": 30,
     "metadata": {},
     "output_type": "execute_result"
    }
   ],
   "source": [
    "data_topics = load(\"../data/entrenamiento_convocatorias/datos_entrenamiento_convocatorias_sample_filtro.pkl\")\n",
    "data_topics.rename({\"resumen_es\":\"DESCRIPCION_PROYECTO\"}, inplace=True, axis=1)\n",
    "data_topics.rename({\"DESCRIPCION\":\"DESCRIPCION_PROYECTO\"}, inplace=True, axis=1)\n",
    "\n",
    "data_topics.head(2)"
   ]
  },
  {
   "cell_type": "code",
   "execution_count": 31,
   "metadata": {},
   "outputs": [
    {
     "data": {
      "text/plain": [
       "(40201, 13)"
      ]
     },
     "execution_count": 31,
     "metadata": {},
     "output_type": "execute_result"
    }
   ],
   "source": [
    "data_topics.shape"
   ]
  },
  {
   "cell_type": "code",
   "execution_count": 32,
   "metadata": {},
   "outputs": [
    {
     "data": {
      "text/plain": [
       "Index(['CVU', 'IVIGENCIA', 'FVIGENCIA', 'NIVEL', 'ID_PROYECTO',\n",
       "       'NUMERO_CONVOCATORIA', 'ANIO', 'PALABRAS_CLAVE', 'SUBDISCIPLINA',\n",
       "       'DISCIPLINA', 'AREA', 'TITULO', 'DESCRIPCION_PROYECTO'],\n",
       "      dtype='object')"
      ]
     },
     "execution_count": 32,
     "metadata": {},
     "output_type": "execute_result"
    }
   ],
   "source": [
    "data_topics.columns"
   ]
  },
  {
   "cell_type": "markdown",
   "metadata": {},
   "source": [
    "Funciones para estandarizar y limpiar los datos:"
   ]
  },
  {
   "cell_type": "code",
   "execution_count": 33,
   "metadata": {},
   "outputs": [],
   "source": [
    "def clean_str_series(s):\n",
    "    \"\"\"\n",
    "    info:\n",
    "    \"\"\"\n",
    "    \n",
    "    s = s.str.normalize('NFKD').str.encode('ascii', errors='ignore').str.decode('utf-8') \\\n",
    "         .str.capitalize().str.strip().str.replace('[^\\w\\s]','')\n",
    "    return s"
   ]
  },
  {
   "cell_type": "code",
   "execution_count": 34,
   "metadata": {},
   "outputs": [],
   "source": [
    "def text_cleaner(df,columns_to_clean,columns_not_na):\n",
    "    \"\"\"\n",
    "    info:\n",
    "    \"\"\"\n",
    "    \n",
    "    \n",
    "    # Quitar registros no validos\n",
    "    df = df.dropna(subset=columns_not_na,axis=0)\n",
    "\n",
    "    # Formato texto\n",
    "    for d in columns_to_clean:\n",
    "        if df[d].dtype == object: \n",
    "            df[d] = clean_str_series(df[d])\n",
    "    \n",
    "    return df"
   ]
  },
  {
   "cell_type": "code",
   "execution_count": 35,
   "metadata": {},
   "outputs": [],
   "source": [
    "columns_not_na = [\"DESCRIPCION_PROYECTO\"]\n",
    "columns_interes = [\"DESCRIPCION_PROYECTO\"]\n",
    "\n",
    "data_topics_clean = text_cleaner(data_topics, columns_to_clean=columns_interes, columns_not_na=columns_not_na)"
   ]
  },
  {
   "cell_type": "code",
   "execution_count": 36,
   "metadata": {},
   "outputs": [
    {
     "data": {
      "text/html": [
       "<div>\n",
       "<style scoped>\n",
       "    .dataframe tbody tr th:only-of-type {\n",
       "        vertical-align: middle;\n",
       "    }\n",
       "\n",
       "    .dataframe tbody tr th {\n",
       "        vertical-align: top;\n",
       "    }\n",
       "\n",
       "    .dataframe thead th {\n",
       "        text-align: right;\n",
       "    }\n",
       "</style>\n",
       "<table border=\"1\" class=\"dataframe\">\n",
       "  <thead>\n",
       "    <tr style=\"text-align: right;\">\n",
       "      <th></th>\n",
       "      <th>CVU</th>\n",
       "      <th>IVIGENCIA</th>\n",
       "      <th>FVIGENCIA</th>\n",
       "      <th>NIVEL</th>\n",
       "      <th>ID_PROYECTO</th>\n",
       "      <th>NUMERO_CONVOCATORIA</th>\n",
       "      <th>ANIO</th>\n",
       "      <th>PALABRAS_CLAVE</th>\n",
       "      <th>SUBDISCIPLINA</th>\n",
       "      <th>DISCIPLINA</th>\n",
       "      <th>AREA</th>\n",
       "      <th>TITULO</th>\n",
       "      <th>DESCRIPCION_PROYECTO</th>\n",
       "    </tr>\n",
       "  </thead>\n",
       "  <tbody>\n",
       "    <tr>\n",
       "      <td>0</td>\n",
       "      <td>14841</td>\n",
       "      <td>2018-01-01</td>\n",
       "      <td>2022-12-31 00:00:00</td>\n",
       "      <td>3</td>\n",
       "      <td>254622</td>\n",
       "      <td>I0017</td>\n",
       "      <td>2000</td>\n",
       "      <td>None</td>\n",
       "      <td>None</td>\n",
       "      <td>None</td>\n",
       "      <td>None</td>\n",
       "      <td>None</td>\n",
       "      <td>Uno de los principales problemas de salud que ...</td>\n",
       "    </tr>\n",
       "    <tr>\n",
       "      <td>1</td>\n",
       "      <td>14841</td>\n",
       "      <td>2018-01-01</td>\n",
       "      <td>2022-12-31 00:00:00</td>\n",
       "      <td>3</td>\n",
       "      <td>258332</td>\n",
       "      <td>I0017</td>\n",
       "      <td>2000</td>\n",
       "      <td>None</td>\n",
       "      <td>None</td>\n",
       "      <td>None</td>\n",
       "      <td>None</td>\n",
       "      <td>None</td>\n",
       "      <td>En los pasados 15 anos nuestro equipo de traba...</td>\n",
       "    </tr>\n",
       "    <tr>\n",
       "      <td>2</td>\n",
       "      <td>14841</td>\n",
       "      <td>2018-01-01</td>\n",
       "      <td>2022-12-31 00:00:00</td>\n",
       "      <td>3</td>\n",
       "      <td>168560</td>\n",
       "      <td>I0017</td>\n",
       "      <td>2000</td>\n",
       "      <td>None</td>\n",
       "      <td>None</td>\n",
       "      <td>None</td>\n",
       "      <td>None</td>\n",
       "      <td>None</td>\n",
       "      <td>Las complicaciones hepaticas asociadas al acum...</td>\n",
       "    </tr>\n",
       "    <tr>\n",
       "      <td>3</td>\n",
       "      <td>14841</td>\n",
       "      <td>2018-01-01</td>\n",
       "      <td>2022-12-31 00:00:00</td>\n",
       "      <td>3</td>\n",
       "      <td>243406</td>\n",
       "      <td>I0017</td>\n",
       "      <td>2000</td>\n",
       "      <td>None</td>\n",
       "      <td>None</td>\n",
       "      <td>None</td>\n",
       "      <td>None</td>\n",
       "      <td>None</td>\n",
       "      <td>Antecedentes\\r\\nla enfermedad de higado graso ...</td>\n",
       "    </tr>\n",
       "    <tr>\n",
       "      <td>4</td>\n",
       "      <td>14841</td>\n",
       "      <td>2018-01-01</td>\n",
       "      <td>2022-12-31 00:00:00</td>\n",
       "      <td>3</td>\n",
       "      <td>134346</td>\n",
       "      <td>I0003</td>\n",
       "      <td>2000</td>\n",
       "      <td>None</td>\n",
       "      <td>None</td>\n",
       "      <td>None</td>\n",
       "      <td>None</td>\n",
       "      <td>None</td>\n",
       "      <td>La inflamacion es una caracteristica comun de ...</td>\n",
       "    </tr>\n",
       "  </tbody>\n",
       "</table>\n",
       "</div>"
      ],
      "text/plain": [
       "     CVU   IVIGENCIA            FVIGENCIA  NIVEL  ID_PROYECTO  \\\n",
       "0  14841  2018-01-01  2022-12-31 00:00:00      3       254622   \n",
       "1  14841  2018-01-01  2022-12-31 00:00:00      3       258332   \n",
       "2  14841  2018-01-01  2022-12-31 00:00:00      3       168560   \n",
       "3  14841  2018-01-01  2022-12-31 00:00:00      3       243406   \n",
       "4  14841  2018-01-01  2022-12-31 00:00:00      3       134346   \n",
       "\n",
       "  NUMERO_CONVOCATORIA  ANIO PALABRAS_CLAVE SUBDISCIPLINA DISCIPLINA  AREA  \\\n",
       "0               I0017  2000           None          None       None  None   \n",
       "1               I0017  2000           None          None       None  None   \n",
       "2               I0017  2000           None          None       None  None   \n",
       "3               I0017  2000           None          None       None  None   \n",
       "4               I0003  2000           None          None       None  None   \n",
       "\n",
       "  TITULO                               DESCRIPCION_PROYECTO  \n",
       "0   None  Uno de los principales problemas de salud que ...  \n",
       "1   None  En los pasados 15 anos nuestro equipo de traba...  \n",
       "2   None  Las complicaciones hepaticas asociadas al acum...  \n",
       "3   None  Antecedentes\\r\\nla enfermedad de higado graso ...  \n",
       "4   None  La inflamacion es una caracteristica comun de ...  "
      ]
     },
     "execution_count": 36,
     "metadata": {},
     "output_type": "execute_result"
    }
   ],
   "source": [
    "data_topics_clean.head()"
   ]
  },
  {
   "cell_type": "code",
   "execution_count": 37,
   "metadata": {},
   "outputs": [
    {
     "data": {
      "text/plain": [
       "<matplotlib.axes._subplots.AxesSubplot at 0x1a2dd89350>"
      ]
     },
     "execution_count": 37,
     "metadata": {},
     "output_type": "execute_result"
    },
    {
     "data": {
      "image/png": "[encoded data removed]",
      "text/plain": [
       "<Figure size 432x288 with 1 Axes>"
      ]
     },
     "metadata": {
      "needs_background": "light"
     },
     "output_type": "display_data"
    }
   ],
   "source": [
    "data_topics_clean[\"DESCRIPCION_PROYECTO\"].str.count(\" \").hist()"
   ]
  },
  {
   "cell_type": "markdown",
   "metadata": {},
   "source": [
    "Número total de evaluadores:"
   ]
  },
  {
   "cell_type": "markdown",
   "metadata": {},
   "source": [
    "### Steamming"
   ]
  },
  {
   "cell_type": "code",
   "execution_count": 38,
   "metadata": {},
   "outputs": [],
   "source": [
    "min_len = 4\n",
    "\n",
    "def stemSentence(sentence, min_len=min_len):\n",
    "    \"\"\"\n",
    "    info\n",
    "    \"\"\"\n",
    "    \n",
    "    token_words = word_tokenize(sentence)\n",
    "    stem_sentence = []\n",
    "    \n",
    "    for word in token_words:\n",
    "        if len(word) > min_len:\n",
    "            stem_sentence.append(stemmer.stem(WordNetLemmatizer().lemmatize(word, pos='v')))\n",
    "            stem_sentence.append(\" \")\n",
    "    return \"\".join(stem_sentence)"
   ]
  },
  {
   "cell_type": "markdown",
   "metadata": {},
   "source": [
    "obtener raices y quitar palabras cortas"
   ]
  },
  {
   "cell_type": "code",
   "execution_count": 39,
   "metadata": {},
   "outputs": [
    {
     "name": "stdout",
     "output_type": "stream",
     "text": [
      "CPU times: user 7min 48s, sys: 1.94 s, total: 7min 50s\n",
      "Wall time: 7min 56s\n"
     ]
    }
   ],
   "source": [
    "%%time \n",
    "text_data = data_topics_clean[\"DESCRIPCION_PROYECTO\"]\n",
    "text_data = text_data.apply(stemSentence)\n",
    "\n",
    "data_topics_clean[\"DESCRIPCION_PROYECTO\"] = text_data"
   ]
  },
  {
   "cell_type": "code",
   "execution_count": 40,
   "metadata": {},
   "outputs": [
    {
     "data": {
      "text/html": [
       "<div>\n",
       "<style scoped>\n",
       "    .dataframe tbody tr th:only-of-type {\n",
       "        vertical-align: middle;\n",
       "    }\n",
       "\n",
       "    .dataframe tbody tr th {\n",
       "        vertical-align: top;\n",
       "    }\n",
       "\n",
       "    .dataframe thead th {\n",
       "        text-align: right;\n",
       "    }\n",
       "</style>\n",
       "<table border=\"1\" class=\"dataframe\">\n",
       "  <thead>\n",
       "    <tr style=\"text-align: right;\">\n",
       "      <th></th>\n",
       "      <th>CVU</th>\n",
       "      <th>IVIGENCIA</th>\n",
       "      <th>FVIGENCIA</th>\n",
       "      <th>NIVEL</th>\n",
       "      <th>ID_PROYECTO</th>\n",
       "      <th>NUMERO_CONVOCATORIA</th>\n",
       "      <th>ANIO</th>\n",
       "      <th>PALABRAS_CLAVE</th>\n",
       "      <th>SUBDISCIPLINA</th>\n",
       "      <th>DISCIPLINA</th>\n",
       "      <th>AREA</th>\n",
       "      <th>TITULO</th>\n",
       "      <th>DESCRIPCION_PROYECTO</th>\n",
       "    </tr>\n",
       "  </thead>\n",
       "  <tbody>\n",
       "    <tr>\n",
       "      <td>0</td>\n",
       "      <td>14841</td>\n",
       "      <td>2018-01-01</td>\n",
       "      <td>2022-12-31 00:00:00</td>\n",
       "      <td>3</td>\n",
       "      <td>254622</td>\n",
       "      <td>I0017</td>\n",
       "      <td>2000</td>\n",
       "      <td>None</td>\n",
       "      <td>None</td>\n",
       "      <td>None</td>\n",
       "      <td>None</td>\n",
       "      <td>None</td>\n",
       "      <td>principal problem salud aquej poblacion mexica...</td>\n",
       "    </tr>\n",
       "    <tr>\n",
       "      <td>1</td>\n",
       "      <td>14841</td>\n",
       "      <td>2018-01-01</td>\n",
       "      <td>2022-12-31 00:00:00</td>\n",
       "      <td>3</td>\n",
       "      <td>258332</td>\n",
       "      <td>I0017</td>\n",
       "      <td>2000</td>\n",
       "      <td>None</td>\n",
       "      <td>None</td>\n",
       "      <td>None</td>\n",
       "      <td>None</td>\n",
       "      <td>None</td>\n",
       "      <td>pas nuestr equip trabaj realiz diferent estudi...</td>\n",
       "    </tr>\n",
       "    <tr>\n",
       "      <td>2</td>\n",
       "      <td>14841</td>\n",
       "      <td>2018-01-01</td>\n",
       "      <td>2022-12-31 00:00:00</td>\n",
       "      <td>3</td>\n",
       "      <td>168560</td>\n",
       "      <td>I0017</td>\n",
       "      <td>2000</td>\n",
       "      <td>None</td>\n",
       "      <td>None</td>\n",
       "      <td>None</td>\n",
       "      <td>None</td>\n",
       "      <td>None</td>\n",
       "      <td>complic hepat asoci acumul gras corporal relac...</td>\n",
       "    </tr>\n",
       "    <tr>\n",
       "      <td>3</td>\n",
       "      <td>14841</td>\n",
       "      <td>2018-01-01</td>\n",
       "      <td>2022-12-31 00:00:00</td>\n",
       "      <td>3</td>\n",
       "      <td>243406</td>\n",
       "      <td>I0017</td>\n",
       "      <td>2000</td>\n",
       "      <td>None</td>\n",
       "      <td>None</td>\n",
       "      <td>None</td>\n",
       "      <td>None</td>\n",
       "      <td>None</td>\n",
       "      <td>antecedent enfermed hig gras alcohol entid com...</td>\n",
       "    </tr>\n",
       "    <tr>\n",
       "      <td>4</td>\n",
       "      <td>14841</td>\n",
       "      <td>2018-01-01</td>\n",
       "      <td>2022-12-31 00:00:00</td>\n",
       "      <td>3</td>\n",
       "      <td>134346</td>\n",
       "      <td>I0003</td>\n",
       "      <td>2000</td>\n",
       "      <td>None</td>\n",
       "      <td>None</td>\n",
       "      <td>None</td>\n",
       "      <td>None</td>\n",
       "      <td>None</td>\n",
       "      <td>inflamacion caracterist comun much enfermedad ...</td>\n",
       "    </tr>\n",
       "  </tbody>\n",
       "</table>\n",
       "</div>"
      ],
      "text/plain": [
       "     CVU   IVIGENCIA            FVIGENCIA  NIVEL  ID_PROYECTO  \\\n",
       "0  14841  2018-01-01  2022-12-31 00:00:00      3       254622   \n",
       "1  14841  2018-01-01  2022-12-31 00:00:00      3       258332   \n",
       "2  14841  2018-01-01  2022-12-31 00:00:00      3       168560   \n",
       "3  14841  2018-01-01  2022-12-31 00:00:00      3       243406   \n",
       "4  14841  2018-01-01  2022-12-31 00:00:00      3       134346   \n",
       "\n",
       "  NUMERO_CONVOCATORIA  ANIO PALABRAS_CLAVE SUBDISCIPLINA DISCIPLINA  AREA  \\\n",
       "0               I0017  2000           None          None       None  None   \n",
       "1               I0017  2000           None          None       None  None   \n",
       "2               I0017  2000           None          None       None  None   \n",
       "3               I0017  2000           None          None       None  None   \n",
       "4               I0003  2000           None          None       None  None   \n",
       "\n",
       "  TITULO                               DESCRIPCION_PROYECTO  \n",
       "0   None  principal problem salud aquej poblacion mexica...  \n",
       "1   None  pas nuestr equip trabaj realiz diferent estudi...  \n",
       "2   None  complic hepat asoci acumul gras corporal relac...  \n",
       "3   None  antecedent enfermed hig gras alcohol entid com...  \n",
       "4   None  inflamacion caracterist comun much enfermedad ...  "
      ]
     },
     "execution_count": 40,
     "metadata": {},
     "output_type": "execute_result"
    }
   ],
   "source": [
    "data_topics_clean.head()"
   ]
  },
  {
   "cell_type": "code",
   "execution_count": 42,
   "metadata": {},
   "outputs": [
    {
     "data": {
      "text/plain": [
       "['../data/datos_training_n_eval_5.pkl']"
      ]
     },
     "execution_count": 42,
     "metadata": {},
     "output_type": "execute_result"
    }
   ],
   "source": [
    "dump(data_topics_clean, \"../data/datos_training_n_eval_5.pkl\")"
   ]
  },
  {
   "cell_type": "code",
   "execution_count": 47,
   "metadata": {},
   "outputs": [
    {
     "data": {
      "text/plain": [
       "14433"
      ]
     },
     "execution_count": 47,
     "metadata": {},
     "output_type": "execute_result"
    }
   ],
   "source": [
    "\"--------------------------------------------------------------------------------------------------------------------------------------------------------------------------------------------------------------------------------------------------------------------------------------------------------------------------------------------------------------------------------------------------------------------------------------------------------------------------------------------------------------------------------------------------------------------------------------------------------------------------------------------------------------------------------------------------------------------------------------------------------------------------------------------------------------------------------------------------------------------------------------------------------------------------------------------------------------------------------------------------------------------------------------------------------------------------------------------------------------------------------------------------------------------------------------------------------------------------------------------------------------------------------------------------------------------------------------------------------------------------------------------------------------------------------------------------------------------------------------------------------------------------------------------------------------------------------------------------------------------------------------------------------------------------------------------------------------------------------------------------------------------------------------------------------------------------------------------------------------------------------------------------------------------------------------------------------------------------------------------------------------------------------------------------------------------------------------------------------------------------------------------------------------------------------------------------------------------------------------------------------------------------------------------------------------------------------------------------------------------------------------------------------------------------------------------------------------------------------------------------------------------------------------------------------------------------------------------------------------------------------------------------------------------------------------------------------------------------------------------------------------------------------------------------------------------------------------------------------------------------------------------------------------------------------------------------------------------------------------------------------------------------------------------------------------------------------------------------------------------------------------------------------------------------------------------------------------------------------------------------------------------------------------------------------------------------------------------------------------------------------------------------------------------------------------------------------------------------------------------------------------------------------------------------------------------------------------------------------------------------------------------------------------------------------------------------------------------------------------------------------------------------------------------------------------------------------------------------------------------------------------------------------------------------------------------------------------------------------------------------------------------------------------------------------------------------------------------------------------------------------------------------------------------------------------------------------------------------------------------------------------------------------------------------------------------------------------------------------------------------------------------------------------------------------------------------------------------------------------------------------------------------------------------------------------------------------------------------------------------------------------------------------------------------------------------------------------------------------------------------------------------------------------------------------------------------------------------------------------------------------------------------------------------------------------------------------------------------------------------------------------------------------------------------------------------------------------------------------------------------------------------------------------------------------------------------------------------------------------------------------------------------------------------------------------------------------------------------------------------------------------------------------------------------------------------------------------------------------------------------------------------------------------------------------------------------------------------------------------------------------------------------------------------------------------------------------------------------------------------------------------------------------------------------------------------------------------------------------------------------------------------------------------------------------------------------------------------------------------------------------------------------------------------------------------------------------------------------------------------------------------------------------------------------------------------------------------------------------------------------------------------------------------------------------------------------------------------------------------------------------------------------------------------------------------------------------------------------------------------------------------------------------------------------------------------------------------------------------------------------------------------------------------------------------------------------------------------------------------------------------------------------------------------------------------------------------------------------------------------------------------------------------------------------------------------------------------------------------------------------------------------------------------------------------------------------------------------------------------------------------------------------------------------------------------------------------------------------------------------------------------------------------------------------------------------------------------------------------------------------------------------------------------------------------------------------------------------------------------------------------------------------------------------------------------------------------------------------------------------------------------------------------------------------------------------------------------------------------------------------------------------------------------------------------------------------------------------------------------------------------------------------------------------------------------------------------------------------------------------------------------------------------------------------------------------------------------------------------------------------------------------------------------------------------------------------------------------------------------------------------------------------------------------------------------------------------------------------------------------------------------------------------------------------------------------------------------------------------------------------------------------------------------------------------------------------------------------------------------------------------------------------------------------------------------------------------------------------------------------------------------------------------------------------------------------------------------------------------------------------------------------------------------------------------------------------------------------------------------------------------------------------------------------------------------------------------------------------------------------------------------------------------------------------------------------------------------------------------------------------------------------------------------------------------------------------------------------------------------------------------------------------------------------------------------------------------------------------------------------------------------------------------------------------------------------------------------------------------------------------------------------------------------------------------------------------------------------------------------------------------------------------------------------------------------------------------------------------------------------------------------------------------------------------------------------------------------------------------------------------------------------------------------------------------------------------------------------------------------------------------------------------------------------------------------------------------------------------------------------------------------------------------------------------------------------------------------------------------------------------c----------------------------------------------------------------------------------------------------------------------------------------------------------------------------------------------------------------------------------------------------------------------------------------------------------------------------------------------------------------------------------------------------------------------------------------------------------------------------------------------------------------------------------------------------------------------------------------------------------------------------------------------------------------------------------------------------------------------------------------------------------------------------------------------------------------------------------------------------------------------------------------------------------------------------------------------------------------------------------------------------------------------------------------------------------------------------------------------------------------------------------------------------------------------------------------------------------------------------------------------------------------------------------------------------------------------------------------------------------------------------------------------------------------------------------------------------------------------------------------------------------------------------------------------------------------------------------------------------------------------------------------------------------------------------------------------------------------------------------------------------------------------------------------------------------------------------------------------------------------------------------------------------------------------------------------------------------------------------------------------------------------------------------------------------------------------------------------------------------------------------------------------------------------------------------------------------------------------------------------------------------------------------------------------------------------------------------------------------------------------------------------------------------------------------------------------------------------------------------------------------------------------------------------------------------------------------------------------------------------------------------------------------------------------------------------------------------------------------------------------------------------------------------------------------------------------------------------------------------------------------------------------------------------------------------------------------------------------------------------------------------------------------------------------------------------------------------------------------------------------------------------------------------------------------------------------------------------------------------------------------------------------------------------------------------------------------------------------------------------------------------------------------------------------------------------------------------------------------------------------------------------------------------------------------------------------------------------------------------------------------------------------------------------------------------------------------------------------------------------------------------------------------------------------------------------------------------------------------------------------------------------------------------------------------------------------------------------------------------------------------------------------------------------------------------------------------------------------------------------------------------------------------------------------------------------------------------------------------------------------------------------------------------------------------------------------------------------------------------------------------------------------------------------------------------------------------------------------------------------------------------------------------------------------------c---------------------------------------------------------------------------------------------------\".count(\"-\")"
   ]
  },
  {
   "cell_type": "code",
   "execution_count": null,
   "metadata": {},
   "outputs": [],
   "source": []
  }
 ],
 "metadata": {
  "kernelspec": {
   "display_name": "Python 3",
   "language": "python",
   "name": "python3"
  },
  "language_info": {
   "codemirror_mode": {
    "name": "ipython",
    "version": 3
   },
   "file_extension": ".py",
   "mimetype": "text/x-python",
   "name": "python",
   "nbconvert_exporter": "python",
   "pygments_lexer": "ipython3",
   "version": "3.6.9"
  }
 },
 "nbformat": 4,
 "nbformat_minor": 4
}
