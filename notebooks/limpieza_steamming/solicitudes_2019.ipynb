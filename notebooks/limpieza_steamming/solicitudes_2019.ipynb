{
 "cells": [
  {
   "cell_type": "code",
   "execution_count": 12,
   "metadata": {},
   "outputs": [],
   "source": [
    "import pandas as pd\n",
    "import sys\n",
    "sys.path.append(\"../../pipeline\")  \n",
    "from cleaning_steamming import CleanTools\n",
    "from joblib import dump, load"
   ]
  },
  {
   "cell_type": "code",
   "execution_count": 121,
   "metadata": {},
   "outputs": [
    {
     "data": {
      "text/plain": [
       "Index(['convocatoria', 'clave', 'proyecto_id', 'id_area', 'AREA', 'id_campo',\n",
       "       'CAMPO', 'id_disciplina', 'DISCIPLINA', 'id_subdisciplina',\n",
       "       'SUBDISCIPLINA', 'modalidad', 'estatus_envio', 'estatus_propuesta',\n",
       "       'titulo_es', 'DESCRIPCION_PROYECTO', 'resumen_en', 'razon_social',\n",
       "       'reniecyt', 'entidad_federativa', 'tipo_institucion', 'rt_cvu',\n",
       "       'rt_nombre', 'rt_apellido_paterno', 'rt_apellido_materno', 'rt_correo',\n",
       "       'rt_nivelsni', 'ra_cvu', 'ra_nombre', 'ra_apellido_paterno',\n",
       "       'ra_apellido_materno', 'ra_correo', 'ra_nivelsni', 'rl_cvu',\n",
       "       'rl_nombre', 'rl_apellido_paterno', 'rl_apellido_materno', 'rl_correo',\n",
       "       'rl_nivelsni', 'fecha_envio', 'palabrasclave', 'pc1', 'pc2', 'pc3',\n",
       "       'pc4', 'pc5', 'pc6', 'pc7', 'pc8', 'pc9', 'pc10', 'pc11', 'pc12',\n",
       "       'pc13', 'pc14', 'pc15', 'pc16', 'pc17'],\n",
       "      dtype='object')"
      ]
     },
     "execution_count": 121,
     "metadata": {},
     "output_type": "execute_result"
    }
   ],
   "source": [
    "df_solicitudes.columns"
   ]
  },
  {
   "cell_type": "code",
   "execution_count": 123,
   "metadata": {},
   "outputs": [
    {
     "data": {
      "text/html": [
       "<div>\n",
       "<style scoped>\n",
       "    .dataframe tbody tr th:only-of-type {\n",
       "        vertical-align: middle;\n",
       "    }\n",
       "\n",
       "    .dataframe tbody tr th {\n",
       "        vertical-align: top;\n",
       "    }\n",
       "\n",
       "    .dataframe thead th {\n",
       "        text-align: right;\n",
       "    }\n",
       "</style>\n",
       "<table border=\"1\" class=\"dataframe\">\n",
       "  <thead>\n",
       "    <tr style=\"text-align: right;\">\n",
       "      <th></th>\n",
       "      <th>convocatoria</th>\n",
       "      <th>clave</th>\n",
       "      <th>ID_PROYECTO</th>\n",
       "      <th>id_area</th>\n",
       "      <th>AREA</th>\n",
       "      <th>id_campo</th>\n",
       "      <th>CAMPO</th>\n",
       "      <th>id_disciplina</th>\n",
       "      <th>DISCIPLINA</th>\n",
       "      <th>id_subdisciplina</th>\n",
       "      <th>...</th>\n",
       "      <th>pc8</th>\n",
       "      <th>pc9</th>\n",
       "      <th>pc10</th>\n",
       "      <th>pc11</th>\n",
       "      <th>pc12</th>\n",
       "      <th>pc13</th>\n",
       "      <th>pc14</th>\n",
       "      <th>pc15</th>\n",
       "      <th>pc16</th>\n",
       "      <th>pc17</th>\n",
       "    </tr>\n",
       "  </thead>\n",
       "  <tbody>\n",
       "    <tr>\n",
       "      <td>0</td>\n",
       "      <td>Ciencia de Frontera 2019</td>\n",
       "      <td>CF-MG-20191107191915010-4647203</td>\n",
       "      <td>4647203</td>\n",
       "      <td>1</td>\n",
       "      <td>Ciencias físico matemáticas y ciencias de la t...</td>\n",
       "      <td>4</td>\n",
       "      <td>Física</td>\n",
       "      <td>24</td>\n",
       "      <td>Fisica estadística</td>\n",
       "      <td>604</td>\n",
       "      <td>...</td>\n",
       "      <td>stress test</td>\n",
       "      <td>NaN</td>\n",
       "      <td>NaN</td>\n",
       "      <td>NaN</td>\n",
       "      <td>NaN</td>\n",
       "      <td>NaN</td>\n",
       "      <td>NaN</td>\n",
       "      <td>NaN</td>\n",
       "      <td>NaN</td>\n",
       "      <td>NaN</td>\n",
       "    </tr>\n",
       "    <tr>\n",
       "      <td>1</td>\n",
       "      <td>Ciencia de Frontera 2019</td>\n",
       "      <td>CF-MG-20191105031440822-2574574</td>\n",
       "      <td>2574574</td>\n",
       "      <td>3</td>\n",
       "      <td>Medicina y ciencias de la salud</td>\n",
       "      <td>121</td>\n",
       "      <td>Investigación médica</td>\n",
       "      <td>837</td>\n",
       "      <td>Enfermedades infecciosas, bacteriología clínic...</td>\n",
       "      <td>4856</td>\n",
       "      <td>...</td>\n",
       "      <td>NaN</td>\n",
       "      <td>NaN</td>\n",
       "      <td>NaN</td>\n",
       "      <td>NaN</td>\n",
       "      <td>NaN</td>\n",
       "      <td>NaN</td>\n",
       "      <td>NaN</td>\n",
       "      <td>NaN</td>\n",
       "      <td>NaN</td>\n",
       "      <td>NaN</td>\n",
       "    </tr>\n",
       "    <tr>\n",
       "      <td>2</td>\n",
       "      <td>Ciencia de Frontera 2019</td>\n",
       "      <td>CF-MG-20191025151637887-1098668</td>\n",
       "      <td>1098668</td>\n",
       "      <td>7</td>\n",
       "      <td>Ingeniería y tecnología</td>\n",
       "      <td>32</td>\n",
       "      <td>Ingeniería</td>\n",
       "      <td>279</td>\n",
       "      <td>Ingeniería electrónica</td>\n",
       "      <td>3009</td>\n",
       "      <td>...</td>\n",
       "      <td>NaN</td>\n",
       "      <td>NaN</td>\n",
       "      <td>NaN</td>\n",
       "      <td>NaN</td>\n",
       "      <td>NaN</td>\n",
       "      <td>NaN</td>\n",
       "      <td>NaN</td>\n",
       "      <td>NaN</td>\n",
       "      <td>NaN</td>\n",
       "      <td>NaN</td>\n",
       "    </tr>\n",
       "    <tr>\n",
       "      <td>3</td>\n",
       "      <td>Ciencia de Frontera 2019</td>\n",
       "      <td>CF-MG-20191018115318179-373922</td>\n",
       "      <td>373922</td>\n",
       "      <td>4</td>\n",
       "      <td>Humanidades y ciencias de la conducta</td>\n",
       "      <td>17</td>\n",
       "      <td>Pedagogía</td>\n",
       "      <td>149</td>\n",
       "      <td>Otras especialidades pedagógicas</td>\n",
       "      <td>2216</td>\n",
       "      <td>...</td>\n",
       "      <td>NaN</td>\n",
       "      <td>NaN</td>\n",
       "      <td>NaN</td>\n",
       "      <td>NaN</td>\n",
       "      <td>NaN</td>\n",
       "      <td>NaN</td>\n",
       "      <td>NaN</td>\n",
       "      <td>NaN</td>\n",
       "      <td>NaN</td>\n",
       "      <td>NaN</td>\n",
       "    </tr>\n",
       "    <tr>\n",
       "      <td>4</td>\n",
       "      <td>Ciencia de Frontera 2019</td>\n",
       "      <td>CF-MG-20191105072112144-2574577</td>\n",
       "      <td>2574577</td>\n",
       "      <td>7</td>\n",
       "      <td>Ingeniería y tecnología</td>\n",
       "      <td>30</td>\n",
       "      <td>Ciencias tecnológicas</td>\n",
       "      <td>250</td>\n",
       "      <td>Otras especialidades tecnológicas</td>\n",
       "      <td>3281</td>\n",
       "      <td>...</td>\n",
       "      <td>NaN</td>\n",
       "      <td>NaN</td>\n",
       "      <td>NaN</td>\n",
       "      <td>NaN</td>\n",
       "      <td>NaN</td>\n",
       "      <td>NaN</td>\n",
       "      <td>NaN</td>\n",
       "      <td>NaN</td>\n",
       "      <td>NaN</td>\n",
       "      <td>NaN</td>\n",
       "    </tr>\n",
       "  </tbody>\n",
       "</table>\n",
       "<p>5 rows × 58 columns</p>\n",
       "</div>"
      ],
      "text/plain": [
       "               convocatoria                            clave  ID_PROYECTO  \\\n",
       "0  Ciencia de Frontera 2019  CF-MG-20191107191915010-4647203      4647203   \n",
       "1  Ciencia de Frontera 2019  CF-MG-20191105031440822-2574574      2574574   \n",
       "2  Ciencia de Frontera 2019  CF-MG-20191025151637887-1098668      1098668   \n",
       "3  Ciencia de Frontera 2019   CF-MG-20191018115318179-373922       373922   \n",
       "4  Ciencia de Frontera 2019  CF-MG-20191105072112144-2574577      2574577   \n",
       "\n",
       "   id_area                                               AREA  id_campo  \\\n",
       "0        1  Ciencias físico matemáticas y ciencias de la t...         4   \n",
       "1        3                    Medicina y ciencias de la salud       121   \n",
       "2        7                            Ingeniería y tecnología        32   \n",
       "3        4              Humanidades y ciencias de la conducta        17   \n",
       "4        7                            Ingeniería y tecnología        30   \n",
       "\n",
       "                   CAMPO  id_disciplina  \\\n",
       "0                 Física             24   \n",
       "1   Investigación médica            837   \n",
       "2             Ingeniería            279   \n",
       "3              Pedagogía            149   \n",
       "4  Ciencias tecnológicas            250   \n",
       "\n",
       "                                          DISCIPLINA  id_subdisciplina  ...  \\\n",
       "0                                 Fisica estadística               604  ...   \n",
       "1  Enfermedades infecciosas, bacteriología clínic...              4856  ...   \n",
       "2                             Ingeniería electrónica              3009  ...   \n",
       "3                   Otras especialidades pedagógicas              2216  ...   \n",
       "4                  Otras especialidades tecnológicas              3281  ...   \n",
       "\n",
       "           pc8  pc9 pc10 pc11 pc12 pc13 pc14 pc15 pc16 pc17  \n",
       "0  stress test  NaN  NaN  NaN  NaN  NaN  NaN  NaN  NaN  NaN  \n",
       "1          NaN  NaN  NaN  NaN  NaN  NaN  NaN  NaN  NaN  NaN  \n",
       "2          NaN  NaN  NaN  NaN  NaN  NaN  NaN  NaN  NaN  NaN  \n",
       "3          NaN  NaN  NaN  NaN  NaN  NaN  NaN  NaN  NaN  NaN  \n",
       "4          NaN  NaN  NaN  NaN  NaN  NaN  NaN  NaN  NaN  NaN  \n",
       "\n",
       "[5 rows x 58 columns]"
      ]
     },
     "execution_count": 123,
     "metadata": {},
     "output_type": "execute_result"
    }
   ],
   "source": [
    "df_solicitudes = pd.read_csv(\"../../data/solicitudes_2019/solicitudes_201912031041.csv\")\n",
    "\n",
    "df_solicitudes = df_solicitudes.rename({\"id\": \"ID_PROYECTO\",\n",
    "                                        \"PROYECTO_ID\":\"ID_PROYECTO\",\n",
    "                                        \"area\": \"AREA\",\n",
    "                                        \"campo\": \"CAMPO\",\n",
    "                                        \"disciplina\": \"DISCIPLINA\",\n",
    "                                        \"subdisciplina\": \"SUBDISCIPLINA\",\n",
    "                                        \"resumen_es\": \"DESCRIPCION_PROYECTO\",\n",
    "                                        \"CONVOCATORIA\":\"NUMERO_CONVOCATORIA\",\n",
    "                                        \"RESUMEN_ES\":\"DESCRIPCION_PROYECTO\",\n",
    "                                       \"proyecto_id\": \"ID_PROYECTO\"},axis=1)# . df_solicitudes = load(\"../../data/solicitudes_2019/data_evaluar_pn_2019.pkl\")\n",
    "df_solicitudes.head()"
   ]
  },
  {
   "cell_type": "code",
   "execution_count": 245,
   "metadata": {},
   "outputs": [],
   "source": [
    "id_proyecto = 74869"
   ]
  },
  {
   "cell_type": "code",
   "execution_count": 246,
   "metadata": {},
   "outputs": [
    {
     "data": {
      "text/plain": [
       "['La biología sintética y la ingeniería de proteínas permite nuevas y prometedoras plataformas tecnologías para la ingeniería de biomateriales con propiedades catalíticas útiles en la transformación de contaminantes del agua, y su biorremediación. La alta urbanización y actividad industrial aumenta la incorporación de moléculas contaminantes extrañas en los ecosistemas, lo que afecta la salud humana y animal. En todo el mundo, se han adoptado estrategias innovadoras físicas, químicas y biológicas para eliminar los contaminantes de los cuerpos de agua bajo estrés antropogénico. Para ello, se han utilizado procesos biotecnológicos que involucran microorganismos y enzimas. Particularmente, hay interés en seis clases de enzimas, entre las cuales se encuentran las oxidorreductasas e hidrolasas, que tienen la capacidad de degradar o biotransformar compuestos tóxicos. Específicamente, las lacasas, son biocatalizadores de amplio espectro, que se han utilizado para degradar varios compuestos, especialmente en efluentes de industrias y hospitales. Sin embargo, su aplicación en la biorremediación y el tratamiento del agua es limitada, porque su actividad se ve afectada por la composición compleja de las moléculas en el agua, la alta concentración de sal y los diferentes valores de pH de los medios contaminados. Por otro lado, las lipasas catalizan la hidrólisis de ésteres a partir de glicerol y ácidos grasos de cadena larga, y se ha informado su uso en biorremediación. De hecho, las lipasas pueden transformar hidrolíticamente contaminantes como el aceite o las partículas de petróleo. Sin embargo, la aplicación de enzimas en el tratamiento de millones de litros de agua contaminada es limitada, debido a lo costoso de la purificación de enzimas libres, o a los tratamientos necesarios para su estabilización como la inmovilización, con el objetivo de mejorar su actividad y tiempo de vida media. De ahí que novedosos biocatalizadores deben ser diseñados con estabilidades mejoradas, que transformen un amplio espectro de sustratos produciendo moléculas menos tóxicas, así como nuevas estrategias de recuperación, que aminoren los costos de aplicación.  \\nPor todo lo anterior, en este proyecto pretendemos diseñar y producir partículas biocatalíticas recombinantes con funciones de lacasa y lipasa fusionadas a dominios de agregación para su auto-ensamblamiento en el citoplasma de E. coli, para su potencial aplicación en la biorremediación del agua, con alta estabilidad y ciclos de uso.']"
      ]
     },
     "execution_count": 246,
     "metadata": {},
     "output_type": "execute_result"
    }
   ],
   "source": [
    "df_solicitudes[df_solicitudes[\"ID_PROYECTO\"]==id_proyecto][\"DESCRIPCION_PROYECTO\"].tolist()"
   ]
  },
  {
   "cell_type": "raw",
   "metadata": {},
   "source": [
    "### df_histo = load(\"../../data/entrenamiento/datos_training_n_eval_5.pkl\")\n",
    "£"
   ]
  },
  {
   "cell_type": "code",
   "execution_count": 243,
   "metadata": {},
   "outputs": [],
   "source": [
    "CVU_1 = 31033"
   ]
  },
  {
   "cell_type": "code",
   "execution_count": 244,
   "metadata": {},
   "outputs": [
    {
     "data": {
      "text/plain": [
       "['carilglic glicosilaren represent import grup product natural carbohidrat encuentr unid direct anill aromat mediant enlac carbonocarbon literatur pued encontr numer ejempl carilglic pos activ biolog figur ejempl goniothalesdiol acuayamicin gilvocarcin proyect present propon desarroll nuev metod preparacion carilglic especial grup emple divers herramient sintet sobr emple reaccion radical libr etap clav metodologi part plante sintesis total gilvocarcin famili compuest pertenecient carilglic muestr activ antitumorlal import asoci toxic compuest prometedor farmacolog propon diferent logr objet basd tant quimic ionic adicion litian sobr lacton quimic radicalari ciclacion formal radical sobr anill aromat ',\n",
       " 'exist divers prueb experimental acumul larg vari implic esfuerz investigacion permit establec tant geometri reactiv molecul estan sujet efect estereoelectron determin ultim instanci condicion molecul interactu estos efect general produc par electron enlac heteroatom enlac mism cuand interactu orbital vaci permit deslocalizacion electron abat energi teori deslongchamps control estereoelectron sobr reactiv molecul deb interaccion entre orbital depend fundamental traslap orientacion relat analisis conformacional fundamental concepcion actual quimic vinculacion quimic experimental quimic teoric hech deb actual molecul estudi experimental calcul nivel teori elev confiabl import necesari apoy racionaliz hipotesis eman experiment result teoric evit frecuent especul ayud progres quimic necesari desarroll grup investigacion trabaj interf graci apoy institut quimic conacyt fund quinc prim grup fisicoquim organ dond desarroll computacional experimental coexist mism laboratori exit notabl publicacion result gener mexic revist impact reconoc prestigi internacional angewandt chemi journal americ chemical society grad madurez logr grup llev enfrent complej incursion sintesis organ formal final desarroll ejecut sintesis cantidad razon molecul permit evalu prediccion eman calcul teoric permitir abrir line investigacion complet nuev institut quimic final consolid grup somet consideracion present proyect global constitu part denomin subproyect problem abord relev actual fisicoquim organ dond quimic supramolecul reconoc molecul funcion catalit algun molecul disen racional import apoy global conacyt servir optimizacion recurs permit mayor impact hem demostr ejecucion proyect 49921 import interaccion debil estabil molecul estudi naturalez enlac quimic trav analisis rigur densidad electron tant experimental teoric mediant estudi espectroscop calorimetr permit cuantific recient conclu abord problem sintesis centr proyect extension direct anterior obtuv experient sintet necesari sintesis enzim sintet bas interaccion desarroll molecul activ hidrolit naturalez interaccion resuelt satisfactori descrit desplaz molecul proxim superfici hidrofob tien contribucion entrop favor hem demostr interaccion electrostat entre carg posit atom hidrogen enlac carg negat electron anill proporcion contribucion entalp tambi propici nuestr result indic contribucion kcalmol probabl polariz electron anill naturalez polariz enlac lug fuerz atract pued modific racional recient public primer prueb naturalez estabiliz interaccion carbohidratoresidu aromat establec teoric residu aromat bencen interactu carbohidrat fucos analog galact energi estabilizacion kcalmol atom hidrogen particip interaccion consider interaccion contribu kcalmol estabil concuerd result adem muestr adit adem emple proces titulacion anisotrop posibl determin calcul nivel mp2631gdp emple proced incorpor correccion superposicion bas durant optimizacion geometri describ estructur complej supramolecul satisfac result experimental nivel obtien energi estabiliz kcalmol mientr b3lyp631gdp energi disminu kcalmol objet principal proyect obten simil sintet enzim efectu transform hidrolisis aminolisis molecul capac catalit inclu anill aromat reconoc molecul unid residu piridon centr reactiv unid espaci trav algun grup grup funcional permit cercani molecul piridon grup reactiv unid carbohidrat caracterist grup espaci decidir result metod computacional emple subproyect propon introduccion grup acetil posicion anill piran metil tod posicion restant evit competent domin puent hidrogen form tendri supramolecul llevari interaccion carbohidratoresidu aromat podri funcion siti reconoc molecul llevari reaccion aminolisis ten sustrat 1acetil2346tetraometil galact estas caracterist cubr requer enzim siti reconoc siti catalit estudi tendient sintesis biomimet brevifloralacton desd inici estudi biogenesis terminal terpen emple metod computacional deb riquez quimic asoci product natural aisl larg histori institut quimic cuent multipl problem inter fisicoquim ejempl abord biogenesis 8epiconfertin propiedad terriciclen desd punt vist biogenet problem relev constitu orig brevifloralacton diterpen asil salvi breviflor compuest present esquelet frecuent oxabicicl anill pued especul orig part epox hipotesis biogenet demostr experimental subproyect emprend estudi sintet tendient preparacion brevifloralacton siend objet principal sintesis grup neoclerodan simpl cual pretend prepar part caden conteng lacton ceton trihidronaftalen capac sufr reduccion birch select mecan sintet tambi abord computacional determin factibil quimic calcul nivel mpw1b95631gdp aproximacion utiliz determin precision energi estad transicion involucr proporcion tant diferent confiabl energi estudi interaccion debil control proces conformacional conoc interaccion torn herramient import desarroll quimic supramolecul interaccion general estudi arregl conformacional defin estad sol conoc respect capac control proces conformacional men manifest reactiv molecul relev estudi interaccion debil control dinam conformacional reactiv molecul inter estas interaccion tien fuerz suficient control proces conformacional tendr particip proces supramolecular hast result practic impos predec arregl cristalin asumir conjunt molecul organ determin desconoc cuantit principi fundamental rig arregl supramolecul quinon grup product natural fundamental proces biolog oxidoreduccion particip proces metabol dond transferent electron reaccion conservacion energi fundamental respiracion mitocondrial fotosintesis sab modificacion patron sustitucion direct anill quinoid ocasion cambi capac acept electron tant capac intermedi proces biolog estudi recient perezon demuestr existent interaccion intramolecul debil entre caden lateral terpen anill quinon control conformacion modul transferent electron quinon proces biolog flexibil caden unic factor habi pens proyect plane realiz sintesis molecul analog perezon final estudi interaccion intramolecul entre caden lateral anill quinon molecul conten mayor numer carbon caden lateral permitir manipul tension angul mism cambi grup funcional terminal caden alquen alquin ayud corrobor existent interaccion debil ante mencion posterior plante estudi posibl reaccion cicloadicion quinon sintetiz estudi mism inter crecient deb versatil sintet embarg atencion aquell provenient reaccion intramolecular transformacion perezon produc mezcl cedren pipitzol baj rendimient asoci estas transform pued part respons inter continu estos estudi signif estudi import contrari entend cicloadicion ayudari elucidacion formacion much sistem natural desarroll nuev cicloadicion tendri impact import busqued nuev product quimic potencial aplicacion diferent industri tal farmaceut aliment textil sobr cosmet perfum ',\n",
       " 'mader material part material compuest composit increment demand ultim dec profesional construccion disen muebl mostr aceptacion product industri maderer tabler fabric aglomer mader lamin embarg tant mader tabl composit deriv estan constant exposicion ataqu insect microorgan especial hong adem deterior factor ambiental deb tant mader comercial composit deriv provien mayoritari especi arbor resistent natural ataqu insect hong increment durabil recurr proces preservacion adicion sustanci quimic tant mader tabl composit deriv preserv quimic utiliz actual estan formul sal crom cobr arsen cianat neces utiliz product industri maderer exterior toxic lixiviacion median larg plaz mencion preserv hac aplicacion tiend disminu rigur norm legisl ambiental benefici salud human ecosistem afect ambit ensambl capac adherent escenari descrit anterior muestr grand problemat piez mader preserv present problem resistent cualidad mecan union adhes otras piez deb part incompatibil adhes aplic tabler particul lamin present deficient propiedad estructural estabil composicion adicion sustanci quimic preserv durant fabricacion mencion problemat estudi general busqued mejor adhesivopreserv dispon embarg escas estudi fundament composicion quimic mader present proyect desarroll facult ingenieri tecnologi mader fitecm dependient univers michoac nicol hidalg umsnh propon vincul converg result desarroll adhes lignin conoc extraibl mader durabil natural gener conoc innovacion adhes capac preserv estat mader composit mader durant desarroll present proyect desarroll escenari trabaj fisicoquim organ vincul result dat informacion obten analisis interaccion acopl model lignin depolimeriz sobr cristalit celul estudi fuerz adhes quimicocomputacional paralel recurrir estudi evaluacion antifung acopl molecul entre extraibl algun dalbergi caracterist estad michoac nuestr estructur tridimensional caracteriz enzim lacas provenient hong tramet versicolor posterior desarroll formul adhes lignin depolimeriz obtendr proces acid organosolv extraccion mecan cual ser adicion extraibl obtendr men cuatr dalbergi definir disponibil capac adhes determin mediant estudi analisis termic mecan capac preserv evalu parametr preservacion mader defin norm europ union american formulacion adhes preserv mader composit mader mejor desempen vincul correlacion result dat informacion obten escenari trabaj desarroll ',\n",
       " 'estudi molecular plant somet estres hidric utiliz varied estrategi inclu estudi numer especi mientr trascriptom referent estudi expresion gen nivel trascripcional proteom nivel protein metabolom ingles metabolomics defin med cualit cuantit metabolom entiend metabolom conjunt metabolit molecul sintetiz sistem biolog determin estad fisiolog investig cualqu estas are necesari descript import mientr gen relev confier capac sobrevivent plant toler deshidratacion objet numer investig dedic hast moment consider esfuerz determinacion genom proteom vari sistem prest much men atencion conoc product final expresion genet metabolit hast fech mayori estudi dirig cuantificacion numer predefin metabolit dian produc huell cambi metabol distint poblacion conoc profund funcion bioquim rut metabol metabolom represent expresion final genom transcriptom proteom dand cuent interrelacion existent entre distint nivel fluj informacion sistem biolog mencion previ metabolom inclu objet adem determinacion cualit cuantit metabolit sistem variacion dinam implic bioquim estudi much complet requier enfoqu multidisciplinari much trabaj actual encuadr analisis cromatograf podri englob metabolom pretend enfoqu bioquim integr siend entonc necesari colaboracion expert bioquim cuant objet interpretacion aun falt comunicacion entre biolog quimic metodologi analit report actual analisis metabolom oscil extrem part report estudi sofistic dond analiz simultan docen metabolit sig aparec articul dond estudi algun metabolit hac referent articul viej tecnic analit confiabl carec validacion fundamental trabaj desarroll implement nuev metodologi analit confiabl reproduc valid estudi metabolom plant notabl pretend explot cromatografi gas bidimensional gcxgc maner general metod analisis multidimensional relacion sistem clasic permit aument pod separacion efect inter haci gcxgc fund analisis complet muestr dimension separacion permit pod resolut superior aport simpl column cromatograf sistem simpl sistem cons separacion suces sobr acopl column cromatograf select diferent ayud modul cuy analit sal primer separacion suces reinyect segund column sistem clasic gcxgc excepcion modul principi deteccion utiliz mism element analisis clasic inyector horn cromatograf column capilar detector program informat adquisicion tratamient dat destac factibl acondicion equip tradicional dimension sistem bidimensional emple column naturalez pol diferent adicion equip enfriamient automatiz sistem eleg estudi respuest metabol present plant toler plant sensibl sequi cuand estas somet diferent period deshidratacion plant entre correspond sequi estres deficit hidric tra consig consecuent import dentr metabol plant pued desd descens crecimient plant hast muert inminent mism sab moment present estres hidric plant tien respuest fisiolog intern depend especi vegetal trat grad estres depend supuest resistent plant acuerd mecan adaptacion desarroll guard equilibri entre produccion biomas inconvenient medioambiental expuest plant resistent sequi result inter particul estas capac adapt deficit conserv propiedad alimentici simplement propiedad fisic ',\n",
       " 'acid alfaaminofosfon analog import alfaaminoac hech esfuerz obten acid alfaaminofosfon analog alfaaminoac proteinogen embarg potencial complet estos compuest compar aminac todavi lej alcanz ejempl sintesis acid alfaaminofosfon conformacional restring explor recient grup investigacion colaboracion grup carl cativiel describ primer sintesis estereodivergent acid cisoctahidroindo2ilfosfon cisoctahidroisoindo1ilfosfon consider fosfoprilin restring present propuest describ metod eficient practic sintesis transoctahidroisoindo1ilfosfon 3fosfoisoindolin1on proyect tambi propon primer sintesis acid decahidroisoquinolin1ilfosfon decahidroisoquinolin3ilfosfon 3fosfotetrahidroisoquinolin1on 1fosfotetrahidroisoquinolin3on respect propon rut adicional obtencion estos compuest consider analog acid fosfopipecol conformacional restring recient grup investigacion public articul describ metod eficient sintesis 3fosfoisoindolin1on trav reaccion onepot component entre acid 2formilbenz amin alifat aromat fosfit dimetil reaccion llev concept quimic verd libr disolvent cataliz calent termic irradiacion microond result preliminar grup investigacion mostr pued obten anill cinc miembr tambi logr obtencion anill siet miembr tant proyect propon pon punt metod general eficient practic obtencion alfaaminofosfonat ciclic miembr trav reaccion onepot component entre semialdeh amin alifat aromat fosfit dimetil deb potencial muestr alfaaminofosfonat ciclic miembr sintesis organ proyect propon util sintesis acid alfaaminofosfon conformacional restring analog prolin acid glutam acid pipecol acid 6oxopiperidine2carboxil reaccion onepot component cetoac 1acetilbenz 1benzoilbenz levulin acid 4acetilbutir amin fosfit dimetil proporcion alfaaminofosfonat cuaternari miembr transform fosfoprolin acid fosfopipecol cuaternari conformacionalm restring part import proyect util sintet alfaaminofosfonat ciclic miembr reaccion hornerwadsworthemmons diferent aldeh aromat final obten 3arilidenisoindolin1on cual compuest inter quimic farmaceut sinton clav sintesis molecul complej igual inter result preliminar grup investigacion muestr reaccion proced buen rendimient quimic buen select adem logr sintesis 3arilidenisoindolin1on etap reaccion mientr literatur encuentr descrit sintesis mism 3arilidenisoindolin1on cinc etap reaccion proyect tambi propon reaccion hornerwadsworthemmons alfaaminofosfonat ciclic miembr diferent aldeh aromat final obten 1arilidenisoquinolin3on tambi inter quimic farmaceut sintesis men estudi aunqu describ propuest especial inter pondr reaccion hornerwadsworthemmons alfaaminofosfonat ciclic miembr conducir nuev compuest pued ten aplic import quimic farmaceut adem apoy felip medran carolin godoy esper evalu propiedad fluorescent tod product obten reaccion hornerwadsworthemmons adicional hidrogenacion 3arilidenisoindolin1on 1arilidenisoquinolin3on conducir isoindolin1on isoquinolin3on sustitu cual tambi inter quimic farmaceut proyect propon tambi reaccion hornerwadsworthemmons intramolecul alfaaminofosfonat ciclic principal miembr final obten anill miembr obten nuev product tricicl nuestr result preliminar formacion compuest tricilci miembr utiliz nuestr metod desarroll eficient practic compar proced descrit literatur aunqu descrit protocol tambi aplic proced alfaaminofosfonat ciclic evident propuest fuertement fundament nuestr recient public result preliminar gener recient present simposi internacional investigacion quimic fronter present reunion academi mexican quimic organ adicional cont recurs econom apropi tambi present international conferenc phosphorus chemistry icpc2012 celebr juli personal ejecucion proyect tambi import cuent cuatr estudi maestri cinc doctor ellos codireccion posdoctor adem colaboracion men investig ']"
      ]
     },
     "execution_count": 244,
     "metadata": {},
     "output_type": "execute_result"
    }
   ],
   "source": [
    "df_histo[df_histo[\"CVU\"]==CVU_1][\"DESCRIPCION_PROYECTO\"].tolist()"
   ]
  },
  {
   "cell_type": "code",
   "execution_count": 142,
   "metadata": {},
   "outputs": [],
   "source": [
    "df_histo_sample = load(\"../../data/entrenamiento/datos_training_n_eval_5_sample.pkl\")\n"
   ]
  },
  {
   "cell_type": "code",
   "execution_count": 225,
   "metadata": {},
   "outputs": [],
   "source": [
    "CVU = 43417\t"
   ]
  },
  {
   "cell_type": "code",
   "execution_count": 226,
   "metadata": {},
   "outputs": [
    {
     "data": {
      "text/html": [
       "<div>\n",
       "<style scoped>\n",
       "    .dataframe tbody tr th:only-of-type {\n",
       "        vertical-align: middle;\n",
       "    }\n",
       "\n",
       "    .dataframe tbody tr th {\n",
       "        vertical-align: top;\n",
       "    }\n",
       "\n",
       "    .dataframe thead th {\n",
       "        text-align: right;\n",
       "    }\n",
       "</style>\n",
       "<table border=\"1\" class=\"dataframe\">\n",
       "  <thead>\n",
       "    <tr style=\"text-align: right;\">\n",
       "      <th></th>\n",
       "      <th>CVU</th>\n",
       "      <th>IVIGENCIA</th>\n",
       "      <th>FVIGENCIA</th>\n",
       "      <th>NIVEL</th>\n",
       "      <th>ID_PROYECTO</th>\n",
       "      <th>NUMERO_CONVOCATORIA</th>\n",
       "      <th>ANIO</th>\n",
       "      <th>PALABRAS_CLAVE</th>\n",
       "      <th>SUBDISCIPLINA</th>\n",
       "      <th>DISCIPLINA</th>\n",
       "      <th>AREA</th>\n",
       "      <th>TITULO</th>\n",
       "      <th>DESCRIPCION_PROYECTO</th>\n",
       "    </tr>\n",
       "  </thead>\n",
       "  <tbody>\n",
       "    <tr>\n",
       "      <td>37911</td>\n",
       "      <td>43417</td>\n",
       "      <td>2016-01-01</td>\n",
       "      <td>2019-12-31 00:00:00</td>\n",
       "      <td>1</td>\n",
       "      <td>599</td>\n",
       "      <td>PROBLEMAS-2015-01</td>\n",
       "      <td>2015</td>\n",
       "      <td>Prevención del cáncer de hígado,Lactoferrina b...</td>\n",
       "      <td>ANATOMIA PATOLOGICA</td>\n",
       "      <td>MEDICINA</td>\n",
       "      <td>MEDICINA Y CIENCIAS DE LA SALUD</td>\n",
       "      <td>La prevención del cáncer de hígado por lactofe...</td>\n",
       "      <td>titul prevencion canc hig lactoferrin ejempl e...</td>\n",
       "    </tr>\n",
       "    <tr>\n",
       "      <td>37912</td>\n",
       "      <td>43417</td>\n",
       "      <td>2016-01-01</td>\n",
       "      <td>2019-12-31 00:00:00</td>\n",
       "      <td>1</td>\n",
       "      <td>207408</td>\n",
       "      <td>C0005</td>\n",
       "      <td>2000</td>\n",
       "      <td>None</td>\n",
       "      <td>None</td>\n",
       "      <td>None</td>\n",
       "      <td>None</td>\n",
       "      <td>None</td>\n",
       "      <td>papel prolactin canc analiz dec numer estudi p...</td>\n",
       "    </tr>\n",
       "    <tr>\n",
       "      <td>37913</td>\n",
       "      <td>43417</td>\n",
       "      <td>2016-01-01</td>\n",
       "      <td>2019-12-31 00:00:00</td>\n",
       "      <td>1</td>\n",
       "      <td>169591</td>\n",
       "      <td>I0017</td>\n",
       "      <td>2000</td>\n",
       "      <td>None</td>\n",
       "      <td>None</td>\n",
       "      <td>None</td>\n",
       "      <td>None</td>\n",
       "      <td>None</td>\n",
       "      <td>canc ultim dec convert problem salud mundial r...</td>\n",
       "    </tr>\n",
       "  </tbody>\n",
       "</table>\n",
       "</div>"
      ],
      "text/plain": [
       "         CVU   IVIGENCIA            FVIGENCIA  NIVEL  ID_PROYECTO  \\\n",
       "37911  43417  2016-01-01  2019-12-31 00:00:00      1          599   \n",
       "37912  43417  2016-01-01  2019-12-31 00:00:00      1       207408   \n",
       "37913  43417  2016-01-01  2019-12-31 00:00:00      1       169591   \n",
       "\n",
       "      NUMERO_CONVOCATORIA  ANIO  \\\n",
       "37911   PROBLEMAS-2015-01  2015   \n",
       "37912               C0005  2000   \n",
       "37913               I0017  2000   \n",
       "\n",
       "                                          PALABRAS_CLAVE        SUBDISCIPLINA  \\\n",
       "37911  Prevención del cáncer de hígado,Lactoferrina b...  ANATOMIA PATOLOGICA   \n",
       "37912                                               None                 None   \n",
       "37913                                               None                 None   \n",
       "\n",
       "      DISCIPLINA                             AREA  \\\n",
       "37911   MEDICINA  MEDICINA Y CIENCIAS DE LA SALUD   \n",
       "37912       None                             None   \n",
       "37913       None                             None   \n",
       "\n",
       "                                                  TITULO  \\\n",
       "37911  La prevención del cáncer de hígado por lactofe...   \n",
       "37912                                               None   \n",
       "37913                                               None   \n",
       "\n",
       "                                    DESCRIPCION_PROYECTO  \n",
       "37911  titul prevencion canc hig lactoferrin ejempl e...  \n",
       "37912  papel prolactin canc analiz dec numer estudi p...  \n",
       "37913  canc ultim dec convert problem salud mundial r...  "
      ]
     },
     "execution_count": 226,
     "metadata": {},
     "output_type": "execute_result"
    }
   ],
   "source": [
    "df_histo_sample[df_histo_sample[\"CVU\"]==CVU]"
   ]
  },
  {
   "cell_type": "code",
   "execution_count": 227,
   "metadata": {},
   "outputs": [
    {
     "data": {
      "text/plain": [
       "['canc ultim dec convert problem salud mundial respet edad clas social asoci part nuestr medi ambient deterior mayor longev nuestr poblacion desorden genet exist varied neoplasi embarg canc pulmon frecuent poblacion ocasion mayor numer muert neoplasi asoci principal tabaqu embarg recient aparec poblacion joven habit fum afect tant hombr mujer dificil diagnost general detect etap avanz pronost favor dond pacient viv general men tien sobrev realiz grand esfuerz mejor sobrev pacient embarg result hast fech utiliz tratamient convencional pobr trabaj intens busqued nuev estrategi terapeut terapi genic altern atract desarroll nuev estrategi terapi contr canc dond busc efect men toxic fech desarroll algun investig terapi genic canc pulmon ten blanc protooncogen mut gen supresor tumor gen sobreexpres asoci progresion invasion tumoral igfir exit deliberacion material genic metod intranasal aerosol demostr mediant deliberacion divers agent biolog interleucina12 anticuerp terapeut cetuximab tambi drog quimioterapeut pacient carcinom pulmon cisplatin doxorrubicin tumor wilms potencial blanc terapeut tratamient leucemi otras neoplasi codif factor transcripcion involucr desarroll genitourinari consider oncog asoci desarroll progresion divers neoplasi inclu leucemi mesoteliom canc gastric colon ovari melanom carcinom pulmon tambi jueg papel import proliferacion diferenciacion apoptosis divers tej sobreexpresion asoci pronost desfavor much neoplasi disminucion diferent estrategi terapi genic result disminucion proliferacion celul induccion apoptosis nuestr trabaj indic potencial blanc terapeut canc pulmon mediant silenci silenci vitr induc disminucion proliferacion celul induc apoptosis caracteriz activacion caspasa3 cort previ trabaj observ silenci conduc disminucion indic tumoral raton trat tambi observ numer vas sanguine induccion intrinsec apoptosis aument sobrevivent raton trat trabaj des profundiz mecan muert trav apoptosis angiogenesis induc silenci interferent estan tramit patent nuestr laboratori principal quer analiz quimiosensiblilizacion canc pulmon rnaiwt1 vitr principal drog utiliz canc pulmon zamoraavil zamoraavil drog seleccion usad tratamient primer line pacient canc pulmon ',\n",
       " 'papel prolactin canc analiz dec numer estudi proporcion evident patogen prolactin canc ejerc efect mitogen activ vari casc senalizacion jakstat rasmapk harbaum ejempl demostr diferent estudi prolactin increment proliferacion celul alter expresion multipl regul progresion cicl celul facilit transicion fas medi jakstat increment expresion ciclin reduc expresion provoc mayor activ cinas dependient ciclin result fosforilacion liberacion factor transcripcion permit transcripcion gen requer progresion haci brockm medi pued estimul proliferacion aument activ protein llev tambi induccion ciclin adem pued activ import senalizacion mitogen supresion apoptosis algun tip celular pose efect antiapoptot medi involucr activacion inhibicion activ caspas brockm form normal induc degradacion receptor ubiquitinacion facilit ubiquitin ligas reclut sustrat mediant fosforilacion serin observ gsk3b tien import funcion mediador proces celul cancer activacion sosten mapkpi3k erbb2 result inhibicion gsk3b conllev acumulacion perpetu senalizacion medi plotnikov exist increment cantid estudi propon factor import distint tip canc mediant produccion local acumulacion asociacion prolactin canc document ampli estudi dond emple cas present canc observ expresion receptor cas reynolds estudi analiz lesion malign encontr lesion correlacion grad expresion igual form analiz adem expresion tej pacient canc observ expresion increment tod tej tourain col1998 tambi encontr asociacion receptor otros tip canc prostat ovari endometri colon laringe dagvadorj levin harbaum gonzalezlucan ten cuent potent activ senalizacion prlprlr sobr proliferacion celul diferenciacion supuest recient mutacion afect propiedad receptor podri ten impact clinic desarroll canc detect mutacion cambi activ receptor maner constitut neces union lig activ senalizacion jak2stat5 tumor beningn bogor goffin embarg exist much trabaj evalu variacion receptor diferent poblacion propuest trabaj plante determin posibl variant muestr poblacion incident canc mexic argentin pod determin estas variant contribu desarroll fenotip malign afect evolucion clinic pacient estudi obtendr muestr lesion premalign canc pacient ambas poblacion posterior amplific diferent exon secuenci fragment evalu expresion nivel protein western analiz activ jak2stat5 trav activacion stat5 form fosforil ',\n",
       " 'titul prevencion canc hig lactoferrin ejempl efect antitumoral lactoferrin respons tecnic vill trevin correspons carolin vazquez institucion adscripcion departament biologi celul centr investigacion estudi avanz institut politecn nacional problem nacional pretend atend prevencion canc hig conoc circunscrib medicin salud camp medicin patologi human clav 320000 pregunt central pretend explor contest lactoferrin bovin capaz preven desarroll carcinom hepatocelul model modific hepatocit resistent mecan utiliz preven desarroll hcces factibl mexic suplementacion lech consum deriv med prevent canc hig fundament cientif canc hig enfermed import clinic cuand pacient canc hig present sintom tien minim posibil curacion prevencion prim termin despu deteccion tempran jueg papel trascendent disminu incident ten opcion tratamient mayor posibil sobrev tratamient exist opcion exit curacion despu trasplant hig consider curat exist recid aun problem obten organ dispon condicion adecu trasplant estudi orig enfermed etap tempran sig siend requisit busc metod prevencion diagnost tempran tratamient requier nuev aven desemboqu terapi exit ellas adecu desd tod punt vist prevencion represent cancer hig factor riesg comun infeccion cronic virus hepatitis virus hepatitis enfermed hig alcohol esteatohepatitis alcohol obes diabet entre comun nivel mundial canc hig quint canc frecuent hombr noven mujer deb mortal razon entre mortal incident segund caus comun muert canc nivel mundial mexic canc hig sext canc frecuent hombr quint mujer cuart caus comun muert canc total estim transicion demograf mexic result increment nuev cas canc hig compar obes aument riesg vecesy aceler desarroll sinergist otros factor riesg hepatitis viral cronic consum alcohol som mayor porcentaj person obes mund adem mexican tien sobrepes prox nuestr poblacion tien riesg desarroll canc hig asoci obes futur tendr efect adicional consider sobr efect transicion demograf numer cas canc hig sobr altos cost sistem salud nacional canc hig cancer men estudi nuestr tien peor correl entre mortal nacional cuart lug numer public relacion canc produc nuestr octav lug estudi canc tare pendient import nuestr quimioprevencion prevencion ofrec estrategi larg plaz efect reduc impact econom canc canc pued preven evit factor riesg fum diet calori inact fisic exposicion carcinogen increment consum agent capac preven tumor present com quimioprevencion podri med practic inmediat reduc incident poblacion riesg mexican ventaj component dietari capac prevencion tumoral tien tien poc efect advers asoci farmac despu administracion larg plaz agent capac prevencion tumoral natural pued tom simplement cambi diet suplement antitumoral canc glicoprotein multifuncional present altas concentr calostr menor concentracion lech crud saliv sem lagrim granul leucocit funcion primari relacion efect antimicrobian antiviral inmunomodul adicional lactoferricin pept deriv digestion pepsin tien potent ampli espectr efect antimicrobian estudi preclin clinic antitumoral canc camp prometedor efect antitumoral dividid clas efect direct anticarcinogen efect indirect contr agent infecci carcinogen efect direct tien propiedad anticarcinogen vitr estudi mostr administracion roedor reduc signific tumorigenesis induc quimic esofag lengu pulmon colon vejig tambi demostr ten efect antimetastas raton exist vari mecan posibl estudi vitr vist deriv capac inhib proliferacion vari celul cancer disminu angiogenesis tumor rat medi factor crecimient endotelial vascul induc apoptosis tambi inmunoestimul activ celul inmun liber efector citotox contr tumor adicional modul enzim metaboliz carcinogen perfil oxidantesantioxid organ blanc posibl mecan prevencion reversion canc vari ensay clinic muestr efect antitumoral ejempl canc pulmon celul pequen registr nct00706862 carcinom celul renal registr nct00095186 adicional ensay clinic japon encontr retard crecimient polip adenomat cual consider lesion preneoplas cuant efect indirect seri excelent aplicacion pais desarroll mexic nuev cas canc atribu agent infecci estos agent infecci estan clasific carcinogen human pued virus bacteri parasit combat infeccion microorgan entre ellos vari carcinogen ser human bacteri helicobact pylori canc estomag virus hepatitis canc hig virus papilom human canc cervix limit infeccion cronic estos agent causant canc estari ejerc mecan anticarcinogen indirect agent prevent aunqu determin capac preven canc hepat investig efect hepatoprotector diferent patologi relacion condicion previ desarroll demostr tien efect hepatoprotector contr fibrosis induc quimic contr hepatitis induc acetaminof concanavalin dgalnlps tetraclorur carbon roedor recient describi tien efect protector contr manifest hepat sindrom metabol raton diet fructos jarab pose activ antiviral contr virus hepatitis demostr vitr inhib trafic intracelul virus hepatitis direct particul viral hepatitis impid entrad virus hepatocit concentr hig uniendos receptor asialoglicoprotein afin adicional estos receptor aument expresion celul cancer activ metabol prometedor lig especif direccion haci hig represent ventaj agent preven nutraceut utiliz nivel mundial trav estudi alimentacion larg plaz animal demostr ausenci toxic haci celul tej tambi comprob ser human trav ensay clinic alimentacion voluntari san pacient canc colon adem demostr mutagen pued aisl vari tecnic tal cromatografi intercambi cation part lech suer dispon comercial vari compani suplement alimentici japon formul infantil yogurt desd suplement alimentici aprob administration estad unid posterior europ safety authority deb propiedad multifuncional ampli report suplement alimentici vari pais gan recient atencion import terapeut nutraceut contr canc inflamacion cronic infeccion viral bacterian hong planteamient objet prepropuest mostr prevencion canc hig obten prueb concept ten justificacion propon utilizacion prevencion canc hig poblacion riesg poblacion mexican hipotesis previen model hepatocarcinogenesis quimic nuestr laboratori utiliz durant model modific hepatocit resistent estudi model hepatocarcinogenesis quimic proyect prob prevencion lesion preneoplas cancer administr ante tratamient carcinogen cuantific lesion preneoplas mes constat prevencion determin nuev mecan accion pud utiliz prevencion reversion compar perfil expresion genet lesion tumoral rat tratamient tambi busc mecan report otras patologi compar siguient parametr rat trat contr rat trat perfil respuest inmun local sistem presenci apoptosis lesion preneoplas tumoral estad redox microambient hepat posibl impact socied general generacion conoc generacion conoc sobr util agent capac quimioprevencion model adentr mecan accion formacion recurs human formacion colabor estanci posdoctoral estudi doctor maestri licenciatur accion comunicacion public cienci public men articul cientif revist indiz articul revist divulgacion present result congres sobr canc proxim conferent internacional sobr aplic especif adaptacion result haci sector public priv social consider antecedent arrib mencion recomend consum suplement conteng consum diet enriquec protein preven retras aparicion canc poblacion riesg mexican pose ventaj adicional nutraceut antimicrobian prevendri ayudari preven vari patologi simultan mexic comercializ adem encontr lech consum actual nuestr tien baj nivel deb tratamient pasteurizacion ultrapasteurizacion garz dat public tant oportun desarroll empres lecher mexican segund planteamient propuest ped intervencion conacyt entabl convers instanci decision seri cofepris obten autorizacion suplement alimentici nuestr men empres lecher nacional hac estudi factibil produccion implementacion suplement product lacte referent waghray murali menon hepatocellul carcinom diagnosis treatment world journal hepatology 10209 ferlay ervik dikshit mathers rebel parkin form globoc canc incidenc mortality worldwid cancerb internet international agency research canc avail httpglobocaniarcfr access 06012016 nakagaw recent advanc mous model obesity nonalcoholic steatohepatitisassociat hepatocarcinogenesis world journal hepatology 21108 stat agricultur agricultur organization unit nations avail httpwwwfaoorgdocrep018i3300ei3300e00htm aggarwal challeng canc middleincom countri age population mexic study ecancermedicalscienc dimarcocrook dietbas strategi canc chemoprevention combination regimens use dietary bioactiv components annual review scienc technology 50526 zhang rodrig anticanc effect lactoferrin underli mechanisms futur trend canc therapy nutrition review 76373 martel global burd cancers attribut infections review synthetic analysis lancet oncology 60715 garciamontoy lactoferrin multipl bioactiv protein overview biochim biophysic 22636 taguchi potential biological proteins liv failur therapy pharmaceutics 25574 ebrahim identification unprecedent anticanc properti molecul weight biomacromolecul complex contain bovin lactoferrin hmwblf e106568 12tomit twentyfiv years research bovin lactoferrin applications biochimi ']"
      ]
     },
     "execution_count": 227,
     "metadata": {},
     "output_type": "execute_result"
    }
   ],
   "source": [
    "df_histo[df_histo[\"CVU\"]==CVU][\"DESCRIPCION_PROYECTO\"].tolist()"
   ]
  },
  {
   "cell_type": "code",
   "execution_count": 63,
   "metadata": {},
   "outputs": [
    {
     "data": {
      "text/plain": [
       "(3232, 58)"
      ]
     },
     "execution_count": 63,
     "metadata": {},
     "output_type": "execute_result"
    }
   ],
   "source": [
    "df_solicitudes.shape"
   ]
  },
  {
   "cell_type": "code",
   "execution_count": 64,
   "metadata": {},
   "outputs": [
    {
     "data": {
      "text/plain": [
       "<matplotlib.axes._subplots.AxesSubplot at 0x1a20959850>"
      ]
     },
     "execution_count": 64,
     "metadata": {},
     "output_type": "execute_result"
    },
    {
     "data": {
      "image/png": "[encoded data removed]",
      "text/plain": [
       "<Figure size 432x288 with 1 Axes>"
      ]
     },
     "metadata": {
      "needs_background": "light"
     },
     "output_type": "display_data"
    }
   ],
   "source": [
    "df_solicitudes[\"resumen_es\"].str.count(\" \").hist()"
   ]
  },
  {
   "cell_type": "code",
   "execution_count": 65,
   "metadata": {},
   "outputs": [
    {
     "data": {
      "text/plain": [
       "Index(['convocatoria', 'clave', 'proyecto_id', 'id_area', 'area', 'id_campo',\n",
       "       'campo', 'id_disciplina', 'disciplina', 'id_subdisciplina',\n",
       "       'subdisciplina', 'modalidad', 'estatus_envio', 'estatus_propuesta',\n",
       "       'titulo_es', 'resumen_es', 'resumen_en', 'razon_social', 'reniecyt',\n",
       "       'entidad_federativa', 'tipo_institucion', 'rt_cvu', 'rt_nombre',\n",
       "       'rt_apellido_paterno', 'rt_apellido_materno', 'rt_correo',\n",
       "       'rt_nivelsni', 'ra_cvu', 'ra_nombre', 'ra_apellido_paterno',\n",
       "       'ra_apellido_materno', 'ra_correo', 'ra_nivelsni', 'rl_cvu',\n",
       "       'rl_nombre', 'rl_apellido_paterno', 'rl_apellido_materno', 'rl_correo',\n",
       "       'rl_nivelsni', 'fecha_envio', 'palabrasclave', 'pc1', 'pc2', 'pc3',\n",
       "       'pc4', 'pc5', 'pc6', 'pc7', 'pc8', 'pc9', 'pc10', 'pc11', 'pc12',\n",
       "       'pc13', 'pc14', 'pc15', 'pc16', 'pc17'],\n",
       "      dtype='object')"
      ]
     },
     "execution_count": 65,
     "metadata": {},
     "output_type": "execute_result"
    }
   ],
   "source": [
    "df_solicitudes.columns"
   ]
  },
  {
   "cell_type": "raw",
   "metadata": {},
   "source": [
    "df_solicitudes = pd.read_csv(\"./data/solicitudes_2019/solicitudes-ciencia-frontera.csv\")\n",
    "df_solicitudes.reset_index(drop=True, inplace=True)\n",
    "df_solicitudes.head(2)"
   ]
  },
  {
   "cell_type": "code",
   "execution_count": 66,
   "metadata": {},
   "outputs": [
    {
     "data": {
      "text/plain": [
       "(3232, 58)"
      ]
     },
     "execution_count": 66,
     "metadata": {},
     "output_type": "execute_result"
    }
   ],
   "source": [
    "df_solicitudes.shape"
   ]
  },
  {
   "cell_type": "markdown",
   "metadata": {},
   "source": [
    "Quitar solicitudes NO COMPLETAS"
   ]
  },
  {
   "cell_type": "code",
   "execution_count": 67,
   "metadata": {},
   "outputs": [
    {
     "data": {
      "text/html": [
       "<div>\n",
       "<style scoped>\n",
       "    .dataframe tbody tr th:only-of-type {\n",
       "        vertical-align: middle;\n",
       "    }\n",
       "\n",
       "    .dataframe tbody tr th {\n",
       "        vertical-align: top;\n",
       "    }\n",
       "\n",
       "    .dataframe thead th {\n",
       "        text-align: right;\n",
       "    }\n",
       "</style>\n",
       "<table border=\"1\" class=\"dataframe\">\n",
       "  <thead>\n",
       "    <tr style=\"text-align: right;\">\n",
       "      <th></th>\n",
       "      <th>convocatoria</th>\n",
       "      <th>clave</th>\n",
       "      <th>proyecto_id</th>\n",
       "      <th>id_area</th>\n",
       "      <th>area</th>\n",
       "      <th>id_campo</th>\n",
       "      <th>campo</th>\n",
       "      <th>id_disciplina</th>\n",
       "      <th>disciplina</th>\n",
       "      <th>id_subdisciplina</th>\n",
       "      <th>...</th>\n",
       "      <th>pc8</th>\n",
       "      <th>pc9</th>\n",
       "      <th>pc10</th>\n",
       "      <th>pc11</th>\n",
       "      <th>pc12</th>\n",
       "      <th>pc13</th>\n",
       "      <th>pc14</th>\n",
       "      <th>pc15</th>\n",
       "      <th>pc16</th>\n",
       "      <th>pc17</th>\n",
       "    </tr>\n",
       "  </thead>\n",
       "  <tbody>\n",
       "    <tr>\n",
       "      <td>0</td>\n",
       "      <td>Ciencia de Frontera 2019</td>\n",
       "      <td>CF-MG-20191107191915010-4647203</td>\n",
       "      <td>4647203</td>\n",
       "      <td>1</td>\n",
       "      <td>Ciencias físico matemáticas y ciencias de la t...</td>\n",
       "      <td>4</td>\n",
       "      <td>Física</td>\n",
       "      <td>24</td>\n",
       "      <td>Fisica estadística</td>\n",
       "      <td>604</td>\n",
       "      <td>...</td>\n",
       "      <td>stress test</td>\n",
       "      <td>NaN</td>\n",
       "      <td>NaN</td>\n",
       "      <td>NaN</td>\n",
       "      <td>NaN</td>\n",
       "      <td>NaN</td>\n",
       "      <td>NaN</td>\n",
       "      <td>NaN</td>\n",
       "      <td>NaN</td>\n",
       "      <td>NaN</td>\n",
       "    </tr>\n",
       "  </tbody>\n",
       "</table>\n",
       "<p>1 rows × 58 columns</p>\n",
       "</div>"
      ],
      "text/plain": [
       "               convocatoria                            clave  proyecto_id  \\\n",
       "0  Ciencia de Frontera 2019  CF-MG-20191107191915010-4647203      4647203   \n",
       "\n",
       "   id_area                                               area  id_campo  \\\n",
       "0        1  Ciencias físico matemáticas y ciencias de la t...         4   \n",
       "\n",
       "    campo  id_disciplina          disciplina  id_subdisciplina  ...  \\\n",
       "0  Física             24  Fisica estadística               604  ...   \n",
       "\n",
       "           pc8  pc9 pc10 pc11 pc12 pc13 pc14 pc15 pc16 pc17  \n",
       "0  stress test  NaN  NaN  NaN  NaN  NaN  NaN  NaN  NaN  NaN  \n",
       "\n",
       "[1 rows x 58 columns]"
      ]
     },
     "execution_count": 67,
     "metadata": {},
     "output_type": "execute_result"
    }
   ],
   "source": [
    "#df_solicitudes= df_solicitudes[df_solicitudes[\"estatus_envio\"]==\"Completa\"]\n",
    "df_solicitudes.head(1)"
   ]
  },
  {
   "cell_type": "code",
   "execution_count": 68,
   "metadata": {},
   "outputs": [
    {
     "data": {
      "text/plain": [
       "(3232, 58)"
      ]
     },
     "execution_count": 68,
     "metadata": {},
     "output_type": "execute_result"
    }
   ],
   "source": [
    "df_solicitudes.shape"
   ]
  },
  {
   "cell_type": "code",
   "execution_count": 69,
   "metadata": {},
   "outputs": [],
   "source": [
    "df_solicitudes.columns = [nombre.upper() for nombre in df_solicitudes.columns]\n",
    "df_solicitudes[\"ANIO\"] = 2019\n",
    "df_solicitudes['NUMERO_CONVOCATORIA'] = \"PN_2019\""
   ]
  },
  {
   "cell_type": "code",
   "execution_count": 70,
   "metadata": {},
   "outputs": [],
   "source": [
    "df_solicitudes = df_solicitudes.rename({\"id\": \"ID_PROYECTO\",\n",
    "                                        \"PROYECTO_ID\":\"ID_PROYECTO\",\n",
    "                                        \"area\": \"AREA\",\n",
    "                                        \"campo\": \"CAMPO\",\n",
    "                                        \"disciplina\": \"DISCIPLINA\",\n",
    "                                        \"subdisciplina\": \"SUBDISCIPLINA\",\n",
    "                                        \"resumen_es\": \"DESCRIPCION_PROYECTO\",\n",
    "                                        \"CONVOCATORIA\":\"NUMERO_CONVOCATORIA\",\n",
    "                                        \"RESUMEN_ES\":\"DESCRIPCION_PROYECTO\"},axis=1)"
   ]
  },
  {
   "cell_type": "code",
   "execution_count": 71,
   "metadata": {},
   "outputs": [
    {
     "data": {
      "text/html": [
       "<div>\n",
       "<style scoped>\n",
       "    .dataframe tbody tr th:only-of-type {\n",
       "        vertical-align: middle;\n",
       "    }\n",
       "\n",
       "    .dataframe tbody tr th {\n",
       "        vertical-align: top;\n",
       "    }\n",
       "\n",
       "    .dataframe thead th {\n",
       "        text-align: right;\n",
       "    }\n",
       "</style>\n",
       "<table border=\"1\" class=\"dataframe\">\n",
       "  <thead>\n",
       "    <tr style=\"text-align: right;\">\n",
       "      <th></th>\n",
       "      <th>NUMERO_CONVOCATORIA</th>\n",
       "      <th>CLAVE</th>\n",
       "      <th>ID_PROYECTO</th>\n",
       "      <th>ID_AREA</th>\n",
       "      <th>AREA</th>\n",
       "      <th>ID_CAMPO</th>\n",
       "      <th>CAMPO</th>\n",
       "      <th>ID_DISCIPLINA</th>\n",
       "      <th>DISCIPLINA</th>\n",
       "      <th>ID_SUBDISCIPLINA</th>\n",
       "      <th>...</th>\n",
       "      <th>PC10</th>\n",
       "      <th>PC11</th>\n",
       "      <th>PC12</th>\n",
       "      <th>PC13</th>\n",
       "      <th>PC14</th>\n",
       "      <th>PC15</th>\n",
       "      <th>PC16</th>\n",
       "      <th>PC17</th>\n",
       "      <th>ANIO</th>\n",
       "      <th>NUMERO_CONVOCATORIA</th>\n",
       "    </tr>\n",
       "  </thead>\n",
       "  <tbody>\n",
       "    <tr>\n",
       "      <td>0</td>\n",
       "      <td>Ciencia de Frontera 2019</td>\n",
       "      <td>CF-MG-20191107191915010-4647203</td>\n",
       "      <td>4647203</td>\n",
       "      <td>1</td>\n",
       "      <td>Ciencias físico matemáticas y ciencias de la t...</td>\n",
       "      <td>4</td>\n",
       "      <td>Física</td>\n",
       "      <td>24</td>\n",
       "      <td>Fisica estadística</td>\n",
       "      <td>604</td>\n",
       "      <td>...</td>\n",
       "      <td>NaN</td>\n",
       "      <td>NaN</td>\n",
       "      <td>NaN</td>\n",
       "      <td>NaN</td>\n",
       "      <td>NaN</td>\n",
       "      <td>NaN</td>\n",
       "      <td>NaN</td>\n",
       "      <td>NaN</td>\n",
       "      <td>2019</td>\n",
       "      <td>PN_2019</td>\n",
       "    </tr>\n",
       "    <tr>\n",
       "      <td>1</td>\n",
       "      <td>Ciencia de Frontera 2019</td>\n",
       "      <td>CF-MG-20191105031440822-2574574</td>\n",
       "      <td>2574574</td>\n",
       "      <td>3</td>\n",
       "      <td>Medicina y ciencias de la salud</td>\n",
       "      <td>121</td>\n",
       "      <td>Investigación médica</td>\n",
       "      <td>837</td>\n",
       "      <td>Enfermedades infecciosas, bacteriología clínic...</td>\n",
       "      <td>4856</td>\n",
       "      <td>...</td>\n",
       "      <td>NaN</td>\n",
       "      <td>NaN</td>\n",
       "      <td>NaN</td>\n",
       "      <td>NaN</td>\n",
       "      <td>NaN</td>\n",
       "      <td>NaN</td>\n",
       "      <td>NaN</td>\n",
       "      <td>NaN</td>\n",
       "      <td>2019</td>\n",
       "      <td>PN_2019</td>\n",
       "    </tr>\n",
       "  </tbody>\n",
       "</table>\n",
       "<p>2 rows × 60 columns</p>\n",
       "</div>"
      ],
      "text/plain": [
       "        NUMERO_CONVOCATORIA                            CLAVE  ID_PROYECTO  \\\n",
       "0  Ciencia de Frontera 2019  CF-MG-20191107191915010-4647203      4647203   \n",
       "1  Ciencia de Frontera 2019  CF-MG-20191105031440822-2574574      2574574   \n",
       "\n",
       "   ID_AREA                                               AREA  ID_CAMPO  \\\n",
       "0        1  Ciencias físico matemáticas y ciencias de la t...         4   \n",
       "1        3                    Medicina y ciencias de la salud       121   \n",
       "\n",
       "                  CAMPO  ID_DISCIPLINA  \\\n",
       "0                Física             24   \n",
       "1  Investigación médica            837   \n",
       "\n",
       "                                          DISCIPLINA  ID_SUBDISCIPLINA  ...  \\\n",
       "0                                 Fisica estadística               604  ...   \n",
       "1  Enfermedades infecciosas, bacteriología clínic...              4856  ...   \n",
       "\n",
       "  PC10 PC11 PC12 PC13 PC14 PC15 PC16 PC17  ANIO NUMERO_CONVOCATORIA  \n",
       "0  NaN  NaN  NaN  NaN  NaN  NaN  NaN  NaN  2019             PN_2019  \n",
       "1  NaN  NaN  NaN  NaN  NaN  NaN  NaN  NaN  2019             PN_2019  \n",
       "\n",
       "[2 rows x 60 columns]"
      ]
     },
     "execution_count": 71,
     "metadata": {},
     "output_type": "execute_result"
    }
   ],
   "source": [
    "df_solicitudes.head(2)"
   ]
  },
  {
   "cell_type": "markdown",
   "metadata": {},
   "source": [
    "Cleaning Steamming"
   ]
  },
  {
   "cell_type": "code",
   "execution_count": 72,
   "metadata": {},
   "outputs": [
    {
     "name": "stdout",
     "output_type": "stream",
     "text": [
      "...text_cleaner\n",
      "...stem_sentence\n"
     ]
    }
   ],
   "source": [
    "ct = CleanTools()\n",
    "ct.text_cleaner(df=df_solicitudes)\n",
    "ct.stem_sentence_apply(limpiar=True)"
   ]
  },
  {
   "cell_type": "code",
   "execution_count": 77,
   "metadata": {},
   "outputs": [
    {
     "data": {
      "text/html": [
       "<div>\n",
       "<style scoped>\n",
       "    .dataframe tbody tr th:only-of-type {\n",
       "        vertical-align: middle;\n",
       "    }\n",
       "\n",
       "    .dataframe tbody tr th {\n",
       "        vertical-align: top;\n",
       "    }\n",
       "\n",
       "    .dataframe thead th {\n",
       "        text-align: right;\n",
       "    }\n",
       "</style>\n",
       "<table border=\"1\" class=\"dataframe\">\n",
       "  <thead>\n",
       "    <tr style=\"text-align: right;\">\n",
       "      <th></th>\n",
       "      <th>NUMERO_CONVOCATORIA</th>\n",
       "      <th>CLAVE</th>\n",
       "      <th>ID_PROYECTO</th>\n",
       "      <th>ID_AREA</th>\n",
       "      <th>AREA</th>\n",
       "      <th>ID_CAMPO</th>\n",
       "      <th>CAMPO</th>\n",
       "      <th>ID_DISCIPLINA</th>\n",
       "      <th>DISCIPLINA</th>\n",
       "      <th>ID_SUBDISCIPLINA</th>\n",
       "      <th>...</th>\n",
       "      <th>PC10</th>\n",
       "      <th>PC11</th>\n",
       "      <th>PC12</th>\n",
       "      <th>PC13</th>\n",
       "      <th>PC14</th>\n",
       "      <th>PC15</th>\n",
       "      <th>PC16</th>\n",
       "      <th>PC17</th>\n",
       "      <th>ANIO</th>\n",
       "      <th>NUMERO_CONVOCATORIA</th>\n",
       "    </tr>\n",
       "  </thead>\n",
       "  <tbody>\n",
       "    <tr>\n",
       "      <td>0</td>\n",
       "      <td>Ciencia de Frontera 2019</td>\n",
       "      <td>CF-MG-20191107191915010-4647203</td>\n",
       "      <td>4647203</td>\n",
       "      <td>1</td>\n",
       "      <td>Ciencias físico matemáticas y ciencias de la t...</td>\n",
       "      <td>4</td>\n",
       "      <td>Física</td>\n",
       "      <td>24</td>\n",
       "      <td>Fisica estadística</td>\n",
       "      <td>604</td>\n",
       "      <td>...</td>\n",
       "      <td>NaN</td>\n",
       "      <td>NaN</td>\n",
       "      <td>NaN</td>\n",
       "      <td>NaN</td>\n",
       "      <td>NaN</td>\n",
       "      <td>NaN</td>\n",
       "      <td>NaN</td>\n",
       "      <td>NaN</td>\n",
       "      <td>2019</td>\n",
       "      <td>PN_2019</td>\n",
       "    </tr>\n",
       "    <tr>\n",
       "      <td>1</td>\n",
       "      <td>Ciencia de Frontera 2019</td>\n",
       "      <td>CF-MG-20191105031440822-2574574</td>\n",
       "      <td>2574574</td>\n",
       "      <td>3</td>\n",
       "      <td>Medicina y ciencias de la salud</td>\n",
       "      <td>121</td>\n",
       "      <td>Investigación médica</td>\n",
       "      <td>837</td>\n",
       "      <td>Enfermedades infecciosas, bacteriología clínic...</td>\n",
       "      <td>4856</td>\n",
       "      <td>...</td>\n",
       "      <td>NaN</td>\n",
       "      <td>NaN</td>\n",
       "      <td>NaN</td>\n",
       "      <td>NaN</td>\n",
       "      <td>NaN</td>\n",
       "      <td>NaN</td>\n",
       "      <td>NaN</td>\n",
       "      <td>NaN</td>\n",
       "      <td>2019</td>\n",
       "      <td>PN_2019</td>\n",
       "    </tr>\n",
       "    <tr>\n",
       "      <td>2</td>\n",
       "      <td>Ciencia de Frontera 2019</td>\n",
       "      <td>CF-MG-20191025151637887-1098668</td>\n",
       "      <td>1098668</td>\n",
       "      <td>7</td>\n",
       "      <td>Ingeniería y tecnología</td>\n",
       "      <td>32</td>\n",
       "      <td>Ingeniería</td>\n",
       "      <td>279</td>\n",
       "      <td>Ingeniería electrónica</td>\n",
       "      <td>3009</td>\n",
       "      <td>...</td>\n",
       "      <td>NaN</td>\n",
       "      <td>NaN</td>\n",
       "      <td>NaN</td>\n",
       "      <td>NaN</td>\n",
       "      <td>NaN</td>\n",
       "      <td>NaN</td>\n",
       "      <td>NaN</td>\n",
       "      <td>NaN</td>\n",
       "      <td>2019</td>\n",
       "      <td>PN_2019</td>\n",
       "    </tr>\n",
       "    <tr>\n",
       "      <td>3</td>\n",
       "      <td>Ciencia de Frontera 2019</td>\n",
       "      <td>CF-MG-20191018115318179-373922</td>\n",
       "      <td>373922</td>\n",
       "      <td>4</td>\n",
       "      <td>Humanidades y ciencias de la conducta</td>\n",
       "      <td>17</td>\n",
       "      <td>Pedagogía</td>\n",
       "      <td>149</td>\n",
       "      <td>Otras especialidades pedagógicas</td>\n",
       "      <td>2216</td>\n",
       "      <td>...</td>\n",
       "      <td>NaN</td>\n",
       "      <td>NaN</td>\n",
       "      <td>NaN</td>\n",
       "      <td>NaN</td>\n",
       "      <td>NaN</td>\n",
       "      <td>NaN</td>\n",
       "      <td>NaN</td>\n",
       "      <td>NaN</td>\n",
       "      <td>2019</td>\n",
       "      <td>PN_2019</td>\n",
       "    </tr>\n",
       "    <tr>\n",
       "      <td>4</td>\n",
       "      <td>Ciencia de Frontera 2019</td>\n",
       "      <td>CF-MG-20191105072112144-2574577</td>\n",
       "      <td>2574577</td>\n",
       "      <td>7</td>\n",
       "      <td>Ingeniería y tecnología</td>\n",
       "      <td>30</td>\n",
       "      <td>Ciencias tecnológicas</td>\n",
       "      <td>250</td>\n",
       "      <td>Otras especialidades tecnológicas</td>\n",
       "      <td>3281</td>\n",
       "      <td>...</td>\n",
       "      <td>NaN</td>\n",
       "      <td>NaN</td>\n",
       "      <td>NaN</td>\n",
       "      <td>NaN</td>\n",
       "      <td>NaN</td>\n",
       "      <td>NaN</td>\n",
       "      <td>NaN</td>\n",
       "      <td>NaN</td>\n",
       "      <td>2019</td>\n",
       "      <td>PN_2019</td>\n",
       "    </tr>\n",
       "  </tbody>\n",
       "</table>\n",
       "<p>5 rows × 60 columns</p>\n",
       "</div>"
      ],
      "text/plain": [
       "        NUMERO_CONVOCATORIA                            CLAVE  ID_PROYECTO  \\\n",
       "0  Ciencia de Frontera 2019  CF-MG-20191107191915010-4647203      4647203   \n",
       "1  Ciencia de Frontera 2019  CF-MG-20191105031440822-2574574      2574574   \n",
       "2  Ciencia de Frontera 2019  CF-MG-20191025151637887-1098668      1098668   \n",
       "3  Ciencia de Frontera 2019   CF-MG-20191018115318179-373922       373922   \n",
       "4  Ciencia de Frontera 2019  CF-MG-20191105072112144-2574577      2574577   \n",
       "\n",
       "   ID_AREA                                               AREA  ID_CAMPO  \\\n",
       "0        1  Ciencias físico matemáticas y ciencias de la t...         4   \n",
       "1        3                    Medicina y ciencias de la salud       121   \n",
       "2        7                            Ingeniería y tecnología        32   \n",
       "3        4              Humanidades y ciencias de la conducta        17   \n",
       "4        7                            Ingeniería y tecnología        30   \n",
       "\n",
       "                   CAMPO  ID_DISCIPLINA  \\\n",
       "0                 Física             24   \n",
       "1   Investigación médica            837   \n",
       "2             Ingeniería            279   \n",
       "3              Pedagogía            149   \n",
       "4  Ciencias tecnológicas            250   \n",
       "\n",
       "                                          DISCIPLINA  ID_SUBDISCIPLINA  ...  \\\n",
       "0                                 Fisica estadística               604  ...   \n",
       "1  Enfermedades infecciosas, bacteriología clínic...              4856  ...   \n",
       "2                             Ingeniería electrónica              3009  ...   \n",
       "3                   Otras especialidades pedagógicas              2216  ...   \n",
       "4                  Otras especialidades tecnológicas              3281  ...   \n",
       "\n",
       "  PC10 PC11 PC12 PC13 PC14 PC15 PC16 PC17  ANIO NUMERO_CONVOCATORIA  \n",
       "0  NaN  NaN  NaN  NaN  NaN  NaN  NaN  NaN  2019             PN_2019  \n",
       "1  NaN  NaN  NaN  NaN  NaN  NaN  NaN  NaN  2019             PN_2019  \n",
       "2  NaN  NaN  NaN  NaN  NaN  NaN  NaN  NaN  2019             PN_2019  \n",
       "3  NaN  NaN  NaN  NaN  NaN  NaN  NaN  NaN  2019             PN_2019  \n",
       "4  NaN  NaN  NaN  NaN  NaN  NaN  NaN  NaN  2019             PN_2019  \n",
       "\n",
       "[5 rows x 60 columns]"
      ]
     },
     "execution_count": 77,
     "metadata": {},
     "output_type": "execute_result"
    }
   ],
   "source": [
    "ct.df_.head()"
   ]
  },
  {
   "cell_type": "code",
   "execution_count": 78,
   "metadata": {},
   "outputs": [
    {
     "data": {
      "text/plain": [
       "['./data/solicitudes_2019/data_evaluar_pn_2019.pkl']"
      ]
     },
     "execution_count": 78,
     "metadata": {},
     "output_type": "execute_result"
    }
   ],
   "source": [
    "dump(ct.df_, \"./data/solicitudes_2019/data_evaluar_pn_2019.pkl\")"
   ]
  },
  {
   "cell_type": "code",
   "execution_count": 91,
   "metadata": {},
   "outputs": [],
   "source": [
    "df = load(\"./data/datos_training_n_eval_5_sample.pkl\")"
   ]
  },
  {
   "cell_type": "code",
   "execution_count": 92,
   "metadata": {},
   "outputs": [
    {
     "data": {
      "text/plain": [
       "<matplotlib.axes._subplots.AxesSubplot at 0x1a24aacbd0>"
      ]
     },
     "execution_count": 92,
     "metadata": {},
     "output_type": "execute_result"
    },
    {
     "data": {
      "image/png": "[encoded data removed]",
      "text/plain": [
       "<Figure size 432x288 with 1 Axes>"
      ]
     },
     "metadata": {
      "needs_background": "light"
     },
     "output_type": "display_data"
    }
   ],
   "source": [
    "df[\"DESCRIPCION_PROYECTO\"].str.count(\" \").hist()"
   ]
  },
  {
   "cell_type": "code",
   "execution_count": 88,
   "metadata": {},
   "outputs": [
    {
     "data": {
      "text/plain": [
       "<matplotlib.axes._subplots.AxesSubplot at 0x1a1cd6e710>"
      ]
     },
     "execution_count": 88,
     "metadata": {},
     "output_type": "execute_result"
    },
    {
     "data": {
      "image/png": "[encoded data removed]",
      "text/plain": [
       "<Figure size 432x288 with 1 Axes>"
      ]
     },
     "metadata": {
      "needs_background": "light"
     },
     "output_type": "display_data"
    }
   ],
   "source": [
    "df[\"DESCRIPCION_PROYECTO\"].str.count(\" \").hist()"
   ]
  },
  {
   "cell_type": "code",
   "execution_count": null,
   "metadata": {},
   "outputs": [],
   "source": []
  }
 ],
 "metadata": {
  "kernelspec": {
   "display_name": "Python 3",
   "language": "python",
   "name": "python3"
  },
  "language_info": {
   "codemirror_mode": {
    "name": "ipython",
    "version": 3
   },
   "file_extension": ".py",
   "mimetype": "text/x-python",
   "name": "python",
   "nbconvert_exporter": "python",
   "pygments_lexer": "ipython3",
   "version": "3.7.3"
  }
 },
 "nbformat": 4,
 "nbformat_minor": 4
}
