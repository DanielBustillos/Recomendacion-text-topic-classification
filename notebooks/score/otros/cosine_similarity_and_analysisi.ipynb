{
 "cells": [
  {
   "cell_type": "markdown",
   "metadata": {},
   "source": [
    "evaluacion de modelo a través de cos similarity"
   ]
  },
  {
   "cell_type": "markdown",
   "metadata": {},
   "source": [
    "computa la métrica de error: $$ \\frac{\\#(Eval_{reales} \\cap Eval_{actual})}{\\#Eval_{reales}} $$"
   ]
  },
  {
   "cell_type": "code",
   "execution_count": 2,
   "metadata": {},
   "outputs": [],
   "source": [
    "import pickle\n",
    "\n",
    "import numpy as np\n",
    "import pandas as pd\n",
    "import seaborn as sns\n",
    "import matplotlib.pyplot as plt\n",
    "\n",
    "from sklearn.metrics.pairwise import cosine_similarity\n",
    "pd.options.mode.chained_assignment = None  # default='warn'\n",
    "\n",
    "from joblib import dump, load"
   ]
  },
  {
   "cell_type": "markdown",
   "metadata": {},
   "source": [
    "## datos de evaluador y topico"
   ]
  },
  {
   "cell_type": "code",
   "execution_count": 4,
   "metadata": {},
   "outputs": [
    {
     "ename": "FileNotFoundError",
     "evalue": "[Errno 2] No such file or directory: '../../trained_models/archivos/topicos_por_evaluador_trained.pkl'",
     "output_type": "error",
     "traceback": [
      "\u001b[0;31m---------------------------------------------------------------------------\u001b[0m",
      "\u001b[0;31mFileNotFoundError\u001b[0m                         Traceback (most recent call last)",
      "\u001b[0;32m<ipython-input-4-f0e0eae457b4>\u001b[0m in \u001b[0;36m<module>\u001b[0;34m\u001b[0m\n\u001b[0;32m----> 1\u001b[0;31m \u001b[0mtopic_values_gt\u001b[0m \u001b[0;34m=\u001b[0m \u001b[0mload\u001b[0m\u001b[0;34m(\u001b[0m\u001b[0;34m'../../trained_models/archivos/topicos_por_evaluador_trained.pkl'\u001b[0m\u001b[0;34m)\u001b[0m\u001b[0;34m\u001b[0m\u001b[0;34m\u001b[0m\u001b[0m\n\u001b[0m\u001b[1;32m      2\u001b[0m \u001b[0mtopic_values_gt\u001b[0m\u001b[0;34m.\u001b[0m\u001b[0mreset_index\u001b[0m\u001b[0;34m(\u001b[0m\u001b[0mdrop\u001b[0m\u001b[0;34m=\u001b[0m\u001b[0;32mFalse\u001b[0m\u001b[0;34m,\u001b[0m\u001b[0minplace\u001b[0m\u001b[0;34m=\u001b[0m\u001b[0;32mTrue\u001b[0m\u001b[0;34m)\u001b[0m\u001b[0;34m\u001b[0m\u001b[0;34m\u001b[0m\u001b[0m\n\u001b[1;32m      3\u001b[0m \u001b[0musuario_entreanado\u001b[0m \u001b[0;34m=\u001b[0m \u001b[0mtopic_values_gt\u001b[0m\u001b[0;34m[\u001b[0m\u001b[0;34m\"CVU\"\u001b[0m\u001b[0;34m]\u001b[0m\u001b[0;34m.\u001b[0m\u001b[0mtolist\u001b[0m\u001b[0;34m(\u001b[0m\u001b[0;34m)\u001b[0m\u001b[0;34m\u001b[0m\u001b[0;34m\u001b[0m\u001b[0m\n\u001b[1;32m      4\u001b[0m \u001b[0mrcea_entreanado\u001b[0m \u001b[0;34m=\u001b[0m \u001b[0mtopic_values_gt\u001b[0m\u001b[0;34m[\u001b[0m\u001b[0;34m\"CVU\"\u001b[0m\u001b[0;34m]\u001b[0m\u001b[0;34m.\u001b[0m\u001b[0mtolist\u001b[0m\u001b[0;34m(\u001b[0m\u001b[0;34m)\u001b[0m\u001b[0;34m\u001b[0m\u001b[0;34m\u001b[0m\u001b[0m\n\u001b[1;32m      5\u001b[0m \u001b[0mtopic_values_gt\u001b[0m\u001b[0;34m.\u001b[0m\u001b[0mtail\u001b[0m\u001b[0;34m(\u001b[0m\u001b[0;36m2\u001b[0m\u001b[0;34m)\u001b[0m\u001b[0;34m\u001b[0m\u001b[0;34m\u001b[0m\u001b[0m\n",
      "\u001b[0;32m~/Documents/convocatorias/env_convocatorias/lib/python3.6/site-packages/joblib/numpy_pickle.py\u001b[0m in \u001b[0;36mload\u001b[0;34m(filename, mmap_mode)\u001b[0m\n\u001b[1;32m    595\u001b[0m             \u001b[0mobj\u001b[0m \u001b[0;34m=\u001b[0m \u001b[0m_unpickle\u001b[0m\u001b[0;34m(\u001b[0m\u001b[0mfobj\u001b[0m\u001b[0;34m)\u001b[0m\u001b[0;34m\u001b[0m\u001b[0;34m\u001b[0m\u001b[0m\n\u001b[1;32m    596\u001b[0m     \u001b[0;32melse\u001b[0m\u001b[0;34m:\u001b[0m\u001b[0;34m\u001b[0m\u001b[0;34m\u001b[0m\u001b[0m\n\u001b[0;32m--> 597\u001b[0;31m         \u001b[0;32mwith\u001b[0m \u001b[0mopen\u001b[0m\u001b[0;34m(\u001b[0m\u001b[0mfilename\u001b[0m\u001b[0;34m,\u001b[0m \u001b[0;34m'rb'\u001b[0m\u001b[0;34m)\u001b[0m \u001b[0;32mas\u001b[0m \u001b[0mf\u001b[0m\u001b[0;34m:\u001b[0m\u001b[0;34m\u001b[0m\u001b[0;34m\u001b[0m\u001b[0m\n\u001b[0m\u001b[1;32m    598\u001b[0m             \u001b[0;32mwith\u001b[0m \u001b[0m_read_fileobject\u001b[0m\u001b[0;34m(\u001b[0m\u001b[0mf\u001b[0m\u001b[0;34m,\u001b[0m \u001b[0mfilename\u001b[0m\u001b[0;34m,\u001b[0m \u001b[0mmmap_mode\u001b[0m\u001b[0;34m)\u001b[0m \u001b[0;32mas\u001b[0m \u001b[0mfobj\u001b[0m\u001b[0;34m:\u001b[0m\u001b[0;34m\u001b[0m\u001b[0;34m\u001b[0m\u001b[0m\n\u001b[1;32m    599\u001b[0m                 \u001b[0;32mif\u001b[0m \u001b[0misinstance\u001b[0m\u001b[0;34m(\u001b[0m\u001b[0mfobj\u001b[0m\u001b[0;34m,\u001b[0m \u001b[0m_basestring\u001b[0m\u001b[0;34m)\u001b[0m\u001b[0;34m:\u001b[0m\u001b[0;34m\u001b[0m\u001b[0;34m\u001b[0m\u001b[0m\n",
      "\u001b[0;31mFileNotFoundError\u001b[0m: [Errno 2] No such file or directory: '../../trained_models/archivos/topicos_por_evaluador_trained.pkl'"
     ]
    }
   ],
   "source": [
    "topic_values_gt = load('../../trained_models/archivos/topicos_por_evaluador_trained.pkl')\n",
    "topic_values_gt.reset_index(drop=False,inplace=True)\n",
    "usuario_entreanado = topic_values_gt[\"CVU\"].tolist()\n",
    "rcea_entreanado = topic_values_gt[\"CVU\"].tolist()\n",
    "topic_values_gt.tail(2)"
   ]
  },
  {
   "cell_type": "markdown",
   "metadata": {},
   "source": [
    "## datos de proyecto a evaluar"
   ]
  },
  {
   "cell_type": "code",
   "execution_count": 14,
   "metadata": {},
   "outputs": [
    {
     "ename": "FileNotFoundError",
     "evalue": "[Errno 2] No such file or directory: '../trained_models/archivos/topicos_por_texto_test.pkl'",
     "output_type": "error",
     "traceback": [
      "\u001b[0;31m--------------------------------------------------------------------------\u001b[0m",
      "\u001b[0;31mFileNotFoundError\u001b[0m                        Traceback (most recent call last)",
      "\u001b[0;32m<ipython-input-14-41ac91cbd81f>\u001b[0m in \u001b[0;36m<module>\u001b[0;34m\u001b[0m\n\u001b[0;32m----> 1\u001b[0;31m \u001b[0mtopic_values_gt_test\u001b[0m \u001b[0;34m=\u001b[0m \u001b[0mload\u001b[0m\u001b[0;34m(\u001b[0m\u001b[0;34m\"../trained_models/archivos/topicos_por_texto_test.pkl\"\u001b[0m\u001b[0;34m)\u001b[0m\u001b[0;34m\u001b[0m\u001b[0;34m\u001b[0m\u001b[0m\n\u001b[0m\u001b[1;32m      2\u001b[0m \u001b[0mid_proyecto_index\u001b[0m \u001b[0;34m=\u001b[0m \u001b[0mtopic_values_gt_test\u001b[0m\u001b[0;34m[\u001b[0m\u001b[0;34m\"ID_PROYECTO\"\u001b[0m\u001b[0;34m]\u001b[0m\u001b[0;34m.\u001b[0m\u001b[0mtolist\u001b[0m\u001b[0;34m(\u001b[0m\u001b[0;34m)\u001b[0m\u001b[0;34m\u001b[0m\u001b[0;34m\u001b[0m\u001b[0m\n\u001b[1;32m      3\u001b[0m \u001b[0;34m\u001b[0m\u001b[0m\n\u001b[1;32m      4\u001b[0m \u001b[0mtopic_values_gt_test\u001b[0m\u001b[0;34m.\u001b[0m\u001b[0mtail\u001b[0m\u001b[0;34m(\u001b[0m\u001b[0;36m2\u001b[0m\u001b[0;34m)\u001b[0m\u001b[0;34m\u001b[0m\u001b[0;34m\u001b[0m\u001b[0m\n",
      "\u001b[0;32m~/opt/anaconda3/lib/python3.7/site-packages/joblib/numpy_pickle.py\u001b[0m in \u001b[0;36mload\u001b[0;34m(filename, mmap_mode)\u001b[0m\n\u001b[1;32m    588\u001b[0m             \u001b[0mobj\u001b[0m \u001b[0;34m=\u001b[0m \u001b[0m_unpickle\u001b[0m\u001b[0;34m(\u001b[0m\u001b[0mfobj\u001b[0m\u001b[0;34m)\u001b[0m\u001b[0;34m\u001b[0m\u001b[0;34m\u001b[0m\u001b[0m\n\u001b[1;32m    589\u001b[0m     \u001b[0;32melse\u001b[0m\u001b[0;34m:\u001b[0m\u001b[0;34m\u001b[0m\u001b[0;34m\u001b[0m\u001b[0m\n\u001b[0;32m--> 590\u001b[0;31m         \u001b[0;32mwith\u001b[0m \u001b[0mopen\u001b[0m\u001b[0;34m(\u001b[0m\u001b[0mfilename\u001b[0m\u001b[0;34m,\u001b[0m \u001b[0;34m'rb'\u001b[0m\u001b[0;34m)\u001b[0m \u001b[0;32mas\u001b[0m \u001b[0mf\u001b[0m\u001b[0;34m:\u001b[0m\u001b[0;34m\u001b[0m\u001b[0;34m\u001b[0m\u001b[0m\n\u001b[0m\u001b[1;32m    591\u001b[0m             \u001b[0;32mwith\u001b[0m \u001b[0m_read_fileobject\u001b[0m\u001b[0;34m(\u001b[0m\u001b[0mf\u001b[0m\u001b[0;34m,\u001b[0m \u001b[0mfilename\u001b[0m\u001b[0;34m,\u001b[0m \u001b[0mmmap_mode\u001b[0m\u001b[0;34m)\u001b[0m \u001b[0;32mas\u001b[0m \u001b[0mfobj\u001b[0m\u001b[0;34m:\u001b[0m\u001b[0;34m\u001b[0m\u001b[0;34m\u001b[0m\u001b[0m\n\u001b[1;32m    592\u001b[0m                 \u001b[0;32mif\u001b[0m \u001b[0misinstance\u001b[0m\u001b[0;34m(\u001b[0m\u001b[0mfobj\u001b[0m\u001b[0;34m,\u001b[0m \u001b[0m_basestring\u001b[0m\u001b[0;34m)\u001b[0m\u001b[0;34m:\u001b[0m\u001b[0;34m\u001b[0m\u001b[0;34m\u001b[0m\u001b[0m\n",
      "\u001b[0;31mFileNotFoundError\u001b[0m: [Errno 2] No such file or directory: '../trained_models/archivos/topicos_por_texto_test.pkl'"
     ]
    }
   ],
   "source": [
    "topic_values_gt_test = load(\"../trained_models/archivos/topicos_por_texto_test.pkl\")\n",
    "id_proyecto_index = topic_values_gt_test[\"ID_PROYECTO\"].tolist()\n",
    "\n",
    "topic_values_gt_test.tail(2)"
   ]
  },
  {
   "cell_type": "code",
   "execution_count": 115,
   "metadata": {},
   "outputs": [
    {
     "data": {
      "text/plain": [
       "(389, 101)"
      ]
     },
     "execution_count": 115,
     "metadata": {},
     "output_type": "execute_result"
    }
   ],
   "source": [
    "topic_values_gt_test.shape"
   ]
  },
  {
   "cell_type": "markdown",
   "metadata": {},
   "source": [
    "### cosine similarity"
   ]
  },
  {
   "cell_type": "code",
   "execution_count": 116,
   "metadata": {},
   "outputs": [],
   "source": [
    "from sklearn.metrics.pairwise import cosine_similarity\n",
    "cos_simi = cosine_similarity(topic_values_gt.iloc[:,2:], topic_values_gt_test.iloc[:,1:])"
   ]
  },
  {
   "cell_type": "code",
   "execution_count": 117,
   "metadata": {},
   "outputs": [],
   "source": [
    "df_cos_simi = pd.DataFrame(cos_simi)"
   ]
  },
  {
   "cell_type": "code",
   "execution_count": 118,
   "metadata": {},
   "outputs": [
    {
     "data": {
      "text/plain": [
       "<matplotlib.axes._subplots.AxesSubplot at 0x1a1c32bf90>"
      ]
     },
     "execution_count": 118,
     "metadata": {},
     "output_type": "execute_result"
    },
    {
     "data": {
      "image/png": "[encoded data removed]",
      "text/plain": [
       "<Figure size 432x288 with 1 Axes>"
      ]
     },
     "metadata": {
      "needs_background": "light"
     },
     "output_type": "display_data"
    }
   ],
   "source": [
    "df_cos_simi = pd.DataFrame(cos_simi)\n",
    "sns.distplot(df_cos_simi.mean(axis=0))"
   ]
  },
  {
   "cell_type": "code",
   "execution_count": 119,
   "metadata": {},
   "outputs": [
    {
     "data": {
      "text/html": [
       "<div>\n",
       "<style scoped>\n",
       "    .dataframe tbody tr th:only-of-type {\n",
       "        vertical-align: middle;\n",
       "    }\n",
       "\n",
       "    .dataframe tbody tr th {\n",
       "        vertical-align: top;\n",
       "    }\n",
       "\n",
       "    .dataframe thead th {\n",
       "        text-align: right;\n",
       "    }\n",
       "</style>\n",
       "<table border=\"1\" class=\"dataframe\">\n",
       "  <thead>\n",
       "    <tr style=\"text-align: right;\">\n",
       "      <th></th>\n",
       "      <th>0</th>\n",
       "      <th>1</th>\n",
       "      <th>2</th>\n",
       "      <th>3</th>\n",
       "      <th>4</th>\n",
       "      <th>5</th>\n",
       "      <th>6</th>\n",
       "      <th>7</th>\n",
       "      <th>8</th>\n",
       "      <th>9</th>\n",
       "      <th>...</th>\n",
       "      <th>379</th>\n",
       "      <th>380</th>\n",
       "      <th>381</th>\n",
       "      <th>382</th>\n",
       "      <th>383</th>\n",
       "      <th>384</th>\n",
       "      <th>385</th>\n",
       "      <th>386</th>\n",
       "      <th>387</th>\n",
       "      <th>388</th>\n",
       "    </tr>\n",
       "  </thead>\n",
       "  <tbody>\n",
       "    <tr>\n",
       "      <td>0</td>\n",
       "      <td>0.044997</td>\n",
       "      <td>0.118679</td>\n",
       "      <td>0.059040</td>\n",
       "      <td>0.412048</td>\n",
       "      <td>0.517541</td>\n",
       "      <td>0.030115</td>\n",
       "      <td>0.239514</td>\n",
       "      <td>0.145793</td>\n",
       "      <td>0.040603</td>\n",
       "      <td>0.020909</td>\n",
       "      <td>...</td>\n",
       "      <td>0.086611</td>\n",
       "      <td>0.124601</td>\n",
       "      <td>0.065908</td>\n",
       "      <td>0.030654</td>\n",
       "      <td>0.051909</td>\n",
       "      <td>0.083267</td>\n",
       "      <td>0.064870</td>\n",
       "      <td>0.031586</td>\n",
       "      <td>0.554849</td>\n",
       "      <td>0.095681</td>\n",
       "    </tr>\n",
       "    <tr>\n",
       "      <td>1</td>\n",
       "      <td>0.145857</td>\n",
       "      <td>0.144713</td>\n",
       "      <td>0.209202</td>\n",
       "      <td>0.243231</td>\n",
       "      <td>0.095997</td>\n",
       "      <td>0.106870</td>\n",
       "      <td>0.148079</td>\n",
       "      <td>0.117076</td>\n",
       "      <td>0.251276</td>\n",
       "      <td>0.139658</td>\n",
       "      <td>...</td>\n",
       "      <td>0.095122</td>\n",
       "      <td>0.144159</td>\n",
       "      <td>0.089223</td>\n",
       "      <td>0.085952</td>\n",
       "      <td>0.253238</td>\n",
       "      <td>0.102771</td>\n",
       "      <td>0.217642</td>\n",
       "      <td>0.102900</td>\n",
       "      <td>0.146098</td>\n",
       "      <td>0.080486</td>\n",
       "    </tr>\n",
       "    <tr>\n",
       "      <td>2</td>\n",
       "      <td>0.194204</td>\n",
       "      <td>0.062942</td>\n",
       "      <td>0.172203</td>\n",
       "      <td>0.529579</td>\n",
       "      <td>0.188717</td>\n",
       "      <td>0.108772</td>\n",
       "      <td>0.138377</td>\n",
       "      <td>0.192329</td>\n",
       "      <td>0.119260</td>\n",
       "      <td>0.083536</td>\n",
       "      <td>...</td>\n",
       "      <td>0.413273</td>\n",
       "      <td>0.191017</td>\n",
       "      <td>0.124704</td>\n",
       "      <td>0.151057</td>\n",
       "      <td>0.169844</td>\n",
       "      <td>0.406496</td>\n",
       "      <td>0.349692</td>\n",
       "      <td>0.339475</td>\n",
       "      <td>0.142302</td>\n",
       "      <td>0.149662</td>\n",
       "    </tr>\n",
       "    <tr>\n",
       "      <td>3</td>\n",
       "      <td>0.099225</td>\n",
       "      <td>0.339693</td>\n",
       "      <td>0.106324</td>\n",
       "      <td>0.510900</td>\n",
       "      <td>0.733646</td>\n",
       "      <td>0.070564</td>\n",
       "      <td>0.455335</td>\n",
       "      <td>0.132142</td>\n",
       "      <td>0.186454</td>\n",
       "      <td>0.076415</td>\n",
       "      <td>...</td>\n",
       "      <td>0.114548</td>\n",
       "      <td>0.236425</td>\n",
       "      <td>0.099505</td>\n",
       "      <td>0.091726</td>\n",
       "      <td>0.142689</td>\n",
       "      <td>0.136008</td>\n",
       "      <td>0.259567</td>\n",
       "      <td>0.074290</td>\n",
       "      <td>0.709403</td>\n",
       "      <td>0.150639</td>\n",
       "    </tr>\n",
       "    <tr>\n",
       "      <td>4</td>\n",
       "      <td>0.145158</td>\n",
       "      <td>0.037759</td>\n",
       "      <td>0.139365</td>\n",
       "      <td>0.215874</td>\n",
       "      <td>0.098878</td>\n",
       "      <td>0.049727</td>\n",
       "      <td>0.133347</td>\n",
       "      <td>0.090365</td>\n",
       "      <td>0.081385</td>\n",
       "      <td>0.050559</td>\n",
       "      <td>...</td>\n",
       "      <td>0.464724</td>\n",
       "      <td>0.144174</td>\n",
       "      <td>0.125973</td>\n",
       "      <td>0.070919</td>\n",
       "      <td>0.159879</td>\n",
       "      <td>0.391934</td>\n",
       "      <td>0.237544</td>\n",
       "      <td>0.669497</td>\n",
       "      <td>0.097221</td>\n",
       "      <td>0.084240</td>\n",
       "    </tr>\n",
       "  </tbody>\n",
       "</table>\n",
       "<p>5 rows × 389 columns</p>\n",
       "</div>"
      ],
      "text/plain": [
       "        0         1         2         3         4         5         6    \\\n",
       "0  0.044997  0.118679  0.059040  0.412048  0.517541  0.030115  0.239514   \n",
       "1  0.145857  0.144713  0.209202  0.243231  0.095997  0.106870  0.148079   \n",
       "2  0.194204  0.062942  0.172203  0.529579  0.188717  0.108772  0.138377   \n",
       "3  0.099225  0.339693  0.106324  0.510900  0.733646  0.070564  0.455335   \n",
       "4  0.145158  0.037759  0.139365  0.215874  0.098878  0.049727  0.133347   \n",
       "\n",
       "        7         8         9    ...       379       380       381       382  \\\n",
       "0  0.145793  0.040603  0.020909  ...  0.086611  0.124601  0.065908  0.030654   \n",
       "1  0.117076  0.251276  0.139658  ...  0.095122  0.144159  0.089223  0.085952   \n",
       "2  0.192329  0.119260  0.083536  ...  0.413273  0.191017  0.124704  0.151057   \n",
       "3  0.132142  0.186454  0.076415  ...  0.114548  0.236425  0.099505  0.091726   \n",
       "4  0.090365  0.081385  0.050559  ...  0.464724  0.144174  0.125973  0.070919   \n",
       "\n",
       "        383       384       385       386       387       388  \n",
       "0  0.051909  0.083267  0.064870  0.031586  0.554849  0.095681  \n",
       "1  0.253238  0.102771  0.217642  0.102900  0.146098  0.080486  \n",
       "2  0.169844  0.406496  0.349692  0.339475  0.142302  0.149662  \n",
       "3  0.142689  0.136008  0.259567  0.074290  0.709403  0.150639  \n",
       "4  0.159879  0.391934  0.237544  0.669497  0.097221  0.084240  \n",
       "\n",
       "[5 rows x 389 columns]"
      ]
     },
     "execution_count": 119,
     "metadata": {},
     "output_type": "execute_result"
    }
   ],
   "source": [
    "df_cos_simi.head()"
   ]
  },
  {
   "cell_type": "markdown",
   "metadata": {},
   "source": [
    "## encontrar top algom"
   ]
  },
  {
   "cell_type": "markdown",
   "metadata": {},
   "source": [
    "encontramos elpercentil 97 por fila"
   ]
  },
  {
   "cell_type": "code",
   "execution_count": 120,
   "metadata": {},
   "outputs": [],
   "source": [
    "df_evaluadores_recomendados = pd.DataFrame(index=[i for i in range(len(id_proyecto_index))]\n",
    "                                           ,columns=[\"evaluador_reco_\"+str(number) for number in range(5)])\n",
    "len_list = []\n",
    "\n",
    "for proyecto in range(df_cos_simi.shape[1]):\n",
    "    \n",
    "    list_each_proyecto = df_cos_simi.iloc[:,proyecto].tolist()\n",
    "    \n",
    "    \n",
    "    top_5_idx = np.argsort(list_each_proyecto)[-5:][::-1]\n",
    "    top_5_idx = [i for i in top_5_idx]\n",
    "\n",
    "    df_evaluadores_recomendados.iloc[proyecto,:] = [usuario_entreanado[pos] for pos in top_5_idx] \n",
    "    \n",
    "df_evaluadores_recomendados[\"ID_PROYECTO\"] = id_proyecto_index\n",
    "df_evaluadores_recomendados.set_index(\"ID_PROYECTO\").reset_index(inplace=True,drop=False)"
   ]
  },
  {
   "cell_type": "code",
   "execution_count": 121,
   "metadata": {},
   "outputs": [
    {
     "data": {
      "text/html": [
       "<div>\n",
       "<style scoped>\n",
       "    .dataframe tbody tr th:only-of-type {\n",
       "        vertical-align: middle;\n",
       "    }\n",
       "\n",
       "    .dataframe tbody tr th {\n",
       "        vertical-align: top;\n",
       "    }\n",
       "\n",
       "    .dataframe thead th {\n",
       "        text-align: right;\n",
       "    }\n",
       "</style>\n",
       "<table border=\"1\" class=\"dataframe\">\n",
       "  <thead>\n",
       "    <tr style=\"text-align: right;\">\n",
       "      <th></th>\n",
       "      <th>evaluador_reco_0</th>\n",
       "      <th>evaluador_reco_1</th>\n",
       "      <th>evaluador_reco_2</th>\n",
       "      <th>evaluador_reco_3</th>\n",
       "      <th>evaluador_reco_4</th>\n",
       "      <th>ID_PROYECTO</th>\n",
       "    </tr>\n",
       "  </thead>\n",
       "  <tbody>\n",
       "    <tr>\n",
       "      <td>0</td>\n",
       "      <td>X_overa25689</td>\n",
       "      <td>X_jtamez67337</td>\n",
       "      <td>X_eazorin49309</td>\n",
       "      <td>X_tcordova122005</td>\n",
       "      <td>X_emoreno122785</td>\n",
       "      <td>612</td>\n",
       "    </tr>\n",
       "    <tr>\n",
       "      <td>1</td>\n",
       "      <td>X_icantu19105</td>\n",
       "      <td>X_calfonso</td>\n",
       "      <td>X_jmorales308</td>\n",
       "      <td>X_acruz36219</td>\n",
       "      <td>X_mjayagopal</td>\n",
       "      <td>676</td>\n",
       "    </tr>\n",
       "    <tr>\n",
       "      <td>2</td>\n",
       "      <td>X_jcalderon16009</td>\n",
       "      <td>X_jdelarosa7101</td>\n",
       "      <td>X_rramos12568</td>\n",
       "      <td>X_dtentori1807</td>\n",
       "      <td>X_omartynyuk15987</td>\n",
       "      <td>3785</td>\n",
       "    </tr>\n",
       "    <tr>\n",
       "      <td>3</td>\n",
       "      <td>X_marena123520</td>\n",
       "      <td>X_hperez19203</td>\n",
       "      <td>X_rmendoza13735</td>\n",
       "      <td>X_larias94805</td>\n",
       "      <td>X_epena157102</td>\n",
       "      <td>481</td>\n",
       "    </tr>\n",
       "    <tr>\n",
       "      <td>4</td>\n",
       "      <td>X_acarranza643</td>\n",
       "      <td>X_ogarcia18968</td>\n",
       "      <td>X_anavarro102694</td>\n",
       "      <td>X_emoreno44251</td>\n",
       "      <td>X_tgollas20040</td>\n",
       "      <td>6061</td>\n",
       "    </tr>\n",
       "  </tbody>\n",
       "</table>\n",
       "</div>"
      ],
      "text/plain": [
       "   evaluador_reco_0 evaluador_reco_1  evaluador_reco_2  evaluador_reco_3  \\\n",
       "0      X_overa25689    X_jtamez67337    X_eazorin49309  X_tcordova122005   \n",
       "1     X_icantu19105       X_calfonso     X_jmorales308      X_acruz36219   \n",
       "2  X_jcalderon16009  X_jdelarosa7101     X_rramos12568    X_dtentori1807   \n",
       "3    X_marena123520    X_hperez19203   X_rmendoza13735     X_larias94805   \n",
       "4    X_acarranza643   X_ogarcia18968  X_anavarro102694    X_emoreno44251   \n",
       "\n",
       "    evaluador_reco_4  ID_PROYECTO  \n",
       "0    X_emoreno122785          612  \n",
       "1       X_mjayagopal          676  \n",
       "2  X_omartynyuk15987         3785  \n",
       "3      X_epena157102          481  \n",
       "4     X_tgollas20040         6061  "
      ]
     },
     "execution_count": 121,
     "metadata": {},
     "output_type": "execute_result"
    }
   ],
   "source": [
    "df_evaluadores_recomendados.head()"
   ]
  },
  {
   "cell_type": "markdown",
   "metadata": {},
   "source": [
    "### verificar pertenencia"
   ]
  },
  {
   "cell_type": "code",
   "execution_count": 122,
   "metadata": {},
   "outputs": [],
   "source": [
    "df_texto_eval = pd.read_csv(\"./data/data_training.csv\")\n",
    "df_texto_eval = df_texto_eval.reset_index(drop=True)\n",
    "df_texto_eval = df_texto_eval[[\"ID_PROYECTO\",\"USUARIO\"]]"
   ]
  },
  {
   "cell_type": "code",
   "execution_count": 123,
   "metadata": {},
   "outputs": [
    {
     "data": {
      "text/plain": [
       "ID_PROYECTO\n",
       "5     [X_smontanez1370, X_jnicolini13143, X_rcoral11...\n",
       "6     [X_avera13434, X_lcastillo85758, X_gpineda4002...\n",
       "11    [X_roropeza122691, X_mmontes26238, X_aromero47...\n",
       "12    [X_jtorres171556, X_rleyva934, X_fgarcia46075,...\n",
       "13    [X_mnicho21964, X_imoggio25070, X_clopez89504,...\n",
       "Name: USUARIO, dtype: object"
      ]
     },
     "execution_count": 123,
     "metadata": {},
     "output_type": "execute_result"
    }
   ],
   "source": [
    "\n",
    "df_texto_eval = df_texto_eval.groupby('ID_PROYECTO')['USUARIO'].apply(lambda x: \"[%s]\" % ', '.join(x))\n",
    "df_texto_eval.head()"
   ]
  },
  {
   "cell_type": "code",
   "execution_count": 124,
   "metadata": {},
   "outputs": [
    {
     "data": {
      "text/html": [
       "<div>\n",
       "<style scoped>\n",
       "    .dataframe tbody tr th:only-of-type {\n",
       "        vertical-align: middle;\n",
       "    }\n",
       "\n",
       "    .dataframe tbody tr th {\n",
       "        vertical-align: top;\n",
       "    }\n",
       "\n",
       "    .dataframe thead th {\n",
       "        text-align: right;\n",
       "    }\n",
       "</style>\n",
       "<table border=\"1\" class=\"dataframe\">\n",
       "  <thead>\n",
       "    <tr style=\"text-align: right;\">\n",
       "      <th></th>\n",
       "      <th>ID_PROYECTO</th>\n",
       "      <th>USUARIOS</th>\n",
       "    </tr>\n",
       "  </thead>\n",
       "  <tbody>\n",
       "    <tr>\n",
       "      <td>0</td>\n",
       "      <td>5</td>\n",
       "      <td>[X_smontanez1370, X_jnicolini13143, X_rcoral11...</td>\n",
       "    </tr>\n",
       "    <tr>\n",
       "      <td>1</td>\n",
       "      <td>6</td>\n",
       "      <td>[X_avera13434, X_lcastillo85758, X_gpineda4002...</td>\n",
       "    </tr>\n",
       "    <tr>\n",
       "      <td>2</td>\n",
       "      <td>11</td>\n",
       "      <td>[X_roropeza122691, X_mmontes26238, X_aromero47...</td>\n",
       "    </tr>\n",
       "    <tr>\n",
       "      <td>3</td>\n",
       "      <td>12</td>\n",
       "      <td>[X_jtorres171556, X_rleyva934, X_fgarcia46075,...</td>\n",
       "    </tr>\n",
       "    <tr>\n",
       "      <td>4</td>\n",
       "      <td>13</td>\n",
       "      <td>[X_mnicho21964, X_imoggio25070, X_clopez89504,...</td>\n",
       "    </tr>\n",
       "  </tbody>\n",
       "</table>\n",
       "</div>"
      ],
      "text/plain": [
       "   ID_PROYECTO                                           USUARIOS\n",
       "0            5  [X_smontanez1370, X_jnicolini13143, X_rcoral11...\n",
       "1            6  [X_avera13434, X_lcastillo85758, X_gpineda4002...\n",
       "2           11  [X_roropeza122691, X_mmontes26238, X_aromero47...\n",
       "3           12  [X_jtorres171556, X_rleyva934, X_fgarcia46075,...\n",
       "4           13  [X_mnicho21964, X_imoggio25070, X_clopez89504,..."
      ]
     },
     "execution_count": 124,
     "metadata": {},
     "output_type": "execute_result"
    }
   ],
   "source": [
    "df_proy_usuarios = pd.DataFrame(index=df_texto_eval.index, columns=[\"USUARIOS\"])\n",
    "df_proy_usuarios.iloc[:,0] = df_texto_eval.values\n",
    "df_proy_usuarios.reset_index(drop=False,inplace=True)\n",
    "df_proy_usuarios.head()"
   ]
  },
  {
   "cell_type": "markdown",
   "metadata": {},
   "source": [
    "## proyectos en conjunto de prueba"
   ]
  },
  {
   "cell_type": "code",
   "execution_count": 125,
   "metadata": {
    "scrolled": true
   },
   "outputs": [
    {
     "data": {
      "text/html": [
       "<div>\n",
       "<style scoped>\n",
       "    .dataframe tbody tr th:only-of-type {\n",
       "        vertical-align: middle;\n",
       "    }\n",
       "\n",
       "    .dataframe tbody tr th {\n",
       "        vertical-align: top;\n",
       "    }\n",
       "\n",
       "    .dataframe thead th {\n",
       "        text-align: right;\n",
       "    }\n",
       "</style>\n",
       "<table border=\"1\" class=\"dataframe\">\n",
       "  <thead>\n",
       "    <tr style=\"text-align: right;\">\n",
       "      <th></th>\n",
       "      <th>evaluador_reco_0</th>\n",
       "      <th>evaluador_reco_1</th>\n",
       "      <th>evaluador_reco_2</th>\n",
       "      <th>evaluador_reco_3</th>\n",
       "      <th>evaluador_reco_4</th>\n",
       "      <th>ID_PROYECTO</th>\n",
       "      <th>USUARIOS</th>\n",
       "    </tr>\n",
       "  </thead>\n",
       "  <tbody>\n",
       "    <tr>\n",
       "      <td>0</td>\n",
       "      <td>X_overa25689</td>\n",
       "      <td>X_jtamez67337</td>\n",
       "      <td>X_eazorin49309</td>\n",
       "      <td>X_tcordova122005</td>\n",
       "      <td>X_emoreno122785</td>\n",
       "      <td>612</td>\n",
       "      <td>[X_creyes121133, X_overa25689, X_eazorin49309,...</td>\n",
       "    </tr>\n",
       "    <tr>\n",
       "      <td>1</td>\n",
       "      <td>X_icantu19105</td>\n",
       "      <td>X_calfonso</td>\n",
       "      <td>X_jmorales308</td>\n",
       "      <td>X_acruz36219</td>\n",
       "      <td>X_mjayagopal</td>\n",
       "      <td>676</td>\n",
       "      <td>[X_jcarriquiry10097, X_hrubio120252, X_icantu1...</td>\n",
       "    </tr>\n",
       "    <tr>\n",
       "      <td>2</td>\n",
       "      <td>X_jcalderon16009</td>\n",
       "      <td>X_jdelarosa7101</td>\n",
       "      <td>X_rramos12568</td>\n",
       "      <td>X_dtentori1807</td>\n",
       "      <td>X_omartynyuk15987</td>\n",
       "      <td>3785</td>\n",
       "      <td>[X_rmachorro1817, X_rramos12568, X_acruz14475,...</td>\n",
       "    </tr>\n",
       "    <tr>\n",
       "      <td>3</td>\n",
       "      <td>X_jcalderon16009</td>\n",
       "      <td>X_jdelarosa7101</td>\n",
       "      <td>X_rramos12568</td>\n",
       "      <td>X_dtentori1807</td>\n",
       "      <td>X_omartynyuk15987</td>\n",
       "      <td>3785</td>\n",
       "      <td>[X_rmachorro1817, X_rramos12568, X_acruz14475,...</td>\n",
       "    </tr>\n",
       "    <tr>\n",
       "      <td>4</td>\n",
       "      <td>X_marena123520</td>\n",
       "      <td>X_hperez19203</td>\n",
       "      <td>X_rmendoza13735</td>\n",
       "      <td>X_larias94805</td>\n",
       "      <td>X_epena157102</td>\n",
       "      <td>481</td>\n",
       "      <td>[X_marena123520, X_jezquerra12270, X_jsalazar1...</td>\n",
       "    </tr>\n",
       "  </tbody>\n",
       "</table>\n",
       "</div>"
      ],
      "text/plain": [
       "   evaluador_reco_0 evaluador_reco_1 evaluador_reco_2  evaluador_reco_3  \\\n",
       "0      X_overa25689    X_jtamez67337   X_eazorin49309  X_tcordova122005   \n",
       "1     X_icantu19105       X_calfonso    X_jmorales308      X_acruz36219   \n",
       "2  X_jcalderon16009  X_jdelarosa7101    X_rramos12568    X_dtentori1807   \n",
       "3  X_jcalderon16009  X_jdelarosa7101    X_rramos12568    X_dtentori1807   \n",
       "4    X_marena123520    X_hperez19203  X_rmendoza13735     X_larias94805   \n",
       "\n",
       "    evaluador_reco_4  ID_PROYECTO  \\\n",
       "0    X_emoreno122785          612   \n",
       "1       X_mjayagopal          676   \n",
       "2  X_omartynyuk15987         3785   \n",
       "3  X_omartynyuk15987         3785   \n",
       "4      X_epena157102          481   \n",
       "\n",
       "                                            USUARIOS  \n",
       "0  [X_creyes121133, X_overa25689, X_eazorin49309,...  \n",
       "1  [X_jcarriquiry10097, X_hrubio120252, X_icantu1...  \n",
       "2  [X_rmachorro1817, X_rramos12568, X_acruz14475,...  \n",
       "3  [X_rmachorro1817, X_rramos12568, X_acruz14475,...  \n",
       "4  [X_marena123520, X_jezquerra12270, X_jsalazar1...  "
      ]
     },
     "execution_count": 125,
     "metadata": {},
     "output_type": "execute_result"
    }
   ],
   "source": [
    "df_evaluadores_recomendados = df_evaluadores_recomendados.merge(df_proy_usuarios,on=\"ID_PROYECTO\")\n",
    "df_evaluadores_recomendados.head()"
   ]
  },
  {
   "cell_type": "markdown",
   "metadata": {},
   "source": [
    "contamos cuantos si los 5 evals propuestos estan en los evaluadores reales:"
   ]
  },
  {
   "cell_type": "code",
   "execution_count": 126,
   "metadata": {},
   "outputs": [
    {
     "data": {
      "text/html": [
       "<div>\n",
       "<style scoped>\n",
       "    .dataframe tbody tr th:only-of-type {\n",
       "        vertical-align: middle;\n",
       "    }\n",
       "\n",
       "    .dataframe tbody tr th {\n",
       "        vertical-align: top;\n",
       "    }\n",
       "\n",
       "    .dataframe thead th {\n",
       "        text-align: right;\n",
       "    }\n",
       "</style>\n",
       "<table border=\"1\" class=\"dataframe\">\n",
       "  <thead>\n",
       "    <tr style=\"text-align: right;\">\n",
       "      <th></th>\n",
       "      <th>evaluador_reco_0</th>\n",
       "      <th>evaluador_reco_1</th>\n",
       "      <th>evaluador_reco_2</th>\n",
       "      <th>evaluador_reco_3</th>\n",
       "      <th>evaluador_reco_4</th>\n",
       "      <th>ID_PROYECTO</th>\n",
       "      <th>USUARIOS</th>\n",
       "      <th>metrica</th>\n",
       "    </tr>\n",
       "  </thead>\n",
       "  <tbody>\n",
       "    <tr>\n",
       "      <td>0</td>\n",
       "      <td>X_overa25689</td>\n",
       "      <td>X_jtamez67337</td>\n",
       "      <td>X_eazorin49309</td>\n",
       "      <td>X_tcordova122005</td>\n",
       "      <td>X_emoreno122785</td>\n",
       "      <td>612</td>\n",
       "      <td>[X_creyes121133, X_overa25689, X_eazorin49309,...</td>\n",
       "      <td>0.666667</td>\n",
       "    </tr>\n",
       "    <tr>\n",
       "      <td>1</td>\n",
       "      <td>X_icantu19105</td>\n",
       "      <td>X_calfonso</td>\n",
       "      <td>X_jmorales308</td>\n",
       "      <td>X_acruz36219</td>\n",
       "      <td>X_mjayagopal</td>\n",
       "      <td>676</td>\n",
       "      <td>[X_jcarriquiry10097, X_hrubio120252, X_icantu1...</td>\n",
       "      <td>0.333333</td>\n",
       "    </tr>\n",
       "    <tr>\n",
       "      <td>2</td>\n",
       "      <td>X_jcalderon16009</td>\n",
       "      <td>X_jdelarosa7101</td>\n",
       "      <td>X_rramos12568</td>\n",
       "      <td>X_dtentori1807</td>\n",
       "      <td>X_omartynyuk15987</td>\n",
       "      <td>3785</td>\n",
       "      <td>[X_rmachorro1817, X_rramos12568, X_acruz14475,...</td>\n",
       "      <td>0.600000</td>\n",
       "    </tr>\n",
       "    <tr>\n",
       "      <td>3</td>\n",
       "      <td>X_jcalderon16009</td>\n",
       "      <td>X_jdelarosa7101</td>\n",
       "      <td>X_rramos12568</td>\n",
       "      <td>X_dtentori1807</td>\n",
       "      <td>X_omartynyuk15987</td>\n",
       "      <td>3785</td>\n",
       "      <td>[X_rmachorro1817, X_rramos12568, X_acruz14475,...</td>\n",
       "      <td>0.600000</td>\n",
       "    </tr>\n",
       "    <tr>\n",
       "      <td>4</td>\n",
       "      <td>X_marena123520</td>\n",
       "      <td>X_hperez19203</td>\n",
       "      <td>X_rmendoza13735</td>\n",
       "      <td>X_larias94805</td>\n",
       "      <td>X_epena157102</td>\n",
       "      <td>481</td>\n",
       "      <td>[X_marena123520, X_jezquerra12270, X_jsalazar1...</td>\n",
       "      <td>0.200000</td>\n",
       "    </tr>\n",
       "  </tbody>\n",
       "</table>\n",
       "</div>"
      ],
      "text/plain": [
       "   evaluador_reco_0 evaluador_reco_1 evaluador_reco_2  evaluador_reco_3  \\\n",
       "0      X_overa25689    X_jtamez67337   X_eazorin49309  X_tcordova122005   \n",
       "1     X_icantu19105       X_calfonso    X_jmorales308      X_acruz36219   \n",
       "2  X_jcalderon16009  X_jdelarosa7101    X_rramos12568    X_dtentori1807   \n",
       "3  X_jcalderon16009  X_jdelarosa7101    X_rramos12568    X_dtentori1807   \n",
       "4    X_marena123520    X_hperez19203  X_rmendoza13735     X_larias94805   \n",
       "\n",
       "    evaluador_reco_4  ID_PROYECTO  \\\n",
       "0    X_emoreno122785          612   \n",
       "1       X_mjayagopal          676   \n",
       "2  X_omartynyuk15987         3785   \n",
       "3  X_omartynyuk15987         3785   \n",
       "4      X_epena157102          481   \n",
       "\n",
       "                                            USUARIOS   metrica  \n",
       "0  [X_creyes121133, X_overa25689, X_eazorin49309,...  0.666667  \n",
       "1  [X_jcarriquiry10097, X_hrubio120252, X_icantu1...  0.333333  \n",
       "2  [X_rmachorro1817, X_rramos12568, X_acruz14475,...  0.600000  \n",
       "3  [X_rmachorro1817, X_rramos12568, X_acruz14475,...  0.600000  \n",
       "4  [X_marena123520, X_jezquerra12270, X_jsalazar1...  0.200000  "
      ]
     },
     "execution_count": 126,
     "metadata": {},
     "output_type": "execute_result"
    }
   ],
   "source": [
    "matches_list = []\n",
    "for proyecto in range(len(df_evaluadores_recomendados)):\n",
    "    \n",
    "    lista_evaluadores_reales = df_evaluadores_recomendados.iloc[proyecto,-1].replace(\n",
    "        ']','').replace(\" \",\"\").replace('[','').replace('\"','').split(\",\")\n",
    "    \n",
    "    lista_matches = len([ev_recom for ev_recom in df_evaluadores_recomendados.iloc[proyecto,:-3].tolist()\n",
    "                         if ev_recom in lista_evaluadores_reales])\n",
    "    lista_eval_len = len(lista_evaluadores_reales)\n",
    "    \n",
    "    metrica = lista_matches/lista_eval_len\n",
    "    \n",
    "    matches_list.append(metrica)\n",
    "\n",
    "df_evaluadores_recomendados[\"metrica\"] = matches_list\n",
    "\n",
    "df_evaluadores_recomendados.head()"
   ]
  },
  {
   "cell_type": "markdown",
   "metadata": {},
   "source": [
    "## función empaquetada\n",
    "\n",
    "computa la métrica de error: $$ \\frac{\\#( Eval_{reales} \\cap Eval_{actual})}{\\#Eval_{reales}} $$"
   ]
  },
  {
   "cell_type": "code",
   "execution_count": 127,
   "metadata": {},
   "outputs": [],
   "source": [
    "import pickle\n",
    "import numpy as np\n",
    "import pandas as pd\n",
    "import seaborn as sns\n",
    "import matplotlib.pyplot as plt\n",
    "from sklearn.metrics.pairwise import cosine_similarity\n",
    "pd.options.mode.chained_assignment = None  # default='warn'\n",
    "from sklearn.externals import joblib \n",
    "from sklearn.metrics.pairwise import cosine_similarity"
   ]
  },
  {
   "cell_type": "code",
   "execution_count": 128,
   "metadata": {},
   "outputs": [],
   "source": [
    "## leemos lostopicos por evaluador:\n",
    "def cosine_similarity_metric(topic_values_gt,topic_values_gt_test,df_texto_eval,evaluadores_sugeridos=5):\n",
    "    \"\"\"\n",
    "    obtiene la metrica $$ \\frac{ Eval_{reales} \\cap Eval_{actual}}{\\#Eval_{reales}} $$ para el conjunto \n",
    "    de prueba\n",
    "    \n",
    "    Devuelve una lista con la metrica por proyecto evaludo\n",
    "    \n",
    "    \"\"\"\n",
    "    #topic_values_gt\n",
    "\n",
    "    topic_values_gt.reset_index(drop=False,inplace=True)\n",
    "    usuario_entreanado = topic_values_gt[\"USUARIO\"].tolist()\n",
    "    rcea_entreanado = topic_values_gt[\"CVE_RCEA\"].tolist()\n",
    "    topic_values_gt.head()\n",
    "    \n",
    "    # avealuar\n",
    "    \n",
    "    id_proyecto_index = topic_values_gt_test[\"ID_PROYECTO\"].tolist()\n",
    "\n",
    "    # cos simi\n",
    "    \n",
    "    cos_simi = cosine_similarity(topic_values_gt.iloc[:,2:], topic_values_gt_test.iloc[:,1:])\n",
    "\n",
    "    \n",
    "    \n",
    "    # top eval\n",
    "    \n",
    "    df_evaluadores_recomendados = pd.DataFrame(index=[i for i in range(len(id_proyecto_index))]\n",
    "                                               ,columns=[\"evaluador_reco_\"+str(number) \n",
    "                                                         for number in range(evaluadores_sugeridos)])\n",
    "    len_list = []\n",
    "\n",
    "    for proyecto in range(df_cos_simi.shape[1]):\n",
    "\n",
    "        list_each_proyecto = df_cos_simi.iloc[:,proyecto].tolist()\n",
    "\n",
    "\n",
    "        top_5_idx = np.argsort(list_each_proyecto)[-evaluadores_sugeridos:][::-1]\n",
    "        top_5_idx = [i for i in top_5_idx]\n",
    "\n",
    "        df_evaluadores_recomendados.iloc[proyecto,:] = [usuario_entreanado[pos] for pos in top_5_idx] \n",
    "\n",
    "    df_evaluadores_recomendados[\"ID_PROYECTO\"] = id_proyecto_index\n",
    "    df_evaluadores_recomendados.set_index(\"ID_PROYECTO\").reset_index(inplace=True,drop=False)\n",
    "\n",
    "    \n",
    "    # comparar contextos evaluador\n",
    "    \n",
    "    df_texto_eval = df_texto_eval.reset_index(drop=True)\n",
    "    df_texto_eval = df_texto_eval[[\"ID_PROYECTO\",\"USUARIO\"]]\n",
    "    df_texto_eval = df_texto_eval.groupby('ID_PROYECTO')['USUARIO'].apply(lambda x: \"[%s]\" % ', '.join(x))\n",
    "    \n",
    "    df_proy_usuarios = pd.DataFrame(index=df_texto_eval.index, columns=[\"USUARIOS\"])\n",
    "    df_proy_usuarios.iloc[:,0] = df_texto_eval.values\n",
    "    df_proy_usuarios.reset_index(drop=False,inplace=True)\n",
    "    \n",
    "    \n",
    "    # merge textos con conjunto de prueba\n",
    "    \n",
    "    df_evaluadores_recomendados = df_evaluadores_recomendados.merge(df_proy_usuarios,on=\"ID_PROYECTO\")\n",
    "    \n",
    "    matches_list = []\n",
    "    for proyecto in range(len(df_evaluadores_recomendados)):\n",
    "\n",
    "        lista_evaluadores_reales = df_evaluadores_recomendados.iloc[proyecto,-1].replace(\n",
    "            ']','').replace(\" \",\"\").replace('[','').replace('\"','').split(\",\")\n",
    "\n",
    "        lista_matches = len([ev_recom for ev_recom in df_evaluadores_recomendados.iloc[proyecto,:-3].tolist()\n",
    "                             if ev_recom in lista_evaluadores_reales])\n",
    "        lista_eval_len = len(lista_evaluadores_reales)\n",
    "\n",
    "        metrica = lista_matches/lista_eval_len\n",
    "\n",
    "        matches_list.append(metrica)\n",
    "\n",
    "    df_evaluadores_recomendados[\"metrica\"] = matches_list\n",
    "    \n",
    "    return df_evaluadores_recomendados\n",
    "\n",
    "    #return df_evaluadores_recomendados"
   ]
  },
  {
   "cell_type": "code",
   "execution_count": 129,
   "metadata": {},
   "outputs": [],
   "source": [
    "topic_values_gt = joblib.load('./trained_models/archivos/topicos_por_evaluador.pkl')\n",
    "topic_values_test = joblib.load(\"./trained_models/archivos/topicos_por_texto_test.pkl\")\n",
    "df_texto_eval = pd.read_csv(\"./data/data_training.csv\")"
   ]
  },
  {
   "cell_type": "code",
   "execution_count": 130,
   "metadata": {},
   "outputs": [
    {
     "data": {
      "text/html": [
       "<div>\n",
       "<style scoped>\n",
       "    .dataframe tbody tr th:only-of-type {\n",
       "        vertical-align: middle;\n",
       "    }\n",
       "\n",
       "    .dataframe tbody tr th {\n",
       "        vertical-align: top;\n",
       "    }\n",
       "\n",
       "    .dataframe thead th {\n",
       "        text-align: right;\n",
       "    }\n",
       "</style>\n",
       "<table border=\"1\" class=\"dataframe\">\n",
       "  <thead>\n",
       "    <tr style=\"text-align: right;\">\n",
       "      <th></th>\n",
       "      <th>evaluador_reco_0</th>\n",
       "      <th>evaluador_reco_1</th>\n",
       "      <th>evaluador_reco_2</th>\n",
       "      <th>evaluador_reco_3</th>\n",
       "      <th>evaluador_reco_4</th>\n",
       "      <th>evaluador_reco_5</th>\n",
       "      <th>evaluador_reco_6</th>\n",
       "      <th>evaluador_reco_7</th>\n",
       "      <th>evaluador_reco_8</th>\n",
       "      <th>evaluador_reco_9</th>\n",
       "      <th>ID_PROYECTO</th>\n",
       "      <th>USUARIOS</th>\n",
       "      <th>metrica</th>\n",
       "    </tr>\n",
       "  </thead>\n",
       "  <tbody>\n",
       "    <tr>\n",
       "      <td>0</td>\n",
       "      <td>X_overa25689</td>\n",
       "      <td>X_jtamez67337</td>\n",
       "      <td>X_eazorin49309</td>\n",
       "      <td>X_tcordova122005</td>\n",
       "      <td>X_emoreno122785</td>\n",
       "      <td>X_cvazquez2129</td>\n",
       "      <td>X_jmartinez165511</td>\n",
       "      <td>X_hbarron41729</td>\n",
       "      <td>X_rsalceda2619</td>\n",
       "      <td>X_jcalderon16009</td>\n",
       "      <td>612</td>\n",
       "      <td>[X_creyes121133, X_overa25689, X_eazorin49309,...</td>\n",
       "      <td>0.833333</td>\n",
       "    </tr>\n",
       "    <tr>\n",
       "      <td>1</td>\n",
       "      <td>X_icantu19105</td>\n",
       "      <td>X_calfonso</td>\n",
       "      <td>X_jmorales308</td>\n",
       "      <td>X_acruz36219</td>\n",
       "      <td>X_mjayagopal</td>\n",
       "      <td>X_sgarcia70048</td>\n",
       "      <td>X_agranados120374</td>\n",
       "      <td>X_efregoso95418</td>\n",
       "      <td>X_sbelmonte120220</td>\n",
       "      <td>X_rnavarro33703</td>\n",
       "      <td>676</td>\n",
       "      <td>[X_jcarriquiry10097, X_hrubio120252, X_icantu1...</td>\n",
       "      <td>0.333333</td>\n",
       "    </tr>\n",
       "    <tr>\n",
       "      <td>2</td>\n",
       "      <td>X_jcalderon16009</td>\n",
       "      <td>X_jdelarosa7101</td>\n",
       "      <td>X_rramos12568</td>\n",
       "      <td>X_dtentori1807</td>\n",
       "      <td>X_omartynyuk15987</td>\n",
       "      <td>X_jsossa7036</td>\n",
       "      <td>X_jjuarez164611</td>\n",
       "      <td>X_mvaldes13662</td>\n",
       "      <td>X_mguevara21643</td>\n",
       "      <td>X_fchavez19695</td>\n",
       "      <td>3785</td>\n",
       "      <td>[X_rmachorro1817, X_rramos12568, X_acruz14475,...</td>\n",
       "      <td>0.600000</td>\n",
       "    </tr>\n",
       "    <tr>\n",
       "      <td>3</td>\n",
       "      <td>X_jcalderon16009</td>\n",
       "      <td>X_jdelarosa7101</td>\n",
       "      <td>X_rramos12568</td>\n",
       "      <td>X_dtentori1807</td>\n",
       "      <td>X_omartynyuk15987</td>\n",
       "      <td>X_jsossa7036</td>\n",
       "      <td>X_jjuarez164611</td>\n",
       "      <td>X_mvaldes13662</td>\n",
       "      <td>X_mguevara21643</td>\n",
       "      <td>X_fchavez19695</td>\n",
       "      <td>3785</td>\n",
       "      <td>[X_rmachorro1817, X_rramos12568, X_acruz14475,...</td>\n",
       "      <td>0.600000</td>\n",
       "    </tr>\n",
       "    <tr>\n",
       "      <td>4</td>\n",
       "      <td>X_marena123520</td>\n",
       "      <td>X_hperez19203</td>\n",
       "      <td>X_rmendoza13735</td>\n",
       "      <td>X_larias94805</td>\n",
       "      <td>X_epena157102</td>\n",
       "      <td>X_sperez36168</td>\n",
       "      <td>X_mcancino19656</td>\n",
       "      <td>X_lpavon19937</td>\n",
       "      <td>X_sestrada21580</td>\n",
       "      <td>X_mlinan25988</td>\n",
       "      <td>481</td>\n",
       "      <td>[X_marena123520, X_jezquerra12270, X_jsalazar1...</td>\n",
       "      <td>0.200000</td>\n",
       "    </tr>\n",
       "  </tbody>\n",
       "</table>\n",
       "</div>"
      ],
      "text/plain": [
       "   evaluador_reco_0 evaluador_reco_1 evaluador_reco_2  evaluador_reco_3  \\\n",
       "0      X_overa25689    X_jtamez67337   X_eazorin49309  X_tcordova122005   \n",
       "1     X_icantu19105       X_calfonso    X_jmorales308      X_acruz36219   \n",
       "2  X_jcalderon16009  X_jdelarosa7101    X_rramos12568    X_dtentori1807   \n",
       "3  X_jcalderon16009  X_jdelarosa7101    X_rramos12568    X_dtentori1807   \n",
       "4    X_marena123520    X_hperez19203  X_rmendoza13735     X_larias94805   \n",
       "\n",
       "    evaluador_reco_4 evaluador_reco_5   evaluador_reco_6 evaluador_reco_7  \\\n",
       "0    X_emoreno122785   X_cvazquez2129  X_jmartinez165511   X_hbarron41729   \n",
       "1       X_mjayagopal   X_sgarcia70048  X_agranados120374  X_efregoso95418   \n",
       "2  X_omartynyuk15987     X_jsossa7036    X_jjuarez164611   X_mvaldes13662   \n",
       "3  X_omartynyuk15987     X_jsossa7036    X_jjuarez164611   X_mvaldes13662   \n",
       "4      X_epena157102    X_sperez36168    X_mcancino19656    X_lpavon19937   \n",
       "\n",
       "    evaluador_reco_8  evaluador_reco_9  ID_PROYECTO  \\\n",
       "0     X_rsalceda2619  X_jcalderon16009          612   \n",
       "1  X_sbelmonte120220   X_rnavarro33703          676   \n",
       "2    X_mguevara21643    X_fchavez19695         3785   \n",
       "3    X_mguevara21643    X_fchavez19695         3785   \n",
       "4    X_sestrada21580     X_mlinan25988          481   \n",
       "\n",
       "                                            USUARIOS   metrica  \n",
       "0  [X_creyes121133, X_overa25689, X_eazorin49309,...  0.833333  \n",
       "1  [X_jcarriquiry10097, X_hrubio120252, X_icantu1...  0.333333  \n",
       "2  [X_rmachorro1817, X_rramos12568, X_acruz14475,...  0.600000  \n",
       "3  [X_rmachorro1817, X_rramos12568, X_acruz14475,...  0.600000  \n",
       "4  [X_marena123520, X_jezquerra12270, X_jsalazar1...  0.200000  "
      ]
     },
     "execution_count": 130,
     "metadata": {},
     "output_type": "execute_result"
    }
   ],
   "source": [
    "df_evaluadores_recomendados = cosine_similarity_metric(topic_values_gt,topic_values_test,df_texto_eval,evaluadores_sugeridos=10)\n",
    "df_evaluadores_recomendados.head()"
   ]
  },
  {
   "cell_type": "code",
   "execution_count": 131,
   "metadata": {},
   "outputs": [],
   "source": [
    "match_1 = len(df_evaluadores_recomendados[df_evaluadores_recomendados[\"metrica\"]>0])\n",
    "match_0 = len(df_evaluadores_recomendados[df_evaluadores_recomendados[\"metrica\"]==0])"
   ]
  },
  {
   "cell_type": "code",
   "execution_count": 132,
   "metadata": {},
   "outputs": [
    {
     "data": {
      "text/plain": [
       "<matplotlib.axes._subplots.AxesSubplot at 0x1a1ad6c9d0>"
      ]
     },
     "execution_count": 132,
     "metadata": {},
     "output_type": "execute_result"
    },
    {
     "data": {
      "image/png": "[encoded data removed]",
      "text/plain": [
       "<Figure size 432x288 with 1 Axes>"
      ]
     },
     "metadata": {
      "needs_background": "light"
     },
     "output_type": "display_data"
    }
   ],
   "source": [
    "sns.distplot(df_evaluadores_recomendados[\"metrica\"],bins=10)"
   ]
  },
  {
   "cell_type": "code",
   "execution_count": 133,
   "metadata": {},
   "outputs": [
    {
     "data": {
      "text/plain": [
       "<matplotlib.axes._subplots.AxesSubplot at 0x1a1ad80850>"
      ]
     },
     "execution_count": 133,
     "metadata": {},
     "output_type": "execute_result"
    },
    {
     "data": {
      "image/png": "[encoded data removed]",
      "text/plain": [
       "<Figure size 432x288 with 1 Axes>"
      ]
     },
     "metadata": {
      "needs_background": "light"
     },
     "output_type": "display_data"
    }
   ],
   "source": [
    "df_evaluadores_recomendados[\"metrica\"].hist(bins=10)"
   ]
  },
  {
   "cell_type": "code",
   "execution_count": null,
   "metadata": {},
   "outputs": [],
   "source": []
  },
  {
   "cell_type": "code",
   "execution_count": null,
   "metadata": {},
   "outputs": [],
   "source": []
  }
 ],
 "metadata": {
  "kernelspec": {
   "display_name": "convocatorias",
   "language": "python",
   "name": "convocatorias"
  },
  "language_info": {
   "codemirror_mode": {
    "name": "ipython",
    "version": 3
   },
   "file_extension": ".py",
   "mimetype": "text/x-python",
   "name": "python",
   "nbconvert_exporter": "python",
   "pygments_lexer": "ipython3",
   "version": "3.6.9"
  }
 },
 "nbformat": 4,
 "nbformat_minor": 4
}
