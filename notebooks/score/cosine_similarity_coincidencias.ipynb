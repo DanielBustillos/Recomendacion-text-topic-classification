{
 "cells": [
  {
   "cell_type": "markdown",
   "metadata": {},
   "source": [
    "evaluacion de modelo a través de cos similarity"
   ]
  },
  {
   "cell_type": "markdown",
   "metadata": {},
   "source": [
    "computa la métrica de error: $$ \\frac{\\#(Eval_{reales} \\cap Eval_{actual})}{\\#Eval_{reales}} $$"
   ]
  },
  {
   "cell_type": "code",
   "execution_count": 10,
   "metadata": {},
   "outputs": [],
   "source": [
    "import pickle\n",
    "import numpy as np\n",
    "import pandas as pd\n",
    "import seaborn as sns\n",
    "import matplotlib.pyplot as plt\n",
    "\n",
    "from sklearn.metrics.pairwise import cosine_similarity\n",
    "pd.options.mode.chained_assignment = None  # default='warn'\n",
    "\n",
    "from joblib import dump, load"
   ]
  },
  {
   "cell_type": "markdown",
   "metadata": {},
   "source": [
    "## datos de evaluador y topico"
   ]
  },
  {
   "cell_type": "code",
   "execution_count": 11,
   "metadata": {},
   "outputs": [
    {
     "data": {
      "text/html": [
       "<div>\n",
       "<style scoped>\n",
       "    .dataframe tbody tr th:only-of-type {\n",
       "        vertical-align: middle;\n",
       "    }\n",
       "\n",
       "    .dataframe tbody tr th {\n",
       "        vertical-align: top;\n",
       "    }\n",
       "\n",
       "    .dataframe thead th {\n",
       "        text-align: right;\n",
       "    }\n",
       "</style>\n",
       "<table border=\"1\" class=\"dataframe\">\n",
       "  <thead>\n",
       "    <tr style=\"text-align: right;\">\n",
       "      <th></th>\n",
       "      <th>CVU</th>\n",
       "      <th>0</th>\n",
       "      <th>1</th>\n",
       "      <th>2</th>\n",
       "      <th>3</th>\n",
       "      <th>4</th>\n",
       "      <th>5</th>\n",
       "      <th>6</th>\n",
       "      <th>7</th>\n",
       "      <th>8</th>\n",
       "      <th>...</th>\n",
       "      <th>90</th>\n",
       "      <th>91</th>\n",
       "      <th>92</th>\n",
       "      <th>93</th>\n",
       "      <th>94</th>\n",
       "      <th>95</th>\n",
       "      <th>96</th>\n",
       "      <th>97</th>\n",
       "      <th>98</th>\n",
       "      <th>99</th>\n",
       "    </tr>\n",
       "  </thead>\n",
       "  <tbody>\n",
       "    <tr>\n",
       "      <th>0</th>\n",
       "      <td>18</td>\n",
       "      <td>0.086810</td>\n",
       "      <td>0.081637</td>\n",
       "      <td>0.099403</td>\n",
       "      <td>0.000250</td>\n",
       "      <td>0.009172</td>\n",
       "      <td>0.144556</td>\n",
       "      <td>0.103115</td>\n",
       "      <td>0.002653</td>\n",
       "      <td>0.014115</td>\n",
       "      <td>...</td>\n",
       "      <td>0.118634</td>\n",
       "      <td>0.000004</td>\n",
       "      <td>0.061256</td>\n",
       "      <td>0.262423</td>\n",
       "      <td>0.009177</td>\n",
       "      <td>0.007125</td>\n",
       "      <td>0.008626</td>\n",
       "      <td>0.102569</td>\n",
       "      <td>0.144209</td>\n",
       "      <td>0.039317</td>\n",
       "    </tr>\n",
       "    <tr>\n",
       "      <th>1</th>\n",
       "      <td>81</td>\n",
       "      <td>0.209278</td>\n",
       "      <td>0.605444</td>\n",
       "      <td>0.101348</td>\n",
       "      <td>0.134260</td>\n",
       "      <td>0.104812</td>\n",
       "      <td>0.438194</td>\n",
       "      <td>0.080647</td>\n",
       "      <td>0.078449</td>\n",
       "      <td>0.114698</td>\n",
       "      <td>...</td>\n",
       "      <td>0.150847</td>\n",
       "      <td>0.024618</td>\n",
       "      <td>0.112175</td>\n",
       "      <td>0.239915</td>\n",
       "      <td>0.070479</td>\n",
       "      <td>0.027360</td>\n",
       "      <td>0.137203</td>\n",
       "      <td>0.287190</td>\n",
       "      <td>0.030302</td>\n",
       "      <td>0.077800</td>\n",
       "    </tr>\n",
       "    <tr>\n",
       "      <th>2</th>\n",
       "      <td>83</td>\n",
       "      <td>0.296940</td>\n",
       "      <td>0.199612</td>\n",
       "      <td>0.699568</td>\n",
       "      <td>0.207731</td>\n",
       "      <td>0.664744</td>\n",
       "      <td>0.284005</td>\n",
       "      <td>0.225124</td>\n",
       "      <td>0.394924</td>\n",
       "      <td>0.084003</td>\n",
       "      <td>...</td>\n",
       "      <td>0.171369</td>\n",
       "      <td>0.080001</td>\n",
       "      <td>0.090349</td>\n",
       "      <td>0.146012</td>\n",
       "      <td>0.176794</td>\n",
       "      <td>0.054481</td>\n",
       "      <td>0.146549</td>\n",
       "      <td>0.205168</td>\n",
       "      <td>0.156217</td>\n",
       "      <td>0.292947</td>\n",
       "    </tr>\n",
       "  </tbody>\n",
       "</table>\n",
       "<p>3 rows × 101 columns</p>\n",
       "</div>"
      ],
      "text/plain": [
       "   CVU         0         1         2         3         4         5         6  \\\n",
       "0   18  0.086810  0.081637  0.099403  0.000250  0.009172  0.144556  0.103115   \n",
       "1   81  0.209278  0.605444  0.101348  0.134260  0.104812  0.438194  0.080647   \n",
       "2   83  0.296940  0.199612  0.699568  0.207731  0.664744  0.284005  0.225124   \n",
       "\n",
       "          7         8  ...        90        91        92        93        94  \\\n",
       "0  0.002653  0.014115  ...  0.118634  0.000004  0.061256  0.262423  0.009177   \n",
       "1  0.078449  0.114698  ...  0.150847  0.024618  0.112175  0.239915  0.070479   \n",
       "2  0.394924  0.084003  ...  0.171369  0.080001  0.090349  0.146012  0.176794   \n",
       "\n",
       "         95        96        97        98        99  \n",
       "0  0.007125  0.008626  0.102569  0.144209  0.039317  \n",
       "1  0.027360  0.137203  0.287190  0.030302  0.077800  \n",
       "2  0.054481  0.146549  0.205168  0.156217  0.292947  \n",
       "\n",
       "[3 rows x 101 columns]"
      ]
     },
     "execution_count": 11,
     "metadata": {},
     "output_type": "execute_result"
    }
   ],
   "source": [
    "topicos_evaluador = load('../../trained_models/archivos/topicos_por_evaluador.pkl')\n",
    "topicos_evaluador.reset_index(drop=False,inplace=True)\n",
    "usuario_entreanado = topicos_evaluador[\"CVU\"].tolist()\n",
    "rcea_entreanado = topicos_evaluador[\"CVU\"].tolist()\n",
    "topicos_evaluador.head(3)"
   ]
  },
  {
   "cell_type": "markdown",
   "metadata": {},
   "source": [
    "## datos de proyecto a evaluar"
   ]
  },
  {
   "cell_type": "code",
   "execution_count": 13,
   "metadata": {},
   "outputs": [
    {
     "data": {
      "text/html": [
       "<div>\n",
       "<style scoped>\n",
       "    .dataframe tbody tr th:only-of-type {\n",
       "        vertical-align: middle;\n",
       "    }\n",
       "\n",
       "    .dataframe tbody tr th {\n",
       "        vertical-align: top;\n",
       "    }\n",
       "\n",
       "    .dataframe thead th {\n",
       "        text-align: right;\n",
       "    }\n",
       "</style>\n",
       "<table border=\"1\" class=\"dataframe\">\n",
       "  <thead>\n",
       "    <tr style=\"text-align: right;\">\n",
       "      <th></th>\n",
       "      <th>0</th>\n",
       "      <th>1</th>\n",
       "      <th>2</th>\n",
       "      <th>3</th>\n",
       "      <th>4</th>\n",
       "      <th>5</th>\n",
       "      <th>6</th>\n",
       "      <th>7</th>\n",
       "      <th>8</th>\n",
       "      <th>9</th>\n",
       "      <th>...</th>\n",
       "      <th>91</th>\n",
       "      <th>92</th>\n",
       "      <th>93</th>\n",
       "      <th>94</th>\n",
       "      <th>95</th>\n",
       "      <th>96</th>\n",
       "      <th>97</th>\n",
       "      <th>98</th>\n",
       "      <th>99</th>\n",
       "      <th>ID_PROYECTO</th>\n",
       "    </tr>\n",
       "  </thead>\n",
       "  <tbody>\n",
       "    <tr>\n",
       "      <th>35982</th>\n",
       "      <td>0.360414</td>\n",
       "      <td>0.191550</td>\n",
       "      <td>0.174587</td>\n",
       "      <td>0.669427</td>\n",
       "      <td>0.135799</td>\n",
       "      <td>0.186962</td>\n",
       "      <td>0.229932</td>\n",
       "      <td>0.396935</td>\n",
       "      <td>0.039526</td>\n",
       "      <td>0.039584</td>\n",
       "      <td>...</td>\n",
       "      <td>0.126096</td>\n",
       "      <td>0.216580</td>\n",
       "      <td>0.101578</td>\n",
       "      <td>0.066345</td>\n",
       "      <td>0.196298</td>\n",
       "      <td>0.09827</td>\n",
       "      <td>0.134691</td>\n",
       "      <td>0.028444</td>\n",
       "      <td>0.134081</td>\n",
       "      <td>3236</td>\n",
       "    </tr>\n",
       "    <tr>\n",
       "      <th>27324</th>\n",
       "      <td>0.291972</td>\n",
       "      <td>0.208349</td>\n",
       "      <td>0.022473</td>\n",
       "      <td>0.074464</td>\n",
       "      <td>0.101602</td>\n",
       "      <td>0.119380</td>\n",
       "      <td>0.129230</td>\n",
       "      <td>0.016641</td>\n",
       "      <td>0.259195</td>\n",
       "      <td>0.455622</td>\n",
       "      <td>...</td>\n",
       "      <td>0.061677</td>\n",
       "      <td>0.089401</td>\n",
       "      <td>0.042689</td>\n",
       "      <td>0.059169</td>\n",
       "      <td>0.066179</td>\n",
       "      <td>0.13949</td>\n",
       "      <td>0.086493</td>\n",
       "      <td>0.121838</td>\n",
       "      <td>0.112938</td>\n",
       "      <td>257802</td>\n",
       "    </tr>\n",
       "  </tbody>\n",
       "</table>\n",
       "<p>2 rows × 101 columns</p>\n",
       "</div>"
      ],
      "text/plain": [
       "              0         1         2         3         4         5         6  \\\n",
       "35982  0.360414  0.191550  0.174587  0.669427  0.135799  0.186962  0.229932   \n",
       "27324  0.291972  0.208349  0.022473  0.074464  0.101602  0.119380  0.129230   \n",
       "\n",
       "              7         8         9  ...        91        92        93  \\\n",
       "35982  0.396935  0.039526  0.039584  ...  0.126096  0.216580  0.101578   \n",
       "27324  0.016641  0.259195  0.455622  ...  0.061677  0.089401  0.042689   \n",
       "\n",
       "             94        95       96        97        98        99  ID_PROYECTO  \n",
       "35982  0.066345  0.196298  0.09827  0.134691  0.028444  0.134081         3236  \n",
       "27324  0.059169  0.066179  0.13949  0.086493  0.121838  0.112938       257802  \n",
       "\n",
       "[2 rows x 101 columns]"
      ]
     },
     "execution_count": 13,
     "metadata": {},
     "output_type": "execute_result"
    }
   ],
   "source": [
    "topicos_texto = load(\"../../trained_models/archivos/topicos_por_texto_train.pkl\")\n",
    "topicos_texto.drop_duplicates(\"ID_PROYECTO\", inplace=True)\n",
    "id_proyecto_index = topicos_texto[\"ID_PROYECTO\"].tolist()\n",
    "topicos_texto.head(2)"
   ]
  },
  {
   "cell_type": "code",
   "execution_count": 14,
   "metadata": {},
   "outputs": [
    {
     "data": {
      "text/plain": [
       "(654, 101)"
      ]
     },
     "execution_count": 14,
     "metadata": {},
     "output_type": "execute_result"
    }
   ],
   "source": [
    "topicos_texto.shape"
   ]
  },
  {
   "cell_type": "raw",
   "metadata": {},
   "source": [
    "topicos_texto[topicos_texto[\"CVU\"]==22001]"
   ]
  },
  {
   "cell_type": "markdown",
   "metadata": {},
   "source": [
    "### cosine similarity"
   ]
  },
  {
   "cell_type": "code",
   "execution_count": 15,
   "metadata": {},
   "outputs": [],
   "source": [
    "cos_simi = cosine_similarity(topicos_evaluador.iloc[:,1:], topicos_texto.iloc[:,:-1])\n",
    "\n",
    "df_cos_simi = pd.DataFrame(cos_simi)"
   ]
  },
  {
   "cell_type": "code",
   "execution_count": 16,
   "metadata": {},
   "outputs": [
    {
     "data": {
      "text/plain": [
       "<matplotlib.axes._subplots.AxesSubplot at 0x7f58bc6db160>"
      ]
     },
     "execution_count": 16,
     "metadata": {},
     "output_type": "execute_result"
    },
    {
     "data": {
      "image/png": "[encoded data removed]",
      "text/plain": [
       "<Figure size 432x288 with 1 Axes>"
      ]
     },
     "metadata": {
      "needs_background": "light"
     },
     "output_type": "display_data"
    }
   ],
   "source": [
    "sns.distplot(df_cos_simi.mean(axis=0))"
   ]
  },
  {
   "cell_type": "code",
   "execution_count": 17,
   "metadata": {},
   "outputs": [
    {
     "data": {
      "text/plain": [
       "<matplotlib.axes._subplots.AxesSubplot at 0x7f5864b2d5c0>"
      ]
     },
     "execution_count": 17,
     "metadata": {},
     "output_type": "execute_result"
    },
    {
     "data": {
      "image/png": "[encoded data removed]",
      "text/plain": [
       "<Figure size 432x288 with 1 Axes>"
      ]
     },
     "metadata": {
      "needs_background": "light"
     },
     "output_type": "display_data"
    }
   ],
   "source": [
    "sns.distplot(df_cos_simi.mean(axis=0))"
   ]
  },
  {
   "cell_type": "code",
   "execution_count": 18,
   "metadata": {},
   "outputs": [
    {
     "data": {
      "text/plain": [
       "(651, 654)"
      ]
     },
     "execution_count": 18,
     "metadata": {},
     "output_type": "execute_result"
    }
   ],
   "source": [
    "df_cos_simi.shape"
   ]
  },
  {
   "cell_type": "code",
   "execution_count": 19,
   "metadata": {},
   "outputs": [
    {
     "data": {
      "text/html": [
       "<div>\n",
       "<style scoped>\n",
       "    .dataframe tbody tr th:only-of-type {\n",
       "        vertical-align: middle;\n",
       "    }\n",
       "\n",
       "    .dataframe tbody tr th {\n",
       "        vertical-align: top;\n",
       "    }\n",
       "\n",
       "    .dataframe thead th {\n",
       "        text-align: right;\n",
       "    }\n",
       "</style>\n",
       "<table border=\"1\" class=\"dataframe\">\n",
       "  <thead>\n",
       "    <tr style=\"text-align: right;\">\n",
       "      <th></th>\n",
       "      <th>0</th>\n",
       "      <th>1</th>\n",
       "      <th>2</th>\n",
       "      <th>3</th>\n",
       "      <th>4</th>\n",
       "      <th>5</th>\n",
       "      <th>6</th>\n",
       "      <th>7</th>\n",
       "      <th>8</th>\n",
       "      <th>9</th>\n",
       "      <th>...</th>\n",
       "      <th>644</th>\n",
       "      <th>645</th>\n",
       "      <th>646</th>\n",
       "      <th>647</th>\n",
       "      <th>648</th>\n",
       "      <th>649</th>\n",
       "      <th>650</th>\n",
       "      <th>651</th>\n",
       "      <th>652</th>\n",
       "      <th>653</th>\n",
       "    </tr>\n",
       "  </thead>\n",
       "  <tbody>\n",
       "    <tr>\n",
       "      <th>0</th>\n",
       "      <td>0.438089</td>\n",
       "      <td>0.319089</td>\n",
       "      <td>0.285840</td>\n",
       "      <td>0.248146</td>\n",
       "      <td>0.458589</td>\n",
       "      <td>0.302708</td>\n",
       "      <td>0.340552</td>\n",
       "      <td>0.259030</td>\n",
       "      <td>0.443332</td>\n",
       "      <td>0.488615</td>\n",
       "      <td>...</td>\n",
       "      <td>0.447989</td>\n",
       "      <td>0.411184</td>\n",
       "      <td>0.382833</td>\n",
       "      <td>0.208181</td>\n",
       "      <td>0.540396</td>\n",
       "      <td>0.387034</td>\n",
       "      <td>0.462388</td>\n",
       "      <td>0.246347</td>\n",
       "      <td>0.212839</td>\n",
       "      <td>0.467153</td>\n",
       "    </tr>\n",
       "    <tr>\n",
       "      <th>1</th>\n",
       "      <td>0.661031</td>\n",
       "      <td>0.566943</td>\n",
       "      <td>0.583140</td>\n",
       "      <td>0.384517</td>\n",
       "      <td>0.721633</td>\n",
       "      <td>0.586848</td>\n",
       "      <td>0.599880</td>\n",
       "      <td>0.480937</td>\n",
       "      <td>0.637754</td>\n",
       "      <td>0.464130</td>\n",
       "      <td>...</td>\n",
       "      <td>0.683146</td>\n",
       "      <td>0.535989</td>\n",
       "      <td>0.476117</td>\n",
       "      <td>0.423154</td>\n",
       "      <td>0.714891</td>\n",
       "      <td>0.502399</td>\n",
       "      <td>0.616361</td>\n",
       "      <td>0.330993</td>\n",
       "      <td>0.490445</td>\n",
       "      <td>0.606062</td>\n",
       "    </tr>\n",
       "    <tr>\n",
       "      <th>2</th>\n",
       "      <td>0.737133</td>\n",
       "      <td>0.507889</td>\n",
       "      <td>0.502061</td>\n",
       "      <td>0.556880</td>\n",
       "      <td>0.681066</td>\n",
       "      <td>0.715917</td>\n",
       "      <td>0.674058</td>\n",
       "      <td>0.471212</td>\n",
       "      <td>0.710740</td>\n",
       "      <td>0.543084</td>\n",
       "      <td>...</td>\n",
       "      <td>0.679080</td>\n",
       "      <td>0.555835</td>\n",
       "      <td>0.653480</td>\n",
       "      <td>0.411946</td>\n",
       "      <td>1.000000</td>\n",
       "      <td>0.554732</td>\n",
       "      <td>0.613047</td>\n",
       "      <td>0.309387</td>\n",
       "      <td>0.403622</td>\n",
       "      <td>0.502943</td>\n",
       "    </tr>\n",
       "    <tr>\n",
       "      <th>3</th>\n",
       "      <td>0.556063</td>\n",
       "      <td>0.374809</td>\n",
       "      <td>0.317875</td>\n",
       "      <td>0.235878</td>\n",
       "      <td>0.440191</td>\n",
       "      <td>0.381526</td>\n",
       "      <td>0.362288</td>\n",
       "      <td>0.324961</td>\n",
       "      <td>0.362233</td>\n",
       "      <td>0.382568</td>\n",
       "      <td>...</td>\n",
       "      <td>0.403299</td>\n",
       "      <td>0.337436</td>\n",
       "      <td>0.436701</td>\n",
       "      <td>0.329050</td>\n",
       "      <td>0.515833</td>\n",
       "      <td>0.364565</td>\n",
       "      <td>0.470314</td>\n",
       "      <td>0.307145</td>\n",
       "      <td>0.383107</td>\n",
       "      <td>0.202384</td>\n",
       "    </tr>\n",
       "    <tr>\n",
       "      <th>4</th>\n",
       "      <td>0.527508</td>\n",
       "      <td>0.553211</td>\n",
       "      <td>0.552590</td>\n",
       "      <td>0.421586</td>\n",
       "      <td>0.634862</td>\n",
       "      <td>0.486819</td>\n",
       "      <td>0.453452</td>\n",
       "      <td>0.574316</td>\n",
       "      <td>0.561331</td>\n",
       "      <td>0.331470</td>\n",
       "      <td>...</td>\n",
       "      <td>0.549502</td>\n",
       "      <td>0.362196</td>\n",
       "      <td>0.333853</td>\n",
       "      <td>0.387297</td>\n",
       "      <td>0.506817</td>\n",
       "      <td>0.464527</td>\n",
       "      <td>0.565425</td>\n",
       "      <td>0.308317</td>\n",
       "      <td>0.352646</td>\n",
       "      <td>0.461297</td>\n",
       "    </tr>\n",
       "  </tbody>\n",
       "</table>\n",
       "<p>5 rows × 654 columns</p>\n",
       "</div>"
      ],
      "text/plain": [
       "        0         1         2         3         4         5         6    \\\n",
       "0  0.438089  0.319089  0.285840  0.248146  0.458589  0.302708  0.340552   \n",
       "1  0.661031  0.566943  0.583140  0.384517  0.721633  0.586848  0.599880   \n",
       "2  0.737133  0.507889  0.502061  0.556880  0.681066  0.715917  0.674058   \n",
       "3  0.556063  0.374809  0.317875  0.235878  0.440191  0.381526  0.362288   \n",
       "4  0.527508  0.553211  0.552590  0.421586  0.634862  0.486819  0.453452   \n",
       "\n",
       "        7         8         9    ...       644       645       646       647  \\\n",
       "0  0.259030  0.443332  0.488615  ...  0.447989  0.411184  0.382833  0.208181   \n",
       "1  0.480937  0.637754  0.464130  ...  0.683146  0.535989  0.476117  0.423154   \n",
       "2  0.471212  0.710740  0.543084  ...  0.679080  0.555835  0.653480  0.411946   \n",
       "3  0.324961  0.362233  0.382568  ...  0.403299  0.337436  0.436701  0.329050   \n",
       "4  0.574316  0.561331  0.331470  ...  0.549502  0.362196  0.333853  0.387297   \n",
       "\n",
       "        648       649       650       651       652       653  \n",
       "0  0.540396  0.387034  0.462388  0.246347  0.212839  0.467153  \n",
       "1  0.714891  0.502399  0.616361  0.330993  0.490445  0.606062  \n",
       "2  1.000000  0.554732  0.613047  0.309387  0.403622  0.502943  \n",
       "3  0.515833  0.364565  0.470314  0.307145  0.383107  0.202384  \n",
       "4  0.506817  0.464527  0.565425  0.308317  0.352646  0.461297  \n",
       "\n",
       "[5 rows x 654 columns]"
      ]
     },
     "execution_count": 19,
     "metadata": {},
     "output_type": "execute_result"
    }
   ],
   "source": [
    "df_cos_simi.head()"
   ]
  },
  {
   "cell_type": "markdown",
   "metadata": {},
   "source": [
    "## encontrar top algom"
   ]
  },
  {
   "cell_type": "markdown",
   "metadata": {},
   "source": [
    "encontramos elpercentil 97 por fila"
   ]
  },
  {
   "cell_type": "code",
   "execution_count": 20,
   "metadata": {},
   "outputs": [],
   "source": [
    "df_evaluadores_recomendados = pd.DataFrame(index=[i for i in range(len(id_proyecto_index))]\n",
    "                                           ,columns=[\"evaluador_reco_\"+str(number) for number in range(5)])\n",
    "len_list = []\n",
    "\n",
    "for proyecto in range(df_cos_simi.shape[1]):\n",
    "    \n",
    "    list_each_proyecto = df_cos_simi.iloc[:,proyecto].tolist()\n",
    "    \n",
    "    \n",
    "    top_5_idx = np.argsort(list_each_proyecto)[-5:][::-1].tolist()\n",
    "    #  top_5_idx = [i for i in top_5_idx]\n",
    "\n",
    "    df_evaluadores_recomendados.iloc[proyecto,:] = [usuario_entreanado[pos] for pos in top_5_idx] \n",
    "    \n",
    "df_evaluadores_recomendados[\"ID_PROYECTO\"] = id_proyecto_index\n",
    "df_evaluadores_recomendados.set_index(\"ID_PROYECTO\").reset_index(inplace=True,drop=False)"
   ]
  },
  {
   "cell_type": "markdown",
   "metadata": {},
   "source": [
    "### verificar pertenencia"
   ]
  },
  {
   "cell_type": "raw",
   "metadata": {},
   "source": [
    "df_texto_eval = pd.read_csv(\"../../data/entrenamiento/data_training.csv\")"
   ]
  },
  {
   "cell_type": "code",
   "execution_count": 20,
   "metadata": {},
   "outputs": [],
   "source": [
    "df_texto_eval = load(\"../../data/entrenamiento/datos_training_n_eval_5_sample.pkl\")"
   ]
  },
  {
   "cell_type": "code",
   "execution_count": 21,
   "metadata": {},
   "outputs": [
    {
     "data": {
      "text/html": [
       "<div>\n",
       "<style scoped>\n",
       "    .dataframe tbody tr th:only-of-type {\n",
       "        vertical-align: middle;\n",
       "    }\n",
       "\n",
       "    .dataframe tbody tr th {\n",
       "        vertical-align: top;\n",
       "    }\n",
       "\n",
       "    .dataframe thead th {\n",
       "        text-align: right;\n",
       "    }\n",
       "</style>\n",
       "<table border=\"1\" class=\"dataframe\">\n",
       "  <thead>\n",
       "    <tr style=\"text-align: right;\">\n",
       "      <th></th>\n",
       "      <th>CVU</th>\n",
       "      <th>IVIGENCIA</th>\n",
       "      <th>FVIGENCIA</th>\n",
       "      <th>NIVEL</th>\n",
       "      <th>ID_PROYECTO</th>\n",
       "      <th>NUMERO_CONVOCATORIA</th>\n",
       "      <th>ANIO</th>\n",
       "      <th>PALABRAS_CLAVE</th>\n",
       "      <th>SUBDISCIPLINA</th>\n",
       "      <th>DISCIPLINA</th>\n",
       "      <th>AREA</th>\n",
       "      <th>TITULO</th>\n",
       "      <th>DESCRIPCION_PROYECTO</th>\n",
       "    </tr>\n",
       "  </thead>\n",
       "  <tbody>\n",
       "    <tr>\n",
       "      <th>0</th>\n",
       "      <td>83</td>\n",
       "      <td>2008-01-02</td>\n",
       "      <td>2022-12-31 00:00:00</td>\n",
       "      <td>1</td>\n",
       "      <td>619</td>\n",
       "      <td>PROBLEMAS-2015-01</td>\n",
       "      <td>2015</td>\n",
       "      <td>Energía eólica y solar,uso agrícola,automatiza...</td>\n",
       "      <td>AUTOMATIZACION Y CONTROL</td>\n",
       "      <td>INGENIERÍA ELÉCTRICA</td>\n",
       "      <td>INGENIERÍA Y TECNOLOGÍA</td>\n",
       "      <td>Estación Híbrida de energía eólica y solar par...</td>\n",
       "      <td>titul propuest estacion hibr energi eolic sol ...</td>\n",
       "    </tr>\n",
       "    <tr>\n",
       "      <th>1</th>\n",
       "      <td>83</td>\n",
       "      <td>2008-01-02</td>\n",
       "      <td>2022-12-31 00:00:00</td>\n",
       "      <td>1</td>\n",
       "      <td>1779</td>\n",
       "      <td>PROBLEMAS-2015-01</td>\n",
       "      <td>2015</td>\n",
       "      <td>celda de combustible regenerativa,celdas solar...</td>\n",
       "      <td>GENERACION</td>\n",
       "      <td>INGENIERÍA ELÉCTRICA</td>\n",
       "      <td>INGENIERÍA Y TECNOLOGÍA</td>\n",
       "      <td>Implementación de sistemas híbridos celdas sol...</td>\n",
       "      <td>implementacion sistem hibr celd solaresccru si...</td>\n",
       "    </tr>\n",
       "  </tbody>\n",
       "</table>\n",
       "</div>"
      ],
      "text/plain": [
       "   CVU   IVIGENCIA            FVIGENCIA  NIVEL  ID_PROYECTO  \\\n",
       "0   83  2008-01-02  2022-12-31 00:00:00      1          619   \n",
       "1   83  2008-01-02  2022-12-31 00:00:00      1         1779   \n",
       "\n",
       "  NUMERO_CONVOCATORIA  ANIO  \\\n",
       "0   PROBLEMAS-2015-01  2015   \n",
       "1   PROBLEMAS-2015-01  2015   \n",
       "\n",
       "                                      PALABRAS_CLAVE  \\\n",
       "0  Energía eólica y solar,uso agrícola,automatiza...   \n",
       "1  celda de combustible regenerativa,celdas solar...   \n",
       "\n",
       "              SUBDISCIPLINA            DISCIPLINA                     AREA  \\\n",
       "0  AUTOMATIZACION Y CONTROL  INGENIERÍA ELÉCTRICA  INGENIERÍA Y TECNOLOGÍA   \n",
       "1                GENERACION  INGENIERÍA ELÉCTRICA  INGENIERÍA Y TECNOLOGÍA   \n",
       "\n",
       "                                              TITULO  \\\n",
       "0  Estación Híbrida de energía eólica y solar par...   \n",
       "1  Implementación de sistemas híbridos celdas sol...   \n",
       "\n",
       "                                DESCRIPCION_PROYECTO  \n",
       "0  titul propuest estacion hibr energi eolic sol ...  \n",
       "1  implementacion sistem hibr celd solaresccru si...  "
      ]
     },
     "execution_count": 21,
     "metadata": {},
     "output_type": "execute_result"
    }
   ],
   "source": [
    "df_texto_eval.head(2)"
   ]
  },
  {
   "cell_type": "raw",
   "metadata": {},
   "source": [
    "CVU_sni = topicos_evaluador[\"CVU\"].tolist()"
   ]
  },
  {
   "cell_type": "raw",
   "metadata": {},
   "source": [
    "df_texto_eval = df_texto_eval[df_texto_eval[\"CVU\"].isin(CVU_sni)]"
   ]
  },
  {
   "cell_type": "code",
   "execution_count": 22,
   "metadata": {},
   "outputs": [
    {
     "data": {
      "text/plain": [
       "(40201, 13)"
      ]
     },
     "execution_count": 22,
     "metadata": {},
     "output_type": "execute_result"
    }
   ],
   "source": [
    "df_texto_eval.shape"
   ]
  },
  {
   "cell_type": "code",
   "execution_count": 23,
   "metadata": {},
   "outputs": [],
   "source": [
    "df_texto_eval = df_texto_eval.reset_index(drop=True)\n",
    "df_texto_eval = df_texto_eval[[\"ID_PROYECTO\",\"CVU\"]]\n",
    "df_texto_eval.dropna(inplace=True)\n",
    "df_texto_eval[\"CVU\"] = df_texto_eval[\"CVU\"].astype(int).astype(str)"
   ]
  },
  {
   "cell_type": "code",
   "execution_count": 24,
   "metadata": {},
   "outputs": [
    {
     "data": {
      "text/plain": [
       "ID_PROYECTO\n",
       "5                     [12968, 43387]\n",
       "11    [26238, 10310, 216522, 122691]\n",
       "13             [16035, 21964, 30518]\n",
       "15                           [44116]\n",
       "16                            [2808]\n",
       "Name: CVU, dtype: object"
      ]
     },
     "execution_count": 24,
     "metadata": {},
     "output_type": "execute_result"
    }
   ],
   "source": [
    "df_texto_eval = df_texto_eval.groupby('ID_PROYECTO')['CVU'].apply(lambda x: \"[%s]\" % ', '.join(x))\n",
    "df_texto_eval.head()"
   ]
  },
  {
   "cell_type": "code",
   "execution_count": 25,
   "metadata": {},
   "outputs": [
    {
     "data": {
      "text/html": [
       "<div>\n",
       "<style scoped>\n",
       "    .dataframe tbody tr th:only-of-type {\n",
       "        vertical-align: middle;\n",
       "    }\n",
       "\n",
       "    .dataframe tbody tr th {\n",
       "        vertical-align: top;\n",
       "    }\n",
       "\n",
       "    .dataframe thead th {\n",
       "        text-align: right;\n",
       "    }\n",
       "</style>\n",
       "<table border=\"1\" class=\"dataframe\">\n",
       "  <thead>\n",
       "    <tr style=\"text-align: right;\">\n",
       "      <th></th>\n",
       "      <th>ID_PROYECTO</th>\n",
       "      <th>USUARIOS</th>\n",
       "    </tr>\n",
       "  </thead>\n",
       "  <tbody>\n",
       "    <tr>\n",
       "      <th>0</th>\n",
       "      <td>5</td>\n",
       "      <td>[12968, 43387]</td>\n",
       "    </tr>\n",
       "    <tr>\n",
       "      <th>1</th>\n",
       "      <td>11</td>\n",
       "      <td>[26238, 10310, 216522, 122691]</td>\n",
       "    </tr>\n",
       "    <tr>\n",
       "      <th>2</th>\n",
       "      <td>13</td>\n",
       "      <td>[16035, 21964, 30518]</td>\n",
       "    </tr>\n",
       "    <tr>\n",
       "      <th>3</th>\n",
       "      <td>15</td>\n",
       "      <td>[44116]</td>\n",
       "    </tr>\n",
       "    <tr>\n",
       "      <th>4</th>\n",
       "      <td>16</td>\n",
       "      <td>[2808]</td>\n",
       "    </tr>\n",
       "  </tbody>\n",
       "</table>\n",
       "</div>"
      ],
      "text/plain": [
       "   ID_PROYECTO                        USUARIOS\n",
       "0            5                  [12968, 43387]\n",
       "1           11  [26238, 10310, 216522, 122691]\n",
       "2           13           [16035, 21964, 30518]\n",
       "3           15                         [44116]\n",
       "4           16                          [2808]"
      ]
     },
     "execution_count": 25,
     "metadata": {},
     "output_type": "execute_result"
    }
   ],
   "source": [
    "df_proy_usuarios = pd.DataFrame(index=df_texto_eval.index, columns=[\"USUARIOS\"])\n",
    "df_proy_usuarios.iloc[:,0] = df_texto_eval.values\n",
    "df_proy_usuarios.reset_index(drop=False,inplace=True)\n",
    "df_proy_usuarios.head()"
   ]
  },
  {
   "cell_type": "markdown",
   "metadata": {},
   "source": [
    "## proyectos en conjunto de prueba"
   ]
  },
  {
   "cell_type": "code",
   "execution_count": 26,
   "metadata": {
    "scrolled": true
   },
   "outputs": [
    {
     "data": {
      "text/html": [
       "<div>\n",
       "<style scoped>\n",
       "    .dataframe tbody tr th:only-of-type {\n",
       "        vertical-align: middle;\n",
       "    }\n",
       "\n",
       "    .dataframe tbody tr th {\n",
       "        vertical-align: top;\n",
       "    }\n",
       "\n",
       "    .dataframe thead th {\n",
       "        text-align: right;\n",
       "    }\n",
       "</style>\n",
       "<table border=\"1\" class=\"dataframe\">\n",
       "  <thead>\n",
       "    <tr style=\"text-align: right;\">\n",
       "      <th></th>\n",
       "      <th>evaluador_reco_0</th>\n",
       "      <th>evaluador_reco_1</th>\n",
       "      <th>evaluador_reco_2</th>\n",
       "      <th>evaluador_reco_3</th>\n",
       "      <th>evaluador_reco_4</th>\n",
       "      <th>ID_PROYECTO</th>\n",
       "      <th>USUARIOS</th>\n",
       "    </tr>\n",
       "  </thead>\n",
       "  <tbody>\n",
       "    <tr>\n",
       "      <th>0</th>\n",
       "      <td>38816</td>\n",
       "      <td>1714</td>\n",
       "      <td>120589</td>\n",
       "      <td>6610</td>\n",
       "      <td>120569</td>\n",
       "      <td>220894</td>\n",
       "      <td>[38816]</td>\n",
       "    </tr>\n",
       "    <tr>\n",
       "      <th>1</th>\n",
       "      <td>38975</td>\n",
       "      <td>2822</td>\n",
       "      <td>216753</td>\n",
       "      <td>76113</td>\n",
       "      <td>69517</td>\n",
       "      <td>220776</td>\n",
       "      <td>[33769, 38975]</td>\n",
       "    </tr>\n",
       "    <tr>\n",
       "      <th>2</th>\n",
       "      <td>111405</td>\n",
       "      <td>33007</td>\n",
       "      <td>3450</td>\n",
       "      <td>213905</td>\n",
       "      <td>1981</td>\n",
       "      <td>160891</td>\n",
       "      <td>[7717, 205805, 121381, 111405, 21708]</td>\n",
       "    </tr>\n",
       "    <tr>\n",
       "      <th>3</th>\n",
       "      <td>60710</td>\n",
       "      <td>16252</td>\n",
       "      <td>20191</td>\n",
       "      <td>122673</td>\n",
       "      <td>6675</td>\n",
       "      <td>241369</td>\n",
       "      <td>[60710]</td>\n",
       "    </tr>\n",
       "    <tr>\n",
       "      <th>4</th>\n",
       "      <td>22123</td>\n",
       "      <td>5720</td>\n",
       "      <td>253364</td>\n",
       "      <td>21764</td>\n",
       "      <td>2200</td>\n",
       "      <td>134245</td>\n",
       "      <td>[13824, 22123]</td>\n",
       "    </tr>\n",
       "    <tr>\n",
       "      <th>5</th>\n",
       "      <td>10830</td>\n",
       "      <td>1093</td>\n",
       "      <td>13953</td>\n",
       "      <td>19150</td>\n",
       "      <td>11326</td>\n",
       "      <td>238404</td>\n",
       "      <td>[156, 26087, 292286, 10830, 10979, 21694, 1611...</td>\n",
       "    </tr>\n",
       "    <tr>\n",
       "      <th>6</th>\n",
       "      <td>3221</td>\n",
       "      <td>213940</td>\n",
       "      <td>111405</td>\n",
       "      <td>8720</td>\n",
       "      <td>83675</td>\n",
       "      <td>173801</td>\n",
       "      <td>[3221]</td>\n",
       "    </tr>\n",
       "    <tr>\n",
       "      <th>7</th>\n",
       "      <td>202809</td>\n",
       "      <td>122236</td>\n",
       "      <td>15372</td>\n",
       "      <td>6447</td>\n",
       "      <td>121800</td>\n",
       "      <td>164963</td>\n",
       "      <td>[202809, 93516]</td>\n",
       "    </tr>\n",
       "    <tr>\n",
       "      <th>8</th>\n",
       "      <td>39897</td>\n",
       "      <td>15934</td>\n",
       "      <td>121120</td>\n",
       "      <td>48518</td>\n",
       "      <td>26075</td>\n",
       "      <td>256484</td>\n",
       "      <td>[1854, 39897]</td>\n",
       "    </tr>\n",
       "    <tr>\n",
       "      <th>9</th>\n",
       "      <td>30574</td>\n",
       "      <td>9975</td>\n",
       "      <td>8661</td>\n",
       "      <td>120542</td>\n",
       "      <td>21443</td>\n",
       "      <td>271666</td>\n",
       "      <td>[30574]</td>\n",
       "    </tr>\n",
       "  </tbody>\n",
       "</table>\n",
       "</div>"
      ],
      "text/plain": [
       "   evaluador_reco_0  evaluador_reco_1  evaluador_reco_2  evaluador_reco_3  \\\n",
       "0             38816              1714            120589              6610   \n",
       "1             38975              2822            216753             76113   \n",
       "2            111405             33007              3450            213905   \n",
       "3             60710             16252             20191            122673   \n",
       "4             22123              5720            253364             21764   \n",
       "5             10830              1093             13953             19150   \n",
       "6              3221            213940            111405              8720   \n",
       "7            202809            122236             15372              6447   \n",
       "8             39897             15934            121120             48518   \n",
       "9             30574              9975              8661            120542   \n",
       "\n",
       "   evaluador_reco_4  ID_PROYECTO  \\\n",
       "0            120569       220894   \n",
       "1             69517       220776   \n",
       "2              1981       160891   \n",
       "3              6675       241369   \n",
       "4              2200       134245   \n",
       "5             11326       238404   \n",
       "6             83675       173801   \n",
       "7            121800       164963   \n",
       "8             26075       256484   \n",
       "9             21443       271666   \n",
       "\n",
       "                                            USUARIOS  \n",
       "0                                            [38816]  \n",
       "1                                     [33769, 38975]  \n",
       "2              [7717, 205805, 121381, 111405, 21708]  \n",
       "3                                            [60710]  \n",
       "4                                     [13824, 22123]  \n",
       "5  [156, 26087, 292286, 10830, 10979, 21694, 1611...  \n",
       "6                                             [3221]  \n",
       "7                                    [202809, 93516]  \n",
       "8                                      [1854, 39897]  \n",
       "9                                            [30574]  "
      ]
     },
     "execution_count": 26,
     "metadata": {},
     "output_type": "execute_result"
    }
   ],
   "source": [
    "df_evaluadores_recomendados = df_evaluadores_recomendados.merge(df_proy_usuarios,on=\"ID_PROYECTO\")\n",
    "df_evaluadores_recomendados.head(10)"
   ]
  },
  {
   "cell_type": "markdown",
   "metadata": {},
   "source": [
    "contamos cuantos si los 5 evals propuestos estan en los evaluadores reales:"
   ]
  },
  {
   "cell_type": "code",
   "execution_count": 27,
   "metadata": {},
   "outputs": [],
   "source": [
    "matches_list = []\n",
    "for proyecto in range(len(df_evaluadores_recomendados)):\n",
    "    \n",
    "    lista_evaluadores_reales = df_evaluadores_recomendados.iloc[proyecto,-1].replace(\n",
    "        ']','').replace(\" \",\"\").replace('[','').replace('\"','').split(\",\")\n",
    "    \n",
    "    lista_matches = len([ev_recom for ev_recom in df_evaluadores_recomendados.iloc[proyecto,:-2].tolist()\n",
    "                         if str(ev_recom) in lista_evaluadores_reales])\n",
    "    lista_eval_len = len(lista_evaluadores_reales)\n",
    "    \n",
    "    metrica = lista_matches/lista_eval_len\n",
    "    \n",
    "    matches_list.append(metrica)\n",
    "\n",
    "df_evaluadores_recomendados[\"metrica\"] = matches_list\n",
    "\n"
   ]
  },
  {
   "cell_type": "code",
   "execution_count": 28,
   "metadata": {},
   "outputs": [
    {
     "data": {
      "text/html": [
       "<div>\n",
       "<style scoped>\n",
       "    .dataframe tbody tr th:only-of-type {\n",
       "        vertical-align: middle;\n",
       "    }\n",
       "\n",
       "    .dataframe tbody tr th {\n",
       "        vertical-align: top;\n",
       "    }\n",
       "\n",
       "    .dataframe thead th {\n",
       "        text-align: right;\n",
       "    }\n",
       "</style>\n",
       "<table border=\"1\" class=\"dataframe\">\n",
       "  <thead>\n",
       "    <tr style=\"text-align: right;\">\n",
       "      <th></th>\n",
       "      <th>evaluador_reco_0</th>\n",
       "      <th>evaluador_reco_1</th>\n",
       "      <th>evaluador_reco_2</th>\n",
       "      <th>evaluador_reco_3</th>\n",
       "      <th>evaluador_reco_4</th>\n",
       "      <th>ID_PROYECTO</th>\n",
       "      <th>USUARIOS</th>\n",
       "      <th>metrica</th>\n",
       "    </tr>\n",
       "  </thead>\n",
       "  <tbody>\n",
       "    <tr>\n",
       "      <th>106</th>\n",
       "      <td>2445</td>\n",
       "      <td>19771</td>\n",
       "      <td>63</td>\n",
       "      <td>40120</td>\n",
       "      <td>22046</td>\n",
       "      <td>60017</td>\n",
       "      <td>[25642, 2445]</td>\n",
       "      <td>0.50</td>\n",
       "    </tr>\n",
       "    <tr>\n",
       "      <th>273</th>\n",
       "      <td>123085</td>\n",
       "      <td>224537</td>\n",
       "      <td>7140</td>\n",
       "      <td>3077</td>\n",
       "      <td>120338</td>\n",
       "      <td>282299</td>\n",
       "      <td>[123085]</td>\n",
       "      <td>1.00</td>\n",
       "    </tr>\n",
       "    <tr>\n",
       "      <th>69</th>\n",
       "      <td>22192</td>\n",
       "      <td>121082</td>\n",
       "      <td>9989</td>\n",
       "      <td>120429</td>\n",
       "      <td>16591</td>\n",
       "      <td>121484</td>\n",
       "      <td>[22192]</td>\n",
       "      <td>1.00</td>\n",
       "    </tr>\n",
       "    <tr>\n",
       "      <th>104</th>\n",
       "      <td>243619</td>\n",
       "      <td>7717</td>\n",
       "      <td>252710</td>\n",
       "      <td>32071</td>\n",
       "      <td>16563</td>\n",
       "      <td>3249</td>\n",
       "      <td>[96645, 89555, 243619, 10337]</td>\n",
       "      <td>0.25</td>\n",
       "    </tr>\n",
       "    <tr>\n",
       "      <th>185</th>\n",
       "      <td>131237</td>\n",
       "      <td>4284</td>\n",
       "      <td>203310</td>\n",
       "      <td>19033</td>\n",
       "      <td>20332</td>\n",
       "      <td>264875</td>\n",
       "      <td>[131237]</td>\n",
       "      <td>1.00</td>\n",
       "    </tr>\n",
       "    <tr>\n",
       "      <th>194</th>\n",
       "      <td>122757</td>\n",
       "      <td>38532</td>\n",
       "      <td>30380</td>\n",
       "      <td>76154</td>\n",
       "      <td>121726</td>\n",
       "      <td>156109</td>\n",
       "      <td>[122757]</td>\n",
       "      <td>1.00</td>\n",
       "    </tr>\n",
       "    <tr>\n",
       "      <th>266</th>\n",
       "      <td>45022</td>\n",
       "      <td>161019</td>\n",
       "      <td>286103</td>\n",
       "      <td>18958</td>\n",
       "      <td>30566</td>\n",
       "      <td>2015</td>\n",
       "      <td>[45022]</td>\n",
       "      <td>1.00</td>\n",
       "    </tr>\n",
       "    <tr>\n",
       "      <th>138</th>\n",
       "      <td>122866</td>\n",
       "      <td>2098</td>\n",
       "      <td>11235</td>\n",
       "      <td>67</td>\n",
       "      <td>18794</td>\n",
       "      <td>166648</td>\n",
       "      <td>[202004, 122866, 200813, 15259, 7101]</td>\n",
       "      <td>0.20</td>\n",
       "    </tr>\n",
       "    <tr>\n",
       "      <th>315</th>\n",
       "      <td>50999</td>\n",
       "      <td>9391</td>\n",
       "      <td>12656</td>\n",
       "      <td>14685</td>\n",
       "      <td>16508</td>\n",
       "      <td>206484</td>\n",
       "      <td>[50999, 38217]</td>\n",
       "      <td>0.50</td>\n",
       "    </tr>\n",
       "    <tr>\n",
       "      <th>523</th>\n",
       "      <td>20191</td>\n",
       "      <td>16252</td>\n",
       "      <td>60710</td>\n",
       "      <td>6675</td>\n",
       "      <td>122673</td>\n",
       "      <td>278979</td>\n",
       "      <td>[20191, 209792]</td>\n",
       "      <td>0.50</td>\n",
       "    </tr>\n",
       "  </tbody>\n",
       "</table>\n",
       "</div>"
      ],
      "text/plain": [
       "     evaluador_reco_0  evaluador_reco_1  evaluador_reco_2  evaluador_reco_3  \\\n",
       "106              2445             19771                63             40120   \n",
       "273            123085            224537              7140              3077   \n",
       "69              22192            121082              9989            120429   \n",
       "104            243619              7717            252710             32071   \n",
       "185            131237              4284            203310             19033   \n",
       "194            122757             38532             30380             76154   \n",
       "266             45022            161019            286103             18958   \n",
       "138            122866              2098             11235                67   \n",
       "315             50999              9391             12656             14685   \n",
       "523             20191             16252             60710              6675   \n",
       "\n",
       "     evaluador_reco_4  ID_PROYECTO                               USUARIOS  \\\n",
       "106             22046        60017                          [25642, 2445]   \n",
       "273            120338       282299                               [123085]   \n",
       "69              16591       121484                                [22192]   \n",
       "104             16563         3249          [96645, 89555, 243619, 10337]   \n",
       "185             20332       264875                               [131237]   \n",
       "194            121726       156109                               [122757]   \n",
       "266             30566         2015                                [45022]   \n",
       "138             18794       166648  [202004, 122866, 200813, 15259, 7101]   \n",
       "315             16508       206484                         [50999, 38217]   \n",
       "523            122673       278979                        [20191, 209792]   \n",
       "\n",
       "     metrica  \n",
       "106     0.50  \n",
       "273     1.00  \n",
       "69      1.00  \n",
       "104     0.25  \n",
       "185     1.00  \n",
       "194     1.00  \n",
       "266     1.00  \n",
       "138     0.20  \n",
       "315     0.50  \n",
       "523     0.50  "
      ]
     },
     "execution_count": 28,
     "metadata": {},
     "output_type": "execute_result"
    }
   ],
   "source": [
    "df_evaluadores_recomendados.sample(10)"
   ]
  },
  {
   "cell_type": "code",
   "execution_count": 29,
   "metadata": {},
   "outputs": [
    {
     "data": {
      "text/plain": [
       "<matplotlib.axes._subplots.AxesSubplot at 0x7fcc4afb9400>"
      ]
     },
     "execution_count": 29,
     "metadata": {},
     "output_type": "execute_result"
    },
    {
     "data": {
      "image/png": "[encoded data removed]",
      "text/plain": [
       "<Figure size 432x288 with 1 Axes>"
      ]
     },
     "metadata": {
      "needs_background": "light"
     },
     "output_type": "display_data"
    }
   ],
   "source": [
    "sns.distplot(df_evaluadores_recomendados[\"metrica\"])"
   ]
  },
  {
   "cell_type": "code",
   "execution_count": 30,
   "metadata": {},
   "outputs": [
    {
     "data": {
      "text/plain": [
       "0.4704479307198341"
      ]
     },
     "execution_count": 30,
     "metadata": {},
     "output_type": "execute_result"
    }
   ],
   "source": [
    "df_evaluadores_recomendados[\"metrica\"].mean()"
   ]
  },
  {
   "cell_type": "markdown",
   "metadata": {},
   "source": [
    "## función empaquetada\n",
    "\n",
    "computa la métrica de error: $$ \\frac{\\#( Eval_{reales} \\cap Eval_{actual})}{\\#Eval_{reales}} $$"
   ]
  },
  {
   "cell_type": "code",
   "execution_count": 34,
   "metadata": {},
   "outputs": [],
   "source": [
    "import pickle\n",
    "import numpy as np\n",
    "import pandas as pd\n",
    "import seaborn as sns\n",
    "import matplotlib.pyplot as plt\n",
    "from sklearn.metrics.pairwise import cosine_similarity\n",
    "pd.options.mode.chained_assignment = None  # default='warn'\n",
    "from joblib import load, dump\n",
    "from sklearn.metrics.pairwise import cosine_similarity"
   ]
  },
  {
   "cell_type": "code",
   "execution_count": 35,
   "metadata": {},
   "outputs": [],
   "source": [
    "def cosine_similarity_metric(\n",
    "        df_evaluador_topico_,\n",
    "        df_texto_topico_,\n",
    "        df_texto_eval_,\n",
    "        evaluadores_sugeridos):\n",
    "    \"\"\"\n",
    "    obtiene la metrica para el conjunto\n",
    "    de prueba\n",
    "\n",
    "    Devuelve una lista con la metrica por proyecto evaludo\n",
    "\n",
    "    \"\"\"\n",
    "    #  df_evaluador_topico_\n",
    "\n",
    "    df_evaluador_topico_.reset_index(drop=False, inplace=True)\n",
    "    usuario_entreanado = df_evaluador_topico_[\"CVU\"].tolist()\n",
    "    rcea_entreanado = df_evaluador_topico_[\"CVU\"].tolist()\n",
    "\n",
    "    # avealuar\n",
    "\n",
    "    id_proyecto_index = df_texto_topico_[\"ID_PROYECTO\"].tolist()\n",
    "    # cos simi\n",
    "\n",
    "    cos_simi = cosine_similarity(topicos_evaluador.iloc[:,1:], topicos_texto.iloc[:,:-1])\n",
    "    df_cos_simi = pd.DataFrame(cos_simi)\n",
    "\n",
    "    # top eval\n",
    "\n",
    "    df_evaluadores_recomendados = pd.DataFrame(\n",
    "        index=[i for i in range(len(id_proyecto_index))],\n",
    "        columns=[\"evaluador_reco_\" + str(number)\n",
    "                 for number in range(evaluadores_sugeridos)])\n",
    "    len_list = []\n",
    "    for proyecto in range(df_cos_simi.shape[1]):\n",
    "\n",
    "        list_each_proyecto = df_cos_simi.iloc[:, proyecto].tolist()\n",
    "\n",
    "        top_5_idx = np.argsort(list_each_proyecto)[-evaluadores_sugeridos:][::-1].tolist()\n",
    "        #  top_5_idx = [i for i in top_5_idx]\n",
    "\n",
    "        df_evaluadores_recomendados.iloc[proyecto, :] = [\n",
    "            usuario_entreanado[pos] for pos in top_5_idx]\n",
    "\n",
    "    df_evaluadores_recomendados[\"ID_PROYECTO\"] = id_proyecto_index\n",
    "\n",
    "    df_evaluadores_recomendados.set_index(\n",
    "        \"ID_PROYECTO\").reset_index(inplace=True, drop=False)\n",
    "\n",
    "    # comparar contextos evaluador\n",
    "\n",
    "    df_texto_eval_[\"CVU\"] = df_texto_eval_[\n",
    "        \"CVU\"].astype(int).astype(str)\n",
    "    df_texto_eval_ = df_texto_eval_[[\"ID_PROYECTO\", \"CVU\"]]\n",
    "    df_texto_eval_ = df_texto_eval_.groupby(\n",
    "        'ID_PROYECTO')['CVU'].apply(\n",
    "        lambda x: \"[%s]\" % ', '.join(x))\n",
    "    \n",
    "    df_proy_usuarios = pd.DataFrame(\n",
    "        index=df_texto_eval_.index, columns=[\"USUARIOS\"])\n",
    "    df_proy_usuarios.loc[:,\"USUARIOS\"] = df_texto_eval_\n",
    "    df_proy_usuarios.reset_index(drop=False, inplace=True)\n",
    "\n",
    "    # merge textos con conjunto de prueba\n",
    "\n",
    "    df_evaluadores_recomendados = df_evaluadores_recomendados.merge(\n",
    "        df_proy_usuarios, on=\"ID_PROYECTO\")\n",
    "    matches_list = []\n",
    "\n",
    "    for proyecto in range(len(df_evaluadores_recomendados)):\n",
    "        lista_evaluadores_reales = df_evaluadores_recomendados.iloc[\n",
    "            proyecto, -1].replace(\n",
    "            ']', '').replace(\n",
    "            \" \", \"\").replace('[', '').replace('\"', '').split(\",\")\n",
    "\n",
    "        lista_matches = len([ev_recom\n",
    "                            for ev_recom\n",
    "                            in df_evaluadores_recomendados.iloc[\n",
    "                                proyecto, :-2].tolist()\n",
    "                            if str(ev_recom) in lista_evaluadores_reales])\n",
    "\n",
    "        lista_eval_len = len(lista_evaluadores_reales)\n",
    "\n",
    "        metrica = lista_matches/lista_eval_len\n",
    "\n",
    "        matches_list.append(metrica)\n",
    "\n",
    "    df_evaluadores_recomendados[\"metrica\"] = matches_list\n",
    "\n",
    "    return df_evaluadores_recomendados[\"metrica\"].mean()\n",
    "\n",
    "    #  return df_evaluadores_recomendados\n"
   ]
  },
  {
   "cell_type": "code",
   "execution_count": 37,
   "metadata": {},
   "outputs": [],
   "source": [
    "#topicos_evaluador = load('../trained_models/archivos/topicos_por_evaluador.pkl')\n",
    "topicos_evaluador = load('../../trained_models/archivos/topicos_por_evaluador.pkl')\n",
    "topicos_texto = load(\"../../trained_models/archivos/topicos_por_texto_train.pkl\")\n",
    "topicos_texto.drop_duplicates(\"ID_PROYECTO\", inplace=True)\n",
    "df_texto_eval = pd.read_csv(\"../../data/entrenamiento/data_training.csv\")"
   ]
  },
  {
   "cell_type": "code",
   "execution_count": 38,
   "metadata": {},
   "outputs": [
    {
     "data": {
      "text/plain": [
       "0.18624873841636874"
      ]
     },
     "execution_count": 38,
     "metadata": {},
     "output_type": "execute_result"
    }
   ],
   "source": [
    "df_evaluadores_recomendados = cosine_similarity_metric(topicos_evaluador,topicos_texto,df_texto_eval,evaluadores_sugeridos=10)\n",
    "df_evaluadores_recomendados"
   ]
  },
  {
   "cell_type": "code",
   "execution_count": null,
   "metadata": {},
   "outputs": [],
   "source": []
  },
  {
   "cell_type": "code",
   "execution_count": null,
   "metadata": {},
   "outputs": [],
   "source": []
  }
 ],
 "metadata": {
  "kernelspec": {
   "display_name": "convocatorias",
   "language": "python",
   "name": "convocatorias"
  },
  "language_info": {
   "codemirror_mode": {
    "name": "ipython",
    "version": 3
   },
   "file_extension": ".py",
   "mimetype": "text/x-python",
   "name": "python",
   "nbconvert_exporter": "python",
   "pygments_lexer": "ipython3",
   "version": "3.6.9"
  }
 },
 "nbformat": 4,
 "nbformat_minor": 4
}
