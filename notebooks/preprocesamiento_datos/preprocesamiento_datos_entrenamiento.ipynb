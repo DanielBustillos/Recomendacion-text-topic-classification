{
 "cells": [
  {
   "cell_type": "code",
   "execution_count": 57,
   "metadata": {},
   "outputs": [],
   "source": [
    "import pandas as pd\n",
    "import os\n",
    "from joblib import dump, load\n",
    "import seaborn as sns"
   ]
  },
  {
   "cell_type": "markdown",
   "metadata": {},
   "source": [
    "En este notebook se procesan los datos de distintas convocatorias para generar los datos de entrenamiento. Las convocatorias consideradas son:\n",
    "\n",
    "- CA: Cátedras\n",
    "    - 2014, 2015, 2016, 2017, 2018\n",
    "- FC: Fronteras de la Ciencia\n",
    "    - 2016, 2015\n",
    "- MIIC\n",
    "    - ??\n",
    "- PN: Problemas Nacionales\n",
    "    - 2015, 2016, 2017"
   ]
  },
  {
   "cell_type": "markdown",
   "metadata": {},
   "source": [
    "___"
   ]
  },
  {
   "cell_type": "code",
   "execution_count": 58,
   "metadata": {},
   "outputs": [],
   "source": [
    "files_path = \"../../data/data_entrenamiento/data_entrenamiento_raw/historico_convocatorias/\""
   ]
  },
  {
   "cell_type": "code",
   "execution_count": 59,
   "metadata": {},
   "outputs": [],
   "source": [
    "proy_ca = pd.read_csv(files_path + \"proyectos_ca.csv\")"
   ]
  },
  {
   "cell_type": "code",
   "execution_count": 60,
   "metadata": {},
   "outputs": [
    {
     "data": {
      "text/html": [
       "<div>\n",
       "<style scoped>\n",
       "    .dataframe tbody tr th:only-of-type {\n",
       "        vertical-align: middle;\n",
       "    }\n",
       "\n",
       "    .dataframe tbody tr th {\n",
       "        vertical-align: top;\n",
       "    }\n",
       "\n",
       "    .dataframe thead th {\n",
       "        text-align: right;\n",
       "    }\n",
       "</style>\n",
       "<table border=\"1\" class=\"dataframe\">\n",
       "  <thead>\n",
       "    <tr style=\"text-align: right;\">\n",
       "      <th></th>\n",
       "      <th>ID_PROYECTO</th>\n",
       "      <th>NUMERO_CONVOCATORIA</th>\n",
       "      <th>ANIO</th>\n",
       "      <th>PALABRAS_CLAVE</th>\n",
       "      <th>SUBDISCIPLINA</th>\n",
       "      <th>DISCIPLINA</th>\n",
       "      <th>AREA</th>\n",
       "      <th>TITULO</th>\n",
       "      <th>DESCRIPCION</th>\n",
       "    </tr>\n",
       "  </thead>\n",
       "  <tbody>\n",
       "    <tr>\n",
       "      <th>0</th>\n",
       "      <td>1359</td>\n",
       "      <td>CATEDRAS-2014-01</td>\n",
       "      <td>2014</td>\n",
       "      <td>NaN</td>\n",
       "      <td>NaN</td>\n",
       "      <td>NaN</td>\n",
       "      <td>NaN</td>\n",
       "      <td>METODOS TOPOLOGICOS EN GEOMETRIA Y FISICA</td>\n",
       "      <td>Se espera que en 10 años dentro del marco del ...</td>\n",
       "    </tr>\n",
       "    <tr>\n",
       "      <th>1</th>\n",
       "      <td>1359</td>\n",
       "      <td>CATEDRAS-2014-01</td>\n",
       "      <td>2014</td>\n",
       "      <td>NaN</td>\n",
       "      <td>NaN</td>\n",
       "      <td>NaN</td>\n",
       "      <td>NaN</td>\n",
       "      <td>METODOS TOPOLOGICOS EN GEOMETRIA Y FISICA</td>\n",
       "      <td>La topología es una de las ramas de las matemá...</td>\n",
       "    </tr>\n",
       "  </tbody>\n",
       "</table>\n",
       "</div>"
      ],
      "text/plain": [
       "   ID_PROYECTO NUMERO_CONVOCATORIA  ANIO  PALABRAS_CLAVE  SUBDISCIPLINA  \\\n",
       "0         1359    CATEDRAS-2014-01  2014             NaN            NaN   \n",
       "1         1359    CATEDRAS-2014-01  2014             NaN            NaN   \n",
       "\n",
       "   DISCIPLINA  AREA                                     TITULO  \\\n",
       "0         NaN   NaN  METODOS TOPOLOGICOS EN GEOMETRIA Y FISICA   \n",
       "1         NaN   NaN  METODOS TOPOLOGICOS EN GEOMETRIA Y FISICA   \n",
       "\n",
       "                                         DESCRIPCION  \n",
       "0  Se espera que en 10 años dentro del marco del ...  \n",
       "1  La topología es una de las ramas de las matemá...  "
      ]
     },
     "execution_count": 60,
     "metadata": {},
     "output_type": "execute_result"
    }
   ],
   "source": [
    "proy_ca.head(2)"
   ]
  },
  {
   "cell_type": "code",
   "execution_count": 5,
   "metadata": {},
   "outputs": [],
   "source": [
    "proy_ca[\"longitud\"] = proy_ca['DESCRIPCION'].str.count(' ')\n",
    "proy_ca.sort_values(\"longitud\",ascending=False, inplace=True)\n",
    "proy_ca = proy_ca.drop_duplicates(\"ID_PROYECTO\",keep=\"first\")\n",
    "proy_ca = proy_ca[proy_ca['DESCRIPCION'].str.count(' ') > 20]"
   ]
  },
  {
   "cell_type": "code",
   "execution_count": 6,
   "metadata": {},
   "outputs": [],
   "source": [
    "proy_ca = proy_ca[['ID_PROYECTO','NUMERO_CONVOCATORIA','ANIO','PALABRAS_CLAVE','SUBDISCIPLINA','DISCIPLINA','AREA','TITULO','DESCRIPCION']]"
   ]
  },
  {
   "cell_type": "code",
   "execution_count": 7,
   "metadata": {},
   "outputs": [
    {
     "data": {
      "text/plain": [
       "<matplotlib.axes._subplots.AxesSubplot at 0x7f993c3d5f28>"
      ]
     },
     "execution_count": 7,
     "metadata": {},
     "output_type": "execute_result"
    },
    {
     "data": {
      "image/png": "[encoded data removed]",
      "text/plain": [
       "<Figure size 432x288 with 1 Axes>"
      ]
     },
     "metadata": {
      "needs_background": "light"
     },
     "output_type": "display_data"
    }
   ],
   "source": [
    "proy_ca[\"DESCRIPCION\"].str.count(' ').hist(bins=100)"
   ]
  },
  {
   "cell_type": "markdown",
   "metadata": {},
   "source": [
    "---"
   ]
  },
  {
   "cell_type": "code",
   "execution_count": 8,
   "metadata": {},
   "outputs": [],
   "source": [
    "proy_fc = pd.read_csv(files_path + \"proyectos_fc.csv\")"
   ]
  },
  {
   "cell_type": "code",
   "execution_count": 9,
   "metadata": {},
   "outputs": [],
   "source": [
    "proy_fc[\"longitud\"] = proy_fc['DESCRIPCION'].str.count(' ')\n",
    "proy_fc.sort_values(\"longitud\",ascending=False, inplace=True)\n",
    "proy_fc = proy_fc.drop_duplicates(\"ID_PROYECTO\",keep=\"first\")\n",
    "proy_fc = proy_fc[proy_fc['DESCRIPCION'].str.count(' ') > 20]"
   ]
  },
  {
   "cell_type": "code",
   "execution_count": 10,
   "metadata": {},
   "outputs": [],
   "source": [
    "proy_fc = proy_fc[['ID_PROYECTO','NUMERO_CONVOCATORIA','ANIO','PALABRAS_CLAVE','SUBDISCIPLINA','DISCIPLINA','AREA','TITULO','DESCRIPCION']]"
   ]
  },
  {
   "cell_type": "code",
   "execution_count": 11,
   "metadata": {},
   "outputs": [
    {
     "data": {
      "text/plain": [
       "<matplotlib.axes._subplots.AxesSubplot at 0x7f99389615c0>"
      ]
     },
     "execution_count": 11,
     "metadata": {},
     "output_type": "execute_result"
    },
    {
     "data": {
      "image/png": "[encoded data removed]",
      "text/plain": [
       "<Figure size 432x288 with 1 Axes>"
      ]
     },
     "metadata": {
      "needs_background": "light"
     },
     "output_type": "display_data"
    }
   ],
   "source": [
    "proy_fc[\"DESCRIPCION\"].str.count(' ').hist()"
   ]
  },
  {
   "cell_type": "markdown",
   "metadata": {},
   "source": [
    "---"
   ]
  },
  {
   "cell_type": "code",
   "execution_count": 12,
   "metadata": {},
   "outputs": [],
   "source": [
    "proy_miic = pd.read_csv(files_path + \"/proyectos_miic.csv\")"
   ]
  },
  {
   "cell_type": "code",
   "execution_count": 13,
   "metadata": {},
   "outputs": [],
   "source": [
    "proy_miic['NUMERO_CONVOCATORIA'] = 'miic'\n",
    "proy_miic['ANIO']= 2000"
   ]
  },
  {
   "cell_type": "code",
   "execution_count": 14,
   "metadata": {},
   "outputs": [],
   "source": [
    "proy_miic[\"longitud\"] = proy_miic['DESCRIPCION'].str.count(' ')\n",
    "proy_miic.sort_values(\"longitud\",ascending=False, inplace=True)\n",
    "proy_miic = proy_miic.drop_duplicates(\"ID_PROYECTO\",keep=\"first\")\n",
    "proy_miic = proy_miic[proy_miic['DESCRIPCION'].str.count(' ') > 20]"
   ]
  },
  {
   "cell_type": "code",
   "execution_count": 15,
   "metadata": {},
   "outputs": [],
   "source": [
    "proy_miic = proy_miic[['ID_PROYECTO','NUMERO_CONVOCATORIA','ANIO','PALABRAS_CLAVE','SUBDISCIPLINA','DISCIPLINA','AREA','TITULO','DESCRIPCION']]"
   ]
  },
  {
   "cell_type": "code",
   "execution_count": 16,
   "metadata": {},
   "outputs": [
    {
     "data": {
      "text/plain": [
       "<matplotlib.axes._subplots.AxesSubplot at 0x7f9938fea1d0>"
      ]
     },
     "execution_count": 16,
     "metadata": {},
     "output_type": "execute_result"
    },
    {
     "data": {
      "image/png": "[encoded data removed]",
      "text/plain": [
       "<Figure size 432x288 with 1 Axes>"
      ]
     },
     "metadata": {
      "needs_background": "light"
     },
     "output_type": "display_data"
    }
   ],
   "source": [
    "proy_miic[\"DESCRIPCION\"].str.count(' ').hist()"
   ]
  },
  {
   "cell_type": "markdown",
   "metadata": {},
   "source": [
    "---"
   ]
  },
  {
   "cell_type": "code",
   "execution_count": 17,
   "metadata": {},
   "outputs": [],
   "source": [
    "proy_pn = pd.read_csv(files_path + \"/proyectos_pn.csv\")"
   ]
  },
  {
   "cell_type": "code",
   "execution_count": 18,
   "metadata": {},
   "outputs": [],
   "source": [
    "proy_pn[\"longitud\"] = proy_pn['DESCRIPCION'].str.count(' ')\n",
    "proy_pn.sort_values(\"longitud\",ascending=False, inplace=True)\n",
    "proy_pn = proy_pn.drop_duplicates(\"ID_PROYECTO\",keep=\"first\")\n",
    "proy_pn = proy_pn[proy_pn['DESCRIPCION'].str.count(' ') > 20]"
   ]
  },
  {
   "cell_type": "code",
   "execution_count": 19,
   "metadata": {},
   "outputs": [],
   "source": [
    "proy_pn = proy_pn[['ID_PROYECTO','NUMERO_CONVOCATORIA','ANIO','PALABRAS_CLAVE','SUBDISCIPLINA','DISCIPLINA','AREA','TITULO','DESCRIPCION']]"
   ]
  },
  {
   "cell_type": "code",
   "execution_count": 20,
   "metadata": {},
   "outputs": [
    {
     "data": {
      "text/plain": [
       "<matplotlib.axes._subplots.AxesSubplot at 0x7f993919ec88>"
      ]
     },
     "execution_count": 20,
     "metadata": {},
     "output_type": "execute_result"
    },
    {
     "data": {
      "image/png": "[encoded data removed]",
      "text/plain": [
       "<Figure size 432x288 with 1 Axes>"
      ]
     },
     "metadata": {
      "needs_background": "light"
     },
     "output_type": "display_data"
    }
   ],
   "source": [
    "proy_pn[\"DESCRIPCION\"].str.count(' ').hist()"
   ]
  },
  {
   "cell_type": "markdown",
   "metadata": {},
   "source": [
    "# People soft"
   ]
  },
  {
   "cell_type": "code",
   "execution_count": 21,
   "metadata": {},
   "outputs": [
    {
     "name": "stderr",
     "output_type": "stream",
     "text": [
      "/home/paw/software/python/anaconda3/lib/python3.7/site-packages/IPython/core/interactiveshell.py:3049: DtypeWarning: Columns (1) have mixed types. Specify dtype option on import or set low_memory=False.\n",
      "  interactivity=interactivity, compiler=compiler, result=result)\n"
     ]
    }
   ],
   "source": [
    "people_soft = pd.read_csv(files_path +  \"/people_soft_proyectos/descripcion_ps.csv\")\n",
    "people_soft[\"PROJECT_ID\"] = pd.to_numeric(people_soft[\"PROJECT_ID\"], errors='coerce')\n",
    "people_soft.dropna(inplace=True)\n",
    "people_soft[\"PROJECT_ID\"] = people_soft[\"PROJECT_ID\"].astype(int)"
   ]
  },
  {
   "cell_type": "code",
   "execution_count": 22,
   "metadata": {},
   "outputs": [],
   "source": [
    "people_soft.rename({\"CN_DESCRPROPUS\":\"DESCRIPCION\",\"PROJECT_ID\":\"ID_PROYECTO\",\n",
    "                   \"BUSINESS_UNIT\":\"NUMERO_CONVOCATORIA\"},axis=1, inplace=True)"
   ]
  },
  {
   "cell_type": "code",
   "execution_count": 23,
   "metadata": {},
   "outputs": [],
   "source": [
    "people_soft[\"longitud\"] = people_soft['DESCRIPCION'].str.count(' ')"
   ]
  },
  {
   "cell_type": "code",
   "execution_count": 24,
   "metadata": {},
   "outputs": [],
   "source": [
    "people_soft.sort_values(\"longitud\",ascending=False, inplace=True)\n",
    "people_soft = people_soft.drop_duplicates(\"ID_PROYECTO\",keep=\"first\")\n",
    "people_soft = people_soft[people_soft['DESCRIPCION'].str.count(' ') > 20]\n",
    "#  people_soft = people_soft[people_soft['DESCRIPCION'].str.count(' ') < 10000]"
   ]
  },
  {
   "cell_type": "markdown",
   "metadata": {},
   "source": [
    "LLenamos datos faltantes"
   ]
  },
  {
   "cell_type": "code",
   "execution_count": 25,
   "metadata": {},
   "outputs": [],
   "source": [
    "people_soft['ANIO'] = 2000\n",
    "people_soft['PALABRAS_CLAVE'] = None\n",
    "people_soft['DISCIPLINA'] = None\n",
    "people_soft['SUBDISCIPLINA'] = None\n",
    "people_soft['TITULO'] = None\n",
    "people_soft['AREA'] = None"
   ]
  },
  {
   "cell_type": "code",
   "execution_count": 26,
   "metadata": {},
   "outputs": [],
   "source": [
    "people_soft = people_soft[['ID_PROYECTO','NUMERO_CONVOCATORIA','ANIO','PALABRAS_CLAVE','SUBDISCIPLINA','DISCIPLINA','AREA','TITULO','DESCRIPCION']]"
   ]
  },
  {
   "cell_type": "code",
   "execution_count": 27,
   "metadata": {},
   "outputs": [
    {
     "data": {
      "text/html": [
       "<div>\n",
       "<style scoped>\n",
       "    .dataframe tbody tr th:only-of-type {\n",
       "        vertical-align: middle;\n",
       "    }\n",
       "\n",
       "    .dataframe tbody tr th {\n",
       "        vertical-align: top;\n",
       "    }\n",
       "\n",
       "    .dataframe thead th {\n",
       "        text-align: right;\n",
       "    }\n",
       "</style>\n",
       "<table border=\"1\" class=\"dataframe\">\n",
       "  <thead>\n",
       "    <tr style=\"text-align: right;\">\n",
       "      <th></th>\n",
       "      <th>ID_PROYECTO</th>\n",
       "      <th>NUMERO_CONVOCATORIA</th>\n",
       "      <th>ANIO</th>\n",
       "      <th>PALABRAS_CLAVE</th>\n",
       "      <th>SUBDISCIPLINA</th>\n",
       "      <th>DISCIPLINA</th>\n",
       "      <th>AREA</th>\n",
       "      <th>TITULO</th>\n",
       "      <th>DESCRIPCION</th>\n",
       "    </tr>\n",
       "  </thead>\n",
       "  <tbody>\n",
       "    <tr>\n",
       "      <th>147233</th>\n",
       "      <td>162011</td>\n",
       "      <td>S0008</td>\n",
       "      <td>2000</td>\n",
       "      <td>None</td>\n",
       "      <td>None</td>\n",
       "      <td>None</td>\n",
       "      <td>None</td>\n",
       "      <td>None</td>\n",
       "      <td>Instituto Nacional de Ciencias Médicas y Nutri...</td>\n",
       "    </tr>\n",
       "    <tr>\n",
       "      <th>204114</th>\n",
       "      <td>212258</td>\n",
       "      <td>C003V</td>\n",
       "      <td>2000</td>\n",
       "      <td>None</td>\n",
       "      <td>None</td>\n",
       "      <td>None</td>\n",
       "      <td>None</td>\n",
       "      <td>None</td>\n",
       "      <td>i)\\tAntecedentes y estrategia tecnológica\\r\\n\\...</td>\n",
       "    </tr>\n",
       "  </tbody>\n",
       "</table>\n",
       "</div>"
      ],
      "text/plain": [
       "        ID_PROYECTO NUMERO_CONVOCATORIA  ANIO PALABRAS_CLAVE SUBDISCIPLINA  \\\n",
       "147233       162011               S0008  2000           None          None   \n",
       "204114       212258               C003V  2000           None          None   \n",
       "\n",
       "       DISCIPLINA  AREA TITULO  \\\n",
       "147233       None  None   None   \n",
       "204114       None  None   None   \n",
       "\n",
       "                                              DESCRIPCION  \n",
       "147233  Instituto Nacional de Ciencias Médicas y Nutri...  \n",
       "204114  i)\\tAntecedentes y estrategia tecnológica\\r\\n\\...  "
      ]
     },
     "execution_count": 27,
     "metadata": {},
     "output_type": "execute_result"
    }
   ],
   "source": [
    "people_soft.head(2)"
   ]
  },
  {
   "cell_type": "markdown",
   "metadata": {},
   "source": [
    "# Evaluadores"
   ]
  },
  {
   "cell_type": "code",
   "execution_count": 28,
   "metadata": {},
   "outputs": [],
   "source": [
    "evaluadores_ca = pd.read_csv(files_path + \"./evaluadores/evaluadores_ca.csv\")\n",
    "evaluadores_ca = evaluadores_ca[['ID_PROYECTO', 'NUMERO_CONVOCATORIA', 'ANIO', 'CVU']]"
   ]
  },
  {
   "cell_type": "code",
   "execution_count": 29,
   "metadata": {},
   "outputs": [],
   "source": [
    "evaluadores_fc = pd.read_csv(files_path + \"/evaluadores/evaluadores_fc.csv\")\n",
    "evaluadores_fc = evaluadores_fc[['ID_PROYECTO', 'NUMERO_CONVOCATORIA', 'ANIO', 'CVU']]"
   ]
  },
  {
   "cell_type": "code",
   "execution_count": 30,
   "metadata": {},
   "outputs": [],
   "source": [
    "evaluadores_miic = pd.read_csv(files_path + \"/evaluadores/evaluadores_miic.csv\")\n",
    "evaluadores_miic.rename({\"ID_SOLICITUD\":\"ID_PROYECTO\"},inplace=True,axis=1)\n",
    "evaluadores_miic['NUMERO_CONVOCATORIA'] = 'miic'\n",
    "evaluadores_miic['ANIO']=2000\n",
    "evaluadores_miic = evaluadores_miic[['ID_PROYECTO', 'NUMERO_CONVOCATORIA', 'ANIO', 'CVU']]"
   ]
  },
  {
   "cell_type": "code",
   "execution_count": 31,
   "metadata": {},
   "outputs": [],
   "source": [
    "evaluadores_pn = pd.read_csv(files_path + \"/evaluadores/evaluadores_pn.csv\")\n",
    "evaluadores_pn = evaluadores_pn[['ID_PROYECTO', 'NUMERO_CONVOCATORIA', 'ANIO', 'CVU']]"
   ]
  },
  {
   "cell_type": "code",
   "execution_count": 32,
   "metadata": {},
   "outputs": [
    {
     "name": "stderr",
     "output_type": "stream",
     "text": [
      "/home/paw/software/python/anaconda3/lib/python3.7/site-packages/IPython/core/interactiveshell.py:3049: DtypeWarning: Columns (2) have mixed types. Specify dtype option on import or set low_memory=False.\n",
      "  interactivity=interactivity, compiler=compiler, result=result)\n"
     ]
    }
   ],
   "source": [
    "evaluadores_ps = pd.read_csv(files_path + \"/people_soft_proyectos/evaluadores_ps.csv\")\n",
    "evaluadores_ps.rename({\"PROJECT_ID\":\"ID_PROYECTO\",\n",
    "                   \"BUSINESS_UNIT\":\"NUMERO_CONVOCATORIA\"},axis=1, inplace=True)\n",
    "\n",
    "evaluadores_ps = evaluadores_ps[[\"CVU\",\"NUMERO_CONVOCATORIA\", \"ID_PROYECTO\"]]\n",
    "\n",
    "evaluadores_ps[\"ID_PROYECTO\"] = pd.to_numeric(evaluadores_ps[\"ID_PROYECTO\"], errors='coerce')\n",
    "evaluadores_ps.dropna(inplace=True)\n",
    "evaluadores_ps[\"ID_PROYECTO\"] = evaluadores_ps[\"ID_PROYECTO\"].astype(int)\n",
    "evaluadores_ps[\"ANIO\"] = 2000\n",
    "\n",
    "evaluadores_ps = evaluadores_ps[['ID_PROYECTO', 'NUMERO_CONVOCATORIA', 'ANIO', 'CVU']]"
   ]
  },
  {
   "cell_type": "markdown",
   "metadata": {},
   "source": [
    "___"
   ]
  },
  {
   "cell_type": "markdown",
   "metadata": {},
   "source": [
    "# Merge\n",
    "## Proyectos"
   ]
  },
  {
   "cell_type": "code",
   "execution_count": 33,
   "metadata": {},
   "outputs": [
    {
     "data": {
      "text/plain": [
       "(198719, 9)"
      ]
     },
     "execution_count": 33,
     "metadata": {},
     "output_type": "execute_result"
    }
   ],
   "source": [
    "df_merge = proy_ca.append(\n",
    "    proy_fc).append(\n",
    "    proy_miic).append(\n",
    "    proy_pn).append(\n",
    "    people_soft).reset_index(drop=True)\n",
    "df_merge.shape "
   ]
  },
  {
   "cell_type": "code",
   "execution_count": 34,
   "metadata": {},
   "outputs": [
    {
     "data": {
      "text/html": [
       "<div>\n",
       "<style scoped>\n",
       "    .dataframe tbody tr th:only-of-type {\n",
       "        vertical-align: middle;\n",
       "    }\n",
       "\n",
       "    .dataframe tbody tr th {\n",
       "        vertical-align: top;\n",
       "    }\n",
       "\n",
       "    .dataframe thead th {\n",
       "        text-align: right;\n",
       "    }\n",
       "</style>\n",
       "<table border=\"1\" class=\"dataframe\">\n",
       "  <thead>\n",
       "    <tr style=\"text-align: right;\">\n",
       "      <th></th>\n",
       "      <th>ID_PROYECTO</th>\n",
       "      <th>NUMERO_CONVOCATORIA</th>\n",
       "      <th>ANIO</th>\n",
       "      <th>PALABRAS_CLAVE</th>\n",
       "      <th>SUBDISCIPLINA</th>\n",
       "      <th>DISCIPLINA</th>\n",
       "      <th>AREA</th>\n",
       "      <th>TITULO</th>\n",
       "      <th>DESCRIPCION</th>\n",
       "    </tr>\n",
       "  </thead>\n",
       "  <tbody>\n",
       "    <tr>\n",
       "      <th>0</th>\n",
       "      <td>1120</td>\n",
       "      <td>CATEDRAS-2015-01</td>\n",
       "      <td>2015</td>\n",
       "      <td>NaN</td>\n",
       "      <td>NaN</td>\n",
       "      <td>NaN</td>\n",
       "      <td>NaN</td>\n",
       "      <td>FORTALECIMIENTO DEL LABORATORIO DE ODONTOLOGÍA...</td>\n",
       "      <td>RESULTADOS A 5-10 AÑOS\\r\\n\\r\\n¿\\tFormación de ...</td>\n",
       "    </tr>\n",
       "    <tr>\n",
       "      <th>1</th>\n",
       "      <td>390</td>\n",
       "      <td>CATEDRAS-2016-01</td>\n",
       "      <td>2016</td>\n",
       "      <td>NaN</td>\n",
       "      <td>NaN</td>\n",
       "      <td>NaN</td>\n",
       "      <td>NaN</td>\n",
       "      <td>Fortalecimiento de la Maestría en Ciencias Odo...</td>\n",
       "      <td>Programa                                      ...</td>\n",
       "    </tr>\n",
       "  </tbody>\n",
       "</table>\n",
       "</div>"
      ],
      "text/plain": [
       "   ID_PROYECTO NUMERO_CONVOCATORIA  ANIO PALABRAS_CLAVE SUBDISCIPLINA  \\\n",
       "0         1120    CATEDRAS-2015-01  2015            NaN           NaN   \n",
       "1          390    CATEDRAS-2016-01  2016            NaN           NaN   \n",
       "\n",
       "  DISCIPLINA AREA                                             TITULO  \\\n",
       "0        NaN  NaN  FORTALECIMIENTO DEL LABORATORIO DE ODONTOLOGÍA...   \n",
       "1        NaN  NaN  Fortalecimiento de la Maestría en Ciencias Odo...   \n",
       "\n",
       "                                         DESCRIPCION  \n",
       "0  RESULTADOS A 5-10 AÑOS\\r\\n\\r\\n¿\\tFormación de ...  \n",
       "1  Programa                                      ...  "
      ]
     },
     "execution_count": 34,
     "metadata": {},
     "output_type": "execute_result"
    }
   ],
   "source": [
    "df_merge.head(2)"
   ]
  },
  {
   "cell_type": "raw",
   "metadata": {},
   "source": [
    "df_merge_eval = load(\"./datos_entrenamiento_convocatorias_evaluadores.pkl\")"
   ]
  },
  {
   "cell_type": "raw",
   "metadata": {},
   "source": [
    "dump(df_merge, \"./datos_entrenamiento_convocatorias.pkl\")"
   ]
  },
  {
   "cell_type": "markdown",
   "metadata": {},
   "source": [
    "## Evaluadores"
   ]
  },
  {
   "cell_type": "code",
   "execution_count": 35,
   "metadata": {},
   "outputs": [],
   "source": [
    "df_merge_eval = evaluadores_ca.append(\n",
    "    evaluadores_fc).append(\n",
    "    evaluadores_miic).append(\n",
    "    evaluadores_pn).append(\n",
    "    evaluadores_ps)"
   ]
  },
  {
   "cell_type": "code",
   "execution_count": 36,
   "metadata": {},
   "outputs": [
    {
     "data": {
      "text/html": [
       "<div>\n",
       "<style scoped>\n",
       "    .dataframe tbody tr th:only-of-type {\n",
       "        vertical-align: middle;\n",
       "    }\n",
       "\n",
       "    .dataframe tbody tr th {\n",
       "        vertical-align: top;\n",
       "    }\n",
       "\n",
       "    .dataframe thead th {\n",
       "        text-align: right;\n",
       "    }\n",
       "</style>\n",
       "<table border=\"1\" class=\"dataframe\">\n",
       "  <thead>\n",
       "    <tr style=\"text-align: right;\">\n",
       "      <th></th>\n",
       "      <th>ID_PROYECTO</th>\n",
       "      <th>NUMERO_CONVOCATORIA</th>\n",
       "      <th>ANIO</th>\n",
       "      <th>CVU</th>\n",
       "    </tr>\n",
       "  </thead>\n",
       "  <tbody>\n",
       "    <tr>\n",
       "      <th>0</th>\n",
       "      <td>1093</td>\n",
       "      <td>CATEDRAS-2015-01</td>\n",
       "      <td>2015</td>\n",
       "      <td>31151.0</td>\n",
       "    </tr>\n",
       "    <tr>\n",
       "      <th>1</th>\n",
       "      <td>1235</td>\n",
       "      <td>CATEDRAS-2015-01</td>\n",
       "      <td>2015</td>\n",
       "      <td>18804.0</td>\n",
       "    </tr>\n",
       "    <tr>\n",
       "      <th>2</th>\n",
       "      <td>1235</td>\n",
       "      <td>CATEDRAS-2015-01</td>\n",
       "      <td>2015</td>\n",
       "      <td>4867.0</td>\n",
       "    </tr>\n",
       "    <tr>\n",
       "      <th>3</th>\n",
       "      <td>554</td>\n",
       "      <td>CATEDRAS-2015-01</td>\n",
       "      <td>2015</td>\n",
       "      <td>3188.0</td>\n",
       "    </tr>\n",
       "    <tr>\n",
       "      <th>4</th>\n",
       "      <td>390</td>\n",
       "      <td>CATEDRAS-2015-01</td>\n",
       "      <td>2015</td>\n",
       "      <td>2195.0</td>\n",
       "    </tr>\n",
       "  </tbody>\n",
       "</table>\n",
       "</div>"
      ],
      "text/plain": [
       "   ID_PROYECTO NUMERO_CONVOCATORIA  ANIO      CVU\n",
       "0         1093    CATEDRAS-2015-01  2015  31151.0\n",
       "1         1235    CATEDRAS-2015-01  2015  18804.0\n",
       "2         1235    CATEDRAS-2015-01  2015   4867.0\n",
       "3          554    CATEDRAS-2015-01  2015   3188.0\n",
       "4          390    CATEDRAS-2015-01  2015   2195.0"
      ]
     },
     "execution_count": 36,
     "metadata": {},
     "output_type": "execute_result"
    }
   ],
   "source": [
    "df_merge_eval.head()"
   ]
  },
  {
   "cell_type": "code",
   "execution_count": 37,
   "metadata": {},
   "outputs": [
    {
     "data": {
      "text/plain": [
       "(809038, 4)"
      ]
     },
     "execution_count": 37,
     "metadata": {},
     "output_type": "execute_result"
    }
   ],
   "source": [
    "df_merge_eval.shape"
   ]
  },
  {
   "cell_type": "code",
   "execution_count": 40,
   "metadata": {},
   "outputs": [
    {
     "data": {
      "text/plain": [
       "28674"
      ]
     },
     "execution_count": 40,
     "metadata": {},
     "output_type": "execute_result"
    }
   ],
   "source": [
    "df_merge_eval[\"CVU\"].nunique()"
   ]
  },
  {
   "cell_type": "code",
   "execution_count": 41,
   "metadata": {},
   "outputs": [
    {
     "data": {
      "text/plain": [
       "['../../data/data_entrenamiento/data_entrenamiento_raw/historico_convocatorias/./join_evaluadores_todas_convocatorias.pkl']"
      ]
     },
     "execution_count": 41,
     "metadata": {},
     "output_type": "execute_result"
    }
   ],
   "source": [
    "dump(df_merge_eval, files_path + \"./join_evaluadores_todas_convocatorias.pkl\")"
   ]
  },
  {
   "cell_type": "markdown",
   "metadata": {},
   "source": [
    "___"
   ]
  },
  {
   "cell_type": "markdown",
   "metadata": {},
   "source": [
    "## Filtro nuevo requerimiento\n",
    "\n",
    "1. Filtrar de la bolsa de evaluadores:\n",
    "    * Nivel de SNI (+1)\n",
    "    * SNI vigentes\n",
    "\n",
    "2. Filtrar de la convocatoria actual:\n",
    "    * Eliminar modalidad SINERGIA\n",
    "    * Responsables técnicos convocatoria"
   ]
  },
  {
   "cell_type": "code",
   "execution_count": 71,
   "metadata": {},
   "outputs": [
    {
     "data": {
      "text/html": [
       "<div>\n",
       "<style scoped>\n",
       "    .dataframe tbody tr th:only-of-type {\n",
       "        vertical-align: middle;\n",
       "    }\n",
       "\n",
       "    .dataframe tbody tr th {\n",
       "        vertical-align: top;\n",
       "    }\n",
       "\n",
       "    .dataframe thead th {\n",
       "        text-align: right;\n",
       "    }\n",
       "</style>\n",
       "<table border=\"1\" class=\"dataframe\">\n",
       "  <thead>\n",
       "    <tr style=\"text-align: right;\">\n",
       "      <th></th>\n",
       "      <th>CVU</th>\n",
       "      <th>IVIGENCIA</th>\n",
       "      <th>FVIGENCIA</th>\n",
       "      <th>NIVEL</th>\n",
       "    </tr>\n",
       "  </thead>\n",
       "  <tbody>\n",
       "    <tr>\n",
       "      <th>0</th>\n",
       "      <td>83</td>\n",
       "      <td>2008-01-02</td>\n",
       "      <td>2022-12-31 00:00:00</td>\n",
       "      <td>1</td>\n",
       "    </tr>\n",
       "    <tr>\n",
       "      <th>1</th>\n",
       "      <td>97</td>\n",
       "      <td>2016-01-01</td>\n",
       "      <td>2019-12-31 00:00:00</td>\n",
       "      <td>1</td>\n",
       "    </tr>\n",
       "    <tr>\n",
       "      <th>2</th>\n",
       "      <td>174</td>\n",
       "      <td>2012-01-02</td>\n",
       "      <td>2029-12-31 00:00:00</td>\n",
       "      <td>1</td>\n",
       "    </tr>\n",
       "  </tbody>\n",
       "</table>\n",
       "</div>"
      ],
      "text/plain": [
       "   CVU   IVIGENCIA            FVIGENCIA  NIVEL\n",
       "0   83  2008-01-02  2022-12-31 00:00:00      1\n",
       "1   97  2016-01-01  2019-12-31 00:00:00      1\n",
       "2  174  2012-01-02  2029-12-31 00:00:00      1"
      ]
     },
     "execution_count": 71,
     "metadata": {},
     "output_type": "execute_result"
    }
   ],
   "source": [
    "miembros_sni = pd.read_csv(files_path +  '../SNI_catalogo/SNI_vigentes_final.csv')\n",
    "miembros_sni.head(3)"
   ]
  },
  {
   "cell_type": "code",
   "execution_count": 72,
   "metadata": {},
   "outputs": [
    {
     "data": {
      "text/plain": [
       "9325"
      ]
     },
     "execution_count": 72,
     "metadata": {},
     "output_type": "execute_result"
    }
   ],
   "source": [
    "miembros_sni[\"CVU\"].nunique()"
   ]
  },
  {
   "cell_type": "code",
   "execution_count": 73,
   "metadata": {},
   "outputs": [],
   "source": [
    "evaluadores_filtro  = miembros_sni.merge(df_merge_eval, left_on='CVU', right_on='CVU',how='inner')"
   ]
  },
  {
   "cell_type": "code",
   "execution_count": 74,
   "metadata": {},
   "outputs": [
    {
     "data": {
      "text/plain": [
       "8954"
      ]
     },
     "execution_count": 74,
     "metadata": {},
     "output_type": "execute_result"
    }
   ],
   "source": [
    "evaluadores_filtro[\"CVU\"].nunique()"
   ]
  },
  {
   "cell_type": "code",
   "execution_count": 75,
   "metadata": {},
   "outputs": [
    {
     "data": {
      "text/html": [
       "<div>\n",
       "<style scoped>\n",
       "    .dataframe tbody tr th:only-of-type {\n",
       "        vertical-align: middle;\n",
       "    }\n",
       "\n",
       "    .dataframe tbody tr th {\n",
       "        vertical-align: top;\n",
       "    }\n",
       "\n",
       "    .dataframe thead th {\n",
       "        text-align: right;\n",
       "    }\n",
       "</style>\n",
       "<table border=\"1\" class=\"dataframe\">\n",
       "  <thead>\n",
       "    <tr style=\"text-align: right;\">\n",
       "      <th></th>\n",
       "      <th>CVU</th>\n",
       "      <th>IVIGENCIA</th>\n",
       "      <th>FVIGENCIA</th>\n",
       "      <th>NIVEL</th>\n",
       "      <th>ID_PROYECTO</th>\n",
       "      <th>NUMERO_CONVOCATORIA</th>\n",
       "      <th>ANIO</th>\n",
       "    </tr>\n",
       "  </thead>\n",
       "  <tbody>\n",
       "    <tr>\n",
       "      <th>0</th>\n",
       "      <td>83</td>\n",
       "      <td>2008-01-02</td>\n",
       "      <td>2022-12-31 00:00:00</td>\n",
       "      <td>1</td>\n",
       "      <td>619</td>\n",
       "      <td>PROBLEMAS-2015-01</td>\n",
       "      <td>2015</td>\n",
       "    </tr>\n",
       "    <tr>\n",
       "      <th>1</th>\n",
       "      <td>83</td>\n",
       "      <td>2008-01-02</td>\n",
       "      <td>2022-12-31 00:00:00</td>\n",
       "      <td>1</td>\n",
       "      <td>1779</td>\n",
       "      <td>PROBLEMAS-2015-01</td>\n",
       "      <td>2015</td>\n",
       "    </tr>\n",
       "    <tr>\n",
       "      <th>2</th>\n",
       "      <td>83</td>\n",
       "      <td>2008-01-02</td>\n",
       "      <td>2022-12-31 00:00:00</td>\n",
       "      <td>1</td>\n",
       "      <td>109898</td>\n",
       "      <td>C0003</td>\n",
       "      <td>2000</td>\n",
       "    </tr>\n",
       "    <tr>\n",
       "      <th>3</th>\n",
       "      <td>83</td>\n",
       "      <td>2008-01-02</td>\n",
       "      <td>2022-12-31 00:00:00</td>\n",
       "      <td>1</td>\n",
       "      <td>112657</td>\n",
       "      <td>C0003</td>\n",
       "      <td>2000</td>\n",
       "    </tr>\n",
       "    <tr>\n",
       "      <th>4</th>\n",
       "      <td>83</td>\n",
       "      <td>2008-01-02</td>\n",
       "      <td>2022-12-31 00:00:00</td>\n",
       "      <td>1</td>\n",
       "      <td>112671</td>\n",
       "      <td>C0003</td>\n",
       "      <td>2000</td>\n",
       "    </tr>\n",
       "  </tbody>\n",
       "</table>\n",
       "</div>"
      ],
      "text/plain": [
       "   CVU   IVIGENCIA            FVIGENCIA  NIVEL  ID_PROYECTO  \\\n",
       "0   83  2008-01-02  2022-12-31 00:00:00      1          619   \n",
       "1   83  2008-01-02  2022-12-31 00:00:00      1         1779   \n",
       "2   83  2008-01-02  2022-12-31 00:00:00      1       109898   \n",
       "3   83  2008-01-02  2022-12-31 00:00:00      1       112657   \n",
       "4   83  2008-01-02  2022-12-31 00:00:00      1       112671   \n",
       "\n",
       "  NUMERO_CONVOCATORIA  ANIO  \n",
       "0   PROBLEMAS-2015-01  2015  \n",
       "1   PROBLEMAS-2015-01  2015  \n",
       "2               C0003  2000  \n",
       "3               C0003  2000  \n",
       "4               C0003  2000  "
      ]
     },
     "execution_count": 75,
     "metadata": {},
     "output_type": "execute_result"
    }
   ],
   "source": [
    "evaluadores_filtro.head()"
   ]
  },
  {
   "cell_type": "code",
   "execution_count": 76,
   "metadata": {},
   "outputs": [],
   "source": [
    "evaluadores_filtro_texto = evaluadores_filtro.merge(\n",
    "    df_merge, on=['ID_PROYECTO','NUMERO_CONVOCATORIA','ANIO'])# .drop_duplicates(['ID_PROYECTO','NUMERO_CONVOCATORIA','ANIO'])"
   ]
  },
  {
   "cell_type": "code",
   "execution_count": 77,
   "metadata": {},
   "outputs": [
    {
     "data": {
      "text/html": [
       "<div>\n",
       "<style scoped>\n",
       "    .dataframe tbody tr th:only-of-type {\n",
       "        vertical-align: middle;\n",
       "    }\n",
       "\n",
       "    .dataframe tbody tr th {\n",
       "        vertical-align: top;\n",
       "    }\n",
       "\n",
       "    .dataframe thead th {\n",
       "        text-align: right;\n",
       "    }\n",
       "</style>\n",
       "<table border=\"1\" class=\"dataframe\">\n",
       "  <thead>\n",
       "    <tr style=\"text-align: right;\">\n",
       "      <th></th>\n",
       "      <th>CVU</th>\n",
       "      <th>IVIGENCIA</th>\n",
       "      <th>FVIGENCIA</th>\n",
       "      <th>NIVEL</th>\n",
       "      <th>ID_PROYECTO</th>\n",
       "      <th>NUMERO_CONVOCATORIA</th>\n",
       "      <th>ANIO</th>\n",
       "      <th>PALABRAS_CLAVE</th>\n",
       "      <th>SUBDISCIPLINA</th>\n",
       "      <th>DISCIPLINA</th>\n",
       "      <th>AREA</th>\n",
       "      <th>TITULO</th>\n",
       "      <th>DESCRIPCION</th>\n",
       "    </tr>\n",
       "  </thead>\n",
       "  <tbody>\n",
       "    <tr>\n",
       "      <th>0</th>\n",
       "      <td>83</td>\n",
       "      <td>2008-01-02</td>\n",
       "      <td>2022-12-31 00:00:00</td>\n",
       "      <td>1</td>\n",
       "      <td>619</td>\n",
       "      <td>PROBLEMAS-2015-01</td>\n",
       "      <td>2015</td>\n",
       "      <td>Energía eólica y solar,uso agrícola,automatiza...</td>\n",
       "      <td>AUTOMATIZACION Y CONTROL</td>\n",
       "      <td>INGENIERÍA ELÉCTRICA</td>\n",
       "      <td>INGENIERÍA Y TECNOLOGÍA</td>\n",
       "      <td>Estación Híbrida de energía eólica y solar par...</td>\n",
       "      <td>Título de la Propuesta: Estación híbrida de en...</td>\n",
       "    </tr>\n",
       "    <tr>\n",
       "      <th>1</th>\n",
       "      <td>160807</td>\n",
       "      <td>2016-01-01</td>\n",
       "      <td>2019-12-31 00:00:00</td>\n",
       "      <td>1</td>\n",
       "      <td>619</td>\n",
       "      <td>PROBLEMAS-2015-01</td>\n",
       "      <td>2015</td>\n",
       "      <td>Energía eólica y solar,uso agrícola,automatiza...</td>\n",
       "      <td>AUTOMATIZACION Y CONTROL</td>\n",
       "      <td>INGENIERÍA ELÉCTRICA</td>\n",
       "      <td>INGENIERÍA Y TECNOLOGÍA</td>\n",
       "      <td>Estación Híbrida de energía eólica y solar par...</td>\n",
       "      <td>Título de la Propuesta: Estación híbrida de en...</td>\n",
       "    </tr>\n",
       "  </tbody>\n",
       "</table>\n",
       "</div>"
      ],
      "text/plain": [
       "      CVU   IVIGENCIA            FVIGENCIA  NIVEL  ID_PROYECTO  \\\n",
       "0      83  2008-01-02  2022-12-31 00:00:00      1          619   \n",
       "1  160807  2016-01-01  2019-12-31 00:00:00      1          619   \n",
       "\n",
       "  NUMERO_CONVOCATORIA  ANIO  \\\n",
       "0   PROBLEMAS-2015-01  2015   \n",
       "1   PROBLEMAS-2015-01  2015   \n",
       "\n",
       "                                      PALABRAS_CLAVE  \\\n",
       "0  Energía eólica y solar,uso agrícola,automatiza...   \n",
       "1  Energía eólica y solar,uso agrícola,automatiza...   \n",
       "\n",
       "              SUBDISCIPLINA            DISCIPLINA                     AREA  \\\n",
       "0  AUTOMATIZACION Y CONTROL  INGENIERÍA ELÉCTRICA  INGENIERÍA Y TECNOLOGÍA   \n",
       "1  AUTOMATIZACION Y CONTROL  INGENIERÍA ELÉCTRICA  INGENIERÍA Y TECNOLOGÍA   \n",
       "\n",
       "                                              TITULO  \\\n",
       "0  Estación Híbrida de energía eólica y solar par...   \n",
       "1  Estación Híbrida de energía eólica y solar par...   \n",
       "\n",
       "                                         DESCRIPCION  \n",
       "0  Título de la Propuesta: Estación híbrida de en...  \n",
       "1  Título de la Propuesta: Estación híbrida de en...  "
      ]
     },
     "execution_count": 77,
     "metadata": {},
     "output_type": "execute_result"
    }
   ],
   "source": [
    "evaluadores_filtro_texto.head(2)"
   ]
  },
  {
   "cell_type": "code",
   "execution_count": 80,
   "metadata": {},
   "outputs": [
    {
     "data": {
      "text/plain": [
       "8844"
      ]
     },
     "execution_count": 80,
     "metadata": {},
     "output_type": "execute_result"
    }
   ],
   "source": [
    "evaluadores_filtro_texto[\"CVU\"].nunique()"
   ]
  },
  {
   "cell_type": "code",
   "execution_count": 78,
   "metadata": {},
   "outputs": [
    {
     "data": {
      "text/plain": [
       "(261853, 13)"
      ]
     },
     "execution_count": 78,
     "metadata": {},
     "output_type": "execute_result"
    }
   ],
   "source": [
    "evaluadores_filtro_texto.shape"
   ]
  },
  {
   "cell_type": "code",
   "execution_count": 55,
   "metadata": {},
   "outputs": [
    {
     "data": {
      "text/plain": [
       "29.607982813206693"
      ]
     },
     "execution_count": 55,
     "metadata": {},
     "output_type": "execute_result"
    }
   ],
   "source": [
    "evaluadores_filtro_texto[\"CVU\"].value_counts().mean()"
   ]
  },
  {
   "cell_type": "code",
   "execution_count": 56,
   "metadata": {},
   "outputs": [
    {
     "data": {
      "text/plain": [
       "<matplotlib.axes._subplots.AxesSubplot at 0x7f99363303c8>"
      ]
     },
     "execution_count": 56,
     "metadata": {},
     "output_type": "execute_result"
    },
    {
     "data": {
      "image/png": "[encoded data removed]",
      "text/plain": [
       "<Figure size 432x288 with 1 Axes>"
      ]
     },
     "metadata": {
      "needs_background": "light"
     },
     "output_type": "display_data"
    }
   ],
   "source": [
    "sns.distplot(evaluadores_filtro_texto[\"CVU\"].value_counts())"
   ]
  },
  {
   "cell_type": "markdown",
   "metadata": {},
   "source": [
    "## Nos quedamos con K proyectos por evaluador"
   ]
  },
  {
   "cell_type": "markdown",
   "metadata": {},
   "source": [
    "Desordenamos el DF"
   ]
  },
  {
   "cell_type": "code",
   "execution_count": 2,
   "metadata": {},
   "outputs": [
    {
     "ename": "NameError",
     "evalue": "name 'evaluadores_filtro_texto' is not defined",
     "output_type": "error",
     "traceback": [
      "\u001b[0;31m---------------------------------------------------------------------------\u001b[0m",
      "\u001b[0;31mNameError\u001b[0m                                 Traceback (most recent call last)",
      "\u001b[0;32m<ipython-input-2-f954c0d22119>\u001b[0m in \u001b[0;36m<module>\u001b[0;34m\u001b[0m\n\u001b[0;32m----> 1\u001b[0;31m \u001b[0mevaluadores_filtro_texto\u001b[0m \u001b[0;34m=\u001b[0m \u001b[0mevaluadores_filtro_texto\u001b[0m\u001b[0;34m.\u001b[0m\u001b[0msample\u001b[0m\u001b[0;34m(\u001b[0m\u001b[0mfrac\u001b[0m\u001b[0;34m=\u001b[0m\u001b[0;36m1\u001b[0m\u001b[0;34m)\u001b[0m\u001b[0;34m.\u001b[0m\u001b[0mreset_index\u001b[0m\u001b[0;34m(\u001b[0m\u001b[0mdrop\u001b[0m\u001b[0;34m=\u001b[0m\u001b[0;32mTrue\u001b[0m\u001b[0;34m)\u001b[0m\u001b[0;34m\u001b[0m\u001b[0;34m\u001b[0m\u001b[0m\n\u001b[0m",
      "\u001b[0;31mNameError\u001b[0m: name 'evaluadores_filtro_texto' is not defined"
     ]
    }
   ],
   "source": [
    "evaluadores_filtro_texto = evaluadores_filtro_texto.sample(frac=1).reset_index(drop=True)"
   ]
  },
  {
   "cell_type": "code",
   "execution_count": 55,
   "metadata": {},
   "outputs": [],
   "source": [
    "lista_coincidencia_cvu = []\n",
    "for CVU in evaluadores_filtro_texto[\"CVU\"].unique():\n",
    "    coincidencia_cvu = evaluadores_filtro_texto[evaluadores_filtro_texto[\"CVU\"]==CVU].head(5)\n",
    "    lista_coincidencia_cvu.append(coincidencia_cvu)"
   ]
  },
  {
   "cell_type": "code",
   "execution_count": 56,
   "metadata": {},
   "outputs": [
    {
     "data": {
      "text/html": [
       "<div>\n",
       "<style scoped>\n",
       "    .dataframe tbody tr th:only-of-type {\n",
       "        vertical-align: middle;\n",
       "    }\n",
       "\n",
       "    .dataframe tbody tr th {\n",
       "        vertical-align: top;\n",
       "    }\n",
       "\n",
       "    .dataframe thead th {\n",
       "        text-align: right;\n",
       "    }\n",
       "</style>\n",
       "<table border=\"1\" class=\"dataframe\">\n",
       "  <thead>\n",
       "    <tr style=\"text-align: right;\">\n",
       "      <th></th>\n",
       "      <th>CVU</th>\n",
       "      <th>IVIGENCIA</th>\n",
       "      <th>FVIGENCIA</th>\n",
       "      <th>NIVEL</th>\n",
       "      <th>ID_PROYECTO</th>\n",
       "      <th>NUMERO_CONVOCATORIA</th>\n",
       "      <th>ANIO</th>\n",
       "      <th>PALABRAS_CLAVE</th>\n",
       "      <th>SUBDISCIPLINA</th>\n",
       "      <th>DISCIPLINA</th>\n",
       "      <th>AREA</th>\n",
       "      <th>TITULO</th>\n",
       "      <th>DESCRIPCION</th>\n",
       "    </tr>\n",
       "  </thead>\n",
       "  <tbody>\n",
       "    <tr>\n",
       "      <td>10</td>\n",
       "      <td>3865</td>\n",
       "      <td>2011-01-01</td>\n",
       "      <td>2020-12-31 00:00:00</td>\n",
       "      <td>3</td>\n",
       "      <td>281249</td>\n",
       "      <td>I0017</td>\n",
       "      <td>2000</td>\n",
       "      <td>None</td>\n",
       "      <td>None</td>\n",
       "      <td>None</td>\n",
       "      <td>None</td>\n",
       "      <td>None</td>\n",
       "      <td>Antecedentes. El cáncer epitelial ovárico  (CE...</td>\n",
       "    </tr>\n",
       "    <tr>\n",
       "      <td>9669</td>\n",
       "      <td>3865</td>\n",
       "      <td>2011-01-01</td>\n",
       "      <td>2020-12-31 00:00:00</td>\n",
       "      <td>3</td>\n",
       "      <td>180722</td>\n",
       "      <td>S0008</td>\n",
       "      <td>2000</td>\n",
       "      <td>None</td>\n",
       "      <td>None</td>\n",
       "      <td>None</td>\n",
       "      <td>None</td>\n",
       "      <td>None</td>\n",
       "      <td>En México  desde 2006 el cáncer de mama consti...</td>\n",
       "    </tr>\n",
       "    <tr>\n",
       "      <td>16640</td>\n",
       "      <td>3865</td>\n",
       "      <td>2011-01-01</td>\n",
       "      <td>2020-12-31 00:00:00</td>\n",
       "      <td>3</td>\n",
       "      <td>2519</td>\n",
       "      <td>FRONTERAS-2016-01</td>\n",
       "      <td>2016</td>\n",
       "      <td>embarazo, parto pretérmino, estrés, CRH, corti...</td>\n",
       "      <td>NaN</td>\n",
       "      <td>NaN</td>\n",
       "      <td>MEDICINA Y CIENCIAS DE LA SALUD</td>\n",
       "      <td>La regulación neuroendócrina del sistema inmun...</td>\n",
       "      <td>DISEÑO Y TAMAÑO DE MUESTRA\\r\\nLlevaremos a cab...</td>\n",
       "    </tr>\n",
       "    <tr>\n",
       "      <td>29762</td>\n",
       "      <td>3865</td>\n",
       "      <td>2011-01-01</td>\n",
       "      <td>2020-12-31 00:00:00</td>\n",
       "      <td>3</td>\n",
       "      <td>99294</td>\n",
       "      <td>I0003</td>\n",
       "      <td>2000</td>\n",
       "      <td>None</td>\n",
       "      <td>None</td>\n",
       "      <td>None</td>\n",
       "      <td>None</td>\n",
       "      <td>None</td>\n",
       "      <td>LA BIOTINA ES UNA VITAMINA DEL COMPLEJO B QUE,...</td>\n",
       "    </tr>\n",
       "    <tr>\n",
       "      <td>29995</td>\n",
       "      <td>3865</td>\n",
       "      <td>2011-01-01</td>\n",
       "      <td>2020-12-31 00:00:00</td>\n",
       "      <td>3</td>\n",
       "      <td>128752</td>\n",
       "      <td>I0003</td>\n",
       "      <td>2000</td>\n",
       "      <td>None</td>\n",
       "      <td>None</td>\n",
       "      <td>None</td>\n",
       "      <td>None</td>\n",
       "      <td>None</td>\n",
       "      <td>El cáncer de mama es el tumor maligno de mayor...</td>\n",
       "    </tr>\n",
       "  </tbody>\n",
       "</table>\n",
       "</div>"
      ],
      "text/plain": [
       "        CVU   IVIGENCIA            FVIGENCIA  NIVEL  ID_PROYECTO  \\\n",
       "10     3865  2011-01-01  2020-12-31 00:00:00      3       281249   \n",
       "9669   3865  2011-01-01  2020-12-31 00:00:00      3       180722   \n",
       "16640  3865  2011-01-01  2020-12-31 00:00:00      3         2519   \n",
       "29762  3865  2011-01-01  2020-12-31 00:00:00      3        99294   \n",
       "29995  3865  2011-01-01  2020-12-31 00:00:00      3       128752   \n",
       "\n",
       "      NUMERO_CONVOCATORIA  ANIO  \\\n",
       "10                  I0017  2000   \n",
       "9669                S0008  2000   \n",
       "16640   FRONTERAS-2016-01  2016   \n",
       "29762               I0003  2000   \n",
       "29995               I0003  2000   \n",
       "\n",
       "                                          PALABRAS_CLAVE SUBDISCIPLINA  \\\n",
       "10                                                  None          None   \n",
       "9669                                                None          None   \n",
       "16640  embarazo, parto pretérmino, estrés, CRH, corti...           NaN   \n",
       "29762                                               None          None   \n",
       "29995                                               None          None   \n",
       "\n",
       "      DISCIPLINA                             AREA  \\\n",
       "10          None                             None   \n",
       "9669        None                             None   \n",
       "16640        NaN  MEDICINA Y CIENCIAS DE LA SALUD   \n",
       "29762       None                             None   \n",
       "29995       None                             None   \n",
       "\n",
       "                                                  TITULO  \\\n",
       "10                                                  None   \n",
       "9669                                                None   \n",
       "16640  La regulación neuroendócrina del sistema inmun...   \n",
       "29762                                               None   \n",
       "29995                                               None   \n",
       "\n",
       "                                             DESCRIPCION  \n",
       "10     Antecedentes. El cáncer epitelial ovárico  (CE...  \n",
       "9669   En México  desde 2006 el cáncer de mama consti...  \n",
       "16640  DISEÑO Y TAMAÑO DE MUESTRA\\r\\nLlevaremos a cab...  \n",
       "29762  LA BIOTINA ES UNA VITAMINA DEL COMPLEJO B QUE,...  \n",
       "29995  El cáncer de mama es el tumor maligno de mayor...  "
      ]
     },
     "execution_count": 56,
     "metadata": {},
     "output_type": "execute_result"
    }
   ],
   "source": [
    "lista_coincidencia_cvu[9]"
   ]
  },
  {
   "cell_type": "code",
   "execution_count": 57,
   "metadata": {},
   "outputs": [],
   "source": [
    "dataframe_head = lista_coincidencia_cvu[0].append(lista_coincidencia_cvu[1])\n",
    "for i in range(1,len(lista_coincidencia_cvu)):\n",
    "    dataframe_head = dataframe_head.append(lista_coincidencia_cvu[i].reset_index(drop=True))\n",
    "dataframe_head.reset_index(inplace=True, drop=True)"
   ]
  },
  {
   "cell_type": "code",
   "execution_count": 58,
   "metadata": {},
   "outputs": [
    {
     "data": {
      "text/html": [
       "<div>\n",
       "<style scoped>\n",
       "    .dataframe tbody tr th:only-of-type {\n",
       "        vertical-align: middle;\n",
       "    }\n",
       "\n",
       "    .dataframe tbody tr th {\n",
       "        vertical-align: top;\n",
       "    }\n",
       "\n",
       "    .dataframe thead th {\n",
       "        text-align: right;\n",
       "    }\n",
       "</style>\n",
       "<table border=\"1\" class=\"dataframe\">\n",
       "  <thead>\n",
       "    <tr style=\"text-align: right;\">\n",
       "      <th></th>\n",
       "      <th>CVU</th>\n",
       "      <th>IVIGENCIA</th>\n",
       "      <th>FVIGENCIA</th>\n",
       "      <th>NIVEL</th>\n",
       "      <th>ID_PROYECTO</th>\n",
       "      <th>NUMERO_CONVOCATORIA</th>\n",
       "      <th>ANIO</th>\n",
       "      <th>PALABRAS_CLAVE</th>\n",
       "      <th>SUBDISCIPLINA</th>\n",
       "      <th>DISCIPLINA</th>\n",
       "      <th>AREA</th>\n",
       "      <th>TITULO</th>\n",
       "      <th>DESCRIPCION</th>\n",
       "    </tr>\n",
       "  </thead>\n",
       "  <tbody>\n",
       "    <tr>\n",
       "      <td>25369</td>\n",
       "      <td>160807</td>\n",
       "      <td>2016-01-01</td>\n",
       "      <td>2019-12-31 00:00:00</td>\n",
       "      <td>1</td>\n",
       "      <td>206007</td>\n",
       "      <td>I0015</td>\n",
       "      <td>2000</td>\n",
       "      <td>None</td>\n",
       "      <td>None</td>\n",
       "      <td>None</td>\n",
       "      <td>None</td>\n",
       "      <td>None</td>\n",
       "      <td>FORTALECIMIENTO DE INFRAESTRUCTURA DE LOS CUER...</td>\n",
       "    </tr>\n",
       "    <tr>\n",
       "      <td>25370</td>\n",
       "      <td>160807</td>\n",
       "      <td>2016-01-01</td>\n",
       "      <td>2019-12-31 00:00:00</td>\n",
       "      <td>1</td>\n",
       "      <td>220304</td>\n",
       "      <td>I0017</td>\n",
       "      <td>2000</td>\n",
       "      <td>None</td>\n",
       "      <td>None</td>\n",
       "      <td>None</td>\n",
       "      <td>None</td>\n",
       "      <td>None</td>\n",
       "      <td>En este proyecto nos enfocaremos en desarrolla...</td>\n",
       "    </tr>\n",
       "    <tr>\n",
       "      <td>25371</td>\n",
       "      <td>160807</td>\n",
       "      <td>2016-01-01</td>\n",
       "      <td>2019-12-31 00:00:00</td>\n",
       "      <td>1</td>\n",
       "      <td>256862</td>\n",
       "      <td>I0017</td>\n",
       "      <td>2000</td>\n",
       "      <td>None</td>\n",
       "      <td>None</td>\n",
       "      <td>None</td>\n",
       "      <td>None</td>\n",
       "      <td>None</td>\n",
       "      <td>El uso de energías alternativas ha sido y será...</td>\n",
       "    </tr>\n",
       "    <tr>\n",
       "      <td>25372</td>\n",
       "      <td>160807</td>\n",
       "      <td>2016-01-01</td>\n",
       "      <td>2019-12-31 00:00:00</td>\n",
       "      <td>1</td>\n",
       "      <td>221655</td>\n",
       "      <td>I0017</td>\n",
       "      <td>2000</td>\n",
       "      <td>None</td>\n",
       "      <td>None</td>\n",
       "      <td>None</td>\n",
       "      <td>None</td>\n",
       "      <td>None</td>\n",
       "      <td>La tecnología de diseño y fabricación de biose...</td>\n",
       "    </tr>\n",
       "    <tr>\n",
       "      <td>25373</td>\n",
       "      <td>160807</td>\n",
       "      <td>2016-01-01</td>\n",
       "      <td>2019-12-31 00:00:00</td>\n",
       "      <td>1</td>\n",
       "      <td>258849</td>\n",
       "      <td>I0017</td>\n",
       "      <td>2000</td>\n",
       "      <td>None</td>\n",
       "      <td>None</td>\n",
       "      <td>None</td>\n",
       "      <td>None</td>\n",
       "      <td>None</td>\n",
       "      <td>La investigación y desarrollo de materiales se...</td>\n",
       "    </tr>\n",
       "  </tbody>\n",
       "</table>\n",
       "</div>"
      ],
      "text/plain": [
       "          CVU   IVIGENCIA            FVIGENCIA  NIVEL  ID_PROYECTO  \\\n",
       "25369  160807  2016-01-01  2019-12-31 00:00:00      1       206007   \n",
       "25370  160807  2016-01-01  2019-12-31 00:00:00      1       220304   \n",
       "25371  160807  2016-01-01  2019-12-31 00:00:00      1       256862   \n",
       "25372  160807  2016-01-01  2019-12-31 00:00:00      1       221655   \n",
       "25373  160807  2016-01-01  2019-12-31 00:00:00      1       258849   \n",
       "\n",
       "      NUMERO_CONVOCATORIA  ANIO PALABRAS_CLAVE SUBDISCIPLINA DISCIPLINA  AREA  \\\n",
       "25369               I0015  2000           None          None       None  None   \n",
       "25370               I0017  2000           None          None       None  None   \n",
       "25371               I0017  2000           None          None       None  None   \n",
       "25372               I0017  2000           None          None       None  None   \n",
       "25373               I0017  2000           None          None       None  None   \n",
       "\n",
       "      TITULO                                        DESCRIPCION  \n",
       "25369   None  FORTALECIMIENTO DE INFRAESTRUCTURA DE LOS CUER...  \n",
       "25370   None  En este proyecto nos enfocaremos en desarrolla...  \n",
       "25371   None  El uso de energías alternativas ha sido y será...  \n",
       "25372   None  La tecnología de diseño y fabricación de biose...  \n",
       "25373   None  La investigación y desarrollo de materiales se...  "
      ]
     },
     "execution_count": 58,
     "metadata": {},
     "output_type": "execute_result"
    }
   ],
   "source": [
    "dataframe_head[dataframe_head[\"CVU\"]==160807]"
   ]
  },
  {
   "cell_type": "markdown",
   "metadata": {},
   "source": [
    "# Save"
   ]
  },
  {
   "cell_type": "raw",
   "metadata": {},
   "source": [
    "dump(evaluadores_filtro, \"./datos_entrenamiento_convocatorias_evaluadores_filtro.pkl\")"
   ]
  },
  {
   "cell_type": "raw",
   "metadata": {},
   "source": [
    "dump(dataframe_head, \"./datos_entrenamiento_convocatorias_sample_filtro.pkl\")"
   ]
  },
  {
   "cell_type": "code",
   "execution_count": null,
   "metadata": {},
   "outputs": [],
   "source": []
  }
 ],
 "metadata": {
  "kernelspec": {
   "display_name": "Python 3",
   "language": "python",
   "name": "python3"
  },
  "language_info": {
   "codemirror_mode": {
    "name": "ipython",
    "version": 3
   },
   "file_extension": ".py",
   "mimetype": "text/x-python",
   "name": "python",
   "nbconvert_exporter": "python",
   "pygments_lexer": "ipython3",
   "version": "3.7.3"
  }
 },
 "nbformat": 4,
 "nbformat_minor": 4
}
