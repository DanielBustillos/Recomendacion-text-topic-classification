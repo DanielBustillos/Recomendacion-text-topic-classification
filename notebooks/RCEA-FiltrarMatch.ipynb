{
 "cells": [
  {
   "cell_type": "markdown",
   "metadata": {},
   "source": [
    "# Mapeo catálogo RCEA a Fronteras\n",
    "\n",
    "1. Cargar datos resultado del topic modelling\n",
    "2. Filtrar:\n",
    "    * SNI y vigencia\n",
    "    * Responsables técnicos convocatoria\n",
    "3. Match\n",
    "    * area, campo, disciplina, subdisciplina"
   ]
  },
  {
   "cell_type": "code",
   "execution_count": 4,
   "metadata": {},
   "outputs": [
    {
     "ename": "ModuleNotFoundError",
     "evalue": "No module named 'utils'",
     "output_type": "error",
     "traceback": [
      "\u001b[0;31m---------------------------------------------------------------------------\u001b[0m",
      "\u001b[0;31mModuleNotFoundError\u001b[0m                       Traceback (most recent call last)",
      "\u001b[0;32m<ipython-input-4-4b76f0e44185>\u001b[0m in \u001b[0;36m<module>\u001b[0;34m\u001b[0m\n\u001b[1;32m      1\u001b[0m \u001b[0;32mimport\u001b[0m \u001b[0mpandas\u001b[0m \u001b[0;32mas\u001b[0m \u001b[0mpd\u001b[0m\u001b[0;34m\u001b[0m\u001b[0;34m\u001b[0m\u001b[0m\n\u001b[1;32m      2\u001b[0m \u001b[0;32mfrom\u001b[0m \u001b[0mjoblib\u001b[0m \u001b[0;32mimport\u001b[0m \u001b[0mload\u001b[0m\u001b[0;34m,\u001b[0m \u001b[0mdump\u001b[0m\u001b[0;34m\u001b[0m\u001b[0;34m\u001b[0m\u001b[0m\n\u001b[0;32m----> 3\u001b[0;31m \u001b[0;32mfrom\u001b[0m \u001b[0mutils\u001b[0m \u001b[0;32mimport\u001b[0m \u001b[0;34m*\u001b[0m\u001b[0;34m\u001b[0m\u001b[0;34m\u001b[0m\u001b[0m\n\u001b[0m",
      "\u001b[0;31mModuleNotFoundError\u001b[0m: No module named 'utils'"
     ]
    }
   ],
   "source": [
    "import pandas as pd\n",
    "from joblib import load, dump\n",
    "from utils import *"
   ]
  },
  {
   "cell_type": "code",
   "execution_count": 4,
   "metadata": {},
   "outputs": [],
   "source": [
    "file_in   = 'data-raw/propuesta_evaluadores.pkl'\n",
    "file_sni  = 'data-raw/SNI_vigentes_final.csv'\n",
    "file_fron = 'data-raw/solicitudes_201912031041.csv'\n",
    "file_rcea = 'data-raw/data_eval.pkl'\n",
    "dics_mapeo= 'data-clean/dics_mapeo_rcea_eval.pkl'\n",
    "file_out  = 'data-clean/evaluadores_RCEA_para_ciencia_frontera.csv'\n",
    "top_n = 10"
   ]
  },
  {
   "cell_type": "markdown",
   "metadata": {},
   "source": [
    "## Cargar datos"
   ]
  },
  {
   "cell_type": "code",
   "execution_count": 5,
   "metadata": {},
   "outputs": [
    {
     "ename": "FileNotFoundError",
     "evalue": "[Errno 2] No such file or directory: 'data-raw/propuesta_evaluadores.pkl'",
     "output_type": "error",
     "traceback": [
      "\u001b[0;31m--------------------------------------------------------------------------\u001b[0m",
      "\u001b[0;31mFileNotFoundError\u001b[0m                        Traceback (most recent call last)",
      "\u001b[0;32m<ipython-input-5-75082335ba05>\u001b[0m in \u001b[0;36m<module>\u001b[0;34m\u001b[0m\n\u001b[0;32m----> 1\u001b[0;31m \u001b[0mdf\u001b[0m \u001b[0;34m=\u001b[0m \u001b[0mload\u001b[0m\u001b[0;34m(\u001b[0m\u001b[0mfile_in\u001b[0m\u001b[0;34m)\u001b[0m\u001b[0;34m\u001b[0m\u001b[0;34m\u001b[0m\u001b[0m\n\u001b[0m\u001b[1;32m      2\u001b[0m \u001b[0mn_test\u001b[0m \u001b[0;34m=\u001b[0m \u001b[0mset\u001b[0m\u001b[0;34m(\u001b[0m\u001b[0mdf\u001b[0m\u001b[0;34m[\u001b[0m\u001b[0;34m'id_proyecto'\u001b[0m\u001b[0;34m]\u001b[0m\u001b[0;34m.\u001b[0m\u001b[0mto_list\u001b[0m\u001b[0;34m(\u001b[0m\u001b[0;34m)\u001b[0m\u001b[0;34m)\u001b[0m\u001b[0;34m\u001b[0m\u001b[0;34m\u001b[0m\u001b[0m\n\u001b[1;32m      3\u001b[0m \u001b[0mdf\u001b[0m\u001b[0;34m.\u001b[0m\u001b[0mshape\u001b[0m\u001b[0;34m,\u001b[0m \u001b[0mdf\u001b[0m\u001b[0;34m.\u001b[0m\u001b[0mcolumns\u001b[0m\u001b[0;34m\u001b[0m\u001b[0;34m\u001b[0m\u001b[0m\n",
      "\u001b[0;32m~/opt/anaconda3/lib/python3.7/site-packages/joblib/numpy_pickle.py\u001b[0m in \u001b[0;36mload\u001b[0;34m(filename, mmap_mode)\u001b[0m\n\u001b[1;32m    588\u001b[0m             \u001b[0mobj\u001b[0m \u001b[0;34m=\u001b[0m \u001b[0m_unpickle\u001b[0m\u001b[0;34m(\u001b[0m\u001b[0mfobj\u001b[0m\u001b[0;34m)\u001b[0m\u001b[0;34m\u001b[0m\u001b[0;34m\u001b[0m\u001b[0m\n\u001b[1;32m    589\u001b[0m     \u001b[0;32melse\u001b[0m\u001b[0;34m:\u001b[0m\u001b[0;34m\u001b[0m\u001b[0;34m\u001b[0m\u001b[0m\n\u001b[0;32m--> 590\u001b[0;31m         \u001b[0;32mwith\u001b[0m \u001b[0mopen\u001b[0m\u001b[0;34m(\u001b[0m\u001b[0mfilename\u001b[0m\u001b[0;34m,\u001b[0m \u001b[0;34m'rb'\u001b[0m\u001b[0;34m)\u001b[0m \u001b[0;32mas\u001b[0m \u001b[0mf\u001b[0m\u001b[0;34m:\u001b[0m\u001b[0;34m\u001b[0m\u001b[0;34m\u001b[0m\u001b[0m\n\u001b[0m\u001b[1;32m    591\u001b[0m             \u001b[0;32mwith\u001b[0m \u001b[0m_read_fileobject\u001b[0m\u001b[0;34m(\u001b[0m\u001b[0mf\u001b[0m\u001b[0;34m,\u001b[0m \u001b[0mfilename\u001b[0m\u001b[0;34m,\u001b[0m \u001b[0mmmap_mode\u001b[0m\u001b[0;34m)\u001b[0m \u001b[0;32mas\u001b[0m \u001b[0mfobj\u001b[0m\u001b[0;34m:\u001b[0m\u001b[0;34m\u001b[0m\u001b[0;34m\u001b[0m\u001b[0m\n\u001b[1;32m    592\u001b[0m                 \u001b[0;32mif\u001b[0m \u001b[0misinstance\u001b[0m\u001b[0;34m(\u001b[0m\u001b[0mfobj\u001b[0m\u001b[0;34m,\u001b[0m \u001b[0m_basestring\u001b[0m\u001b[0;34m)\u001b[0m\u001b[0;34m:\u001b[0m\u001b[0;34m\u001b[0m\u001b[0;34m\u001b[0m\u001b[0m\n",
      "\u001b[0;31mFileNotFoundError\u001b[0m: [Errno 2] No such file or directory: 'data-raw/propuesta_evaluadores.pkl'"
     ]
    }
   ],
   "source": [
    "df = load(file_in)\n",
    "n_test = set(df['id_proyecto'].to_list())\n",
    "df.shape, df.columns"
   ]
  },
  {
   "cell_type": "markdown",
   "metadata": {},
   "source": [
    "## Filtrar\n",
    "### SNI y termino"
   ]
  },
  {
   "cell_type": "code",
   "execution_count": 4,
   "metadata": {},
   "outputs": [
    {
     "name": "stdout",
     "output_type": "stream",
     "text": [
      "(63872, 4) Index(['CVU', 'id_proyecto', 'score_tm', 'nivel_sni'], dtype='object')\n"
     ]
    },
    {
     "data": {
      "text/plain": [
       "(3232, 3232, 3232)"
      ]
     },
     "execution_count": 4,
     "metadata": {},
     "output_type": "execute_result"
    }
   ],
   "source": [
    "def filtrar_sni(df, file_sni, file_fron):\n",
    "    \"\"\"\n",
    "    Toma el df de topic modelling y regresasolo los sni validos adjuntando el nivel del sni\n",
    "    \"\"\"\n",
    "    df_sni = pd.read_csv(file_sni)\n",
    "    df_sni = df_sni.drop(['IVIGENCIA','FVIGENCIA'], axis=1)\n",
    "    df = df.set_index('CVU').join(df_sni.set_index('CVU'), how='left').reset_index()\n",
    "    df.columns = ['CVU','id_proyecto','score_tm','nivel_sni']\n",
    "    \n",
    "    # Filtrar snis para sinergias\n",
    "    sine = pd.read_csv(file_fron)\n",
    "    sine = sine[sine['modalidad']=='Modalidad Sinergia']\n",
    "    sine = sine['proyecto_id'].to_list()\n",
    "    sine = df[(df['id_proyecto'].isin(sine)) & (df['nivel_sni']==1)].index.to_list()\n",
    "    df = df.drop(sine)\n",
    "    return df\n",
    "\n",
    "df = filtrar_sni(df, file_sni, file_fron)\n",
    "print(df.shape, df.columns)\n",
    "filt = set(df['id_proyecto'].to_list())\n",
    "len(n_test), len(filt), len(n_test.intersection(filt))"
   ]
  },
  {
   "cell_type": "code",
   "execution_count": 5,
   "metadata": {},
   "outputs": [
    {
     "name": "stdout",
     "output_type": "stream",
     "text": [
      "(55222, 4) Index(['CVU', 'id_proyecto', 'score_tm', 'nivel_sni'], dtype='object')\n"
     ]
    },
    {
     "data": {
      "text/plain": [
       "(3232, 3232, 3232)"
      ]
     },
     "execution_count": 5,
     "metadata": {},
     "output_type": "execute_result"
    }
   ],
   "source": [
    "def filtrar_responsable_tecnico(df, file_fron):\n",
    "    df_fron = pd.read_csv(file_fron)\n",
    "    df_fron = df_fron['rt_cvu'].to_list()\n",
    "    df = df[~df['CVU'].isin(df_fron)]\n",
    "    return df\n",
    "df = filtrar_responsable_tecnico(df, file_fron)\n",
    "print(df.shape, df.columns)\n",
    "filt = set(df['id_proyecto'].to_list())\n",
    "len(n_test), len(filt), len(n_test.intersection(filt))"
   ]
  },
  {
   "cell_type": "markdown",
   "metadata": {},
   "source": [
    "## Match"
   ]
  },
  {
   "cell_type": "code",
   "execution_count": 6,
   "metadata": {},
   "outputs": [
    {
     "name": "stdout",
     "output_type": "stream",
     "text": [
      "(55222, 8) Index(['cvu', 'id_proyecto', 'score_tm', 'nivel_sni', 'm_area', 'm_campo',\n",
      "       'm_disciplina', 'm_subdisciplina'],\n",
      "      dtype='object')\n"
     ]
    },
    {
     "data": {
      "text/plain": [
       "(3232, 3232, 3232)"
      ]
     },
     "execution_count": 6,
     "metadata": {},
     "output_type": "execute_result"
    }
   ],
   "source": [
    "def match_clasificacion(df, file_rcea, file_fron, dics_mapeo):\n",
    "    clasi = ['area', 'campo', 'disciplina', 'subdisciplina']\n",
    "    dic_rcea = {'01':'CIENCIAS FÍSICO MATEMÁTICAS Y CIENCIAS DE LA TIERRA', '02':'BIOLOGÍA Y QUÍMICA', \n",
    "                '03':'MEDICINA Y CIENCIAS DE LA SALUD', '04':'HUMANIDADES Y CIENCIAS DE LA CONDUCTA', \n",
    "                '05':'CIENCIAS SOCIALES', '06':'CIENCIAS AGROPECUARIAS Y BIOTECNOLOGÍA', '07':'INGENIERÍA Y TECNOLOGÍA'}\n",
    "    dics_mapeo = load(dics_mapeo)\n",
    "    # Cargar evaluadores rcea y mapear areas\n",
    "    df_rcea = load(file_rcea)\n",
    "    df_rcea.columns = ['cvu', 'nivel_sni', 'area', 'estado', 'dependencia', 'campo',\n",
    "                       'disciplina', 'subdisciplina', 'nombres', 'apellidos', 'keywords']\n",
    "    df_rcea = df_rcea[['cvu']+clasi].dropna(subset=['cvu', 'area'])\n",
    "    df_rcea['area'] = df_rcea['area'].apply(lambda x: x.split('-')[1])\n",
    "    df_rcea['area'] = df_rcea['area'].replace({'A3':'03','A6':'06','A7':'07'}).map(dic_rcea)\n",
    "    for col in clasi: df_rcea[col] = df_rcea[col].map(dics_mapeo[col])\n",
    "    # Cargar datos de proyectos\n",
    "    df_fron = pd.read_csv(file_fron)\n",
    "    df_fron = df_fron[['proyecto_id'] + clasi]\n",
    "    # Unir y matchear df\n",
    "    df = df.set_index('id_proyecto').join( df_fron.set_index('proyecto_id') ).reset_index()\n",
    "    df = df.set_index('CVU').join( df_rcea.set_index('cvu'),  lsuffix='_proy', rsuffix='_rcea' ).reset_index()\n",
    "    for col in clasi:\n",
    "        df[col] = df[col+'_proy'] == df[col+'_rcea']\n",
    "        df.drop([col+'_proy',col+'_rcea'], axis=1, inplace=True)\n",
    "    df.columns = ['cvu','id_proyecto','score_tm','nivel_sni','m_area','m_campo','m_disciplina','m_subdisciplina']\n",
    "    df = df.sort_values(['id_proyecto','score_tm'], ascending=[True,False])\n",
    "    return df\n",
    "\n",
    "df = match_clasificacion(df, file_rcea, file_fron, dics_mapeo)\n",
    "print(df.shape, df.columns)\n",
    "filt = set(df['id_proyecto'].to_list())\n",
    "len(n_test), len(filt), len(n_test.intersection(filt))"
   ]
  },
  {
   "cell_type": "markdown",
   "metadata": {},
   "source": [
    "## Guardar\n",
    "\n",
    "Seleccionar top_n y evaluar cobertura"
   ]
  },
  {
   "cell_type": "code",
   "execution_count": 7,
   "metadata": {},
   "outputs": [
    {
     "data": {
      "text/plain": [
       "10    3225\n",
       "8        3\n",
       "9        2\n",
       "6        2\n",
       "Name: cvu, dtype: int64"
      ]
     },
     "execution_count": 7,
     "metadata": {},
     "output_type": "execute_result"
    }
   ],
   "source": [
    "df = df.sort_values('score_tm', ascending=False)\n",
    "df = df.groupby('id_proyecto').head(top_n)\n",
    "df = df.sort_values(['id_proyecto','score_tm'], ascending=[True,False])\n",
    "df.groupby('id_proyecto').count()['cvu'].value_counts()"
   ]
  },
  {
   "cell_type": "markdown",
   "metadata": {},
   "source": [
    "Evaluar cobertura"
   ]
  },
  {
   "cell_type": "markdown",
   "metadata": {},
   "source": [
    "Verificar que esten todos los proyectos"
   ]
  },
  {
   "cell_type": "code",
   "execution_count": 11,
   "metadata": {},
   "outputs": [
    {
     "name": "stdout",
     "output_type": "stream",
     "text": [
      "3232 3232 3232\n"
     ]
    }
   ],
   "source": [
    "print(len(n_test), len(n_test.intersection(filt)), len(filt))"
   ]
  },
  {
   "cell_type": "markdown",
   "metadata": {},
   "source": [
    "Verificar match\n",
    "\n",
    "Datos de aquellos que reportaron RCEA\n",
    "* area 0.764\n",
    "* campo 0.586\n",
    "* disciplina 0.408\n",
    "* subdisciplina 0.377"
   ]
  },
  {
   "cell_type": "code",
   "execution_count": 9,
   "metadata": {},
   "outputs": [
    {
     "name": "stdout",
     "output_type": "stream",
     "text": [
      "area 0.452\n",
      "campo 0.133\n",
      "disciplina 0.032\n",
      "subdisciplina 0.01\n"
     ]
    }
   ],
   "source": [
    "for col in ['area', 'campo', 'disciplina', 'subdisciplina']:\n",
    "    s = df[\"m_\"+col].value_counts()\n",
    "    print(col, round(s[1]/(s[0]+s[1]),3) )"
   ]
  },
  {
   "cell_type": "markdown",
   "metadata": {},
   "source": [
    "Guardar"
   ]
  },
  {
   "cell_type": "code",
   "execution_count": 10,
   "metadata": {},
   "outputs": [],
   "source": [
    "df.to_csv(file_out, index=False)"
   ]
  },
  {
   "cell_type": "markdown",
   "metadata": {},
   "source": [
    "area \n",
    " 0.4630775577557756\n",
    "campo \n",
    " 0.1368605610561056\n",
    "disciplina \n",
    " 0.0345503300330033\n",
    "subdisciplina \n",
    " 0.009797854785478548\n"
   ]
  }
 ],
 "metadata": {
  "kernelspec": {
   "display_name": "Python 3",
   "language": "python",
   "name": "python3"
  },
  "language_info": {
   "codemirror_mode": {
    "name": "ipython",
    "version": 3
   },
   "file_extension": ".py",
   "mimetype": "text/x-python",
   "name": "python",
   "nbconvert_exporter": "python",
   "pygments_lexer": "ipython3",
   "version": "3.7.3"
  }
 },
 "nbformat": 4,
 "nbformat_minor": 4
}
